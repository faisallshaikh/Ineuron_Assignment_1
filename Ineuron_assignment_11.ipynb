{
 "cells": [
  {
   "cell_type": "markdown",
   "metadata": {},
   "source": [
    "Q.1 . What is the role of try and exception block?\n",
    "\n",
    "* try-except block is used to catch and respond to exceptions.\n",
    "* The try block contains the code segment that may be cause an error. \n",
    "* The except block is where the program should jump in case an exception occurs\n",
    "#### *Blocks*\n",
    "* `try` - something that might cause an exception \n",
    "* `except` - Do this if there was an exception \n",
    "* `else` - Do this if there were no exceptions \n",
    "* `finally` - Do this no matter what happens "
   ]
  },
  {
   "cell_type": "code",
   "execution_count": 2,
   "metadata": {},
   "outputs": [
    {
     "name": "stdout",
     "output_type": "stream",
     "text": [
      "0.5\n"
     ]
    }
   ],
   "source": [
    "\"\"\"Q.1 What is the role of the 'else' block in a try-except statement? Provide an example\n",
    "scenario where it would be useful.\n",
    "\"\"\"\n",
    "\n",
    "try:\n",
    "   x =  1/0\n",
    "except:\n",
    "    x = 1/2\n",
    "print(x)"
   ]
  },
  {
   "cell_type": "code",
   "execution_count": 19,
   "metadata": {},
   "outputs": [
    {
     "name": "stdout",
     "output_type": "stream",
     "text": [
      "Executing Exception\n",
      "0.5\n"
     ]
    }
   ],
   "source": [
    "try:\n",
    "   x =  1/0\n",
    "except Exception as e:\n",
    "    print(f\"Executing Exception\")\n",
    "    x = 1/2\n",
    "else:\n",
    "    print(\"Else\")\n",
    "print(x)"
   ]
  },
  {
   "cell_type": "code",
   "execution_count": 16,
   "metadata": {},
   "outputs": [
    {
     "name": "stdout",
     "output_type": "stream",
     "text": [
      "Division was successfull\n",
      "0.2\n"
     ]
    }
   ],
   "source": [
    "\"\"\"The 'else' block in a try-except statement is used to execute code when no exceptions \n",
    "are raised within the 'try' block. If an exception occurs, the code in the 'else' block is \n",
    "skipped. The 'else' block can be useful for executing additional code that should only run if \n",
    "the 'try' block completes successfully without any exceptions.\"\"\"\n",
    "try:\n",
    "   x =  1/5\n",
    "except:\n",
    "    x = 1/2\n",
    "else:\n",
    "    print(\"Division was successfull\")\n",
    "print(x)"
   ]
  },
  {
   "cell_type": "code",
   "execution_count": 25,
   "metadata": {},
   "outputs": [
    {
     "name": "stdout",
     "output_type": "stream",
     "text": [
      "Inner try-except block: Division by zero error!\n"
     ]
    }
   ],
   "source": [
    "\"\"\"Q.2 Can a try-except block be nested inside another try-except block? Explain with an\n",
    "example\"\"\"\n",
    "try:\n",
    "    x = 1/2\n",
    "    try:\n",
    "        result = 10 / 0  # This will raise a ZeroDivisionError\n",
    "    except ZeroDivisionError:\n",
    "        print(\"Inner try-except block: Division by zero error!\")\n",
    "except ZeroDivisionError:\n",
    "    print(\"Outer try-except block: Division by zero error!\")\n"
   ]
  },
  {
   "cell_type": "code",
   "execution_count": 44,
   "metadata": {},
   "outputs": [
    {
     "name": "stdout",
     "output_type": "stream",
     "text": [
      "inner try block unsupported operand type(s) for +: 'int' and 'str'\n"
     ]
    }
   ],
   "source": [
    "# nested-try-except \n",
    "\n",
    "a = 1 \n",
    "b = 0 \n",
    "c = \"string\"\n",
    "\n",
    "try:\n",
    "    x = 1\n",
    "    z = x + 2\n",
    "    try:\n",
    "        xx = a + c\n",
    "        print(xx)\n",
    "\n",
    "    except TypeError as e:\n",
    "        print(f\"inner try block {e}\")\n",
    "\n",
    "except TypeError as e:\n",
    "    print(f\"Outer try block {e}\")"
   ]
  },
  {
   "cell_type": "code",
   "execution_count": 59,
   "metadata": {},
   "outputs": [
    {
     "name": "stdout",
     "output_type": "stream",
     "text": [
      "Your age is 2\n"
     ]
    }
   ],
   "source": [
    "\"\"\"Q.3 How can you create a custom exception class in Python? Provide an example that\n",
    "demonstrates its usage.\"\"\"\n",
    "\n",
    "\"\"\"we define a custom exception class CustomException that inherits from Exception class. \n",
    "We then use this custom exception to raise an exception when the user enters a negative age\"\"\"\n",
    "\n",
    "class CustomException(Exception):\n",
    "    def __init__(self,message):\n",
    "        self.message = message \n",
    "\n",
    "try:\n",
    "    n = int(input(\"Enter a number\"))\n",
    "    if n < 0 :\n",
    "        raise CustomException(\"Age Cannot be negative\")\n",
    "\n",
    "except CustomException as e:\n",
    "    print(e)\n",
    "else:\n",
    "    print(f\"Your age is {n}\")"
   ]
  },
  {
   "cell_type": "markdown",
   "metadata": {},
   "source": [
    "### ***Q.4 What are some common exceptions that are built-in to Python?*** \n",
    "\n",
    "\n",
    "1. SyntaxError: Raised when there is a syntax error in the code.\n",
    " \n",
    "2. IndentationError: Raised when there is improper indentation in the code.\n",
    "\n",
    "3. NameError: Raised when a variable is not found in the local or global scope.\n",
    "\n",
    "4. TypeError: Raised when an operation is performed on an object of inappropriate type.\n",
    "\n",
    "5. ValueError: Raised when a function receives an argument of the correct type but an inappropriate value.\n",
    "\n",
    "6. KeyError: Raised when a dictionary key is not found in the set of existing keys.\n",
    "\n",
    "7. IndexError: Raised when a sequence index is out of range.\n",
    "\n",
    "8. FileNotFoundError: Raised when a file or directory is requested but cannot be found.\n",
    "\n",
    "9. ZeroDivisionError: Raised when division or modulo by zero is attempted.\n",
    "\n",
    "10. IOError: Raised when an input/output operation fails.\n"
   ]
  },
  {
   "cell_type": "markdown",
   "metadata": {},
   "source": [
    "### Q.5 ***What is logging in Python, and why is it important in software development?***\n",
    "\n",
    "logging is a built-in module that allows developers to track events that occur \n",
    "during the execution of a program. It provides a way to record and store information about the \n",
    "program's activities, such as errors, warnings, informational messages, and debug messages.\n",
    "\n",
    "Logging is crucial in software development for several reasons:\n",
    "\n",
    "\n",
    "Debugging: Logging helps developers identify and troubleshoot issues in the code by providing \n",
    "a detailed record of events leading up to an error.\n",
    "\n",
    "Monitoring: It allows developers to monitor the performance and behavior of the application in \n",
    "real-time.\n",
    "\n",
    "Auditing: Logging helps in auditing and tracking user actions or system events for security \n",
    "and compliance purposes.\n",
    "\n",
    "Analysis: Logs can be analyzed to extract valuable insights and improve the overall performance \n",
    "of the application.\n",
    "\n",
    "Communication: It facilitates communication between different components of the software \n",
    "system by providing a centralized location for recording events.\n"
   ]
  },
  {
   "cell_type": "markdown",
   "metadata": {},
   "source": [
    "### Q.6  *Explain the purpose of log levels in Python logging and provide examples of when each log level would be appropriate.*\n",
    "\n",
    "\n",
    "The purpose of log levels in Python logging is to categorize the severity of events being logged\n",
    "allowing developers to filter and prioritize which messages to display. There are several log levels available in \n",
    "Python logging, each serving a specific purpose:\n",
    "\n",
    "DEBUG: This is the lowest log level and is typically used for detailed debugging information. It is suitable for \n",
    "messages that provide insight into the internal workings of the program and are not essential for regular operation.\n",
    "\n",
    "INFO: This log level is used to provide general information about the program's execution. It is commonly used for \n",
    "messages that highlight the progress of the program and important milestones.\n",
    "\n",
    "WARNING: The warning log level indicates potential issues that do not prevent the program from running but should be \n",
    "addressed. It is useful for alerting developers about non-critical problems that might affect the program's behavior.\n",
    "\n",
    "ERROR: This log level is used to log errors that have occurred during the program's execution. These messages indicate \n",
    "critical issues that need immediate attention and may impact the program's functionality.\n",
    "\n",
    "CRITICAL: The critical log level is reserved for the most severe issues that can cause the program to fail completely.\n",
    "Messages at this level indicate critical errors that require immediate action to prevent program failure.\n",
    "\n",
    "#### Examples of when each log level would be appropriate:\n",
    "\n",
    "DEBUG: Logging the values of variables during a complex calculation to trace the flow of the program.\n",
    "\n",
    "INFO: Logging the successful completion of an important task within the program.\n",
    "\n",
    "WARNING: Logging a warning message if a resource is running low but the program can still function.\n",
    "\n",
    "ERROR: Logging an error if a required file cannot be accessed, causing the program to halt.\n",
    "\n",
    "CRITICAL: Logging a critical message if a vital database connection fails, resulting in the program becoming unusable.\n"
   ]
  },
  {
   "cell_type": "code",
   "execution_count": 62,
   "metadata": {},
   "outputs": [
    {
     "name": "stderr",
     "output_type": "stream",
     "text": [
      "2024-03-01 20:53:23,906 - ERROR - This is an error message\n",
      "2024-03-01 20:53:23,906 - ERROR - This is an error message\n",
      "2024-03-01 20:53:23,906 - ERROR - This is an error message\n"
     ]
    }
   ],
   "source": [
    "\"\"\"Q.7 What are log formatters in Python logging, and how can you customise the log\n",
    "message format using formatters? \n",
    "\n",
    "Log formatters in Python logging are used to specify the layout and structure of log messages. They allow developers \n",
    "to customize the format of log messages by adding various elements such as timestamps, log levels, module names, and \n",
    "message content.\"\"\"\n",
    "\n",
    "import logging\n",
    "\n",
    "formatter = logging.Formatter('%(asctime)s - %(levelname)s - %(message)s')\n",
    "\n",
    "logger = logging.getLogger()\n",
    "handler = logging.StreamHandler()\n",
    "handler.setFormatter(formatter)\n",
    "logger.addHandler(handler)\n",
    "\n",
    "logger.error('This is an error message')\n"
   ]
  },
  {
   "cell_type": "code",
   "execution_count": null,
   "metadata": {},
   "outputs": [],
   "source": [
    "\"\"\"Q.8 How can you set up logging to capture log messages from multiple modules or\n",
    "classes in a Python application?\"\"\"\n",
    "\n",
    "import logging \n",
    "\n",
    "logging.basicConfig(filename=\"setting_up_log\", # we can create a new_file or give a path of where we would like to save the logs\n",
    "                    level=logging.DEBUG, # used for defining severity of error or message\n",
    "                    format = ('%(asctime)s %(name)s %(message)s')) # time , name and message will be logged at provided path\n",
    "\n",
    "# suppose we have a file logger.py and have this above code in it\n",
    "# we could just write --\n",
    "# 'from logger import logging' and use logging.info(\"message\") \n",
    "\n",
    "def add(a,b):\n",
    "    x = a + b \n",
    "    logging.info(f\"value of x is : {x}\") # this will be logged or stored in provided path or file\n",
    "    # This way we can use it in any function, class or module\n",
    "    return x \n",
    "\n"
   ]
  },
  {
   "cell_type": "markdown",
   "metadata": {},
   "source": [
    "### Q.9 What is the difference between the logging and print statements in Python? When should you use logging over print statements in a real-world application?\n",
    "\n",
    "\n",
    "#### *The main difference between logging and print statements in Python is the intended purpose and functionality they serve.*\n",
    "\n",
    "### ***Logging:***\n",
    "\n",
    "Logging in Python is a more advanced and flexible mechanism for tracking events and generating log messages.\n",
    "\n",
    "It allows developers to categorize log messages based on severity levels and route them to different handlers \n",
    "(such as files, consoles, or network sockets).\n",
    "\n",
    "Logging provides more control over the format of log messages, including timestamps, log levels, and message contents.\n",
    "\n",
    "It facilitates centralized log management and analysis, making it easier to debug and troubleshoot issues in a \n",
    "complex application.\n",
    "\n",
    "### ***Print statements:***\n",
    "\n",
    "Print statements are simple and straightforward statements used for displaying information on the console during \n",
    "program execution.\n",
    "\n",
    "They are primarily used for temporary debugging or quick information output.\n",
    "\n",
    "Print statements lack the ability to categorize log messages based on severity levels or route them to different \n",
    "outputs.\n",
    "\n",
    "They do not offer the same level of control over log message formatting as logging.\n",
    "\n",
    "In a real-world application, you should use logging over print statements when:\n",
    "\n",
    "You need to track events and generate log messages with different severity levels.\n",
    "\n",
    "You want to route log messages to different outputs for centralized log management.\n",
    "\n",
    "You require more control over the formatting and structure of log messages.\n",
    "\n",
    "You need a comprehensive logging solution for debugging, monitoring, and analyzing the application's behavior.\n",
    "\n",
    "Overall, logging is more suitable for production-ready applications where comprehensive logging capabilities are \n",
    "necessary for effective debugging and monitoring, while print statements are appropriate for quick and temporary \n",
    "information output during development and testing phases."
   ]
  },
  {
   "cell_type": "code",
   "execution_count": 10,
   "metadata": {},
   "outputs": [],
   "source": [
    "\"\"\"10. Write a Python program that logs a message to a file named \"app.log\" with the\n",
    "following requirements:\n",
    "● The log message should be \"Hello, World!\"\n",
    "● The log level should be set to \"INFO.\"\n",
    "● The log file should append new log entries without overwriting previous ones.\"\"\"\n",
    "\n",
    "import logging \n",
    "\n",
    "logging.basicConfig(filename = \"assignment.log\", \n",
    "                    level = logging.INFO,\n",
    "                    format = ('%(asctime)s %(name)s %(message)s'))\n",
    "\n",
    "a = \"Hello World\"\n",
    "logging.info(f\"{a}\")\n",
    "\n"
   ]
  },
  {
   "cell_type": "code",
   "execution_count": 4,
   "metadata": {},
   "outputs": [],
   "source": [
    "\"\"\"Q.11 Create a Python program that logs an error message to the console and a file named\n",
    "\"errors.log\" if an exception occurs during the program's execution. The error\n",
    "message should include the exception type and a timestamp.\"\"\"\n",
    "\n",
    "import logging \n",
    "\n",
    "logging.basicConfig(filename=\"errors.log\",\n",
    "                    level = logging.DEBUG,\n",
    "                    format = ('%(asctime)s %(name)s %(message)s'))\n",
    "\n",
    "\n",
    "def error():\n",
    "\n",
    "    try:\n",
    "        x = 1/0 \n",
    "    except Exception as e:\n",
    "        logging.info(f\"Error occured {e}\")\n",
    "    else:\n",
    "        logging.info(f\"Executed : {x}\")\n",
    "\n",
    "error()"
   ]
  }
 ],
 "metadata": {
  "kernelspec": {
   "display_name": "Python 3",
   "language": "python",
   "name": "python3"
  },
  "language_info": {
   "codemirror_mode": {
    "name": "ipython",
    "version": 3
   },
   "file_extension": ".py",
   "mimetype": "text/x-python",
   "name": "python",
   "nbconvert_exporter": "python",
   "pygments_lexer": "ipython3",
   "version": "3.11.4"
  }
 },
 "nbformat": 4,
 "nbformat_minor": 2
}
