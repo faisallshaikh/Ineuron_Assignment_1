{
 "cells": [
  {
   "cell_type": "code",
   "execution_count": null,
   "id": "c31cbec0",
   "metadata": {},
   "outputs": [],
   "source": [
    "1. What exactly is []? \n",
    "\n",
    "--> Square brackets in python represents list. Here [] is an list with no elements or items in it.\n",
    "It is an empty list"
   ]
  },
  {
   "cell_type": "code",
   "execution_count": null,
   "id": "ed99265a",
   "metadata": {},
   "outputs": [],
   "source": [
    "2. In a list of values stored in a variable called spam, \n",
    "how would you assign the value 'hello' as the third value? (Assume [2, 4, 6, 8, 10] are in spam.) \n",
    "\n",
    "--> In python counting of list or indexes starts from 0 'zero' thus to assign 'hello' at third \n",
    "place in the list \"spam[index] = value\"\n",
    "\n",
    "    spam[2] = 'hello'"
   ]
  },
  {
   "cell_type": "code",
   "execution_count": 5,
   "id": "b62166f2",
   "metadata": {},
   "outputs": [
    {
     "data": {
      "text/plain": [
       "'d'"
      ]
     },
     "execution_count": 5,
     "metadata": {},
     "output_type": "execute_result"
    }
   ],
   "source": [
    "\"\"\"Let's pretend the spam includes the list ['a', 'b', 'c', 'd'] for the next three queries.\"\"\" \n",
    "\"\"\"3. What is the value of spam[int(int('3' * 2) / 11)]? \"\"\"\n",
    "\n",
    "spam = ['a', 'b', 'c', 'd']\n",
    "spam[int(int('3' * 2) / 11)]\n",
    "\n",
    "\"\"\"(string 3 * 2) becomes 33 an dusing type cast int 33, it is conveted to int and divided by 11 = 3\"\"\"\n"
   ]
  },
  {
   "cell_type": "code",
   "execution_count": 6,
   "id": "2ce56bda",
   "metadata": {},
   "outputs": [
    {
     "data": {
      "text/plain": [
       "'d'"
      ]
     },
     "execution_count": 6,
     "metadata": {},
     "output_type": "execute_result"
    }
   ],
   "source": [
    "# 4. What is the value of spam[-1]?\n",
    "spam[-1] # -1 starts from end of the list"
   ]
  },
  {
   "cell_type": "code",
   "execution_count": 8,
   "id": "10cd3dad",
   "metadata": {},
   "outputs": [
    {
     "data": {
      "text/plain": [
       "['a', 'b']"
      ]
     },
     "execution_count": 8,
     "metadata": {},
     "output_type": "execute_result"
    }
   ],
   "source": [
    "# 5. What is the value of spam[:2]? \n",
    "spam[:2] # spam[start:end]\n",
    "\n",
    "# slicing. Specify the start index and the end index, separated by a colon, to return a part of the string."
   ]
  },
  {
   "cell_type": "code",
   "execution_count": 12,
   "id": "b37ae241",
   "metadata": {},
   "outputs": [
    {
     "data": {
      "text/plain": [
       "1"
      ]
     },
     "execution_count": 12,
     "metadata": {},
     "output_type": "execute_result"
    }
   ],
   "source": [
    "\"\"\"Let's pretend bacon has the list [3.14, 'cat,' 11, 'cat,' True] for the next three questions.\"\"\" \n",
    "bacon = [3.14, 'cat', 11, 'cat', True]\n",
    "# 6. What is the value of bacon.index('cat')?\n",
    "\n",
    "bacon.index('cat')\n"
   ]
  },
  {
   "cell_type": "code",
   "execution_count": null,
   "id": "f7925f6b",
   "metadata": {},
   "outputs": [],
   "source": [
    "\"\"\"7. How does bacon.append(99) change the look of the list value in bacon? \"\"\"\n",
    "\n",
    "--> [3.14, 'cat', 11, 'cat', True, 99]\n"
   ]
  },
  {
   "cell_type": "code",
   "execution_count": null,
   "id": "6ef8709c",
   "metadata": {},
   "outputs": [],
   "source": [
    "\"\"\"8. How does bacon.remove('cat') change the look of the list in bacon? \"\"\"\n",
    "\n",
    "--> [3.14, 11, 'cat', True] "
   ]
  },
  {
   "cell_type": "code",
   "execution_count": null,
   "id": "f739e43c",
   "metadata": {},
   "outputs": [],
   "source": [
    "9. What are the list concatenation and list replication operators? \n",
    "\n",
    "--> operator + concatenates the list, and operator multiplication * replicates the list "
   ]
  },
  {
   "cell_type": "code",
   "execution_count": null,
   "id": "dd7d3a03",
   "metadata": {},
   "outputs": [],
   "source": [
    "10. What is difference between the list methods append() and insert()? \n",
    "\n",
    "--> The difference between the two methods is that .append() adds an item \n",
    "to the end of a list, whereas .insert() inserts and item in a specified \n",
    "position in the list.\n",
    "\n",
    "bacon = [3.14, 'cat', 11, 'cat', True]\n",
    "bacon.append(99)\n",
    "--> [3.14, 'cat', 11, 'cat', True, 99]\n",
    "bacon.insert(1,'dog')\n",
    "[3.14, 'dog','cat', 11, 'cat', True, 99]"
   ]
  },
  {
   "cell_type": "code",
   "execution_count": 21,
   "id": "69a8c054",
   "metadata": {},
   "outputs": [
    {
     "data": {
      "text/plain": [
       "[3.14, 'cat', 'cat', True]"
      ]
     },
     "execution_count": 21,
     "metadata": {},
     "output_type": "execute_result"
    }
   ],
   "source": [
    "\"\"\"11. What are the two methods for removing items from a list? \n",
    "\n",
    "data.remove('value') - removal by items value or name\n",
    "data.pop(index) - we specify the index of the item\"\"\"\n",
    "bacon1 = [3.14, 'cat', 11, 'cat', True]\n",
    "(bacon1.remove(11))\n",
    "bacon1\n"
   ]
  },
  {
   "cell_type": "code",
   "execution_count": 22,
   "id": "0c746bc5",
   "metadata": {},
   "outputs": [
    {
     "data": {
      "text/plain": [
       "[3.14, 11, 'cat', True]"
      ]
     },
     "execution_count": 22,
     "metadata": {},
     "output_type": "execute_result"
    }
   ],
   "source": [
    "bacon1 = [3.14, 'cat', 11, 'cat', True]\n",
    "bacon1.pop(1)\n",
    "bacon1"
   ]
  },
  {
   "cell_type": "code",
   "execution_count": null,
   "id": "47f2e90b",
   "metadata": {},
   "outputs": [],
   "source": [
    "12. Describe how list values and string values are identical. \n",
    "\n",
    "Both list and string values can be passed to len(), have indexes and slices, \n",
    "be used in for loops, be concatenated or replicated, and be used with the in and not in operators."
   ]
  },
  {
   "cell_type": "code",
   "execution_count": null,
   "id": "cdcffdd8",
   "metadata": {},
   "outputs": [],
   "source": [
    "13. What's the difference between tuples and lists? \n",
    "\n",
    "lists are mutable or editable, we can add or remove items from the list,\n",
    "where as tuples are immutable or cannot be edited, the contents of tuple cannot be changed \n",
    "once they are created."
   ]
  },
  {
   "cell_type": "code",
   "execution_count": null,
   "id": "3d8e9ef8",
   "metadata": {},
   "outputs": [],
   "source": [
    "14. How do you type a tuple value that only contains the integer 42? \n",
    "\n",
    "(42, ) (The trailing comma is mandatory.) \n",
    "tuple is created using parentheses()"
   ]
  },
  {
   "cell_type": "code",
   "execution_count": null,
   "id": "b0823b66",
   "metadata": {},
   "outputs": [],
   "source": [
    "15. How do you get a list value's tuple form? How do you get a tuple value's list form? \n",
    "\n",
    "tuple(value) - by passing the list values in parentheses() we get list values as tuple values\n",
    "list[value] -  by passing the tuple values in square brackets[] we get tuple values as list values"
   ]
  },
  {
   "cell_type": "code",
   "execution_count": null,
   "id": "c6eab317",
   "metadata": {},
   "outputs": [],
   "source": [
    "16. Variables that \"contain\" list values are not necessarily lists themselves. \n",
    "Instead, what do they contain? \n",
    "\n",
    "--> They contain references to list values."
   ]
  },
  {
   "cell_type": "code",
   "execution_count": null,
   "id": "e3dd78ed",
   "metadata": {},
   "outputs": [],
   "source": [
    "17. How do you distinguish between copy.copy() and copy.deepcopy()? \n",
    "\n",
    "--> The copy.copy( ) function will do a shallow copy of a list, while the copy.deepcopy( ) \n",
    "function will do a deep copy of a list. That is, only copy.deepcopy( ) will duplicate any \n",
    "lists inside the list"
   ]
  }
 ],
 "metadata": {
  "kernelspec": {
   "display_name": "Python 3 (ipykernel)",
   "language": "python",
   "name": "python3"
  },
  "language_info": {
   "codemirror_mode": {
    "name": "ipython",
    "version": 3
   },
   "file_extension": ".py",
   "mimetype": "text/x-python",
   "name": "python",
   "nbconvert_exporter": "python",
   "pygments_lexer": "ipython3",
   "version": "3.11.3"
  }
 },
 "nbformat": 4,
 "nbformat_minor": 5
}
