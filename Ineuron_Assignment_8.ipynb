{
 "cells": [
  {
   "cell_type": "code",
   "execution_count": 9,
   "id": "9ca98aae",
   "metadata": {},
   "outputs": [
    {
     "name": "stdout",
     "output_type": "stream",
     "text": [
      "Using user defined function 25\n",
      "Using built_in function 25\n"
     ]
    }
   ],
   "source": [
    "\"\"\"1. In Python, what is the difference between a built-in function and a \n",
    "user-defined function? Provide an example of each.\n",
    "\n",
    "--> A user defined function is one that you define in your own code. A built-in \n",
    "function is a function that already exists in the language without you having \n",
    "to define it.\"\"\"\n",
    "l = [1,2,3,4,5,10]\n",
    "# example for user defined function :\n",
    "def total(val):\n",
    "    a = 0\n",
    "    for i in l:\n",
    "        a = a + i\n",
    "    return a\n",
    "\n",
    "print(f\"Using user defined function {total(l)}\")\n",
    "\n",
    "# example for built_in function:\n",
    "# here sum is the built_in function of python\n",
    "print(f\"Using built_in function {sum(l)}\")\n",
    "        \n"
   ]
  },
  {
   "cell_type": "code",
   "execution_count": null,
   "id": "1ffb3cc7",
   "metadata": {},
   "outputs": [],
   "source": [
    "2. How can you pass arguments to a function in Python? Explain the difference between positional\n",
    "arguments and keyword arguments.\n",
    "\n",
    "--> Positional arguments - Arguments are passed in the order of parameters. \n",
    "The order defined in the order function declaration.\n",
    "ex :\n",
    "    def postional_arg(val1,val2):\n",
    "        return val1 - val2\n",
    "    positional_arg(10,5) \n",
    "    # here val1 = 10 and val2 = 5 if 10&5 positions are swaped then val1 will 5 and val2 will be 10\n",
    "    # Thus Order of values cannot be changed to avoid the unexpected output.\n",
    "\n",
    "♦ )keyword arguments - Parameter Names are used to pass the argument during the\n",
    "function call. \n",
    "ex:\n",
    "    def postional_arg(val1,val2):\n",
    "        return val1 - val2\n",
    "    positional_arg(val1 = 10,val2 = 5) # or can be written as \n",
    "    positional_arg(val2 = 5,val1 = 10)\n",
    "# Order of parameter Names can be changed to pass the argument(or values).\n",
    "\n"
   ]
  },
  {
   "cell_type": "code",
   "execution_count": 13,
   "id": "c9381039",
   "metadata": {},
   "outputs": [
    {
     "name": "stdout",
     "output_type": "stream",
     "text": [
      "Using user defined function 25\n",
      "('This is return statement', 'This is another return statement')\n"
     ]
    }
   ],
   "source": [
    "\"\"\"3. What is the purpose of the return statement in a function? Can a function \n",
    "have multiple return statements? Explain with an example.\n",
    "\n",
    "--> The Python return statement is a special statement that can be used inside \n",
    "a function or method to send the function’s result back to the caller.\n",
    "A return statement consists of the return keyword followed by an optional return value.\n",
    "\"\"\"\n",
    "def total(val):\n",
    "    a = 0\n",
    "    for i in l:\n",
    "        a = a + i\n",
    "    return a # here the result of 'a' will be sent to caller i.e. total()\n",
    "\"\"\" the return statement ends the function and return value whatever followed by\n",
    " it to the caller and we cannot use return statement after return statement like\n",
    "  'return a' \n",
    "  'return b' \"\"\"\n",
    "print(f\"Using user defined function {total(l)}\")\n",
    "\n",
    "def multiple():\n",
    "    a = \"This is return statement\"\n",
    "    b = \"This is another return statement\"\n",
    "    \n",
    "    \"\"\"return a\n",
    "       return b --> here b will not be returned\"\"\"   \n",
    "    return a , b\n",
    "print(multiple())"
   ]
  },
  {
   "cell_type": "code",
   "execution_count": 20,
   "id": "90e01548",
   "metadata": {},
   "outputs": [
    {
     "name": "stdout",
     "output_type": "stream",
     "text": [
      "4\n",
      "4\n"
     ]
    }
   ],
   "source": [
    "\"\"\"4. What are lambda functions in Python? How are they different from regular functions? \n",
    "Provide an example where a lambda function can be useful.\n",
    "\n",
    "A lambda function evaluates an expression for a given argument. You give the \n",
    "function a value (argument) and then provide the operation (expression). \n",
    "The keyword lambda must come first. A full colon (:) separates the argument \n",
    "and the expression.\"\"\"\n",
    "\n",
    "#Normal python function\n",
    "def a_name(x):\n",
    "    return x+x\n",
    "print(a_name(2))\n",
    "#Lambda function\n",
    "add = lambda x: x+x # lambda arguments : expression\n",
    "print(add(2))\n",
    "# ther are usefull in pandas with apply() function and where a regular fn is not required "
   ]
  },
  {
   "cell_type": "code",
   "execution_count": null,
   "id": "f717b5d9",
   "metadata": {},
   "outputs": [],
   "source": [
    "5. How does the concept of \"scope\" apply to functions in Python? Explain the \n",
    "difference between local scope and global scope.\n",
    "\n",
    "Global scope: The names that you define in this scope are available to all \n",
    "your code. \n",
    "Local scope: The names that you define in the methods or user defined functions scope are only \n",
    "available or visible to the function within which they are witten.\n",
    "\n",
    "global_scope = 10 # can be accessed in all functions\n",
    "\n",
    "def scope():\n",
    "    global global_scope # this is how global_scope can be used.\n",
    "    a = 20 # a can be accessed within this function only.\n",
    "scope()"
   ]
  },
  {
   "cell_type": "code",
   "execution_count": 21,
   "id": "57967dbb",
   "metadata": {},
   "outputs": [
    {
     "name": "stdout",
     "output_type": "stream",
     "text": [
      "('This is return statement', 'This is another return statement')\n"
     ]
    }
   ],
   "source": [
    "\"\"\"6. How can you use the \"return\" statement in a Python function to \n",
    "return multiple values?\"\"\"\n",
    "\n",
    "def multiple():\n",
    "    a = \"This is return statement\"\n",
    "    b = \"This is another return statement\"\n",
    "    \n",
    "    \"\"\"return a\n",
    "       return b --> here b will not be returned\"\"\"   \n",
    "    return a , b\n",
    "print(multiple())\n"
   ]
  },
  {
   "cell_type": "code",
   "execution_count": null,
   "id": "83febc67",
   "metadata": {},
   "outputs": [],
   "source": [
    "7. What is the difference between the \"pass by value\" and \"pass by reference\" \n",
    "concepts when it comes to function arguments in Python?\n",
    "\n",
    "--> In the pass by Value method, there is no modification in the original value.\n",
    "Makes a copy of actual parameter, requires more memory and time as it involves copying values.\n",
    "\n",
    "In the pass by Reference method, there is a modification in the original value.\n",
    "address of the actual parameter passes to the function, function accesses the \n",
    "original variables content and requires less memory and time as there is no copying"
   ]
  },
  {
   "cell_type": "code",
   "execution_count": 36,
   "id": "84c452e5",
   "metadata": {},
   "outputs": [
    {
     "name": "stdout",
     "output_type": "stream",
     "text": [
      "Enter value\n",
      "3\n",
      "Logarithmic function log(3.0) is 1.0986122886681098\n",
      "Exponential function of exp(3.0) is 20.085536923187668\n",
      "Power function with base 2 (2x) is 8.0\n",
      "Square root of 3.0 is 9.0\n"
     ]
    }
   ],
   "source": [
    "\"\"\"8. Create a function that can intake integer or decimal value and do following operations:\n",
    "a. Logarithmic function (log x)\n",
    "b. Exponential function (exp(x))\n",
    "c. Power function with base 2 (2x)\n",
    "d. Square root\"\"\"\n",
    "from math import log\n",
    "import math\n",
    "def func():\n",
    "    try:\n",
    "        user = float(input(\"Enter value\\n\"))\n",
    "        print(f\"Logarithmic function log({user}) is {log(user)}\")\n",
    "        print(f\"Exponential function of exp({user}) is {math.exp(user)}\")\n",
    "        print(f\"Power function with base 2 (2x) is {2**user}\")\n",
    "        print(f\"Square root of {user} is {user**2}\")\n",
    "    except Exception as e:\n",
    "        print(e)\n",
    "func()"
   ]
  },
  {
   "cell_type": "code",
   "execution_count": 61,
   "id": "0249d24d",
   "metadata": {},
   "outputs": [
    {
     "name": "stdout",
     "output_type": "stream",
     "text": [
      "Enter the name: Son Goku\n",
      "First Name : Son \n",
      "Last Name : Goku\n"
     ]
    }
   ],
   "source": [
    "\"\"\"9. Create a function that takes a full name as an argument and returns \n",
    "first name and last name.\"\"\"\n",
    "\n",
    "def name1(name):\n",
    "    first_name = name[0]\n",
    "    last_name = name[-1]\n",
    "    return f\"First Name : {first_name} \\nLast Name : {last_name}\"\n",
    "name = input(\"Enter the name: \").split()\n",
    "print(name1(name))\n"
   ]
  },
  {
   "cell_type": "code",
   "execution_count": null,
   "id": "d3c8fbfd",
   "metadata": {},
   "outputs": [],
   "source": [
    "\n"
   ]
  },
  {
   "cell_type": "code",
   "execution_count": null,
   "id": "e4df7241",
   "metadata": {},
   "outputs": [],
   "source": []
  }
 ],
 "metadata": {
  "kernelspec": {
   "display_name": "Python 3 (ipykernel)",
   "language": "python",
   "name": "python3"
  },
  "language_info": {
   "codemirror_mode": {
    "name": "ipython",
    "version": 3
   },
   "file_extension": ".py",
   "mimetype": "text/x-python",
   "name": "python",
   "nbconvert_exporter": "python",
   "pygments_lexer": "ipython3",
   "version": "3.11.3"
  }
 },
 "nbformat": 4,
 "nbformat_minor": 5
}
