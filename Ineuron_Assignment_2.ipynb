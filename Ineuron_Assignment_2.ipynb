{
 "cells": [
  {
   "cell_type": "markdown",
   "id": "f94bde50",
   "metadata": {},
   "source": [
    "Ineuron_Assignment_2"
   ]
  },
  {
   "cell_type": "code",
   "execution_count": null,
   "id": "ead3e0b0",
   "metadata": {},
   "outputs": [],
   "source": [
    "1.What are the two values of the Boolean data type? How do you write them? \n",
    "\n",
    "--> Two values of boolean data types are :\n",
    "   ♦) True - using capital T\n",
    "   ♦) False - using capital F\n",
    "    \n",
    "Ex : print(2>1) --> Here the output will be True as 2 is greater than 1\n",
    "     print(2==1) --> Here the output will be False as 2 is not equivalent to 1\n",
    "    \n",
    "     "
   ]
  },
  {
   "cell_type": "code",
   "execution_count": null,
   "id": "61f1a4d2",
   "metadata": {},
   "outputs": [],
   "source": [
    "2. What are the three different types of Boolean operators? \n",
    "\n",
    "--> different types of boolean operators : and, or, not\n",
    "    • if a = 10 and b = 5\n",
    "    --> This returns True if both the statements are True, if any of the statement is fasle it returns False\n",
    "    \n",
    "    • if a = 10 or b = 5\n",
    "    --> This returns True if any of the two statement is True. Either one has to be True \n",
    "    \n",
    "    • if not \n",
    "    --> The not operator returns True if its operand is false expression, It reverse the result i.e\n",
    "        returns False if the result is True\n",
    "        Ex : a = 10\n",
    "             a > 10\n",
    "             returns False\n",
    "             if not (a>10)\n",
    "                returns True\n",
    "    "
   ]
  },
  {
   "cell_type": "code",
   "execution_count": null,
   "id": "7f1b7e28",
   "metadata": {},
   "outputs": [],
   "source": [
    "\"\"\"3. Make a list of each Boolean operator's truth tables \n",
    "(i.e. every possible combination of Boolean values for the operator and what it evaluate ). \"\"\"\n",
    "\n",
    "-->\n",
    "\n",
    "True and True is True.\n",
    "\n",
    "True and False is False.\n",
    "\n",
    "False and True is False.\n",
    "\n",
    "False and False is False.\n",
    "\n",
    "True or True is True.\n",
    "\n",
    "True or False is True.\n",
    "\n",
    "False or True is True.\n",
    "\n",
    "False or False is False.\n",
    "\n",
    "not True is False.\n",
    "\n",
    "not False is True.\n",
    "    "
   ]
  },
  {
   "cell_type": "code",
   "execution_count": null,
   "id": "3907dc7e",
   "metadata": {},
   "outputs": [],
   "source": [
    "4. What are the values of the following expressions? \n",
    "\n",
    "(5 > 4) and (3 == 5) --> False\n",
    "\n",
    "not (5 > 4) --> False\n",
    "\n",
    "(5 > 4) or (3 == 5) --> True\n",
    "\n",
    "not ((5 > 4) or (3 == 5)) --> False\n",
    "\n",
    "(True and True) and (True == False) --> False\n",
    "\n",
    "(not False) or (not True) --> True"
   ]
  },
  {
   "cell_type": "code",
   "execution_count": null,
   "id": "80553feb",
   "metadata": {},
   "outputs": [],
   "source": [
    "5. What are the six comparison operators? \n",
    "\n",
    "--> \n",
    " •  >= – True if a number is greater than or equal to another , else False\n",
    "    \n",
    " •  <= – True if a number is less than or equal to another, else False\n",
    "\n",
    " •  == (equivalent to) – True if two values are equivalent, else False\n",
    "    \n",
    " •  != (not equivalent to) – True if two values are not equivalent.\n",
    "\n",
    " •  && (and) – True if both values are true, if either of both is not True it will return False\n",
    "\n",
    " •  || (or) – True if either of the values are true.\n",
    "    \n",
    "   \n"
   ]
  },
  {
   "cell_type": "code",
   "execution_count": null,
   "id": "1155485d",
   "metadata": {},
   "outputs": [],
   "source": [
    "6. How do you tell the difference between the equal to and assignment operators?\n",
    "Describe a condition and when you would use one. \n",
    "\n",
    "--> == (equal to) operator\n",
    "    = (assignment) operator\n",
    "    \n",
    "# using equal to operator '=='\n",
    "if 1 == 2:\n",
    "    return True\n",
    "else:\n",
    "    False\n",
    "    \n",
    "# using assignment operator '='\n",
    "a = 1\n",
    "# here we are assigning or storing value of 1 to a, now a is variable to which value 1 is being assigned\n"
   ]
  },
  {
   "cell_type": "code",
   "execution_count": 3,
   "id": "5988d080",
   "metadata": {},
   "outputs": [
    {
     "name": "stdout",
     "output_type": "stream",
     "text": [
      "ham\n",
      "spam\n",
      "spam\n"
     ]
    }
   ],
   "source": [
    "\"\"\"7. Identify the three blocks in this code:\"\"\" \n",
    "\n",
    "spam = 0 \n",
    "\n",
    "if spam == 10: \n",
    "\n",
    "    print('eggs') # block 1\n",
    "\n",
    "if spam > 5: \n",
    "\n",
    "    print('bacon') # block 2 \n",
    "\n",
    "else: \n",
    "\n",
    "    print('ham') \n",
    "\n",
    "    print('spam') \n",
    "\n",
    "    print('spam') # block 3 "
   ]
  },
  {
   "cell_type": "code",
   "execution_count": 7,
   "id": "ec2bb635",
   "metadata": {},
   "outputs": [
    {
     "name": "stdout",
     "output_type": "stream",
     "text": [
      "Enter the value6\n",
      "Greetings!\n"
     ]
    }
   ],
   "source": [
    "\"\"\"8. Write code that prints Hello if 1 is stored in spam, prints Howdy if 2 is stored in spam,\n",
    "and prints Greetings! if anything else is stored in spam.\"\"\" \n",
    "\n",
    "spam = int(input(\"Enter the value\"))\n",
    "if spam == 1:\n",
    "    print(\"Hello\")\n",
    "elif spam == 2:\n",
    "    print(\"Howdy\")\n",
    "else:\n",
    "    print(\"Greetings!\")"
   ]
  },
  {
   "cell_type": "code",
   "execution_count": null,
   "id": "4c213ff1",
   "metadata": {},
   "outputs": [],
   "source": [
    "9.If your programme is stuck in an endless loop, what keys you’ll press? \n",
    "\n",
    "--> ctrl + c"
   ]
  },
  {
   "cell_type": "code",
   "execution_count": 46,
   "id": "b685f1f4",
   "metadata": {},
   "outputs": [
    {
     "name": "stdout",
     "output_type": "stream",
     "text": [
      "0\n",
      "1\n",
      "2\n",
      "4\n",
      "5\n",
      "6\n",
      "7\n",
      "8\n",
      "9\n",
      "xxxxxxxxxxxxxx\n",
      "0\n",
      "1\n",
      "2\n",
      "3\n",
      "4\n",
      "5\n",
      "6\n",
      "break statement executed\n"
     ]
    },
    {
     "data": {
      "text/plain": [
       "'The break statement is used to terminate the loop immediately after a specified condition is met'"
      ]
     },
     "execution_count": 46,
     "metadata": {},
     "output_type": "execute_result"
    }
   ],
   "source": [
    "\"\"\"10. How can you tell the difference between break and continue?\"\"\" \n",
    "\n",
    "for i in range(10):\n",
    "    if i == 3:\n",
    "        continue\n",
    "    print(i)\n",
    "print(\"xxxxxxxxxxxxxx\") \n",
    "\n",
    "\"\"\"The continue statement is used to skip the current iteration of the loop and \n",
    "continues to next iteration\"\"\"\n",
    "\n",
    "for j in range(10):\n",
    "    if j == 7:\n",
    "        break\n",
    "    print(j)\n",
    "print(\"break statement executed\")\n",
    "\n",
    "\"\"\"The break statement is used to terminate the loop immediately after a specified condition is met\"\"\"\n",
    "\n"
   ]
  },
  {
   "cell_type": "code",
   "execution_count": 35,
   "id": "ade6011e",
   "metadata": {},
   "outputs": [
    {
     "name": "stdout",
     "output_type": "stream",
     "text": [
      "0 1 2 3 4 5 6 7 8 9 \n",
      "\n",
      "0 1 2 3 4 5 6 7 8 9 \n",
      "\n",
      "0 1 2 3 4 5 6 7 8 9 "
     ]
    },
    {
     "data": {
      "text/plain": [
       "\"As you can see output there is no difference but \\nusing range(10) the range function automatically considers starting value as 0 which is default value,\\nrange(0,10) here the statring value is mentioned as 0 'zero' thus it will start from 0'zero',\\nrange(0,10,1)--> range(start,end,step or jump) step is difference in mumbers, this will give \\nnumbers from 0 to 10 with a difference of 1 in each numbers\""
      ]
     },
     "execution_count": 35,
     "metadata": {},
     "output_type": "execute_result"
    }
   ],
   "source": [
    "\"\"\"11. In a for loop, what is the difference between range(10), range(0, 10), and range(0, 10, 1)? \"\"\"\n",
    "\n",
    "\n",
    "for i in range(10):\n",
    "    print(i,end=\" \")\n",
    "print(\"\\n\")\n",
    "for j in range(0,10):\n",
    "    print(j,end=\" \")\n",
    "print(\"\\n\")\n",
    "for k in range(0,10,1):\n",
    "    print(k,end=\" \")\n",
    "    \n",
    "\"\"\"As you can see output there is no difference but \n",
    "using range(10) the range function automatically considers starting value as 0 which is default value,\n",
    "range(0,10) here the statring value is mentioned as 0 'zero' thus it will start from 0'zero',\n",
    "range(0,10,1)--> range(start,end,step or jump) step is difference in mumbers, this will give \n",
    "numbers from 0 to 10 with a difference of 1 in each numbers\"\"\"    "
   ]
  },
  {
   "cell_type": "code",
   "execution_count": 45,
   "id": "6fa53fe8",
   "metadata": {},
   "outputs": [
    {
     "name": "stdout",
     "output_type": "stream",
     "text": [
      "Using for loop\n",
      "1\n",
      "2\n",
      "3\n",
      "4\n",
      "5\n",
      "6\n",
      "7\n",
      "8\n",
      "9\n",
      "10\n",
      "Using while loop\n",
      "1\n",
      "2\n",
      "3\n",
      "4\n",
      "5\n",
      "6\n",
      "7\n",
      "8\n",
      "9\n",
      "10\n"
     ]
    }
   ],
   "source": [
    "\"\"\"12. Write a short program that prints the numbers 1 to 10 using a for loop.\n",
    "Then write an equivalent program that prints the numbers 1 to 10 using a while loop. \"\"\"\n",
    "\n",
    "print(\"Using for loop\")\n",
    "for i in range(1, 11):\n",
    "    print(i)\n",
    "\n",
    "print(\"Using while loop\")\n",
    "a = 1\n",
    "while a <= 10:\n",
    "    print(a)\n",
    "    a = a + 1"
   ]
  },
  {
   "cell_type": "code",
   "execution_count": null,
   "id": "82906def",
   "metadata": {},
   "outputs": [],
   "source": [
    "\"\"\"13. If you had a function named bacon() inside a module named spam, \n",
    "how would you call it after importing spam? \"\"\"\n",
    "\n",
    "--> spam.bacon()"
   ]
  },
  {
   "cell_type": "code",
   "execution_count": null,
   "id": "b18059f3",
   "metadata": {},
   "outputs": [],
   "source": []
  }
 ],
 "metadata": {
  "kernelspec": {
   "display_name": "Python 3 (ipykernel)",
   "language": "python",
   "name": "python3"
  },
  "language_info": {
   "codemirror_mode": {
    "name": "ipython",
    "version": 3
   },
   "file_extension": ".py",
   "mimetype": "text/x-python",
   "name": "python",
   "nbconvert_exporter": "python",
   "pygments_lexer": "ipython3",
   "version": "3.11.3"
  }
 },
 "nbformat": 4,
 "nbformat_minor": 5
}
