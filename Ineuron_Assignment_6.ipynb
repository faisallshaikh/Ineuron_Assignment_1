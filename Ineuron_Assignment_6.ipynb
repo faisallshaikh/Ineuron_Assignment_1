{
 "cells": [
  {
   "cell_type": "code",
   "execution_count": 1,
   "id": "27739c50",
   "metadata": {},
   "outputs": [
    {
     "name": "stdout",
     "output_type": "stream",
     "text": [
      "The list of keyword is : \n",
      "['False', 'None', 'True', 'and', 'as', 'assert', 'async', 'await', 'break', 'class', 'continue', 'def', 'del', 'elif', 'else', 'except', 'finally', 'for', 'from', 'global', 'if', 'import', 'in', 'is', 'lambda', 'nonlocal', 'not', 'or', 'pass', 'raise', 'return', 'try', 'while', 'with', 'yield']\n"
     ]
    }
   ],
   "source": [
    "\"\"\"Q.1. What are keywords in python? Using the keyword library, print all the python keywords.\n",
    "\n",
    "--> Keywords in Python are reserved words that can not be used as a variable name, function name, \n",
    "or any other identifier. Becuase they have their own role or functions to perform.\n",
    "\n",
    "To get all the keywords\"\"\"\n",
    "\n",
    "import keyword\n",
    "\n",
    "print(\"The list of keyword is : \")\n",
    "print(keyword.kwlist)\n",
    "\n"
   ]
  },
  {
   "cell_type": "code",
   "execution_count": null,
   "id": "eccaebfb",
   "metadata": {},
   "outputs": [],
   "source": [
    "Q.2. What are the rules to create variables in python?\n",
    "\n",
    "--> Python Variable is containers that store values. Python is not “statically typed”. \n",
    "We do not need to declare variables before using them or declare their type.\n",
    "\n",
    "♦ A Python variable name must start with a letter or the underscore character.\n",
    "♦ A Python variable name cannot start with a number.\n",
    "♦ A Python variable name can only contain alpha-numeric characters and underscores (A-z, 0-9, and _ ).\n",
    "♦ Variable in Python names are case-sensitive (name, Name, and NAME are three different variables).\n",
    "♦ The reserved words(keywords) in Python cannot be used to name the variable in Python.\n",
    "\n",
    "ex : var,val_1,_ok -> can be used\n",
    "    1var, val-ok, _ name -> cannot be used"
   ]
  },
  {
   "cell_type": "code",
   "execution_count": null,
   "id": "921808db",
   "metadata": {},
   "outputs": [],
   "source": [
    "Q.3. What are the standards and conventions followed for the nomenclature of variables in\n",
    "python to improve code readability and maintainability?\n",
    "\n",
    "\n",
    "--> The most fundamental rules in Python’s naming conventions are:\n",
    "\n",
    "♦ Names are case-sensitive.\n",
    "♦ Names cannot start with a digit.\n",
    "♦ Names can contain letters, numbers, and underscores.\n",
    "\n",
    "As a convention, global variables should be named following the snake_case style. \n",
    "This means that if your variable name consists of multiple words\n",
    "ex: global_variable = \"this is global variable\"\n",
    "    \n",
    "And as for constants we user UPPER_CASE LETTERS\n",
    "EX : MAX_VAL = 10\n",
    "writing these way says that they should not be changes\n",
    "\n",
    "Python Class Naming Conventions:\n",
    "In Python, the naming convention for classes is PascalCase, which means that the first \n",
    "letter of each word is capitalized and there are no underscores between words.\n",
    "\n",
    "Variable names should be descriptive and meaningful to make the code more readable and understandable."
   ]
  },
  {
   "cell_type": "code",
   "execution_count": 4,
   "id": "862b744b",
   "metadata": {},
   "outputs": [
    {
     "ename": "SyntaxError",
     "evalue": "invalid syntax (3699261873.py, line 7)",
     "output_type": "error",
     "traceback": [
      "\u001b[1;36m  Cell \u001b[1;32mIn[4], line 7\u001b[1;36m\u001b[0m\n\u001b[1;33m    class = 20\u001b[0m\n\u001b[1;37m          ^\u001b[0m\n\u001b[1;31mSyntaxError\u001b[0m\u001b[1;31m:\u001b[0m invalid syntax\n"
     ]
    }
   ],
   "source": [
    "\"\"\"Q.4. What will happen if a keyword is used as a variable name?\n",
    "\n",
    "Keywords are the words in programming language which have a special meaning or specific role. \n",
    "So we cannot use them as a variable\"\"\"\n",
    "\n",
    "# a = 10\n",
    "class = 20\n"
   ]
  },
  {
   "cell_type": "code",
   "execution_count": null,
   "id": "2ae9d033",
   "metadata": {},
   "outputs": [],
   "source": [
    "\"\"\"Q.5. For what purpose def keyword is used?\n",
    "\n",
    "--> Python def keyword is used to define a function, it is placed before a function name \n",
    "that is provided by the user to create a user-defined function.\"\"\"\n",
    "\n",
    "def user_defined():\n",
    "    pass"
   ]
  },
  {
   "cell_type": "code",
   "execution_count": 6,
   "id": "d6df9e02",
   "metadata": {},
   "outputs": [
    {
     "name": "stdout",
     "output_type": "stream",
     "text": [
      "Hello,\n",
      "World\n"
     ]
    }
   ],
   "source": [
    "\"\"\"Q.6. What is the operation of this special character ' \\'?\n",
    "\n",
    "--> The backslash (\"\\\") is a special character, also called the \"escape\" character. It is used in \n",
    "representing certain whitespace characters: \"\\t\" is a tab, \"\\n\" is a newline, and \"\\r\" is a carriage return.\"\"\"\n",
    "\n",
    "print('Hello,\\nWorld') # \\n is a new line"
   ]
  },
  {
   "cell_type": "code",
   "execution_count": null,
   "id": "da670563",
   "metadata": {},
   "outputs": [],
   "source": [
    "Q.7. Give an example of the following conditions:\n",
    "(i) Homogeneous list\n",
    "(ii) Heterogeneous set\n",
    "(iii) Homogeneous tuple\n",
    "\n",
    "Homogeneous means that it only contains a single type of data. A heterogeneous structure on the \n",
    "other hand, involves different file types being concatenated in the list\n",
    "Homogeneous list - [1,2,3,4,5,6]\n",
    "Heterogeneous set - {25, \"hello\", True, \"3.14\"}\n",
    "Homogeneous tuple - (\"hello\", \"hey\", \"tuple\")"
   ]
  },
  {
   "cell_type": "code",
   "execution_count": 19,
   "id": "2f53c230",
   "metadata": {},
   "outputs": [
    {
     "name": "stdout",
     "output_type": "stream",
     "text": [
      "original list [1, 2, 3]\n",
      "Mutable [1, 2, 3, 4]\n",
      "\n",
      "\n",
      "original set {1, 2, 3}\n",
      "Mutable {1, 2, 3, 9}\n",
      "\n",
      "\n",
      "Edited {'key1': 1, 'key2': 2}\n",
      "\n",
      "This is Immutable 'tuple' object does not support item assignment\n"
     ]
    }
   ],
   "source": [
    "\"\"\"Q.8. Explain the mutable and immutable data types with proper explanation & examples.\n",
    "\n",
    "Anything is said to be mutable when anything can be modified or changed,\n",
    "ex: list,set,dict are examples of mutable\n",
    "    \n",
    "Immutable refers to a state in which no change can occur over time means it connot be edited or changed\n",
    "tuple, string, boolean, int\"\"\"\n",
    "\n",
    "# Mutable \n",
    "my_list = [1, 2, 3]\n",
    "print(\"original list\",my_list)\n",
    "my_list.append(4)\n",
    "print(\"Mutable\",my_list)\n",
    "print(\"\\n\")\n",
    "my_set = {1,2,3}\n",
    "print(\"original set\",my_set)\n",
    "my_set.add(9)\n",
    "print(\"Mutable\",my_set)\n",
    "print(\"\\n\")\n",
    "my_dict = {\"key1\":1, \"key2\":3}\n",
    "my_dict[\"key2\"] = 2\n",
    "print(\"Edited\",my_dict)\n",
    "print()\n",
    "# Immutable\n",
    "try:\n",
    "    t = (1,2,3,4)\n",
    "    t[3] = 5\n",
    "except Exception as e:\n",
    "    print(\"This is Immutable\", e)\n",
    "        "
   ]
  },
  {
   "cell_type": "code",
   "execution_count": 5,
   "id": "263fccf0",
   "metadata": {
    "scrolled": false
   },
   "outputs": [
    {
     "name": "stdout",
     "output_type": "stream",
     "text": [
      "    * \r\n",
      "   * * \r\n",
      "  * * * \r\n",
      " * * * * \r\n",
      "* * * * * \r\n"
     ]
    }
   ],
   "source": [
    "\"\"\"Q.9. Write a code to create the given structure using only for loop.\n",
    "    *\n",
    "   ***\n",
    "  *****\n",
    " *******\n",
    "*********\"\"\"\n",
    "\n",
    "def triangle(n):\n",
    "     \n",
    "    # number of spaces\n",
    "    k = n - 1\n",
    " \n",
    "    # outer loop to handle number of rows\n",
    "    for i in range(0, n):\n",
    "     \n",
    "        # inner loop to handle number spaces\n",
    "        # values changing acc. to requirement\n",
    "        for j in range(0, k):\n",
    "            print(end=\" \")\n",
    "     \n",
    "        # decrementing k after each loop\n",
    "        k = k - 1\n",
    "     \n",
    "        # inner loop to handle number of columns\n",
    "        # values changing acc. to outer loop\n",
    "        for j in range(0, i+1):\n",
    "         \n",
    "            # printing stars\n",
    "            print(\"* \", end=\"\")\n",
    "     \n",
    "        # ending line after each row\n",
    "        print(\"\\r\")\n",
    " \n",
    "\n",
    "n = 5\n",
    "triangle(n)\n",
    "\n"
   ]
  },
  {
   "cell_type": "code",
   "execution_count": 7,
   "id": "d186fa33",
   "metadata": {},
   "outputs": [
    {
     "name": "stdout",
     "output_type": "stream",
     "text": [
      "        | | | | | | \n",
      "         | | | | | \n",
      "          | | | | \n",
      "           | | | \n",
      "            | | \n",
      "             | \n"
     ]
    }
   ],
   "source": [
    "\"\"\"Q.10. Write a code to create the given structure using while loop.\n",
    "|||||||||\n",
    " |||||||\n",
    "  |||||\n",
    "   |||\n",
    "    |\"\"\"\n",
    "\n",
    "rows = 5\n",
    "k = 2 * rows - 2\n",
    "for i in range(rows, -1, -1):\n",
    "    for j in range(k, 0, -1):\n",
    "        print(end=\" \")\n",
    "    k = k + 1\n",
    "    for j in range(0, i + 1):\n",
    "        print(\"|\", end=\" \")\n",
    "    print(\"\")"
   ]
  },
  {
   "cell_type": "code",
   "execution_count": null,
   "id": "670c77ad",
   "metadata": {},
   "outputs": [],
   "source": []
  }
 ],
 "metadata": {
  "kernelspec": {
   "display_name": "Python 3 (ipykernel)",
   "language": "python",
   "name": "python3"
  },
  "language_info": {
   "codemirror_mode": {
    "name": "ipython",
    "version": 3
   },
   "file_extension": ".py",
   "mimetype": "text/x-python",
   "name": "python",
   "nbconvert_exporter": "python",
   "pygments_lexer": "ipython3",
   "version": "3.11.3"
  }
 },
 "nbformat": 4,
 "nbformat_minor": 5
}
