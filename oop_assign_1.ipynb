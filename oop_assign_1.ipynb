{
 "cells": [
  {
   "cell_type": "markdown",
   "metadata": {},
   "source": [
    "### Q.1 What is the primary goal of Object-Oriented Programming (OOP)?\n",
    "\n",
    "OOP focuses on creating reusable and modular code by defining classes, which are templates \n",
    "for objects, and objects, which are instances of classes. This approach promotes code \n",
    "reusability, modularity, and scalability, making it easier to manage and maintain complex \n",
    "software systems. OOP also emphasizes concepts such as encapsulation, inheritance, and \n",
    "polymorphism, which help improve code quality, reduce errors, and enhance the overall design \n",
    "of software applications."
   ]
  },
  {
   "cell_type": "markdown",
   "metadata": {},
   "source": [
    "### Q.2 What is an object in Python?\n",
    "\n",
    "In Python, an object is a collection of data (variables) and methods (functions) that operate on the data. It is an instance of a class. \n",
    "\n",
    "When you create an object, you're creating an instance of a class, which is essentially a blueprint defining the properties and behaviors of that object. Objects are the fundamental building blocks of Python programs and are used to model real-world entities or abstract concepts.\n",
    "\n",
    "1. **Instance of a Class**: An object is created from a class using the class constructor. Each object is an instance of a specific class and can have its own unique state and behavior while still adhering to the structure defined by its class.\n"
   ]
  },
  {
   "cell_type": "markdown",
   "metadata": {},
   "source": [
    "### Q. 3 What is a class in Python?\n",
    "\n",
    "In Python, a class is a blueprint for creating objects (instances). It defines the properties (attributes) and behaviors (methods) that objects of the class will have. Think of a class as a template or a prototype from which you can create individual objects.\n",
    "\n",
    "Here are some key points about classes in Python:\n",
    "\n",
    "1. **Attributes**: Attributes are variables that hold data associated with the class or its instances. They represent the state of the object. Attributes can be either class variables (shared among all instances of the class) or instance variables (unique to each instance).\n",
    "\n",
    "2. **Methods**: Methods are functions defined within a class that operate on the attributes of the class or its instances. They define the behavior of the class and can perform various actions on the object's state.\n",
    "\n",
    "3. **Constructor**: A special method called `__init__()` is used to initialize the object's attributes when an object is created. This method is called the constructor and is typically where you initialize instance variables.\n",
    "\n",
    "4. **Instance Creation**: You create an instance of a class by calling the class name followed by parentheses. This process is known as instantiation. Each instance created from a class is a separate object with its own set of attributes and methods.\n",
    "\n",
    "5. **Inheritance**: Classes can inherit attributes and methods from other classes, forming a hierarchy of classes. This feature allows for code reuse and the creation of specialized classes that extend the functionality of existing classes.\n",
    "\n",
    "6. **Encapsulation**: Classes encapsulate data and methods into a single unit, providing a way to bundle related functionality and data together. This helps in organizing and structuring code, as well as preventing external access to internal implementation details.\n",
    "\n",
    "7. **Polymorphism**: Polymorphism allows objects of different classes to be treated as objects of a common superclass. This enables code to be written in a generic way that can operate on objects of different types.\n"
   ]
  },
  {
   "cell_type": "markdown",
   "metadata": {},
   "source": [
    "### Q. 4 What are attributes and methods in a class?\n",
    "\n",
    "In a class, attributes and methods are fundamental components that define the structure and behavior of objects created from that class. Here's a breakdown of attributes and methods:\n",
    "\n",
    "1. **Attributes**:\n",
    "   - Attributes are variables that belong to a class or its instances (objects).\n",
    "   - They represent the state of the object and hold data associated with the object.\n",
    "   - Attributes can be either class variables or instance variables:\n",
    "     - Class variables are shared among all instances of the class. They are defined within the class but outside of any methods.\n",
    "     - Instance variables are unique to each instance of the class. They are defined within methods using the `self` keyword and are initialized typically within the constructor method (`__init__()`).\n",
    "\n",
    "2. **Methods**:\n",
    "   - Methods are functions that are defined within a class and operate on the attributes of the class or its instances.\n",
    "   - They define the behavior of the class and can perform various actions on the object's state.\n",
    "   - Methods can access and modify the object's attributes.\n",
    "   - There are different types of methods in a class:\n",
    "     - Constructor method (`__init__()`): Initializes the object's attributes when an instance is created.\n",
    "     - Instance methods: Operate on the instance variables of the class and are typically defined with the `self` parameter, which refers to the instance itself.\n",
    "     - Class methods: Operate on class variables and are defined using the `@classmethod` decorator. They accept a reference to the class (`cls`) as the first parameter.\n",
    "     - Static methods: Don't operate on instance or class variables and are defined using the `@staticmethod` decorator. They are utility methods that are related to the class but don't depend on instance or class state.\n",
    "\n",
    "Attributes and methods work together to define the structure and behavior of objects in object-oriented programming. They allow for data encapsulation, code organization, and abstraction, facilitating the creation of modular and reusable code."
   ]
  },
  {
   "cell_type": "markdown",
   "metadata": {},
   "source": [
    "### Q. 5 What is the difference between class variables and instance variables in Python?\n",
    "\n",
    " class variables and instance variables are both types of attributes associated with a class. However, they serve different purposes and have different scopes:\n",
    "\n",
    "Class Variables:\n",
    "\n",
    "* Class variables are variables that are shared among all instances of a class.\n",
    "* They are defined within the class body but outside of any class methods.\n",
    "* Class variables are typically used to store data that is common to all instances of the class.\n",
    "\n",
    "Instance Variables:\n",
    "\n",
    "* Instance variables are variables that are unique to each instance of a class.\n",
    "* They are defined within methods of the class using the self keyword.\n",
    "* Each instance of the class has its own copy of instance variables, which are separate from those of other instances.\n",
    "* Instance variables hold data that is specific to each instance of the class.\n",
    "\n",
    "the main difference between class variables and instance variables lies in their scope and usage. Class variables are shared among all instances of the class and are used to store data common to all instances, while instance variables are unique to each instance and hold data specific to that instance."
   ]
  },
  {
   "cell_type": "markdown",
   "metadata": {},
   "source": [
    "### Q.6 What is the purpose of the self parameter in Python class methods?\n",
    "\n",
    "In Python, the `self` parameter in class methods serves the purpose of referring to the instance of the class itself. It is a convention used in Python to pass the instance as the first parameter to instance methods. \n",
    "\n",
    "When you call a method on an instance of a class, Python automatically passes the instance itself as the first argument to the method. By convention, this parameter is named `self`, although you can choose any name you like (but `self` is highly recommended for readability and convention adherence).\n",
    "\n",
    "Here's why the `self` parameter is used in Python class methods:\n",
    "\n",
    "1. **Accessing Instance Variables**: Inside instance methods, you need to access instance variables to work with the specific instance's data. The `self` parameter provides a reference to the instance, allowing you to access its attributes and methods.\n",
    "\n",
    "2. **Modifying Instance State**: Instance methods often modify the state of the instance by changing the values of its attributes. The `self` parameter enables you to modify instance variables within the method.\n",
    "\n",
    "3. **Calling Other Instance Methods**: Inside an instance method, you may need to call other methods of the same instance. The `self` parameter allows you to call other instance methods using the same instance.\n",
    "\n",
    "4. **Clarity and Convention**: Using `self` makes the code more readable and adheres to Python conventions. It explicitly indicates that the method operates on the instance itself, improving code clarity and maintainability.\n",
    "\n"
   ]
  },
  {
   "cell_type": "markdown",
   "metadata": {},
   "source": [
    "### 7. For a library management system, you have to design the \"Book\" class with OOP principles in mind. The “Book” class will have following attributes:\n",
    "\n",
    "1. title: Represents the title of the book.\n",
    "2. author: Represents the author(s) of the book.\n",
    "3. isbn: Represents the ISBN (International Standard Book Number) of the book.\n",
    "4. publication_year: Represents the year of publication of the book.\n",
    "5. available_copies: Represents the number of copies available for checkout.\n",
    "The class will also include the following methods:\n",
    "6. check_out(self): Decrements the available copies by one if there are copies\n",
    "available for checkout.\n",
    "7. return_book(self): Increments the available copies by one when a book is\n",
    "returned.\n",
    "8. display_book_info(self): Displays the information about the book, including its\n",
    "attributes and the number of available copies."
   ]
  },
  {
   "cell_type": "code",
   "execution_count": 29,
   "metadata": {},
   "outputs": [
    {
     "name": "stdout",
     "output_type": "stream",
     "text": [
      "title : book_of_five_rings \n",
      "author : musashi \n",
      "ISBN No: 1              \n",
      "Publication Year : 1645 \n",
      "Available Copies : 3\n",
      "Book book_of_five_rings Check Out Complete\n",
      "title : book_of_five_rings \n",
      "author : musashi \n",
      "ISBN No: 1              \n",
      "Publication Year : 1645 \n",
      "Available Copies : 2\n"
     ]
    }
   ],
   "source": [
    "class Book:\n",
    "\n",
    "    def __init__(self,title, author, isbn, publication_year, available_copies):\n",
    "        self.title = title \n",
    "        self.author = author \n",
    "        self.isbn = isbn \n",
    "        self.publication_year = publication_year \n",
    "        self.available_copies = available_copies \n",
    "\n",
    "\n",
    "    def check_out(self):\n",
    "        \"\"\"Decrements the available copies by one if there are copies\n",
    "            available for checkout\"\"\"\n",
    "        if self.available_copies != 0:\n",
    "            self.available_copies =   self.available_copies - 1\n",
    "            print(f\"Book {self.title} Check Out Complete\")\n",
    "        else:\n",
    "            print(f\"Book '{self.title}' Not available\")\n",
    "\n",
    "    def return_book(self):\n",
    "        self.available_copies += 1 \n",
    "\n",
    "    def display_book_info(self):\n",
    "        print(f\"title : {self.title} \\nauthor : {self.author} \\nISBN No: {self.isbn}\\\n",
    "              \\nPublication Year : {self.publication_year} \\nAvailable Copies : {self.available_copies}\")\n",
    "\n",
    "book_of_five_rings = Book(\"book_of_five_rings\",\"musashi\",1,1645,2)\n",
    "theone = Book(\"theone\",\"whoknows\",2,2000,3)\n",
    "thefive = Book(\"thefive\",\"fivewho\",7,2003,1)\n",
    "thenone = Book(\"thenone\",\"no_one\",9,2006,1)\n",
    "something = Book(\"something\",\"blah\",11,2045,0)\n",
    "\n",
    "# something.display_book_info()\n",
    "# book_of_five_rings.display_book_info()\n",
    "book_of_five_rings.return_book()\n",
    "book_of_five_rings.display_book_info()\n",
    "book_of_five_rings.check_out()\n",
    "book_of_five_rings.display_book_info()\n",
    "\n",
    "\n",
    "# something.check_out()\n",
    "\n"
   ]
  },
  {
   "cell_type": "markdown",
   "metadata": {},
   "source": [
    "### 8. For a ticket booking system, you have to design the \"Ticket\" class with OOP principles in mind. The “Ticket” class should have the following attributes:\n",
    "a. ticket_id: Represents the unique identifier for the ticket.\n",
    "b. event_name: Represents the name of the event.\n",
    "c. event_date: Represents the date of the event.\n",
    "d. venue: Represents the venue of the event.\n",
    "e. seat_number: Represents the seat number associated with the ticket.\n",
    "f. price: Represents the price of the ticket.\n",
    "g. is_reserved: Represents the reservation status of the ticket.\n",
    "The class also includes the following methods:\n",
    "a. reserve_ticket(self): Marks the ticket as reserved if it is not already reserved.\n",
    "b. cancel_reservation(self): Cancels the reservation of the ticket if it is already\n",
    "reserved.\n",
    "c. display_ticket_info(self): Displays the information about the ticket, including its\n",
    "attributes and reservation status."
   ]
  },
  {
   "cell_type": "code",
   "execution_count": 34,
   "metadata": {},
   "outputs": [
    {
     "name": "stdout",
     "output_type": "stream",
     "text": [
      "Ticket_ID : 1 Seat No. A101             Reserve status : Not Reserved\n"
     ]
    }
   ],
   "source": [
    "class Ticket:\n",
    "\n",
    "    def __init__(self,ticket_id,event_name,event_date,venue,seat_number,price):\n",
    "\n",
    "        self.ticket_id = ticket_id \n",
    "        self.event_name = event_name \n",
    "        self.event_date = event_date \n",
    "        self.venue = venue \n",
    "        self.seat_number = seat_number \n",
    "        self.price = price \n",
    "        self.is_reserved = False \n",
    "\n",
    "    def reserve_ticekt(self):\n",
    "\n",
    "        if not self.is_reserved:\n",
    "            self.is_reserved = True \n",
    "            print(\"Ticket reservation successfull\")\n",
    "        else:\n",
    "            print(\"Ticket Already reserved\")\n",
    "\n",
    "    def cancel_reservation(self):\n",
    "\n",
    "        if self.is_reserved:\n",
    "            self.is_reserved = False \n",
    "            print(\"Reservation Cancelled\")\n",
    "        else:\n",
    "            print(\"ticket is not reserved\")\n",
    "\n",
    "    def display_ticket_info(self):\n",
    "\n",
    "        print(f\"Ticket_ID : {self.ticket_id} Seat No. {self.seat_number} \\\n",
    "            Reserve status : {'Reserved' if self.is_reserved else 'Not Reserved'}\")\n",
    "        \n",
    "ticket1 = Ticket(1, \"Concert\", \"2024-03-15\", \"City Hall\", \"A101\", 50)\n",
    "ticket1.display_ticket_info()\n",
    "\n"
   ]
  },
  {
   "cell_type": "markdown",
   "metadata": {},
   "source": [
    "### 9. You are creating a shopping cart for an e-commerce website. Using OOP to model\n",
    "the \"ShoppingCart\" functionality the class should contain following attributes and\n",
    "methods:\n",
    "\n",
    "* items: Represents the list of items in the shopping cart.\n",
    "The class also includes the following methods:\n",
    "\n",
    "1. add_item(self, item): Adds an item to the shopping cart by appending it to the\n",
    "list of items.\n",
    "2. remove_item(self, item): Removes an item from the shopping cart if it exists in\n",
    "the list.\n",
    "3. view_cart(self): Displays the items currently present in the shopping cart.\n",
    "4. clear_cart(self): Clears all items from the shopping cart by reassigning an\n",
    "empty list to the items attribute.\n"
   ]
  },
  {
   "cell_type": "code",
   "execution_count": 20,
   "metadata": {},
   "outputs": [
    {
     "name": "stdout",
     "output_type": "stream",
     "text": [
      "['haldi']\n",
      "[]\n"
     ]
    }
   ],
   "source": [
    "class ShopingCart:\n",
    "\n",
    "    def __init__(self):\n",
    "        self.items = []\n",
    "\n",
    "    def add_items(self,item):\n",
    "        # self.item = item\n",
    "        # self.items.append(self.item) # to use self.item we have to assign it to self\n",
    "        self.items.append(item)\n",
    "\n",
    "    def remove_item(self,item):\n",
    "        self.items.remove(item)\n",
    "\n",
    "    def display(self):\n",
    "        print(self.items)\n",
    "\n",
    "obj = ShopingCart()\n",
    "obj.add_items(\"haldi\")\n",
    "obj.display()\n",
    "obj.remove_item(\"haldi\")\n",
    "obj.display()\n"
   ]
  },
  {
   "cell_type": "markdown",
   "metadata": {},
   "source": [
    "### 10. Imagine a school management system. You have to design the \"Student\" class using OOP concepts.The “Student” class has the following attributes:\n",
    "\n",
    "\n",
    "1. name: Represents the name of the student.\n",
    "2. age: Represents the age of the student.\n",
    "3. grade: Represents the grade or class of the student.\n",
    "4. student_id: Represents the unique identifier for the student.\n",
    "5. attendance: Represents the attendance record of the student.\n",
    "The class should also include the following methods:\n",
    "6. update_attendance(self, date, status): Updates the attendance record of the\n",
    "student for a given date with the provided status (e.g., present or absent).\n",
    "7. get_attendance(self): Returns the attendance record of the student.\n",
    "8. get_average_attendance(self): Calculates and returns the average\n",
    "attendance percentage of the student based on their attendance record."
   ]
  },
  {
   "cell_type": "code",
   "execution_count": 33,
   "metadata": {},
   "outputs": [
    {
     "name": "stdout",
     "output_type": "stream",
     "text": [
      "Attendance : {'2024-03-01': 'present', '2024-03-02': 'present', '2024-03-03': 'present', '2024-03-06': 'absent', '2024-03-09': 'absent'}\n",
      "0.6\n"
     ]
    }
   ],
   "source": [
    "class Student:\n",
    "\n",
    "    def __init__(self,name,age,grade, student_id):\n",
    "        self.name = name        \n",
    "        self.age = age\n",
    "        self.grade = grade\n",
    "        self.student_id = student_id\n",
    "        self.attendance = {}\n",
    "        self.count = 0\n",
    "\n",
    "    def update_attendance(self,date,status):\n",
    "        self.attendance[date] = status\n",
    "\n",
    "    def get_attendance(self):\n",
    "        print(f\"Attendance : {self.attendance}\")\n",
    "\n",
    "    def get_avg_attendance(self):\n",
    "        for key, val in self.attendance.items():\n",
    "            if val == \"present\":\n",
    "                self.count += 1\n",
    "        avg = self.count / len(self.attendance) \n",
    "        print(avg)\n",
    "\n",
    "if __name__ == \"__main__\":\n",
    "    student1 = Student(\"Alice\", 15, \"10th\", \"S001\")\n",
    "    student1.update_attendance(\"2024-03-01\", \"present\")\n",
    "    student1.update_attendance(\"2024-03-02\", \"present\")\n",
    "    student1.update_attendance(\"2024-03-03\", \"present\")\n",
    "    student1.update_attendance(\"2024-03-06\", \"absent\")\n",
    "    student1.update_attendance(\"2024-03-09\", \"absent\")\n",
    "    student1.get_attendance()\n",
    "    student1.get_avg_attendance()\n",
    "            \n"
   ]
  },
  {
   "cell_type": "code",
   "execution_count": null,
   "metadata": {},
   "outputs": [],
   "source": []
  }
 ],
 "metadata": {
  "kernelspec": {
   "display_name": "Python 3",
   "language": "python",
   "name": "python3"
  },
  "language_info": {
   "codemirror_mode": {
    "name": "ipython",
    "version": 3
   },
   "file_extension": ".py",
   "mimetype": "text/x-python",
   "name": "python",
   "nbconvert_exporter": "python",
   "pygments_lexer": "ipython3",
   "version": "3.11.4"
  }
 },
 "nbformat": 4,
 "nbformat_minor": 2
}
