{
 "cells": [
  {
   "cell_type": "code",
   "execution_count": null,
   "id": "175c6362",
   "metadata": {},
   "outputs": [],
   "source": [
    "1. Why are functions advantageous to have in your programs? \n",
    "\n",
    "--> The functions can be reused countless times after it is defined, it reduces the need for duplicate code\n",
    "and which makes the programm shorter and easier to read , understand and update."
   ]
  },
  {
   "cell_type": "code",
   "execution_count": null,
   "id": "25ddb56b",
   "metadata": {},
   "outputs": [],
   "source": [
    "2. When does the code in a function run: when it's specified or when it's called? \n",
    "    \n",
    "--> The function runs when its called. And to call the function, write the function name followed by parentheses()\n",
    "\n",
    "# creating a function\n",
    "ex - def function_name():\n",
    "        do this\n",
    "        do this\n",
    "    # calling a function\n",
    "    function_name()"
   ]
  },
  {
   "cell_type": "code",
   "execution_count": null,
   "id": "06c8c525",
   "metadata": {},
   "outputs": [],
   "source": [
    " 3. What statement creates a function? \n",
    "    \n",
    "--> Function blocks begin with the keyword def followed by the function name and parentheses ( ( ) )\n",
    "\n",
    "# creating a function\n",
    "ex - def function_name():\n",
    "        do this\n",
    "        do this\n",
    "    # calling a function\n",
    "    function_name()"
   ]
  },
  {
   "cell_type": "code",
   "execution_count": null,
   "id": "0e58d233",
   "metadata": {},
   "outputs": [],
   "source": [
    "4. What is the difference between a function and a function call?\n",
    "\n",
    "--> A function is something which takes parameters and do some calculations and operations and returns value.\n",
    "It is simply a set of various processes \n",
    "\n",
    "function call - Calling a function is to actually invoking the function to do its job."
   ]
  },
  {
   "cell_type": "code",
   "execution_count": null,
   "id": "02e80a7b",
   "metadata": {},
   "outputs": [],
   "source": [
    "5. How many global scopes are there in a Python program? How many local scopes? \n",
    "\n",
    "--> There is one global scope.A variable created in the main body of the Python code is a global variable and \n",
    "belongs to the global scope, and can be used by anyone.\n",
    "\n",
    "A variable created inside a function belongs to the local scope of that function, \n",
    "and can only be used inside that function."
   ]
  },
  {
   "cell_type": "code",
   "execution_count": null,
   "id": "3afa5c8e",
   "metadata": {},
   "outputs": [],
   "source": [
    "6. What happens to variables in a local scope when the function call returns? \n",
    "\n",
    "--> For every function call a stack frame is created inside stack where memory for all variables will be allocated. \n",
    "When the function completes its execution corresponding stack frame will be destroyed including its local variables"
   ]
  },
  {
   "cell_type": "code",
   "execution_count": null,
   "id": "eb033fdd",
   "metadata": {},
   "outputs": [],
   "source": [
    "7. What is the concept of a return value? Is it possible to have a return value in an expression? \n",
    "\n",
    "--> A return statement is used to end the execution of the function call and \n",
    "return the result of the expression following the return keyword to the function caller, statements after return are\n",
    "not executed, return statement can only be used inside a function\n",
    " "
   ]
  },
  {
   "cell_type": "code",
   "execution_count": 1,
   "id": "1ae4b7bd",
   "metadata": {},
   "outputs": [
    {
     "data": {
      "text/plain": [
       "NoneType"
      ]
     },
     "execution_count": 1,
     "metadata": {},
     "output_type": "execute_result"
    }
   ],
   "source": [
    "\"\"\"8. If a function does not have a return statement, what is the return value of a call to that function? \n",
    "\n",
    "--> If there is no return statement for a function, its return value is None.\"\"\"\n",
    "\n",
    "def fn_name():\n",
    "    pass\n",
    "type(fn_name())"
   ]
  },
  {
   "cell_type": "code",
   "execution_count": 3,
   "id": "3adb4811",
   "metadata": {},
   "outputs": [
    {
     "name": "stdout",
     "output_type": "stream",
     "text": [
      "15\n"
     ]
    }
   ],
   "source": [
    "\"\"\"9. How do you make a function variable refer to the global variable? \n",
    "\n",
    "--> by using global keyword\"\"\"\n",
    "\n",
    "# x is global variable\n",
    "x = 10\n",
    "\n",
    "def fn():\n",
    "    global x\n",
    "    # x used in function is local variable\n",
    "    y = x + 5\n",
    "    return y\n",
    "print(fn())\n"
   ]
  },
  {
   "cell_type": "code",
   "execution_count": null,
   "id": "bc6c0d93",
   "metadata": {},
   "outputs": [],
   "source": [
    "10. What is the data type of None? \n",
    "\n",
    "--> NoneType is the data type of None"
   ]
  },
  {
   "cell_type": "code",
   "execution_count": null,
   "id": "e2ac70f6",
   "metadata": {},
   "outputs": [],
   "source": [
    "11. What does the sentence import areallyourpetsnamederic do? \n",
    "\n",
    "--> It imports a module named areallyourpetsnamederic"
   ]
  },
  {
   "cell_type": "code",
   "execution_count": null,
   "id": "e2b3b1ed",
   "metadata": {},
   "outputs": [],
   "source": [
    "12. If you had a bacon() feature in a spam module, what would you call it after importing spam? \n",
    "\n",
    "--> spam.bacon()"
   ]
  },
  {
   "cell_type": "code",
   "execution_count": null,
   "id": "8d8ced7b",
   "metadata": {},
   "outputs": [],
   "source": [
    "13. What can you do to save a programme from crashing if it encounters an error? \n",
    "\n",
    "--> By using Exception Handling, try except block.\n",
    "Place the line of code that might cause an error in a try clause."
   ]
  },
  {
   "cell_type": "code",
   "execution_count": null,
   "id": "bcaf3a67",
   "metadata": {},
   "outputs": [],
   "source": [
    "14. What is the purpose of the try clause? What is the purpose of the except clause? \n",
    "\n",
    "--> The try block lets you test a block of code for errors.\n",
    "\n",
    "The except block lets you handle the error"
   ]
  }
 ],
 "metadata": {
  "kernelspec": {
   "display_name": "Python 3 (ipykernel)",
   "language": "python",
   "name": "python3"
  },
  "language_info": {
   "codemirror_mode": {
    "name": "ipython",
    "version": 3
   },
   "file_extension": ".py",
   "mimetype": "text/x-python",
   "name": "python",
   "nbconvert_exporter": "python",
   "pygments_lexer": "ipython3",
   "version": "3.11.3"
  }
 },
 "nbformat": 4,
 "nbformat_minor": 5
}
