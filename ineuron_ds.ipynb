{
 "cells": [
  {
   "cell_type": "code",
   "execution_count": 2,
   "metadata": {},
   "outputs": [],
   "source": [
    "input_dict = {\"abc\":{\"def\":{\"ghi\":{\"jkl\":{\"mno\":{\"pqr\":{\"stu\":{\"vwx\":{\"yz\":\"you are finally here !!!\"}}}}}}}}}"
   ]
  },
  {
   "cell_type": "code",
   "execution_count": null,
   "metadata": {},
   "outputs": [],
   "source": [
    "# output = {\"abc\":[\"def\",\"ghi\",\"jkl\",\"mno\",\"pqr\",\"stu\",\"vwx\",\"yz\"],\n",
    "#  \"def\":[\"ghi\",\"jkl\",\"mno\",\"pqr\",\"stu\",\"vwx\",\"yz\"],\n",
    "#  \"ghi\":[\"jkl\",\"mno\",\"pqr\",\"stu\",\"vwx\",\"yz\"],\n",
    "#  \"jkl\":[\"mno\",\"pqr\",\"stu\",\"vwx\",\"yz\"],\n",
    "#  \"mno\":[\"pqr\",\"stu\",\"vwx\",\"yz\"],\n",
    "#  \"pqr\":[\"stu\",\"vwx\",\"yz\"],\n",
    "#  \"stu\":[\"vwx\",\"yz\"],\n",
    "#  \"vwx\":[\"yz\"],\n",
    "#  \"yz\":[\"you are finally here !!!\"]}"
   ]
  },
  {
   "cell_type": "code",
   "execution_count": 8,
   "metadata": {},
   "outputs": [
    {
     "name": "stdout",
     "output_type": "stream",
     "text": [
      "{'def': {'ghi': {'jkl': {'mno': {'pqr': {'stu': {'vwx': {'yz': 'you are finally here !!!'}}}}}}}}\n"
     ]
    }
   ],
   "source": [
    "for i in input_dict.values():\n",
    "    print(i)\n"
   ]
  },
  {
   "cell_type": "code",
   "execution_count": 6,
   "metadata": {},
   "outputs": [
    {
     "data": {
      "text/plain": [
       "dict_values([{'def': {'ghi': {'jkl': {'mno': {'pqr': {'stu': {'vwx': {'yz': 'you are finally here !!!'}}}}}}}}])"
      ]
     },
     "execution_count": 6,
     "metadata": {},
     "output_type": "execute_result"
    }
   ],
   "source": [
    "input_dict.values()"
   ]
  },
  {
   "cell_type": "code",
   "execution_count": 9,
   "metadata": {},
   "outputs": [],
   "source": [
    "from pprint import pprint"
   ]
  },
  {
   "cell_type": "code",
   "execution_count": 13,
   "metadata": {},
   "outputs": [
    {
     "name": "stdout",
     "output_type": "stream",
     "text": [
      "{'abc': ['def', 'ghi', 'jkl', 'mno', 'pqr', 'stu', 'vwx', 'yz'],\n",
      " 'def': ['ghi', 'jkl', 'mno', 'pqr', 'stu', 'vwx', 'yz'],\n",
      " 'ghi': ['jkl', 'mno', 'pqr', 'stu', 'vwx', 'yz'],\n",
      " 'jkl': ['mno', 'pqr', 'stu', 'vwx', 'yz'],\n",
      " 'mno': ['pqr', 'stu', 'vwx', 'yz'],\n",
      " 'pqr': ['stu', 'vwx', 'yz'],\n",
      " 'stu': ['vwx', 'yz'],\n",
      " 'vwx': ['yz'],\n",
      " 'yz': ['you are finally here !!!']}\n"
     ]
    }
   ],
   "source": [
    "def high_to_low(data):\n",
    "    ret = {}\n",
    "    for k, v in data.items():\n",
    "        if isinstance(v, dict):\n",
    "            d = high_to_low(v)\n",
    "            ret.update(d)\n",
    "            ret[k] = list(reversed(d))\n",
    "        else:\n",
    "            ret[k] = [v]\n",
    "    return ret\n",
    "\n",
    "pprint(high_to_low(input_dict))"
   ]
  },
  {
   "cell_type": "markdown",
   "metadata": {},
   "source": [
    "# Statistics"
   ]
  },
  {
   "cell_type": "markdown",
   "metadata": {},
   "source": [
    "Q. What is the meaning of six sigma in statistics?  Give proper example?\n",
    "\n",
    "Six Sigma is a set of techniques and tools used for process improvement in various industries, particularly in manufacturing. It aims to improve the quality of process outputs by identifying and removing the causes of defects and minimizing variability in manufacturing and business processes.\n",
    "\n",
    "One common example of Six Sigma in statistics is the DMAIC methodology, which stands for Define, Measure, Analyze, Improve, and Control. Let's say a manufacturing company wants to reduce defects in the production of a specific product.\n",
    "\n",
    "In the Define phase, the company would define the problem, goals, and customer requirements. For example, the goal might be to reduce defects in the product by 50%.\n",
    "\n",
    "In the Measure phase, data would be collected on the current process to establish a baseline. This data might include things like defect rates, cycle times, and customer satisfaction.\n",
    "\n",
    "In the Analyze phase, statistical analysis would be used to identify the root causes of defects. This could involve techniques like hypothesis testing, regression analysis, or design of experiments.\n",
    "\n",
    "In the Improve phase, potential solutions would be tested and implemented to address the root causes of defects. Continuous monitoring and measurement would help ensure the improvements are sustained.\n",
    "\n",
    "Finally, in the Control phase, statistical process control tools would be used to maintain the improvements and ensure that the process stays within the desired level of performance.\n",
    "\n",
    "Overall, Six Sigma in statistics aims to drive process improvements, reduce variations, and ultimately deliver better quality products or services to customers."
   ]
  },
  {
   "cell_type": "markdown",
   "metadata": {},
   "source": [
    "Q. What type of data does not have a log-normal distribution or a Gaussian distribution?  Give proper example?\n",
    "\n",
    "There are several types of data that do not follow a log-normal distribution or a Gaussian distribution. One common example is categorical data, which consists of discrete categories or groups with no inherent order or numerical value.\n",
    "\n",
    "\n",
    "For instance, consider data on the colors of cars in a parking lot. The colors (e.g., red, blue, green) represent distinct categories that do not have a numerical relationship to each other. This type of data does not conform to a log-normal or Gaussian distribution since it does not involve continuous numerical values.\n",
    "\n",
    "\n",
    "Another example is ordinal data, which represents categories with a specific order but does not have consistent intervals between categories. An example of ordinal data could be customer satisfaction ratings (e.g., very satisfied, satisfied, neutral, dissatisfied, very dissatisfied). While there is an order to these categories, the intervals between them may not be equal or quantifiable, making it unsuitable for a log-normal or Gaussian distribution.\n",
    "\n",
    "\n",
    "In summary, categorical and ordinal data are examples of data types that do not have a log-normal distribution or a Gaussian distribution due to their non-numeric nature or lack of consistent intervals."
   ]
  },
  {
   "cell_type": "markdown",
   "metadata": {},
   "source": [
    "###  Q. What is the meaning of the five-number summary in Statistics? Give proper example\n",
    "\n",
    "The five-number summary in statistics is a descriptive statistical tool that provides a concise summary of a dataset's distribution. It consists of five key values: the minimum, first quartile (Q1), median, third quartile (Q3), and maximum.\n",
    "\n",
    "\n",
    "For example, let's consider a dataset of test scores: 60, 70, 75, 80, 85, 90, 95.\n",
    "The five-number summary would be:\n",
    "Minimum: 60\n",
    "Q1: 70\n",
    "Median: 80\n",
    "Q3: 90\n",
    "Maximum: 95\n",
    "\n",
    "\n",
    "These values help to understand the central tendency, spread, and overall shape of the dataset. The minimum and maximum indicate the range of the data, the median represents the middle value, and the first and third quartiles divide the data into four equal parts. This summary is particularly useful for comparing multiple datasets or identifying outliers."
   ]
  },
  {
   "cell_type": "code",
   "execution_count": 324,
   "metadata": {},
   "outputs": [
    {
     "name": "stdout",
     "output_type": "stream",
     "text": [
      "          x         y\n",
      "x  1.000000  0.774597\n",
      "y  0.774597  1.000000\n"
     ]
    },
    {
     "data": {
      "image/png": "[encoded data removed]",
      "text/plain": [
       "<Figure size 640x480 with 1 Axes>"
      ]
     },
     "metadata": {},
     "output_type": "display_data"
    }
   ],
   "source": [
    "import pandas as pd\n",
    "import matplotlib.pyplot as plt\n",
    "import numpy as np \n",
    "\n",
    "# Create a dataframe\n",
    "df = pd.DataFrame({'x': [1, 2, 3, 4, 5], 'y': [2, 4, 5, 4, 5]})\n",
    "\n",
    "# Calculate the correlation\n",
    "correlation = df.corr()\n",
    "\n",
    "# Print the correlation\n",
    "print(correlation)\n",
    "\n",
    "# Plot the correlation\n",
    "plt.scatter(df['x'], df['y'])\n",
    "plt.plot(np.unique(df['x']), np.poly1d(np.polyfit(df['x'], df['y'], 1))(np.unique(df['x'])), color='red')\n",
    "plt.title('Correlation')\n",
    "plt.xlabel('x axis')\n",
    "plt.ylabel('y axis')\n",
    "plt.show()"
   ]
  },
  {
   "cell_type": "markdown",
   "metadata": {},
   "source": [
    "# Machine learning "
   ]
  },
  {
   "cell_type": "code",
   "execution_count": 14,
   "metadata": {},
   "outputs": [],
   "source": [
    "import pandas as pd \n",
    "import numpy as np "
   ]
  },
  {
   "cell_type": "markdown",
   "metadata": {},
   "source": [
    "Imagine you have a dataset where you have different Instagram features like u sername , Caption , Hashtag , Followers , Time_Since_posted , and likes , now your task is to predict the number of likes and Time Since posted and the rest of the features are your input features. Now you have to build a model which can predict the number of likes and Time Since posted."
   ]
  },
  {
   "cell_type": "code",
   "execution_count": 15,
   "metadata": {},
   "outputs": [
    {
     "data": {
      "text/plain": [
       "(100, 8)"
      ]
     },
     "execution_count": 15,
     "metadata": {},
     "output_type": "execute_result"
    }
   ],
   "source": [
    "data = pd.read_csv(r\"C:\\Users\\solat\\Downloads\\archive (7)\\instagram_reach.csv\")\n",
    "data.shape"
   ]
  },
  {
   "cell_type": "code",
   "execution_count": 16,
   "metadata": {},
   "outputs": [
    {
     "data": {
      "text/html": [
       "<div>\n",
       "<style scoped>\n",
       "    .dataframe tbody tr th:only-of-type {\n",
       "        vertical-align: middle;\n",
       "    }\n",
       "\n",
       "    .dataframe tbody tr th {\n",
       "        vertical-align: top;\n",
       "    }\n",
       "\n",
       "    .dataframe thead th {\n",
       "        text-align: right;\n",
       "    }\n",
       "</style>\n",
       "<table border=\"1\" class=\"dataframe\">\n",
       "  <thead>\n",
       "    <tr style=\"text-align: right;\">\n",
       "      <th></th>\n",
       "      <th>Unnamed: 0</th>\n",
       "      <th>S.No</th>\n",
       "      <th>USERNAME</th>\n",
       "      <th>Caption</th>\n",
       "      <th>Followers</th>\n",
       "      <th>Hashtags</th>\n",
       "      <th>Time since posted</th>\n",
       "      <th>Likes</th>\n",
       "    </tr>\n",
       "  </thead>\n",
       "  <tbody>\n",
       "    <tr>\n",
       "      <th>0</th>\n",
       "      <td>0</td>\n",
       "      <td>1</td>\n",
       "      <td>mikequindazzi</td>\n",
       "      <td>Who are #DataScientist and what do they do? &gt;&gt;...</td>\n",
       "      <td>1600</td>\n",
       "      <td>#MachineLearning #AI #DataAnalytics #DataScien...</td>\n",
       "      <td>11 hours</td>\n",
       "      <td>139</td>\n",
       "    </tr>\n",
       "    <tr>\n",
       "      <th>1</th>\n",
       "      <td>1</td>\n",
       "      <td>2</td>\n",
       "      <td>drgorillapaints</td>\n",
       "      <td>We all know where it’s going. We just have to ...</td>\n",
       "      <td>880</td>\n",
       "      <td>#deck .#mac #macintosh#sayhello #apple #steve...</td>\n",
       "      <td>2 hours</td>\n",
       "      <td>23</td>\n",
       "    </tr>\n",
       "    <tr>\n",
       "      <th>2</th>\n",
       "      <td>2</td>\n",
       "      <td>3</td>\n",
       "      <td>aitrading_official</td>\n",
       "      <td>Alexander Barinov: 4 years as CFO in multinati...</td>\n",
       "      <td>255</td>\n",
       "      <td>#whoiswho #aitrading #ai #aitradingteam#instat...</td>\n",
       "      <td>2 hours</td>\n",
       "      <td>25</td>\n",
       "    </tr>\n",
       "    <tr>\n",
       "      <th>3</th>\n",
       "      <td>3</td>\n",
       "      <td>4</td>\n",
       "      <td>opensourcedworkplace</td>\n",
       "      <td>sfad</td>\n",
       "      <td>340</td>\n",
       "      <td>#iot #cre#workplace #CDO #bigdata #technology#...</td>\n",
       "      <td>3 hours</td>\n",
       "      <td>49</td>\n",
       "    </tr>\n",
       "    <tr>\n",
       "      <th>4</th>\n",
       "      <td>4</td>\n",
       "      <td>5</td>\n",
       "      <td>crea.vision</td>\n",
       "      <td>Ever missed a call while your phone was chargi...</td>\n",
       "      <td>304</td>\n",
       "      <td>#instamachinelearning #instabigdata#instamarke...</td>\n",
       "      <td>3 hours</td>\n",
       "      <td>30</td>\n",
       "    </tr>\n",
       "  </tbody>\n",
       "</table>\n",
       "</div>"
      ],
      "text/plain": [
       "   Unnamed: 0  S.No              USERNAME  \\\n",
       "0           0     1         mikequindazzi   \n",
       "1           1     2       drgorillapaints   \n",
       "2           2     3    aitrading_official   \n",
       "3           3     4  opensourcedworkplace   \n",
       "4           4     5           crea.vision   \n",
       "\n",
       "                                             Caption  Followers  \\\n",
       "0  Who are #DataScientist and what do they do? >>...       1600   \n",
       "1  We all know where it’s going. We just have to ...        880   \n",
       "2  Alexander Barinov: 4 years as CFO in multinati...        255   \n",
       "3                                               sfad        340   \n",
       "4  Ever missed a call while your phone was chargi...        304   \n",
       "\n",
       "                                            Hashtags Time since posted  Likes  \n",
       "0  #MachineLearning #AI #DataAnalytics #DataScien...          11 hours    139  \n",
       "1   #deck .#mac #macintosh#sayhello #apple #steve...           2 hours     23  \n",
       "2  #whoiswho #aitrading #ai #aitradingteam#instat...           2 hours     25  \n",
       "3  #iot #cre#workplace #CDO #bigdata #technology#...           3 hours     49  \n",
       "4  #instamachinelearning #instabigdata#instamarke...           3 hours     30  "
      ]
     },
     "execution_count": 16,
     "metadata": {},
     "output_type": "execute_result"
    }
   ],
   "source": [
    "data.head()"
   ]
  },
  {
   "cell_type": "code",
   "execution_count": 18,
   "metadata": {},
   "outputs": [
    {
     "data": {
      "text/plain": [
       "['unnamed:_0',\n",
       " 's.no',\n",
       " 'username',\n",
       " 'caption',\n",
       " 'followers',\n",
       " 'hashtags',\n",
       " 'time_since_posted',\n",
       " 'likes']"
      ]
     },
     "execution_count": 18,
     "metadata": {},
     "output_type": "execute_result"
    }
   ],
   "source": [
    "col = []\n",
    "for i in data.columns:\n",
    "    coll = i.lower().replace(\" \",\"_\")\n",
    "    col.append(coll)\n",
    "col"
   ]
  },
  {
   "cell_type": "code",
   "execution_count": 19,
   "metadata": {},
   "outputs": [],
   "source": [
    "data.columns = col "
   ]
  },
  {
   "cell_type": "code",
   "execution_count": 20,
   "metadata": {},
   "outputs": [
    {
     "data": {
      "text/html": [
       "<div>\n",
       "<style scoped>\n",
       "    .dataframe tbody tr th:only-of-type {\n",
       "        vertical-align: middle;\n",
       "    }\n",
       "\n",
       "    .dataframe tbody tr th {\n",
       "        vertical-align: top;\n",
       "    }\n",
       "\n",
       "    .dataframe thead th {\n",
       "        text-align: right;\n",
       "    }\n",
       "</style>\n",
       "<table border=\"1\" class=\"dataframe\">\n",
       "  <thead>\n",
       "    <tr style=\"text-align: right;\">\n",
       "      <th></th>\n",
       "      <th>unnamed:_0</th>\n",
       "      <th>s.no</th>\n",
       "      <th>username</th>\n",
       "      <th>caption</th>\n",
       "      <th>followers</th>\n",
       "      <th>hashtags</th>\n",
       "      <th>time_since_posted</th>\n",
       "      <th>likes</th>\n",
       "    </tr>\n",
       "  </thead>\n",
       "  <tbody>\n",
       "    <tr>\n",
       "      <th>0</th>\n",
       "      <td>0</td>\n",
       "      <td>1</td>\n",
       "      <td>mikequindazzi</td>\n",
       "      <td>Who are #DataScientist and what do they do? &gt;&gt;...</td>\n",
       "      <td>1600</td>\n",
       "      <td>#MachineLearning #AI #DataAnalytics #DataScien...</td>\n",
       "      <td>11 hours</td>\n",
       "      <td>139</td>\n",
       "    </tr>\n",
       "    <tr>\n",
       "      <th>1</th>\n",
       "      <td>1</td>\n",
       "      <td>2</td>\n",
       "      <td>drgorillapaints</td>\n",
       "      <td>We all know where it’s going. We just have to ...</td>\n",
       "      <td>880</td>\n",
       "      <td>#deck .#mac #macintosh#sayhello #apple #steve...</td>\n",
       "      <td>2 hours</td>\n",
       "      <td>23</td>\n",
       "    </tr>\n",
       "    <tr>\n",
       "      <th>2</th>\n",
       "      <td>2</td>\n",
       "      <td>3</td>\n",
       "      <td>aitrading_official</td>\n",
       "      <td>Alexander Barinov: 4 years as CFO in multinati...</td>\n",
       "      <td>255</td>\n",
       "      <td>#whoiswho #aitrading #ai #aitradingteam#instat...</td>\n",
       "      <td>2 hours</td>\n",
       "      <td>25</td>\n",
       "    </tr>\n",
       "    <tr>\n",
       "      <th>3</th>\n",
       "      <td>3</td>\n",
       "      <td>4</td>\n",
       "      <td>opensourcedworkplace</td>\n",
       "      <td>sfad</td>\n",
       "      <td>340</td>\n",
       "      <td>#iot #cre#workplace #CDO #bigdata #technology#...</td>\n",
       "      <td>3 hours</td>\n",
       "      <td>49</td>\n",
       "    </tr>\n",
       "    <tr>\n",
       "      <th>4</th>\n",
       "      <td>4</td>\n",
       "      <td>5</td>\n",
       "      <td>crea.vision</td>\n",
       "      <td>Ever missed a call while your phone was chargi...</td>\n",
       "      <td>304</td>\n",
       "      <td>#instamachinelearning #instabigdata#instamarke...</td>\n",
       "      <td>3 hours</td>\n",
       "      <td>30</td>\n",
       "    </tr>\n",
       "  </tbody>\n",
       "</table>\n",
       "</div>"
      ],
      "text/plain": [
       "   unnamed:_0  s.no              username  \\\n",
       "0           0     1         mikequindazzi   \n",
       "1           1     2       drgorillapaints   \n",
       "2           2     3    aitrading_official   \n",
       "3           3     4  opensourcedworkplace   \n",
       "4           4     5           crea.vision   \n",
       "\n",
       "                                             caption  followers  \\\n",
       "0  Who are #DataScientist and what do they do? >>...       1600   \n",
       "1  We all know where it’s going. We just have to ...        880   \n",
       "2  Alexander Barinov: 4 years as CFO in multinati...        255   \n",
       "3                                               sfad        340   \n",
       "4  Ever missed a call while your phone was chargi...        304   \n",
       "\n",
       "                                            hashtags time_since_posted  likes  \n",
       "0  #MachineLearning #AI #DataAnalytics #DataScien...          11 hours    139  \n",
       "1   #deck .#mac #macintosh#sayhello #apple #steve...           2 hours     23  \n",
       "2  #whoiswho #aitrading #ai #aitradingteam#instat...           2 hours     25  \n",
       "3  #iot #cre#workplace #CDO #bigdata #technology#...           3 hours     49  \n",
       "4  #instamachinelearning #instabigdata#instamarke...           3 hours     30  "
      ]
     },
     "execution_count": 20,
     "metadata": {},
     "output_type": "execute_result"
    }
   ],
   "source": [
    "data.head()"
   ]
  },
  {
   "cell_type": "code",
   "execution_count": 21,
   "metadata": {},
   "outputs": [
    {
     "name": "stdout",
     "output_type": "stream",
     "text": [
      "<class 'pandas.core.frame.DataFrame'>\n",
      "RangeIndex: 100 entries, 0 to 99\n",
      "Data columns (total 8 columns):\n",
      " #   Column             Non-Null Count  Dtype \n",
      "---  ------             --------------  ----- \n",
      " 0   unnamed:_0         100 non-null    int64 \n",
      " 1   s.no               100 non-null    int64 \n",
      " 2   username           100 non-null    object\n",
      " 3   caption            94 non-null     object\n",
      " 4   followers          100 non-null    int64 \n",
      " 5   hashtags           100 non-null    object\n",
      " 6   time_since_posted  100 non-null    object\n",
      " 7   likes              100 non-null    int64 \n",
      "dtypes: int64(4), object(4)\n",
      "memory usage: 6.4+ KB\n"
     ]
    }
   ],
   "source": [
    "data.info()"
   ]
  },
  {
   "cell_type": "markdown",
   "metadata": {},
   "source": [
    "Hashtags\n",
    "Hashtags are important for helping people find your content. They can also help give context to your content and drive traffic. When choosing hashtags, it's important to find relevant hashtags that match your content and appeal to users. Hashtags should also be relevant to your business and the content you're posting. Thus we will not drop hastag"
   ]
  },
  {
   "cell_type": "code",
   "execution_count": 73,
   "metadata": {},
   "outputs": [
    {
     "data": {
      "text/plain": [
       "unnamed:_0               0\n",
       "s.no                     0\n",
       "username                 0\n",
       "caption                  6\n",
       "followers                0\n",
       "hashtags                 0\n",
       "time_since_posted        0\n",
       "likes                    0\n",
       "single_hastag            0\n",
       "time_since_posted_num    0\n",
       "hashtag_count            0\n",
       "dtype: int64"
      ]
     },
     "execution_count": 73,
     "metadata": {},
     "output_type": "execute_result"
    }
   ],
   "source": [
    "data.isna().sum()"
   ]
  },
  {
   "cell_type": "markdown",
   "metadata": {},
   "source": [
    "### No null values "
   ]
  },
  {
   "cell_type": "code",
   "execution_count": 75,
   "metadata": {},
   "outputs": [
    {
     "data": {
      "text/html": [
       "<div>\n",
       "<style scoped>\n",
       "    .dataframe tbody tr th:only-of-type {\n",
       "        vertical-align: middle;\n",
       "    }\n",
       "\n",
       "    .dataframe tbody tr th {\n",
       "        vertical-align: top;\n",
       "    }\n",
       "\n",
       "    .dataframe thead th {\n",
       "        text-align: right;\n",
       "    }\n",
       "</style>\n",
       "<table border=\"1\" class=\"dataframe\">\n",
       "  <thead>\n",
       "    <tr style=\"text-align: right;\">\n",
       "      <th></th>\n",
       "      <th>unnamed:_0</th>\n",
       "      <th>s.no</th>\n",
       "      <th>username</th>\n",
       "      <th>caption</th>\n",
       "      <th>followers</th>\n",
       "      <th>hashtags</th>\n",
       "      <th>time_since_posted</th>\n",
       "      <th>likes</th>\n",
       "      <th>single_hastag</th>\n",
       "      <th>time_since_posted_num</th>\n",
       "      <th>hashtag_count</th>\n",
       "    </tr>\n",
       "  </thead>\n",
       "  <tbody>\n",
       "  </tbody>\n",
       "</table>\n",
       "</div>"
      ],
      "text/plain": [
       "Empty DataFrame\n",
       "Columns: [unnamed:_0, s.no, username, caption, followers, hashtags, time_since_posted, likes, single_hastag, time_since_posted_num, hashtag_count]\n",
       "Index: []"
      ]
     },
     "execution_count": 75,
     "metadata": {},
     "output_type": "execute_result"
    }
   ],
   "source": [
    "data[data.duplicated()] "
   ]
  },
  {
   "cell_type": "markdown",
   "metadata": {},
   "source": [
    "### no duplicates"
   ]
  },
  {
   "cell_type": "code",
   "execution_count": 38,
   "metadata": {},
   "outputs": [
    {
     "data": {
      "text/plain": [
       "'#MachineLearning'"
      ]
     },
     "execution_count": 38,
     "metadata": {},
     "output_type": "execute_result"
    }
   ],
   "source": [
    "data[\"hashtags\"][0].split()[0]"
   ]
  },
  {
   "cell_type": "code",
   "execution_count": 68,
   "metadata": {},
   "outputs": [
    {
     "data": {
      "text/plain": [
       "19"
      ]
     },
     "execution_count": 68,
     "metadata": {},
     "output_type": "execute_result"
    }
   ],
   "source": [
    "len(data[\"hashtags\"][1].split())"
   ]
  },
  {
   "cell_type": "code",
   "execution_count": 41,
   "metadata": {},
   "outputs": [
    {
     "data": {
      "text/html": [
       "<div>\n",
       "<style scoped>\n",
       "    .dataframe tbody tr th:only-of-type {\n",
       "        vertical-align: middle;\n",
       "    }\n",
       "\n",
       "    .dataframe tbody tr th {\n",
       "        vertical-align: top;\n",
       "    }\n",
       "\n",
       "    .dataframe thead th {\n",
       "        text-align: right;\n",
       "    }\n",
       "</style>\n",
       "<table border=\"1\" class=\"dataframe\">\n",
       "  <thead>\n",
       "    <tr style=\"text-align: right;\">\n",
       "      <th></th>\n",
       "      <th>unnamed:_0</th>\n",
       "      <th>s.no</th>\n",
       "      <th>username</th>\n",
       "      <th>caption</th>\n",
       "      <th>followers</th>\n",
       "      <th>hashtags</th>\n",
       "      <th>time_since_posted</th>\n",
       "      <th>likes</th>\n",
       "      <th>single_hastag</th>\n",
       "    </tr>\n",
       "  </thead>\n",
       "  <tbody>\n",
       "    <tr>\n",
       "      <th>0</th>\n",
       "      <td>0</td>\n",
       "      <td>1</td>\n",
       "      <td>mikequindazzi</td>\n",
       "      <td>Who are #DataScientist and what do they do? &gt;&gt;...</td>\n",
       "      <td>1600</td>\n",
       "      <td>#MachineLearning #AI #DataAnalytics #DataScien...</td>\n",
       "      <td>11 hours</td>\n",
       "      <td>139</td>\n",
       "      <td>#MachineLearning</td>\n",
       "    </tr>\n",
       "    <tr>\n",
       "      <th>1</th>\n",
       "      <td>1</td>\n",
       "      <td>2</td>\n",
       "      <td>drgorillapaints</td>\n",
       "      <td>We all know where it’s going. We just have to ...</td>\n",
       "      <td>880</td>\n",
       "      <td>#deck .#mac #macintosh#sayhello #apple #steve...</td>\n",
       "      <td>2 hours</td>\n",
       "      <td>23</td>\n",
       "      <td>#deck</td>\n",
       "    </tr>\n",
       "    <tr>\n",
       "      <th>2</th>\n",
       "      <td>2</td>\n",
       "      <td>3</td>\n",
       "      <td>aitrading_official</td>\n",
       "      <td>Alexander Barinov: 4 years as CFO in multinati...</td>\n",
       "      <td>255</td>\n",
       "      <td>#whoiswho #aitrading #ai #aitradingteam#instat...</td>\n",
       "      <td>2 hours</td>\n",
       "      <td>25</td>\n",
       "      <td>#whoiswho</td>\n",
       "    </tr>\n",
       "    <tr>\n",
       "      <th>3</th>\n",
       "      <td>3</td>\n",
       "      <td>4</td>\n",
       "      <td>opensourcedworkplace</td>\n",
       "      <td>sfad</td>\n",
       "      <td>340</td>\n",
       "      <td>#iot #cre#workplace #CDO #bigdata #technology#...</td>\n",
       "      <td>3 hours</td>\n",
       "      <td>49</td>\n",
       "      <td>#iot</td>\n",
       "    </tr>\n",
       "    <tr>\n",
       "      <th>4</th>\n",
       "      <td>4</td>\n",
       "      <td>5</td>\n",
       "      <td>crea.vision</td>\n",
       "      <td>Ever missed a call while your phone was chargi...</td>\n",
       "      <td>304</td>\n",
       "      <td>#instamachinelearning #instabigdata#instamarke...</td>\n",
       "      <td>3 hours</td>\n",
       "      <td>30</td>\n",
       "      <td>#instamachinelearning</td>\n",
       "    </tr>\n",
       "  </tbody>\n",
       "</table>\n",
       "</div>"
      ],
      "text/plain": [
       "   unnamed:_0  s.no              username  \\\n",
       "0           0     1         mikequindazzi   \n",
       "1           1     2       drgorillapaints   \n",
       "2           2     3    aitrading_official   \n",
       "3           3     4  opensourcedworkplace   \n",
       "4           4     5           crea.vision   \n",
       "\n",
       "                                             caption  followers  \\\n",
       "0  Who are #DataScientist and what do they do? >>...       1600   \n",
       "1  We all know where it’s going. We just have to ...        880   \n",
       "2  Alexander Barinov: 4 years as CFO in multinati...        255   \n",
       "3                                               sfad        340   \n",
       "4  Ever missed a call while your phone was chargi...        304   \n",
       "\n",
       "                                            hashtags time_since_posted  likes  \\\n",
       "0  #MachineLearning #AI #DataAnalytics #DataScien...          11 hours    139   \n",
       "1   #deck .#mac #macintosh#sayhello #apple #steve...           2 hours     23   \n",
       "2  #whoiswho #aitrading #ai #aitradingteam#instat...           2 hours     25   \n",
       "3  #iot #cre#workplace #CDO #bigdata #technology#...           3 hours     49   \n",
       "4  #instamachinelearning #instabigdata#instamarke...           3 hours     30   \n",
       "\n",
       "           single_hastag  \n",
       "0       #MachineLearning  \n",
       "1                  #deck  \n",
       "2              #whoiswho  \n",
       "3                   #iot  \n",
       "4  #instamachinelearning  "
      ]
     },
     "execution_count": 41,
     "metadata": {},
     "output_type": "execute_result"
    }
   ],
   "source": [
    "data[\"single_hastag\"] = data[\"hashtags\"].apply(lambda x : x.split()[0])\n",
    "data.head()"
   ]
  },
  {
   "cell_type": "code",
   "execution_count": 70,
   "metadata": {},
   "outputs": [
    {
     "data": {
      "text/html": [
       "<div>\n",
       "<style scoped>\n",
       "    .dataframe tbody tr th:only-of-type {\n",
       "        vertical-align: middle;\n",
       "    }\n",
       "\n",
       "    .dataframe tbody tr th {\n",
       "        vertical-align: top;\n",
       "    }\n",
       "\n",
       "    .dataframe thead th {\n",
       "        text-align: right;\n",
       "    }\n",
       "</style>\n",
       "<table border=\"1\" class=\"dataframe\">\n",
       "  <thead>\n",
       "    <tr style=\"text-align: right;\">\n",
       "      <th></th>\n",
       "      <th>unnamed:_0</th>\n",
       "      <th>s.no</th>\n",
       "      <th>username</th>\n",
       "      <th>caption</th>\n",
       "      <th>followers</th>\n",
       "      <th>hashtags</th>\n",
       "      <th>time_since_posted</th>\n",
       "      <th>likes</th>\n",
       "      <th>single_hastag</th>\n",
       "      <th>time_since_posted_num</th>\n",
       "      <th>hashtag_count</th>\n",
       "    </tr>\n",
       "  </thead>\n",
       "  <tbody>\n",
       "    <tr>\n",
       "      <th>0</th>\n",
       "      <td>0</td>\n",
       "      <td>1</td>\n",
       "      <td>mikequindazzi</td>\n",
       "      <td>Who are #DataScientist and what do they do? &gt;&gt;...</td>\n",
       "      <td>1600</td>\n",
       "      <td>#MachineLearning #AI #DataAnalytics #DataScien...</td>\n",
       "      <td>11 hours</td>\n",
       "      <td>139</td>\n",
       "      <td>#MachineLearning</td>\n",
       "      <td>11</td>\n",
       "      <td>5</td>\n",
       "    </tr>\n",
       "    <tr>\n",
       "      <th>1</th>\n",
       "      <td>1</td>\n",
       "      <td>2</td>\n",
       "      <td>drgorillapaints</td>\n",
       "      <td>We all know where it’s going. We just have to ...</td>\n",
       "      <td>880</td>\n",
       "      <td>#deck .#mac #macintosh#sayhello #apple #steve...</td>\n",
       "      <td>2 hours</td>\n",
       "      <td>23</td>\n",
       "      <td>#deck</td>\n",
       "      <td>2</td>\n",
       "      <td>19</td>\n",
       "    </tr>\n",
       "    <tr>\n",
       "      <th>2</th>\n",
       "      <td>2</td>\n",
       "      <td>3</td>\n",
       "      <td>aitrading_official</td>\n",
       "      <td>Alexander Barinov: 4 years as CFO in multinati...</td>\n",
       "      <td>255</td>\n",
       "      <td>#whoiswho #aitrading #ai #aitradingteam#instat...</td>\n",
       "      <td>2 hours</td>\n",
       "      <td>25</td>\n",
       "      <td>#whoiswho</td>\n",
       "      <td>2</td>\n",
       "      <td>20</td>\n",
       "    </tr>\n",
       "    <tr>\n",
       "      <th>3</th>\n",
       "      <td>3</td>\n",
       "      <td>4</td>\n",
       "      <td>opensourcedworkplace</td>\n",
       "      <td>sfad</td>\n",
       "      <td>340</td>\n",
       "      <td>#iot #cre#workplace #CDO #bigdata #technology#...</td>\n",
       "      <td>3 hours</td>\n",
       "      <td>49</td>\n",
       "      <td>#iot</td>\n",
       "      <td>3</td>\n",
       "      <td>20</td>\n",
       "    </tr>\n",
       "    <tr>\n",
       "      <th>4</th>\n",
       "      <td>4</td>\n",
       "      <td>5</td>\n",
       "      <td>crea.vision</td>\n",
       "      <td>Ever missed a call while your phone was chargi...</td>\n",
       "      <td>304</td>\n",
       "      <td>#instamachinelearning #instabigdata#instamarke...</td>\n",
       "      <td>3 hours</td>\n",
       "      <td>30</td>\n",
       "      <td>#instamachinelearning</td>\n",
       "      <td>3</td>\n",
       "      <td>18</td>\n",
       "    </tr>\n",
       "  </tbody>\n",
       "</table>\n",
       "</div>"
      ],
      "text/plain": [
       "   unnamed:_0  s.no              username  \\\n",
       "0           0     1         mikequindazzi   \n",
       "1           1     2       drgorillapaints   \n",
       "2           2     3    aitrading_official   \n",
       "3           3     4  opensourcedworkplace   \n",
       "4           4     5           crea.vision   \n",
       "\n",
       "                                             caption  followers  \\\n",
       "0  Who are #DataScientist and what do they do? >>...       1600   \n",
       "1  We all know where it’s going. We just have to ...        880   \n",
       "2  Alexander Barinov: 4 years as CFO in multinati...        255   \n",
       "3                                               sfad        340   \n",
       "4  Ever missed a call while your phone was chargi...        304   \n",
       "\n",
       "                                            hashtags time_since_posted  likes  \\\n",
       "0  #MachineLearning #AI #DataAnalytics #DataScien...          11 hours    139   \n",
       "1   #deck .#mac #macintosh#sayhello #apple #steve...           2 hours     23   \n",
       "2  #whoiswho #aitrading #ai #aitradingteam#instat...           2 hours     25   \n",
       "3  #iot #cre#workplace #CDO #bigdata #technology#...           3 hours     49   \n",
       "4  #instamachinelearning #instabigdata#instamarke...           3 hours     30   \n",
       "\n",
       "           single_hastag  time_since_posted_num  hashtag_count  \n",
       "0       #MachineLearning                     11              5  \n",
       "1                  #deck                      2             19  \n",
       "2              #whoiswho                      2             20  \n",
       "3                   #iot                      3             20  \n",
       "4  #instamachinelearning                      3             18  "
      ]
     },
     "execution_count": 70,
     "metadata": {},
     "output_type": "execute_result"
    }
   ],
   "source": [
    "data[\"hashtag_count\"] = data[\"hashtags\"].apply(lambda x : len(x.split()))\n",
    "data.head()"
   ]
  },
  {
   "cell_type": "code",
   "execution_count": 47,
   "metadata": {},
   "outputs": [
    {
     "data": {
      "text/plain": [
       "'We all know where it’s going. We just have to\\xa0#workresponsibly\\xa0to postpone the date. This actually made into a business slide\\xa0#deck\\xa0.#mac\\xa0#macintosh#sayhello\\xa0#apple\\xa0#stevejobs\\xa0#ai\\xa0#evolution#artificialintelligence\\xa0#machinelearning#terminator\\xa0#illbeback\\xa0#technology#computerevolution\\xa0#computerscience#sciencefiction#computersciencetosciencefiction#tomorrowstechnology\\xa0#vr\\xa0#ar\\xa0#robot#robots\\xa0#t2\\xa0#businessdeck\\xa0#businessslides#illustration\\xa0#sketches\\xa0#drawing'"
      ]
     },
     "execution_count": 47,
     "metadata": {},
     "output_type": "execute_result"
    }
   ],
   "source": [
    "data[\"caption\"][1]"
   ]
  },
  {
   "cell_type": "code",
   "execution_count": 48,
   "metadata": {},
   "outputs": [
    {
     "data": {
      "text/plain": [
       "Index(['unnamed:_0', 's.no', 'username', 'caption', 'followers', 'hashtags',\n",
       "       'time_since_posted', 'likes', 'single_hastag'],\n",
       "      dtype='object')"
      ]
     },
     "execution_count": 48,
     "metadata": {},
     "output_type": "execute_result"
    }
   ],
   "source": [
    "data.columns"
   ]
  },
  {
   "cell_type": "code",
   "execution_count": 49,
   "metadata": {},
   "outputs": [
    {
     "data": {
      "text/plain": [
       "0            mikequindazzi\n",
       "1          drgorillapaints\n",
       "2       aitrading_official\n",
       "3     opensourcedworkplace\n",
       "4              crea.vision\n",
       "              ...         \n",
       "95          michaelgarza__\n",
       "96             dvlp_search\n",
       "97              ecom.space\n",
       "98          lb3enterprises\n",
       "99            palmariusdev\n",
       "Name: username, Length: 100, dtype: object"
      ]
     },
     "execution_count": 49,
     "metadata": {},
     "output_type": "execute_result"
    }
   ],
   "source": [
    "data[\"username\"]"
   ]
  },
  {
   "cell_type": "code",
   "execution_count": 50,
   "metadata": {},
   "outputs": [
    {
     "data": {
      "text/plain": [
       "username\n",
       "mikequindazzi           4\n",
       "philosophercoin         2\n",
       "opensourcedworkplace    2\n",
       "thebeautymindset        1\n",
       "iamjaradwright          1\n",
       "                       ..\n",
       "cryptocrackhead         1\n",
       "blocsidesports          1\n",
       "neondistrictrpg         1\n",
       "greenhousegroup         1\n",
       "palmariusdev            1\n",
       "Name: count, Length: 95, dtype: int64"
      ]
     },
     "execution_count": 50,
     "metadata": {},
     "output_type": "execute_result"
    }
   ],
   "source": [
    "data.username.value_counts()"
   ]
  },
  {
   "cell_type": "code",
   "execution_count": 51,
   "metadata": {},
   "outputs": [],
   "source": [
    "# here we dont need username as well because we will be more focused on followers, as we have \n",
    "# nothing to verify the username's"
   ]
  },
  {
   "cell_type": "code",
   "execution_count": 54,
   "metadata": {},
   "outputs": [
    {
     "data": {
      "text/plain": [
       "0    11 hours\n",
       "1     2 hours\n",
       "2     2 hours\n",
       "3     3 hours\n",
       "4     3 hours\n",
       "5     3 hours\n",
       "6     3 hours\n",
       "7     4 hours\n",
       "8     4 hours\n",
       "9     7 hours\n",
       "Name: time_since_posted, dtype: object"
      ]
     },
     "execution_count": 54,
     "metadata": {},
     "output_type": "execute_result"
    }
   ],
   "source": [
    "data[\"time_since_posted\"][:10]"
   ]
  },
  {
   "cell_type": "code",
   "execution_count": 56,
   "metadata": {},
   "outputs": [
    {
     "data": {
      "text/plain": [
       "array(['11 hours', '2 hours', '3 hours', '4 hours', '7 hours', '8 hours',\n",
       "       '9 hours', '5 hours', '20 hours', '14 hours', '24 hours'],\n",
       "      dtype=object)"
      ]
     },
     "execution_count": 56,
     "metadata": {},
     "output_type": "execute_result"
    }
   ],
   "source": [
    "data[\"time_since_posted\"].unique()"
   ]
  },
  {
   "cell_type": "code",
   "execution_count": 57,
   "metadata": {},
   "outputs": [
    {
     "data": {
      "text/html": [
       "<div>\n",
       "<style scoped>\n",
       "    .dataframe tbody tr th:only-of-type {\n",
       "        vertical-align: middle;\n",
       "    }\n",
       "\n",
       "    .dataframe tbody tr th {\n",
       "        vertical-align: top;\n",
       "    }\n",
       "\n",
       "    .dataframe thead th {\n",
       "        text-align: right;\n",
       "    }\n",
       "</style>\n",
       "<table border=\"1\" class=\"dataframe\">\n",
       "  <thead>\n",
       "    <tr style=\"text-align: right;\">\n",
       "      <th></th>\n",
       "      <th>unnamed:_0</th>\n",
       "      <th>s.no</th>\n",
       "      <th>username</th>\n",
       "      <th>caption</th>\n",
       "      <th>followers</th>\n",
       "      <th>hashtags</th>\n",
       "      <th>time_since_posted</th>\n",
       "      <th>likes</th>\n",
       "      <th>single_hastag</th>\n",
       "      <th>time_since_posted_num</th>\n",
       "    </tr>\n",
       "  </thead>\n",
       "  <tbody>\n",
       "    <tr>\n",
       "      <th>0</th>\n",
       "      <td>0</td>\n",
       "      <td>1</td>\n",
       "      <td>mikequindazzi</td>\n",
       "      <td>Who are #DataScientist and what do they do? &gt;&gt;...</td>\n",
       "      <td>1600</td>\n",
       "      <td>#MachineLearning #AI #DataAnalytics #DataScien...</td>\n",
       "      <td>11 hours</td>\n",
       "      <td>139</td>\n",
       "      <td>#MachineLearning</td>\n",
       "      <td>11</td>\n",
       "    </tr>\n",
       "    <tr>\n",
       "      <th>1</th>\n",
       "      <td>1</td>\n",
       "      <td>2</td>\n",
       "      <td>drgorillapaints</td>\n",
       "      <td>We all know where it’s going. We just have to ...</td>\n",
       "      <td>880</td>\n",
       "      <td>#deck .#mac #macintosh#sayhello #apple #steve...</td>\n",
       "      <td>2 hours</td>\n",
       "      <td>23</td>\n",
       "      <td>#deck</td>\n",
       "      <td>2</td>\n",
       "    </tr>\n",
       "    <tr>\n",
       "      <th>2</th>\n",
       "      <td>2</td>\n",
       "      <td>3</td>\n",
       "      <td>aitrading_official</td>\n",
       "      <td>Alexander Barinov: 4 years as CFO in multinati...</td>\n",
       "      <td>255</td>\n",
       "      <td>#whoiswho #aitrading #ai #aitradingteam#instat...</td>\n",
       "      <td>2 hours</td>\n",
       "      <td>25</td>\n",
       "      <td>#whoiswho</td>\n",
       "      <td>2</td>\n",
       "    </tr>\n",
       "    <tr>\n",
       "      <th>3</th>\n",
       "      <td>3</td>\n",
       "      <td>4</td>\n",
       "      <td>opensourcedworkplace</td>\n",
       "      <td>sfad</td>\n",
       "      <td>340</td>\n",
       "      <td>#iot #cre#workplace #CDO #bigdata #technology#...</td>\n",
       "      <td>3 hours</td>\n",
       "      <td>49</td>\n",
       "      <td>#iot</td>\n",
       "      <td>3</td>\n",
       "    </tr>\n",
       "    <tr>\n",
       "      <th>4</th>\n",
       "      <td>4</td>\n",
       "      <td>5</td>\n",
       "      <td>crea.vision</td>\n",
       "      <td>Ever missed a call while your phone was chargi...</td>\n",
       "      <td>304</td>\n",
       "      <td>#instamachinelearning #instabigdata#instamarke...</td>\n",
       "      <td>3 hours</td>\n",
       "      <td>30</td>\n",
       "      <td>#instamachinelearning</td>\n",
       "      <td>3</td>\n",
       "    </tr>\n",
       "  </tbody>\n",
       "</table>\n",
       "</div>"
      ],
      "text/plain": [
       "   unnamed:_0  s.no              username  \\\n",
       "0           0     1         mikequindazzi   \n",
       "1           1     2       drgorillapaints   \n",
       "2           2     3    aitrading_official   \n",
       "3           3     4  opensourcedworkplace   \n",
       "4           4     5           crea.vision   \n",
       "\n",
       "                                             caption  followers  \\\n",
       "0  Who are #DataScientist and what do they do? >>...       1600   \n",
       "1  We all know where it’s going. We just have to ...        880   \n",
       "2  Alexander Barinov: 4 years as CFO in multinati...        255   \n",
       "3                                               sfad        340   \n",
       "4  Ever missed a call while your phone was chargi...        304   \n",
       "\n",
       "                                            hashtags time_since_posted  likes  \\\n",
       "0  #MachineLearning #AI #DataAnalytics #DataScien...          11 hours    139   \n",
       "1   #deck .#mac #macintosh#sayhello #apple #steve...           2 hours     23   \n",
       "2  #whoiswho #aitrading #ai #aitradingteam#instat...           2 hours     25   \n",
       "3  #iot #cre#workplace #CDO #bigdata #technology#...           3 hours     49   \n",
       "4  #instamachinelearning #instabigdata#instamarke...           3 hours     30   \n",
       "\n",
       "           single_hastag time_since_posted_num  \n",
       "0       #MachineLearning                   11   \n",
       "1                  #deck                    2   \n",
       "2              #whoiswho                    2   \n",
       "3                   #iot                    3   \n",
       "4  #instamachinelearning                    3   "
      ]
     },
     "execution_count": 57,
     "metadata": {},
     "output_type": "execute_result"
    }
   ],
   "source": [
    "data[\"time_since_posted_num\"] = data[\"time_since_posted\"].str.replace(\"hours\", \"\")\n",
    "data.head()"
   ]
  },
  {
   "cell_type": "code",
   "execution_count": 58,
   "metadata": {},
   "outputs": [
    {
     "data": {
      "text/plain": [
       "array(['11 ', '2 ', '3 ', '4 ', '7 ', '8 ', '9 ', '5 ', '20 ', '14 ',\n",
       "       '24 '], dtype=object)"
      ]
     },
     "execution_count": 58,
     "metadata": {},
     "output_type": "execute_result"
    }
   ],
   "source": [
    "data[\"time_since_posted_num\"].unique()"
   ]
  },
  {
   "cell_type": "code",
   "execution_count": 72,
   "metadata": {},
   "outputs": [
    {
     "name": "stdout",
     "output_type": "stream",
     "text": [
      "<class 'pandas.core.frame.DataFrame'>\n",
      "RangeIndex: 100 entries, 0 to 99\n",
      "Data columns (total 11 columns):\n",
      " #   Column                 Non-Null Count  Dtype \n",
      "---  ------                 --------------  ----- \n",
      " 0   unnamed:_0             100 non-null    int64 \n",
      " 1   s.no                   100 non-null    int64 \n",
      " 2   username               100 non-null    object\n",
      " 3   caption                94 non-null     object\n",
      " 4   followers              100 non-null    int64 \n",
      " 5   hashtags               100 non-null    object\n",
      " 6   time_since_posted      100 non-null    object\n",
      " 7   likes                  100 non-null    int64 \n",
      " 8   single_hastag          100 non-null    object\n",
      " 9   time_since_posted_num  100 non-null    int64 \n",
      " 10  hashtag_count          100 non-null    int64 \n",
      "dtypes: int64(6), object(5)\n",
      "memory usage: 8.7+ KB\n"
     ]
    }
   ],
   "source": [
    "data.info()"
   ]
  },
  {
   "cell_type": "code",
   "execution_count": 61,
   "metadata": {},
   "outputs": [
    {
     "name": "stdout",
     "output_type": "stream",
     "text": [
      "<class 'pandas.core.frame.DataFrame'>\n",
      "RangeIndex: 100 entries, 0 to 99\n",
      "Data columns (total 10 columns):\n",
      " #   Column                 Non-Null Count  Dtype \n",
      "---  ------                 --------------  ----- \n",
      " 0   unnamed:_0             100 non-null    int64 \n",
      " 1   s.no                   100 non-null    int64 \n",
      " 2   username               100 non-null    object\n",
      " 3   caption                94 non-null     object\n",
      " 4   followers              100 non-null    int64 \n",
      " 5   hashtags               100 non-null    object\n",
      " 6   time_since_posted      100 non-null    object\n",
      " 7   likes                  100 non-null    int64 \n",
      " 8   single_hastag          100 non-null    object\n",
      " 9   time_since_posted_num  100 non-null    int64 \n",
      "dtypes: int64(5), object(5)\n",
      "memory usage: 7.9+ KB\n"
     ]
    }
   ],
   "source": [
    "data[\"time_since_posted_num\"] = data[\"time_since_posted_num\"].astype(\"int64\")\n",
    "data.info()"
   ]
  },
  {
   "cell_type": "code",
   "execution_count": 71,
   "metadata": {},
   "outputs": [
    {
     "data": {
      "text/html": [
       "<div>\n",
       "<style scoped>\n",
       "    .dataframe tbody tr th:only-of-type {\n",
       "        vertical-align: middle;\n",
       "    }\n",
       "\n",
       "    .dataframe tbody tr th {\n",
       "        vertical-align: top;\n",
       "    }\n",
       "\n",
       "    .dataframe thead th {\n",
       "        text-align: right;\n",
       "    }\n",
       "</style>\n",
       "<table border=\"1\" class=\"dataframe\">\n",
       "  <thead>\n",
       "    <tr style=\"text-align: right;\">\n",
       "      <th></th>\n",
       "      <th>unnamed:_0</th>\n",
       "      <th>s.no</th>\n",
       "      <th>username</th>\n",
       "      <th>caption</th>\n",
       "      <th>followers</th>\n",
       "      <th>hashtags</th>\n",
       "      <th>time_since_posted</th>\n",
       "      <th>likes</th>\n",
       "      <th>single_hastag</th>\n",
       "      <th>time_since_posted_num</th>\n",
       "      <th>hashtag_count</th>\n",
       "    </tr>\n",
       "  </thead>\n",
       "  <tbody>\n",
       "    <tr>\n",
       "      <th>0</th>\n",
       "      <td>0</td>\n",
       "      <td>1</td>\n",
       "      <td>mikequindazzi</td>\n",
       "      <td>Who are #DataScientist and what do they do? &gt;&gt;...</td>\n",
       "      <td>1600</td>\n",
       "      <td>#MachineLearning #AI #DataAnalytics #DataScien...</td>\n",
       "      <td>11 hours</td>\n",
       "      <td>139</td>\n",
       "      <td>#MachineLearning</td>\n",
       "      <td>11</td>\n",
       "      <td>5</td>\n",
       "    </tr>\n",
       "    <tr>\n",
       "      <th>1</th>\n",
       "      <td>1</td>\n",
       "      <td>2</td>\n",
       "      <td>drgorillapaints</td>\n",
       "      <td>We all know where it’s going. We just have to ...</td>\n",
       "      <td>880</td>\n",
       "      <td>#deck .#mac #macintosh#sayhello #apple #steve...</td>\n",
       "      <td>2 hours</td>\n",
       "      <td>23</td>\n",
       "      <td>#deck</td>\n",
       "      <td>2</td>\n",
       "      <td>19</td>\n",
       "    </tr>\n",
       "    <tr>\n",
       "      <th>2</th>\n",
       "      <td>2</td>\n",
       "      <td>3</td>\n",
       "      <td>aitrading_official</td>\n",
       "      <td>Alexander Barinov: 4 years as CFO in multinati...</td>\n",
       "      <td>255</td>\n",
       "      <td>#whoiswho #aitrading #ai #aitradingteam#instat...</td>\n",
       "      <td>2 hours</td>\n",
       "      <td>25</td>\n",
       "      <td>#whoiswho</td>\n",
       "      <td>2</td>\n",
       "      <td>20</td>\n",
       "    </tr>\n",
       "    <tr>\n",
       "      <th>3</th>\n",
       "      <td>3</td>\n",
       "      <td>4</td>\n",
       "      <td>opensourcedworkplace</td>\n",
       "      <td>sfad</td>\n",
       "      <td>340</td>\n",
       "      <td>#iot #cre#workplace #CDO #bigdata #technology#...</td>\n",
       "      <td>3 hours</td>\n",
       "      <td>49</td>\n",
       "      <td>#iot</td>\n",
       "      <td>3</td>\n",
       "      <td>20</td>\n",
       "    </tr>\n",
       "    <tr>\n",
       "      <th>4</th>\n",
       "      <td>4</td>\n",
       "      <td>5</td>\n",
       "      <td>crea.vision</td>\n",
       "      <td>Ever missed a call while your phone was chargi...</td>\n",
       "      <td>304</td>\n",
       "      <td>#instamachinelearning #instabigdata#instamarke...</td>\n",
       "      <td>3 hours</td>\n",
       "      <td>30</td>\n",
       "      <td>#instamachinelearning</td>\n",
       "      <td>3</td>\n",
       "      <td>18</td>\n",
       "    </tr>\n",
       "  </tbody>\n",
       "</table>\n",
       "</div>"
      ],
      "text/plain": [
       "   unnamed:_0  s.no              username  \\\n",
       "0           0     1         mikequindazzi   \n",
       "1           1     2       drgorillapaints   \n",
       "2           2     3    aitrading_official   \n",
       "3           3     4  opensourcedworkplace   \n",
       "4           4     5           crea.vision   \n",
       "\n",
       "                                             caption  followers  \\\n",
       "0  Who are #DataScientist and what do they do? >>...       1600   \n",
       "1  We all know where it’s going. We just have to ...        880   \n",
       "2  Alexander Barinov: 4 years as CFO in multinati...        255   \n",
       "3                                               sfad        340   \n",
       "4  Ever missed a call while your phone was chargi...        304   \n",
       "\n",
       "                                            hashtags time_since_posted  likes  \\\n",
       "0  #MachineLearning #AI #DataAnalytics #DataScien...          11 hours    139   \n",
       "1   #deck .#mac #macintosh#sayhello #apple #steve...           2 hours     23   \n",
       "2  #whoiswho #aitrading #ai #aitradingteam#instat...           2 hours     25   \n",
       "3  #iot #cre#workplace #CDO #bigdata #technology#...           3 hours     49   \n",
       "4  #instamachinelearning #instabigdata#instamarke...           3 hours     30   \n",
       "\n",
       "           single_hastag  time_since_posted_num  hashtag_count  \n",
       "0       #MachineLearning                     11              5  \n",
       "1                  #deck                      2             19  \n",
       "2              #whoiswho                      2             20  \n",
       "3                   #iot                      3             20  \n",
       "4  #instamachinelearning                      3             18  "
      ]
     },
     "execution_count": 71,
     "metadata": {},
     "output_type": "execute_result"
    }
   ],
   "source": [
    "data.head()"
   ]
  },
  {
   "cell_type": "code",
   "execution_count": 76,
   "metadata": {},
   "outputs": [
    {
     "data": {
      "text/plain": [
       "Index(['unnamed:_0', 's.no', 'username', 'caption', 'followers', 'hashtags',\n",
       "       'time_since_posted', 'likes', 'single_hastag', 'time_since_posted_num',\n",
       "       'hashtag_count'],\n",
       "      dtype='object')"
      ]
     },
     "execution_count": 76,
     "metadata": {},
     "output_type": "execute_result"
    }
   ],
   "source": [
    "data.columns"
   ]
  },
  {
   "cell_type": "code",
   "execution_count": 79,
   "metadata": {},
   "outputs": [],
   "source": [
    "X = data[[\"followers\", \"single_hastag\", \"hashtag_count\"]]\n",
    "y = data[[\"time_since_posted_num\", \"likes\"]]"
   ]
  },
  {
   "cell_type": "code",
   "execution_count": 80,
   "metadata": {},
   "outputs": [
    {
     "data": {
      "text/html": [
       "<div>\n",
       "<style scoped>\n",
       "    .dataframe tbody tr th:only-of-type {\n",
       "        vertical-align: middle;\n",
       "    }\n",
       "\n",
       "    .dataframe tbody tr th {\n",
       "        vertical-align: top;\n",
       "    }\n",
       "\n",
       "    .dataframe thead th {\n",
       "        text-align: right;\n",
       "    }\n",
       "</style>\n",
       "<table border=\"1\" class=\"dataframe\">\n",
       "  <thead>\n",
       "    <tr style=\"text-align: right;\">\n",
       "      <th></th>\n",
       "      <th>followers</th>\n",
       "      <th>single_hastag</th>\n",
       "      <th>hashtag_count</th>\n",
       "    </tr>\n",
       "  </thead>\n",
       "  <tbody>\n",
       "    <tr>\n",
       "      <th>0</th>\n",
       "      <td>1600</td>\n",
       "      <td>#MachineLearning</td>\n",
       "      <td>5</td>\n",
       "    </tr>\n",
       "    <tr>\n",
       "      <th>1</th>\n",
       "      <td>880</td>\n",
       "      <td>#deck</td>\n",
       "      <td>19</td>\n",
       "    </tr>\n",
       "    <tr>\n",
       "      <th>2</th>\n",
       "      <td>255</td>\n",
       "      <td>#whoiswho</td>\n",
       "      <td>20</td>\n",
       "    </tr>\n",
       "    <tr>\n",
       "      <th>3</th>\n",
       "      <td>340</td>\n",
       "      <td>#iot</td>\n",
       "      <td>20</td>\n",
       "    </tr>\n",
       "    <tr>\n",
       "      <th>4</th>\n",
       "      <td>304</td>\n",
       "      <td>#instamachinelearning</td>\n",
       "      <td>18</td>\n",
       "    </tr>\n",
       "    <tr>\n",
       "      <th>...</th>\n",
       "      <td>...</td>\n",
       "      <td>...</td>\n",
       "      <td>...</td>\n",
       "    </tr>\n",
       "    <tr>\n",
       "      <th>95</th>\n",
       "      <td>614</td>\n",
       "      <td>#beverlyhills</td>\n",
       "      <td>10</td>\n",
       "    </tr>\n",
       "    <tr>\n",
       "      <th>96</th>\n",
       "      <td>450</td>\n",
       "      <td>#workspace</td>\n",
       "      <td>21</td>\n",
       "    </tr>\n",
       "    <tr>\n",
       "      <th>97</th>\n",
       "      <td>182</td>\n",
       "      <td>#books</td>\n",
       "      <td>22</td>\n",
       "    </tr>\n",
       "    <tr>\n",
       "      <th>98</th>\n",
       "      <td>2039</td>\n",
       "      <td>#heavyequipment</td>\n",
       "      <td>21</td>\n",
       "    </tr>\n",
       "    <tr>\n",
       "      <th>99</th>\n",
       "      <td>741</td>\n",
       "      <td>#marketing</td>\n",
       "      <td>22</td>\n",
       "    </tr>\n",
       "  </tbody>\n",
       "</table>\n",
       "<p>100 rows × 3 columns</p>\n",
       "</div>"
      ],
      "text/plain": [
       "    followers          single_hastag  hashtag_count\n",
       "0        1600       #MachineLearning              5\n",
       "1         880                  #deck             19\n",
       "2         255              #whoiswho             20\n",
       "3         340                   #iot             20\n",
       "4         304  #instamachinelearning             18\n",
       "..        ...                    ...            ...\n",
       "95        614          #beverlyhills             10\n",
       "96        450             #workspace             21\n",
       "97        182                 #books             22\n",
       "98       2039        #heavyequipment             21\n",
       "99        741             #marketing             22\n",
       "\n",
       "[100 rows x 3 columns]"
      ]
     },
     "execution_count": 80,
     "metadata": {},
     "output_type": "execute_result"
    }
   ],
   "source": [
    "X"
   ]
  },
  {
   "cell_type": "code",
   "execution_count": 81,
   "metadata": {},
   "outputs": [
    {
     "data": {
      "text/html": [
       "<div>\n",
       "<style scoped>\n",
       "    .dataframe tbody tr th:only-of-type {\n",
       "        vertical-align: middle;\n",
       "    }\n",
       "\n",
       "    .dataframe tbody tr th {\n",
       "        vertical-align: top;\n",
       "    }\n",
       "\n",
       "    .dataframe thead th {\n",
       "        text-align: right;\n",
       "    }\n",
       "</style>\n",
       "<table border=\"1\" class=\"dataframe\">\n",
       "  <thead>\n",
       "    <tr style=\"text-align: right;\">\n",
       "      <th></th>\n",
       "      <th>time_since_posted_num</th>\n",
       "      <th>likes</th>\n",
       "    </tr>\n",
       "  </thead>\n",
       "  <tbody>\n",
       "    <tr>\n",
       "      <th>0</th>\n",
       "      <td>11</td>\n",
       "      <td>139</td>\n",
       "    </tr>\n",
       "    <tr>\n",
       "      <th>1</th>\n",
       "      <td>2</td>\n",
       "      <td>23</td>\n",
       "    </tr>\n",
       "    <tr>\n",
       "      <th>2</th>\n",
       "      <td>2</td>\n",
       "      <td>25</td>\n",
       "    </tr>\n",
       "    <tr>\n",
       "      <th>3</th>\n",
       "      <td>3</td>\n",
       "      <td>49</td>\n",
       "    </tr>\n",
       "    <tr>\n",
       "      <th>4</th>\n",
       "      <td>3</td>\n",
       "      <td>30</td>\n",
       "    </tr>\n",
       "    <tr>\n",
       "      <th>...</th>\n",
       "      <td>...</td>\n",
       "      <td>...</td>\n",
       "    </tr>\n",
       "    <tr>\n",
       "      <th>95</th>\n",
       "      <td>3</td>\n",
       "      <td>31</td>\n",
       "    </tr>\n",
       "    <tr>\n",
       "      <th>96</th>\n",
       "      <td>3</td>\n",
       "      <td>42</td>\n",
       "    </tr>\n",
       "    <tr>\n",
       "      <th>97</th>\n",
       "      <td>3</td>\n",
       "      <td>10</td>\n",
       "    </tr>\n",
       "    <tr>\n",
       "      <th>98</th>\n",
       "      <td>3</td>\n",
       "      <td>222</td>\n",
       "    </tr>\n",
       "    <tr>\n",
       "      <th>99</th>\n",
       "      <td>3</td>\n",
       "      <td>109</td>\n",
       "    </tr>\n",
       "  </tbody>\n",
       "</table>\n",
       "<p>100 rows × 2 columns</p>\n",
       "</div>"
      ],
      "text/plain": [
       "    time_since_posted_num  likes\n",
       "0                      11    139\n",
       "1                       2     23\n",
       "2                       2     25\n",
       "3                       3     49\n",
       "4                       3     30\n",
       "..                    ...    ...\n",
       "95                      3     31\n",
       "96                      3     42\n",
       "97                      3     10\n",
       "98                      3    222\n",
       "99                      3    109\n",
       "\n",
       "[100 rows x 2 columns]"
      ]
     },
     "execution_count": 81,
     "metadata": {},
     "output_type": "execute_result"
    }
   ],
   "source": [
    "y"
   ]
  },
  {
   "cell_type": "code",
   "execution_count": 82,
   "metadata": {},
   "outputs": [],
   "source": [
    "from sklearn.model_selection import train_test_split "
   ]
  },
  {
   "cell_type": "code",
   "execution_count": 83,
   "metadata": {},
   "outputs": [
    {
     "data": {
      "text/plain": [
       "((90, 3), (10, 3), (90, 2), (10, 2))"
      ]
     },
     "execution_count": 83,
     "metadata": {},
     "output_type": "execute_result"
    }
   ],
   "source": [
    "X_train, X_test, y_train, y_test = train_test_split(X,y,test_size=0.1,random_state=42)\n",
    "X_train.shape, X_test.shape, y_train.shape, y_test.shape"
   ]
  },
  {
   "cell_type": "code",
   "execution_count": 84,
   "metadata": {},
   "outputs": [],
   "source": [
    "from sklearn.preprocessing import TargetEncoder , StandardScaler \n",
    "from sklearn.pipeline import Pipeline \n",
    "from sklearn.compose import ColumnTransformer "
   ]
  },
  {
   "cell_type": "code",
   "execution_count": 98,
   "metadata": {},
   "outputs": [
    {
     "data": {
      "text/html": [
       "<div>\n",
       "<style scoped>\n",
       "    .dataframe tbody tr th:only-of-type {\n",
       "        vertical-align: middle;\n",
       "    }\n",
       "\n",
       "    .dataframe tbody tr th {\n",
       "        vertical-align: top;\n",
       "    }\n",
       "\n",
       "    .dataframe thead th {\n",
       "        text-align: right;\n",
       "    }\n",
       "</style>\n",
       "<table border=\"1\" class=\"dataframe\">\n",
       "  <thead>\n",
       "    <tr style=\"text-align: right;\">\n",
       "      <th></th>\n",
       "      <th>time_since_posted_num</th>\n",
       "      <th>likes</th>\n",
       "    </tr>\n",
       "  </thead>\n",
       "  <tbody>\n",
       "    <tr>\n",
       "      <th>18</th>\n",
       "      <td>4</td>\n",
       "      <td>30</td>\n",
       "    </tr>\n",
       "    <tr>\n",
       "      <th>30</th>\n",
       "      <td>2</td>\n",
       "      <td>90</td>\n",
       "    </tr>\n",
       "    <tr>\n",
       "      <th>73</th>\n",
       "      <td>2</td>\n",
       "      <td>10</td>\n",
       "    </tr>\n",
       "    <tr>\n",
       "      <th>33</th>\n",
       "      <td>2</td>\n",
       "      <td>30</td>\n",
       "    </tr>\n",
       "    <tr>\n",
       "      <th>90</th>\n",
       "      <td>2</td>\n",
       "      <td>32</td>\n",
       "    </tr>\n",
       "    <tr>\n",
       "      <th>...</th>\n",
       "      <td>...</td>\n",
       "      <td>...</td>\n",
       "    </tr>\n",
       "    <tr>\n",
       "      <th>60</th>\n",
       "      <td>2</td>\n",
       "      <td>16</td>\n",
       "    </tr>\n",
       "    <tr>\n",
       "      <th>71</th>\n",
       "      <td>2</td>\n",
       "      <td>50</td>\n",
       "    </tr>\n",
       "    <tr>\n",
       "      <th>14</th>\n",
       "      <td>3</td>\n",
       "      <td>28</td>\n",
       "    </tr>\n",
       "    <tr>\n",
       "      <th>92</th>\n",
       "      <td>2</td>\n",
       "      <td>12</td>\n",
       "    </tr>\n",
       "    <tr>\n",
       "      <th>51</th>\n",
       "      <td>4</td>\n",
       "      <td>157</td>\n",
       "    </tr>\n",
       "  </tbody>\n",
       "</table>\n",
       "<p>90 rows × 2 columns</p>\n",
       "</div>"
      ],
      "text/plain": [
       "    time_since_posted_num  likes\n",
       "18                      4     30\n",
       "30                      2     90\n",
       "73                      2     10\n",
       "33                      2     30\n",
       "90                      2     32\n",
       "..                    ...    ...\n",
       "60                      2     16\n",
       "71                      2     50\n",
       "14                      3     28\n",
       "92                      2     12\n",
       "51                      4    157\n",
       "\n",
       "[90 rows x 2 columns]"
      ]
     },
     "execution_count": 98,
     "metadata": {},
     "output_type": "execute_result"
    }
   ],
   "source": [
    "y_train"
   ]
  },
  {
   "cell_type": "markdown",
   "metadata": {},
   "source": [
    "## Putting it all together "
   ]
  },
  {
   "cell_type": "code",
   "execution_count": 99,
   "metadata": {},
   "outputs": [],
   "source": [
    "cat_features = [\"single_hastag\"]\n",
    "cat_imputer = Pipeline(steps=[\n",
    "    (\"cat_features\", TargetEncoder(smooth=20,cv=3,target_type=\"continuous\")),\n",
    "    (\"scaling\", StandardScaler())\n",
    "])\n",
    "\n",
    "scaling_features = [\"followers\",\"hashtag_count\"]\n",
    "scaling_imputer = Pipeline(steps=[\n",
    "    (\"scaling_featuers\", StandardScaler())\n",
    "])\n",
    "\n",
    "CT = ColumnTransformer(transformers=[\n",
    "    (\"target_enc\", cat_imputer,cat_features),\n",
    "    (\"scaling\", scaling_imputer,scaling_features)\n",
    "],remainder=\"passthrough\")\n",
    "\n",
    "preprocessor = Pipeline(steps=[(\"CT\", CT)])\n",
    "\n",
    "transformed_train_data = preprocessor.fit_transform(X_train,y_train[\"likes\"])\n",
    "transformed_teste_data = preprocessor.transform(X_test)\n",
    "\n"
   ]
  },
  {
   "cell_type": "code",
   "execution_count": 100,
   "metadata": {},
   "outputs": [
    {
     "data": {
      "text/plain": [
       "array([[-5.46847631e-01, -8.93228819e-01,  1.10937677e-01],\n",
       "       [ 1.41365969e+00, -1.66511286e-01, -1.06369655e+00],\n",
       "       [-5.46847631e-01,  1.32359744e+00, -9.16867272e-01],\n",
       "       [-8.32549703e-01, -3.76902285e-01,  1.13874263e+00],\n",
       "       [-8.32549703e-01, -1.32732915e-01,  1.72605974e+00],\n",
       "       [-8.32549703e-01, -6.72221760e-01,  5.51425512e-01],\n",
       "       [ 1.41365969e+00, -7.90928608e-01, -3.58916014e-02],\n",
       "       [-8.32549703e-01, -3.56635262e-01,  6.98254791e-01],\n",
       "       [-5.46847631e-01,  5.83561578e-02,  8.45084069e-01],\n",
       "       [-8.32549703e-01, -9.54029887e-01,  1.10937677e-01],\n",
       "       [-8.32549703e-01,  2.36204109e+00, -6.23208715e-01],\n",
       "       [-5.46847631e-01,  1.51970501e-01, -1.06369655e+00],\n",
       "       [-5.46847631e-01, -7.09860517e-01,  1.72605974e+00],\n",
       "       [-8.32549703e-01, -7.02139746e-01, -1.94467222e+00],\n",
       "       [-8.32549703e-01,  2.38057094e-03,  1.28557190e+00],\n",
       "       [-8.32549703e-01, -2.85025115e-02, -1.50418439e+00],\n",
       "       [ 1.41365969e+00, -7.16616191e-01, -1.82720880e-01],\n",
       "       [-8.32549703e-01, -5.31317697e-01,  9.91913347e-01],\n",
       "       [-8.32549703e-01, -5.31317697e-01,  2.57766955e-01],\n",
       "       [-5.46847631e-01, -4.39440527e-02, -1.21052583e+00],\n",
       "       [ 1.41365969e+00,  1.18848395e+00, -3.29550158e-01],\n",
       "       [-8.32549703e-01,  2.06382632e+00, -1.82720880e-01],\n",
       "       [ 1.41365969e+00,  1.40370043e+00, -1.65101366e+00],\n",
       "       [-8.81808681e-01, -6.96349168e-01,  9.91913347e-01],\n",
       "       [ 1.41365969e+00, -7.92858801e-01,  1.13874263e+00],\n",
       "       [-5.46847631e-01,  2.22422533e-01,  1.28557190e+00],\n",
       "       [-8.32549703e-01, -8.19881498e-01,  5.51425512e-01],\n",
       "       [-8.32549703e-01,  9.78092956e-01,  6.98254791e-01],\n",
       "       [ 1.41365969e+00,  1.61621465e-01, -1.65101366e+00],\n",
       "       [ 1.41365969e+00, -6.90558590e-01, -3.58916014e-02],\n",
       "       [-8.32549703e-01, -6.32459792e-02, -1.06369655e+00],\n",
       "       [-5.46847631e-01, -7.47499274e-01, -1.06369655e+00],\n",
       "       [-5.46847631e-01,  4.17371991e-01, -1.82720880e-01],\n",
       "       [-5.46847631e-01, -3.73041900e-01, -6.23208715e-01],\n",
       "       [-5.46847631e-01,  5.95914811e-01,  4.04596234e-01],\n",
       "       [ 1.41365969e+00,  1.63146317e+00,  8.45084069e-01],\n",
       "       [ 1.41365969e+00, -1.08605506e-01,  4.04596234e-01],\n",
       "       [-8.32549703e-01,  2.03120607e-01,  4.04596234e-01],\n",
       "       [ 1.41365969e+00, -4.08750464e-01, -9.16867272e-01],\n",
       "       [-8.32549703e-01, -4.51214702e-01,  1.10937677e-01],\n",
       "       [-8.32549703e-01, -8.05405053e-01, -7.70037993e-01],\n",
       "       [-5.46847631e-01, -6.37478293e-01,  8.45084069e-01],\n",
       "       [ 1.41365969e+00, -4.63760954e-01, -1.35735511e+00],\n",
       "       [ 1.06978511e+00, -7.79347452e-01, -6.23208715e-01],\n",
       "       [ 1.41365969e+00, -9.53064791e-01, -3.29550158e-01],\n",
       "       [ 1.41365969e+00, -7.28197347e-01,  8.45084069e-01],\n",
       "       [-5.46847631e-01, -7.15651095e-01, -1.50418439e+00],\n",
       "       [ 1.41365969e+00, -8.79717470e-01,  6.98254791e-01],\n",
       "       [-9.94400630e-01, -1.59755612e-01, -1.79784294e+00],\n",
       "       [ 1.41365969e+00,  1.88644162e-01, -4.76379437e-01],\n",
       "       [-7.87982056e-01, -4.54109991e-01,  1.28557190e+00],\n",
       "       [-8.32549703e-01, -2.50474666e-01,  1.13874263e+00],\n",
       "       [ 1.41365969e+00,  1.72218222e+00,  1.13874263e+00],\n",
       "       [-5.46847631e-01, -8.35130020e-02,  6.98254791e-01],\n",
       "       [ 1.78286746e+00,  7.38749067e-01,  6.98254791e-01],\n",
       "       [ 1.41365969e+00,  1.13347346e+00,  9.91913347e-01],\n",
       "       [ 1.00410647e+00,  1.73202620e-01, -1.35735511e+00],\n",
       "       [ 1.41365969e+00, -6.07560307e-01, -1.65101366e+00],\n",
       "       [-7.31686081e-01, -9.54994984e-01, -7.70037993e-01],\n",
       "       [-5.46847631e-01, -7.89963512e-01,  1.13874263e+00],\n",
       "       [-5.46847631e-01, -5.21666734e-01,  1.43240118e+00],\n",
       "       [-5.46847631e-01, -8.64275929e-01, -1.79784294e+00],\n",
       "       [ 1.41365969e+00, -7.96526167e-02, -1.21052583e+00],\n",
       "       [-8.32549703e-01,  2.62937277e+00,  8.45084069e-01],\n",
       "       [-5.46847631e-01,  1.00222036e+00,  9.91913347e-01],\n",
       "       [ 1.41365969e+00,  2.07154709e+00,  8.45084069e-01],\n",
       "       [-5.46847631e-01,  1.51758180e+00, -1.82720880e-01],\n",
       "       [-8.32549703e-01, -1.02814928e-01,  1.10937677e-01],\n",
       "       [-5.46847631e-01, -9.18321323e-01, -1.06369655e+00],\n",
       "       [-8.32549703e-01,  3.37346203e+00, -7.70037993e-01],\n",
       "       [ 1.41365969e+00, -9.01914686e-01, -6.23208715e-01],\n",
       "       [-5.46847631e-01, -6.17211270e-01,  6.98254791e-01],\n",
       "       [-5.46847631e-01, -8.45939099e-01,  9.91913347e-01],\n",
       "       [-5.53415495e-01, -6.96349168e-01,  9.91913347e-01],\n",
       "       [ 1.41365969e+00, -1.16326277e-01,  6.98254791e-01],\n",
       "       [-8.32549703e-01, -6.29757522e-01,  6.98254791e-01],\n",
       "       [-5.46847631e-01, -6.43268871e-01,  1.57923046e+00],\n",
       "       [-5.46847631e-01, -7.19511480e-01,  8.45084069e-01],\n",
       "       [-8.32549703e-01,  3.37346203e+00, -7.70037993e-01],\n",
       "       [ 1.41365969e+00, -7.12755806e-01, -7.70037993e-01],\n",
       "       [-5.46847631e-01, -2.85025115e-02,  8.45084069e-01],\n",
       "       [ 1.41365969e+00, -2.51439763e-01,  8.45084069e-01],\n",
       "       [-8.32549703e-01, -6.17211270e-01,  8.45084069e-01],\n",
       "       [-8.32549703e-01, -1.50104648e-01, -6.23208715e-01],\n",
       "       [-8.32549703e-01, -3.33279931e-02, -1.06369655e+00],\n",
       "       [-5.46847631e-01, -8.25672076e-01, -1.06369655e+00],\n",
       "       [-8.32549703e-01, -5.95979151e-01,  8.45084069e-01],\n",
       "       [ 1.41365969e+00,  1.83702868e+00, -3.58916014e-02],\n",
       "       [-5.46847631e-01, -8.63310833e-01, -1.50418439e+00],\n",
       "       [ 1.41365969e+00,  1.23191329e+00, -1.50418439e+00]])"
      ]
     },
     "execution_count": 100,
     "metadata": {},
     "output_type": "execute_result"
    }
   ],
   "source": [
    "transformed_train_data"
   ]
  },
  {
   "cell_type": "code",
   "execution_count": 101,
   "metadata": {},
   "outputs": [
    {
     "data": {
      "text/plain": [
       "array([[ 0.01142079, -0.87778728,  0.40459623],\n",
       "       [-0.51759078, -0.88164766, -0.18272088],\n",
       "       [ 0.01142079,  0.19250455, -0.91686727],\n",
       "       [ 0.01142079, -0.84786929, -1.06369655],\n",
       "       [ 0.01142079, -0.85172968, -1.06369655],\n",
       "       [ 0.01142079,  0.57854308, -1.65101366],\n",
       "       [ 0.01142079,  0.03905423, -1.65101366],\n",
       "       [ 0.01142079, -0.83049756,  0.84508407],\n",
       "       [ 2.96181939, -0.82181169, -1.21052583],\n",
       "       [ 0.01142079,  0.57854308, -1.35735511]])"
      ]
     },
     "execution_count": 101,
     "metadata": {},
     "output_type": "execute_result"
    }
   ],
   "source": [
    "transformed_teste_data"
   ]
  },
  {
   "cell_type": "code",
   "execution_count": 151,
   "metadata": {},
   "outputs": [],
   "source": [
    "from sklearn.linear_model import LinearRegression,Ridge,Lasso,ElasticNet\n",
    "from sklearn.ensemble import RandomForestRegressor\n",
    "from sklearn.tree import DecisionTreeRegressor\n",
    "from sklearn.metrics import r2_score,mean_absolute_error, mean_squared_error\n",
    "from sklearn.model_selection import GridSearchCV"
   ]
  },
  {
   "cell_type": "code",
   "execution_count": 130,
   "metadata": {},
   "outputs": [],
   "source": [
    "def evaluate_model(model,true, predict):\n",
    "    d = {}\n",
    "    r2=r2_score(true, predict)\n",
    "    mae=mean_absolute_error(true,predict)\n",
    "    mse=mean_squared_error(true,predict)\n",
    "    rmse = np.sqrt(mse)\n",
    "\n",
    "   \n",
    "    d[model] = rmse\n",
    "    return d"
   ]
  },
  {
   "cell_type": "code",
   "execution_count": 158,
   "metadata": {},
   "outputs": [],
   "source": [
    "models={\n",
    "\n",
    "    'LinearRegression':LinearRegression(),\n",
    "    'Lasso':Lasso(),\n",
    "    'Elasticnet':ElasticNet(),\n",
    "    'RandomForestRegressor':RandomForestRegressor()\n",
    "\n",
    "}"
   ]
  },
  {
   "cell_type": "code",
   "execution_count": 161,
   "metadata": {},
   "outputs": [],
   "source": [
    "\n",
    "params = {\"LinearRegression\" : {} ,\n",
    "          \"Lasso\" : {}, \n",
    "          \"Elasticnet\" : {},\n",
    "    \"RandomForestRegressor\" : {\"n_estimators\" : np.arange(100,510,100),\n",
    "                                        \"max_features\" : [None]},\n",
    "                                        }"
   ]
  },
  {
   "cell_type": "code",
   "execution_count": 162,
   "metadata": {},
   "outputs": [
    {
     "name": "stdout",
     "output_type": "stream",
     "text": [
      "{'LinearRegression': 28.04251901262682}\n",
      "========================================\n",
      "\n",
      "\n",
      "{'Lasso': 28.396165834452464}\n",
      "========================================\n",
      "\n",
      "\n",
      "{'Elasticnet': 29.4005817453588}\n",
      "========================================\n",
      "\n",
      "\n",
      "{'RandomForestRegressor': 24.70993373119402}\n",
      "========================================\n",
      "\n",
      "\n"
     ]
    }
   ],
   "source": [
    "for i in range(len(models)):\n",
    "    model=list(models.values())[i]\n",
    "    model_name = list(models.keys())[i]\n",
    "    \n",
    "    param = params[list(models.keys())[i]]\n",
    "    \"\"\"we will get the keys from classification_models and as the keys of params are \n",
    "        same, we will access the values of params using classification_models keys\"\"\"\n",
    "\n",
    "    gs_model = GridSearchCV(model,\n",
    "                            param,\n",
    "                            cv = 3)\n",
    "    \n",
    "    gs_model.fit(transformed_train_data,y_train)\n",
    "        \n",
    "    model.set_params(**gs_model.best_params_)\n",
    "    \"\"\"gs_model.best_params_ will give us best parameters from the parameters (params) we provide \"\"\"\n",
    "    \n",
    "    model.fit(transformed_train_data,y_train)\n",
    "\n",
    "    #make_prediction\n",
    "    y_pred=model.predict(transformed_teste_data)\n",
    "\n",
    "    #this is for the validaiton\n",
    "    result=evaluate_model(model_name,y_test,y_pred)\n",
    "\n",
    "\n",
    "    print(result)\n",
    "    \n",
    "\n",
    "    print(\"=\"*40)\n",
    "    print(\"\\n\")"
   ]
  },
  {
   "cell_type": "code",
   "execution_count": 163,
   "metadata": {},
   "outputs": [
    {
     "data": {
      "text/plain": [
       "dict_values([24.70993373119402])"
      ]
     },
     "execution_count": 163,
     "metadata": {},
     "output_type": "execute_result"
    }
   ],
   "source": [
    "result.values()"
   ]
  },
  {
   "cell_type": "code",
   "execution_count": 164,
   "metadata": {},
   "outputs": [
    {
     "data": {
      "text/plain": [
       "'RandomForestRegressor'"
      ]
     },
     "execution_count": 164,
     "metadata": {},
     "output_type": "execute_result"
    }
   ],
   "source": [
    "best_model = \"\"\n",
    "for key in result:\n",
    "    if result[key] == max(result.values()):\n",
    "        best_model += key\n",
    "\n",
    "best_model"
   ]
  },
  {
   "cell_type": "markdown",
   "metadata": {},
   "source": [
    "# Observation - RandomForest has highest r2_score and lowest root mean squared error"
   ]
  },
  {
   "cell_type": "code",
   "execution_count": 165,
   "metadata": {},
   "outputs": [
    {
     "name": "stdout",
     "output_type": "stream",
     "text": [
      "RandomForestRegressor(max_features=None)\n"
     ]
    }
   ],
   "source": [
    "for i in models:\n",
    "    if i == best_model:\n",
    "        model = models[i]\n",
    "        print(model)"
   ]
  },
  {
   "cell_type": "code",
   "execution_count": 166,
   "metadata": {},
   "outputs": [
    {
     "data": {
      "text/html": [
       "<style>#sk-container-id-4 {color: black;}#sk-container-id-4 pre{padding: 0;}#sk-container-id-4 div.sk-toggleable {background-color: white;}#sk-container-id-4 label.sk-toggleable__label {cursor: pointer;display: block;width: 100%;margin-bottom: 0;padding: 0.3em;box-sizing: border-box;text-align: center;}#sk-container-id-4 label.sk-toggleable__label-arrow:before {content: \"▸\";float: left;margin-right: 0.25em;color: #696969;}#sk-container-id-4 label.sk-toggleable__label-arrow:hover:before {color: black;}#sk-container-id-4 div.sk-estimator:hover label.sk-toggleable__label-arrow:before {color: black;}#sk-container-id-4 div.sk-toggleable__content {max-height: 0;max-width: 0;overflow: hidden;text-align: left;background-color: #f0f8ff;}#sk-container-id-4 div.sk-toggleable__content pre {margin: 0.2em;color: black;border-radius: 0.25em;background-color: #f0f8ff;}#sk-container-id-4 input.sk-toggleable__control:checked~div.sk-toggleable__content {max-height: 200px;max-width: 100%;overflow: auto;}#sk-container-id-4 input.sk-toggleable__control:checked~label.sk-toggleable__label-arrow:before {content: \"▾\";}#sk-container-id-4 div.sk-estimator input.sk-toggleable__control:checked~label.sk-toggleable__label {background-color: #d4ebff;}#sk-container-id-4 div.sk-label input.sk-toggleable__control:checked~label.sk-toggleable__label {background-color: #d4ebff;}#sk-container-id-4 input.sk-hidden--visually {border: 0;clip: rect(1px 1px 1px 1px);clip: rect(1px, 1px, 1px, 1px);height: 1px;margin: -1px;overflow: hidden;padding: 0;position: absolute;width: 1px;}#sk-container-id-4 div.sk-estimator {font-family: monospace;background-color: #f0f8ff;border: 1px dotted black;border-radius: 0.25em;box-sizing: border-box;margin-bottom: 0.5em;}#sk-container-id-4 div.sk-estimator:hover {background-color: #d4ebff;}#sk-container-id-4 div.sk-parallel-item::after {content: \"\";width: 100%;border-bottom: 1px solid gray;flex-grow: 1;}#sk-container-id-4 div.sk-label:hover label.sk-toggleable__label {background-color: #d4ebff;}#sk-container-id-4 div.sk-serial::before {content: \"\";position: absolute;border-left: 1px solid gray;box-sizing: border-box;top: 0;bottom: 0;left: 50%;z-index: 0;}#sk-container-id-4 div.sk-serial {display: flex;flex-direction: column;align-items: center;background-color: white;padding-right: 0.2em;padding-left: 0.2em;position: relative;}#sk-container-id-4 div.sk-item {position: relative;z-index: 1;}#sk-container-id-4 div.sk-parallel {display: flex;align-items: stretch;justify-content: center;background-color: white;position: relative;}#sk-container-id-4 div.sk-item::before, #sk-container-id-4 div.sk-parallel-item::before {content: \"\";position: absolute;border-left: 1px solid gray;box-sizing: border-box;top: 0;bottom: 0;left: 50%;z-index: -1;}#sk-container-id-4 div.sk-parallel-item {display: flex;flex-direction: column;z-index: 1;position: relative;background-color: white;}#sk-container-id-4 div.sk-parallel-item:first-child::after {align-self: flex-end;width: 50%;}#sk-container-id-4 div.sk-parallel-item:last-child::after {align-self: flex-start;width: 50%;}#sk-container-id-4 div.sk-parallel-item:only-child::after {width: 0;}#sk-container-id-4 div.sk-dashed-wrapped {border: 1px dashed gray;margin: 0 0.4em 0.5em 0.4em;box-sizing: border-box;padding-bottom: 0.4em;background-color: white;}#sk-container-id-4 div.sk-label label {font-family: monospace;font-weight: bold;display: inline-block;line-height: 1.2em;}#sk-container-id-4 div.sk-label-container {text-align: center;}#sk-container-id-4 div.sk-container {/* jupyter's `normalize.less` sets `[hidden] { display: none; }` but bootstrap.min.css set `[hidden] { display: none !important; }` so we also need the `!important` here to be able to override the default hidden behavior on the sphinx rendered scikit-learn.org. See: https://github.com/scikit-learn/scikit-learn/issues/21755 */display: inline-block !important;position: relative;}#sk-container-id-4 div.sk-text-repr-fallback {display: none;}</style><div id=\"sk-container-id-4\" class=\"sk-top-container\"><div class=\"sk-text-repr-fallback\"><pre>RandomForestRegressor(max_features=None)</pre><b>In a Jupyter environment, please rerun this cell to show the HTML representation or trust the notebook. <br />On GitHub, the HTML representation is unable to render, please try loading this page with nbviewer.org.</b></div><div class=\"sk-container\" hidden><div class=\"sk-item\"><div class=\"sk-estimator sk-toggleable\"><input class=\"sk-toggleable__control sk-hidden--visually\" id=\"sk-estimator-id-4\" type=\"checkbox\" checked><label for=\"sk-estimator-id-4\" class=\"sk-toggleable__label sk-toggleable__label-arrow\">RandomForestRegressor</label><div class=\"sk-toggleable__content\"><pre>RandomForestRegressor(max_features=None)</pre></div></div></div></div></div>"
      ],
      "text/plain": [
       "RandomForestRegressor(max_features=None)"
      ]
     },
     "execution_count": 166,
     "metadata": {},
     "output_type": "execute_result"
    }
   ],
   "source": [
    "model.fit(transformed_train_data,y_train)"
   ]
  },
  {
   "cell_type": "code",
   "execution_count": 167,
   "metadata": {},
   "outputs": [
    {
     "data": {
      "text/plain": [
       "0.7846894846606303"
      ]
     },
     "execution_count": 167,
     "metadata": {},
     "output_type": "execute_result"
    }
   ],
   "source": [
    "model.score(transformed_train_data,y_train)"
   ]
  },
  {
   "cell_type": "code",
   "execution_count": 168,
   "metadata": {},
   "outputs": [
    {
     "data": {
      "text/plain": [
       "0.590805652799819"
      ]
     },
     "execution_count": 168,
     "metadata": {},
     "output_type": "execute_result"
    }
   ],
   "source": [
    "model.score(transformed_teste_data,y_test)\n"
   ]
  },
  {
   "cell_type": "markdown",
   "metadata": {},
   "source": [
    "# Bengaluru House price data"
   ]
  },
  {
   "cell_type": "code",
   "execution_count": 170,
   "metadata": {},
   "outputs": [
    {
     "data": {
      "text/plain": [
       "(13320, 9)"
      ]
     },
     "execution_count": 170,
     "metadata": {},
     "output_type": "execute_result"
    }
   ],
   "source": [
    "data_bang = pd.read_csv(r\"C:\\Users\\solat\\Downloads\\archive (8)\\Bengaluru_House_Data.csv\")\n",
    "data_bang.shape"
   ]
  },
  {
   "cell_type": "code",
   "execution_count": 171,
   "metadata": {},
   "outputs": [
    {
     "data": {
      "text/html": [
       "<div>\n",
       "<style scoped>\n",
       "    .dataframe tbody tr th:only-of-type {\n",
       "        vertical-align: middle;\n",
       "    }\n",
       "\n",
       "    .dataframe tbody tr th {\n",
       "        vertical-align: top;\n",
       "    }\n",
       "\n",
       "    .dataframe thead th {\n",
       "        text-align: right;\n",
       "    }\n",
       "</style>\n",
       "<table border=\"1\" class=\"dataframe\">\n",
       "  <thead>\n",
       "    <tr style=\"text-align: right;\">\n",
       "      <th></th>\n",
       "      <th>area_type</th>\n",
       "      <th>availability</th>\n",
       "      <th>location</th>\n",
       "      <th>size</th>\n",
       "      <th>society</th>\n",
       "      <th>total_sqft</th>\n",
       "      <th>bath</th>\n",
       "      <th>balcony</th>\n",
       "      <th>price</th>\n",
       "    </tr>\n",
       "  </thead>\n",
       "  <tbody>\n",
       "    <tr>\n",
       "      <th>0</th>\n",
       "      <td>Super built-up  Area</td>\n",
       "      <td>19-Dec</td>\n",
       "      <td>Electronic City Phase II</td>\n",
       "      <td>2 BHK</td>\n",
       "      <td>Coomee</td>\n",
       "      <td>1056</td>\n",
       "      <td>2.0</td>\n",
       "      <td>1.0</td>\n",
       "      <td>39.07</td>\n",
       "    </tr>\n",
       "    <tr>\n",
       "      <th>1</th>\n",
       "      <td>Plot  Area</td>\n",
       "      <td>Ready To Move</td>\n",
       "      <td>Chikka Tirupathi</td>\n",
       "      <td>4 Bedroom</td>\n",
       "      <td>Theanmp</td>\n",
       "      <td>2600</td>\n",
       "      <td>5.0</td>\n",
       "      <td>3.0</td>\n",
       "      <td>120.00</td>\n",
       "    </tr>\n",
       "    <tr>\n",
       "      <th>2</th>\n",
       "      <td>Built-up  Area</td>\n",
       "      <td>Ready To Move</td>\n",
       "      <td>Uttarahalli</td>\n",
       "      <td>3 BHK</td>\n",
       "      <td>NaN</td>\n",
       "      <td>1440</td>\n",
       "      <td>2.0</td>\n",
       "      <td>3.0</td>\n",
       "      <td>62.00</td>\n",
       "    </tr>\n",
       "    <tr>\n",
       "      <th>3</th>\n",
       "      <td>Super built-up  Area</td>\n",
       "      <td>Ready To Move</td>\n",
       "      <td>Lingadheeranahalli</td>\n",
       "      <td>3 BHK</td>\n",
       "      <td>Soiewre</td>\n",
       "      <td>1521</td>\n",
       "      <td>3.0</td>\n",
       "      <td>1.0</td>\n",
       "      <td>95.00</td>\n",
       "    </tr>\n",
       "    <tr>\n",
       "      <th>4</th>\n",
       "      <td>Super built-up  Area</td>\n",
       "      <td>Ready To Move</td>\n",
       "      <td>Kothanur</td>\n",
       "      <td>2 BHK</td>\n",
       "      <td>NaN</td>\n",
       "      <td>1200</td>\n",
       "      <td>2.0</td>\n",
       "      <td>1.0</td>\n",
       "      <td>51.00</td>\n",
       "    </tr>\n",
       "  </tbody>\n",
       "</table>\n",
       "</div>"
      ],
      "text/plain": [
       "              area_type   availability                  location       size  \\\n",
       "0  Super built-up  Area         19-Dec  Electronic City Phase II      2 BHK   \n",
       "1            Plot  Area  Ready To Move          Chikka Tirupathi  4 Bedroom   \n",
       "2        Built-up  Area  Ready To Move               Uttarahalli      3 BHK   \n",
       "3  Super built-up  Area  Ready To Move        Lingadheeranahalli      3 BHK   \n",
       "4  Super built-up  Area  Ready To Move                  Kothanur      2 BHK   \n",
       "\n",
       "   society total_sqft  bath  balcony   price  \n",
       "0  Coomee        1056   2.0      1.0   39.07  \n",
       "1  Theanmp       2600   5.0      3.0  120.00  \n",
       "2      NaN       1440   2.0      3.0   62.00  \n",
       "3  Soiewre       1521   3.0      1.0   95.00  \n",
       "4      NaN       1200   2.0      1.0   51.00  "
      ]
     },
     "execution_count": 171,
     "metadata": {},
     "output_type": "execute_result"
    }
   ],
   "source": [
    "data_bang.head()"
   ]
  },
  {
   "cell_type": "code",
   "execution_count": 172,
   "metadata": {},
   "outputs": [
    {
     "data": {
      "text/html": [
       "<div>\n",
       "<style scoped>\n",
       "    .dataframe tbody tr th:only-of-type {\n",
       "        vertical-align: middle;\n",
       "    }\n",
       "\n",
       "    .dataframe tbody tr th {\n",
       "        vertical-align: top;\n",
       "    }\n",
       "\n",
       "    .dataframe thead th {\n",
       "        text-align: right;\n",
       "    }\n",
       "</style>\n",
       "<table border=\"1\" class=\"dataframe\">\n",
       "  <thead>\n",
       "    <tr style=\"text-align: right;\">\n",
       "      <th></th>\n",
       "      <th>area_type</th>\n",
       "      <th>availability</th>\n",
       "      <th>location</th>\n",
       "      <th>size</th>\n",
       "      <th>society</th>\n",
       "      <th>total_sqft</th>\n",
       "      <th>bath</th>\n",
       "      <th>balcony</th>\n",
       "      <th>price</th>\n",
       "    </tr>\n",
       "  </thead>\n",
       "  <tbody>\n",
       "    <tr>\n",
       "      <th>0</th>\n",
       "      <td>Super built-up  Area</td>\n",
       "      <td>19-Dec</td>\n",
       "      <td>Electronic City Phase II</td>\n",
       "      <td>2 BHK</td>\n",
       "      <td>Coomee</td>\n",
       "      <td>1056</td>\n",
       "      <td>2.0</td>\n",
       "      <td>1.0</td>\n",
       "      <td>39.07</td>\n",
       "    </tr>\n",
       "    <tr>\n",
       "      <th>1</th>\n",
       "      <td>Plot  Area</td>\n",
       "      <td>Ready To Move</td>\n",
       "      <td>Chikka Tirupathi</td>\n",
       "      <td>4 Bedroom</td>\n",
       "      <td>Theanmp</td>\n",
       "      <td>2600</td>\n",
       "      <td>5.0</td>\n",
       "      <td>3.0</td>\n",
       "      <td>120.00</td>\n",
       "    </tr>\n",
       "    <tr>\n",
       "      <th>2</th>\n",
       "      <td>Built-up  Area</td>\n",
       "      <td>Ready To Move</td>\n",
       "      <td>Uttarahalli</td>\n",
       "      <td>3 BHK</td>\n",
       "      <td>NaN</td>\n",
       "      <td>1440</td>\n",
       "      <td>2.0</td>\n",
       "      <td>3.0</td>\n",
       "      <td>62.00</td>\n",
       "    </tr>\n",
       "    <tr>\n",
       "      <th>3</th>\n",
       "      <td>Super built-up  Area</td>\n",
       "      <td>Ready To Move</td>\n",
       "      <td>Lingadheeranahalli</td>\n",
       "      <td>3 BHK</td>\n",
       "      <td>Soiewre</td>\n",
       "      <td>1521</td>\n",
       "      <td>3.0</td>\n",
       "      <td>1.0</td>\n",
       "      <td>95.00</td>\n",
       "    </tr>\n",
       "    <tr>\n",
       "      <th>4</th>\n",
       "      <td>Super built-up  Area</td>\n",
       "      <td>Ready To Move</td>\n",
       "      <td>Kothanur</td>\n",
       "      <td>2 BHK</td>\n",
       "      <td>NaN</td>\n",
       "      <td>1200</td>\n",
       "      <td>2.0</td>\n",
       "      <td>1.0</td>\n",
       "      <td>51.00</td>\n",
       "    </tr>\n",
       "  </tbody>\n",
       "</table>\n",
       "</div>"
      ],
      "text/plain": [
       "              area_type   availability                  location       size  \\\n",
       "0  Super built-up  Area         19-Dec  Electronic City Phase II      2 BHK   \n",
       "1            Plot  Area  Ready To Move          Chikka Tirupathi  4 Bedroom   \n",
       "2        Built-up  Area  Ready To Move               Uttarahalli      3 BHK   \n",
       "3  Super built-up  Area  Ready To Move        Lingadheeranahalli      3 BHK   \n",
       "4  Super built-up  Area  Ready To Move                  Kothanur      2 BHK   \n",
       "\n",
       "   society total_sqft  bath  balcony   price  \n",
       "0  Coomee        1056   2.0      1.0   39.07  \n",
       "1  Theanmp       2600   5.0      3.0  120.00  \n",
       "2      NaN       1440   2.0      3.0   62.00  \n",
       "3  Soiewre       1521   3.0      1.0   95.00  \n",
       "4      NaN       1200   2.0      1.0   51.00  "
      ]
     },
     "execution_count": 172,
     "metadata": {},
     "output_type": "execute_result"
    }
   ],
   "source": [
    "dfb = data_bang.copy() \n",
    "dfb.head()"
   ]
  },
  {
   "cell_type": "code",
   "execution_count": 173,
   "metadata": {},
   "outputs": [
    {
     "name": "stdout",
     "output_type": "stream",
     "text": [
      "<class 'pandas.core.frame.DataFrame'>\n",
      "RangeIndex: 13320 entries, 0 to 13319\n",
      "Data columns (total 9 columns):\n",
      " #   Column        Non-Null Count  Dtype  \n",
      "---  ------        --------------  -----  \n",
      " 0   area_type     13320 non-null  object \n",
      " 1   availability  13320 non-null  object \n",
      " 2   location      13319 non-null  object \n",
      " 3   size          13304 non-null  object \n",
      " 4   society       7818 non-null   object \n",
      " 5   total_sqft    13320 non-null  object \n",
      " 6   bath          13247 non-null  float64\n",
      " 7   balcony       12711 non-null  float64\n",
      " 8   price         13320 non-null  float64\n",
      "dtypes: float64(3), object(6)\n",
      "memory usage: 936.7+ KB\n"
     ]
    }
   ],
   "source": [
    "dfb.info()"
   ]
  },
  {
   "cell_type": "code",
   "execution_count": 174,
   "metadata": {},
   "outputs": [
    {
     "data": {
      "text/plain": [
       "area_type          0\n",
       "availability       0\n",
       "location           1\n",
       "size              16\n",
       "society         5502\n",
       "total_sqft         0\n",
       "bath              73\n",
       "balcony          609\n",
       "price              0\n",
       "dtype: int64"
      ]
     },
     "execution_count": 174,
     "metadata": {},
     "output_type": "execute_result"
    }
   ],
   "source": [
    "dfb.isna().sum()"
   ]
  },
  {
   "cell_type": "code",
   "execution_count": 175,
   "metadata": {},
   "outputs": [
    {
     "data": {
      "text/plain": [
       "Index(['area_type', 'availability', 'location', 'size', 'society',\n",
       "       'total_sqft', 'bath', 'balcony', 'price'],\n",
       "      dtype='object')"
      ]
     },
     "execution_count": 175,
     "metadata": {},
     "output_type": "execute_result"
    }
   ],
   "source": [
    "dfb.columns"
   ]
  },
  {
   "cell_type": "code",
   "execution_count": 176,
   "metadata": {},
   "outputs": [
    {
     "name": "stdout",
     "output_type": "stream",
     "text": [
      "area_type has unique values : 4\n",
      "availability has unique values : 81\n",
      "location has unique values : 1305\n",
      "size has unique values : 31\n",
      "society has unique values : 2688\n",
      "total_sqft has unique values : 2117\n",
      "bath has unique values : 19\n",
      "balcony has unique values : 4\n",
      "price has unique values : 1994\n"
     ]
    }
   ],
   "source": [
    "for i in dfb.columns:\n",
    "    uni = dfb[i].nunique()\n",
    "    print(f\"{i} has unique values : {uni}\")"
   ]
  },
  {
   "cell_type": "code",
   "execution_count": 177,
   "metadata": {},
   "outputs": [
    {
     "data": {
      "text/html": [
       "<div>\n",
       "<style scoped>\n",
       "    .dataframe tbody tr th:only-of-type {\n",
       "        vertical-align: middle;\n",
       "    }\n",
       "\n",
       "    .dataframe tbody tr th {\n",
       "        vertical-align: top;\n",
       "    }\n",
       "\n",
       "    .dataframe thead th {\n",
       "        text-align: right;\n",
       "    }\n",
       "</style>\n",
       "<table border=\"1\" class=\"dataframe\">\n",
       "  <thead>\n",
       "    <tr style=\"text-align: right;\">\n",
       "      <th></th>\n",
       "      <th>area_type</th>\n",
       "      <th>availability</th>\n",
       "      <th>location</th>\n",
       "      <th>size</th>\n",
       "      <th>society</th>\n",
       "      <th>total_sqft</th>\n",
       "      <th>bath</th>\n",
       "      <th>balcony</th>\n",
       "      <th>price</th>\n",
       "    </tr>\n",
       "  </thead>\n",
       "  <tbody>\n",
       "    <tr>\n",
       "      <th>0</th>\n",
       "      <td>Super built-up  Area</td>\n",
       "      <td>19-Dec</td>\n",
       "      <td>Electronic City Phase II</td>\n",
       "      <td>2 BHK</td>\n",
       "      <td>Coomee</td>\n",
       "      <td>1056</td>\n",
       "      <td>2.0</td>\n",
       "      <td>1.0</td>\n",
       "      <td>39.07</td>\n",
       "    </tr>\n",
       "    <tr>\n",
       "      <th>1</th>\n",
       "      <td>Plot  Area</td>\n",
       "      <td>Ready To Move</td>\n",
       "      <td>Chikka Tirupathi</td>\n",
       "      <td>4 Bedroom</td>\n",
       "      <td>Theanmp</td>\n",
       "      <td>2600</td>\n",
       "      <td>5.0</td>\n",
       "      <td>3.0</td>\n",
       "      <td>120.00</td>\n",
       "    </tr>\n",
       "    <tr>\n",
       "      <th>2</th>\n",
       "      <td>Built-up  Area</td>\n",
       "      <td>Ready To Move</td>\n",
       "      <td>Uttarahalli</td>\n",
       "      <td>3 BHK</td>\n",
       "      <td>NaN</td>\n",
       "      <td>1440</td>\n",
       "      <td>2.0</td>\n",
       "      <td>3.0</td>\n",
       "      <td>62.00</td>\n",
       "    </tr>\n",
       "    <tr>\n",
       "      <th>3</th>\n",
       "      <td>Super built-up  Area</td>\n",
       "      <td>Ready To Move</td>\n",
       "      <td>Lingadheeranahalli</td>\n",
       "      <td>3 BHK</td>\n",
       "      <td>Soiewre</td>\n",
       "      <td>1521</td>\n",
       "      <td>3.0</td>\n",
       "      <td>1.0</td>\n",
       "      <td>95.00</td>\n",
       "    </tr>\n",
       "    <tr>\n",
       "      <th>4</th>\n",
       "      <td>Super built-up  Area</td>\n",
       "      <td>Ready To Move</td>\n",
       "      <td>Kothanur</td>\n",
       "      <td>2 BHK</td>\n",
       "      <td>NaN</td>\n",
       "      <td>1200</td>\n",
       "      <td>2.0</td>\n",
       "      <td>1.0</td>\n",
       "      <td>51.00</td>\n",
       "    </tr>\n",
       "  </tbody>\n",
       "</table>\n",
       "</div>"
      ],
      "text/plain": [
       "              area_type   availability                  location       size  \\\n",
       "0  Super built-up  Area         19-Dec  Electronic City Phase II      2 BHK   \n",
       "1            Plot  Area  Ready To Move          Chikka Tirupathi  4 Bedroom   \n",
       "2        Built-up  Area  Ready To Move               Uttarahalli      3 BHK   \n",
       "3  Super built-up  Area  Ready To Move        Lingadheeranahalli      3 BHK   \n",
       "4  Super built-up  Area  Ready To Move                  Kothanur      2 BHK   \n",
       "\n",
       "   society total_sqft  bath  balcony   price  \n",
       "0  Coomee        1056   2.0      1.0   39.07  \n",
       "1  Theanmp       2600   5.0      3.0  120.00  \n",
       "2      NaN       1440   2.0      3.0   62.00  \n",
       "3  Soiewre       1521   3.0      1.0   95.00  \n",
       "4      NaN       1200   2.0      1.0   51.00  "
      ]
     },
     "execution_count": 177,
     "metadata": {},
     "output_type": "execute_result"
    }
   ],
   "source": [
    "dfb.head()"
   ]
  },
  {
   "cell_type": "code",
   "execution_count": 178,
   "metadata": {},
   "outputs": [
    {
     "data": {
      "text/plain": [
       "array(['Super built-up  Area', 'Plot  Area', 'Built-up  Area',\n",
       "       'Carpet  Area'], dtype=object)"
      ]
     },
     "execution_count": 178,
     "metadata": {},
     "output_type": "execute_result"
    }
   ],
   "source": [
    "dfb[\"area_type\"].unique()"
   ]
  },
  {
   "cell_type": "markdown",
   "metadata": {},
   "source": [
    "# Observation \n",
    "* We can rank area_type \n",
    "* carpet_area = 0\n",
    "* Built-up  Area = 1 \n",
    "* Plot  Area = 2 \n",
    "* Super built-up = 3"
   ]
  },
  {
   "cell_type": "code",
   "execution_count": 181,
   "metadata": {},
   "outputs": [
    {
     "data": {
      "text/plain": [
       "array(['19-Dec', 'Ready To Move', '18-May', '18-Feb', '18-Nov', '20-Dec',\n",
       "       '17-Oct', '21-Dec', '19-Sep', '20-Sep', '18-Mar', '20-Feb',\n",
       "       '18-Apr', '20-Aug', '18-Oct', '19-Mar', '17-Sep', '18-Dec',\n",
       "       '17-Aug', '19-Apr', '18-Jun', '22-Dec', '22-Jan', '18-Aug',\n",
       "       '19-Jan', '17-Jul', '18-Jul', '21-Jun', '20-May', '19-Aug',\n",
       "       '18-Sep', '17-May', '17-Jun', '21-May', '18-Jan', '20-Mar',\n",
       "       '17-Dec', '16-Mar', '19-Jun', '22-Jun', '19-Jul', '21-Feb',\n",
       "       'Immediate Possession', '19-May', '17-Nov', '20-Oct', '20-Jun',\n",
       "       '19-Feb', '21-Oct', '21-Jan', '17-Mar', '17-Apr', '22-May',\n",
       "       '19-Oct', '21-Jul', '21-Nov', '21-Mar', '16-Dec', '22-Mar',\n",
       "       '20-Jan', '21-Sep', '21-Aug', '14-Nov', '19-Nov', '15-Nov',\n",
       "       '16-Jul', '15-Jun', '17-Feb', '20-Nov', '20-Jul', '16-Sep',\n",
       "       '15-Oct', '15-Dec', '16-Oct', '22-Nov', '15-Aug', '17-Jan',\n",
       "       '16-Nov', '20-Apr', '16-Jan', '14-Jul'], dtype=object)"
      ]
     },
     "execution_count": 181,
     "metadata": {},
     "output_type": "execute_result"
    }
   ],
   "source": [
    "dfb[\"availability\"].unique()"
   ]
  },
  {
   "cell_type": "code",
   "execution_count": 193,
   "metadata": {},
   "outputs": [
    {
     "data": {
      "text/plain": [
       "0.41306306306306306"
      ]
     },
     "execution_count": 193,
     "metadata": {},
     "output_type": "execute_result"
    }
   ],
   "source": [
    "dfb[\"society\"].isna().sum() / dfb[\"society\"].size"
   ]
  },
  {
   "cell_type": "markdown",
   "metadata": {},
   "source": [
    "# \n",
    "* Feature society has 41% of missing values \n",
    "* lets see if we can find any pattern in missing values \n",
    "* if not we will drop the column "
   ]
  },
  {
   "cell_type": "code",
   "execution_count": 196,
   "metadata": {},
   "outputs": [
    {
     "data": {
      "text/plain": [
       "location\n",
       " Anekal                 1\n",
       " Banaswadi              1\n",
       " Basavangudi            1\n",
       " Bhoganhalli            1\n",
       " Devarabeesana Halli    6\n",
       "                       ..\n",
       "t.c palya               1\n",
       "tc.palya                4\n",
       "vinayakanagar           1\n",
       "white field,kadugodi    1\n",
       "whitefiled              1\n",
       "Name: society, Length: 1305, dtype: int64"
      ]
     },
     "execution_count": 196,
     "metadata": {},
     "output_type": "execute_result"
    }
   ],
   "source": [
    "dfb.groupby(\"location\")[\"society\"].size()"
   ]
  },
  {
   "cell_type": "code",
   "execution_count": 197,
   "metadata": {},
   "outputs": [
    {
     "data": {
      "text/plain": [
       "society\n",
       "Sryalan    59\n",
       "SNbay G     9\n",
       "MJtroty     9\n",
       "Assha A     8\n",
       "Brods W     8\n",
       "Coomee      5\n",
       "SJmesst     5\n",
       "DSineSt     3\n",
       "Rie 2ri     3\n",
       "Coush W     2\n",
       "Sravehi     1\n",
       "Srrlsnu     1\n",
       "Rie 2 P     1\n",
       "Prvanai     1\n",
       "Riodsri     1\n",
       "Shrds O     1\n",
       "SRhtsa      1\n",
       "Daosts      1\n",
       "Prngshi     1\n",
       "Name: count, dtype: int64"
      ]
     },
     "execution_count": 197,
     "metadata": {},
     "output_type": "execute_result"
    }
   ],
   "source": [
    "dfb[dfb[\"location\"] == \"Electronic City Phase II\"].society.value_counts()"
   ]
  },
  {
   "cell_type": "code",
   "execution_count": 202,
   "metadata": {},
   "outputs": [
    {
     "data": {
      "text/plain": [
       "0         True\n",
       "1        False\n",
       "2        False\n",
       "3        False\n",
       "4        False\n",
       "         ...  \n",
       "13315    False\n",
       "13316    False\n",
       "13317    False\n",
       "13318    False\n",
       "13319    False\n",
       "Name: location, Length: 13320, dtype: bool"
      ]
     },
     "execution_count": 202,
     "metadata": {},
     "output_type": "execute_result"
    }
   ],
   "source": [
    "dfb[\"location\"] == \"Electronic City Phase II\""
   ]
  },
  {
   "cell_type": "code",
   "execution_count": 200,
   "metadata": {},
   "outputs": [
    {
     "data": {
      "text/plain": [
       "0    Sryalan\n",
       "Name: society, dtype: object"
      ]
     },
     "execution_count": 200,
     "metadata": {},
     "output_type": "execute_result"
    }
   ],
   "source": [
    "dfb[dfb[\"location\"] == \"Electronic City Phase II\"].society.mode()\n"
   ]
  },
  {
   "cell_type": "markdown",
   "metadata": {},
   "source": [
    "## \n",
    "*we will go by every location and pick the most frequent or mode of the society \n",
    "and map the values based on location in society*"
   ]
  },
  {
   "cell_type": "code",
   "execution_count": 199,
   "metadata": {},
   "outputs": [
    {
     "data": {
      "text/plain": [
       "['Electronic City Phase II',\n",
       " 'Chikka Tirupathi',\n",
       " 'Uttarahalli',\n",
       " 'Lingadheeranahalli',\n",
       " 'Kothanur',\n",
       " 'Whitefield',\n",
       " 'Old Airport Road',\n",
       " 'Rajaji Nagar',\n",
       " 'Marathahalli',\n",
       " 'Gandhi Bazar']"
      ]
     },
     "execution_count": 199,
     "metadata": {},
     "output_type": "execute_result"
    }
   ],
   "source": [
    "unique_location = dfb[\"location\"].unique().tolist()\n",
    "unique_location[:10]"
   ]
  },
  {
   "cell_type": "code",
   "execution_count": 203,
   "metadata": {},
   "outputs": [
    {
     "data": {
      "text/plain": [
       "{'Electronic City Phase II': 0    Sryalan\n",
       " Name: society, dtype: object,\n",
       " 'Chikka Tirupathi': 0    Theanmp\n",
       " Name: society, dtype: object,\n",
       " 'Uttarahalli': 0    Aklia R\n",
       " Name: society, dtype: object,\n",
       " 'Lingadheeranahalli': 0    Soiewre\n",
       " Name: society, dtype: object,\n",
       " 'Kothanur': 0    Somumys\n",
       " Name: society, dtype: object,\n",
       " 'Whitefield': 0    Prtates\n",
       " Name: society, dtype: object,\n",
       " 'Old Airport Road': 0    Jaades \n",
       " Name: society, dtype: object,\n",
       " 'Rajaji Nagar': 0    PhestOn\n",
       " Name: society, dtype: object,\n",
       " 'Marathahalli': 0    PueraRi\n",
       " Name: society, dtype: object,\n",
       " 'Gandhi Bazar': Series([], Name: society, dtype: object),\n",
       " '7th Phase JP Nagar': 0    Brnia G\n",
       " Name: society, dtype: object,\n",
       " 'Gottigere': 0    Sklls C\n",
       " Name: society, dtype: object,\n",
       " 'Sarjapur': 0    Sondaka\n",
       " Name: society, dtype: object,\n",
       " 'Mysore Road': 0    Brama P\n",
       " Name: society, dtype: object,\n",
       " 'Bisuvanahalli': 0    Prityel\n",
       " Name: society, dtype: object,\n",
       " 'Raja Rajeshwari Nagar': 0    GrrvaGr\n",
       " Name: society, dtype: object,\n",
       " 'Ramakrishnappa Layout': 0    PeBayle\n",
       " Name: society, dtype: object,\n",
       " 'Manayata Tech Park': Series([], Name: society, dtype: object),\n",
       " 'Kengeri': 0    VBn 2lm\n",
       " Name: society, dtype: object,\n",
       " 'Binny Pete': 0    She 2rk\n",
       " 1    Shestlo\n",
       " Name: society, dtype: object,\n",
       " 'Thanisandra': 0    Bhmesy \n",
       " Name: society, dtype: object,\n",
       " 'Bellandur': 0    OriewLa\n",
       " Name: society, dtype: object,\n",
       " ' Thanisandra': 0    Bhe 2ko\n",
       " Name: society, dtype: object,\n",
       " 'Mangammanapalya': Series([], Name: society, dtype: object),\n",
       " 'Electronic City': 0    GMown E\n",
       " Name: society, dtype: object,\n",
       " 'Ramagondanahalli': 0    ViistLa\n",
       " Name: society, dtype: object,\n",
       " 'Yelahanka': 0    Prensya\n",
       " Name: society, dtype: object,\n",
       " 'Hebbal': 0    Raard B\n",
       " Name: society, dtype: object,\n",
       " 'Kasturi Nagar': 0    Radenta\n",
       " Name: society, dtype: object,\n",
       " 'Kanakpura Road': 0    PrarePa\n",
       " Name: society, dtype: object,\n",
       " 'Electronics City Phase 1': 0    Shitt S\n",
       " Name: society, dtype: object,\n",
       " 'Kundalahalli': 0    Dieldli\n",
       " Name: society, dtype: object,\n",
       " 'Chikkalasandra': 0    Siourpl\n",
       " 1    V2avei \n",
       " Name: society, dtype: object,\n",
       " 'Murugeshpalya': 0    IBaveen\n",
       " 1    Vauna F\n",
       " 2    Vestas \n",
       " Name: society, dtype: object,\n",
       " 'Sarjapur  Road': 0    Adeatlm\n",
       " Name: society, dtype: object,\n",
       " 'Ganga Nagar': 0    AlourAr\n",
       " 1    Ceove G\n",
       " 2    Laavevi\n",
       " 3    PSdenGa\n",
       " Name: society, dtype: object,\n",
       " 'HSR Layout': 0    NRosete\n",
       " Name: society, dtype: object,\n",
       " 'Doddathoguru': 0    Prianhi\n",
       " 1    SKterAs\n",
       " 2    Srtasno\n",
       " 3    Vabow R\n",
       " Name: society, dtype: object,\n",
       " 'KR Puram': 0    MCnexva\n",
       " Name: society, dtype: object,\n",
       " 'Himagiri Meadows': 0    Hiowsi \n",
       " Name: society, dtype: object,\n",
       " 'Adarsh Nagar': 0    Bhncyis\n",
       " Name: society, dtype: object,\n",
       " 'Bhoganhalli': 0    Rosha I\n",
       " Name: society, dtype: object,\n",
       " 'Lakshminarayana Pura': 0    RothaVa\n",
       " Name: society, dtype: object,\n",
       " 'Begur Road': 0    Dhalsh \n",
       " Name: society, dtype: object,\n",
       " 'Devanahalli': 0    Sabixtt\n",
       " Name: society, dtype: object,\n",
       " 'Govindaraja Nagar Ward': Series([], Name: society, dtype: object),\n",
       " 'Tharabanahalli': Series([], Name: society, dtype: object),\n",
       " 'Varthur': 0    DSingSt\n",
       " Name: society, dtype: object,\n",
       " 'Bommanahalli': 0    Alarke \n",
       " 1    Jaw 2 L\n",
       " 2    SNeur G\n",
       " Name: society, dtype: object,\n",
       " 'Gunjur': 0    BMineis\n",
       " 1    Paestol\n",
       " Name: society, dtype: object,\n",
       " 'Devarachikkanahalli': 0    Wiaysld\n",
       " Name: society, dtype: object,\n",
       " 'Double Road': Series([], Name: society, dtype: object),\n",
       " 'Hegde Nagar': 0    SoisoCa\n",
       " 1    SoitaCa\n",
       " Name: society, dtype: object,\n",
       " 'Haralur Road': 0    SNnia E\n",
       " Name: society, dtype: object,\n",
       " 'Hennur Road': 0    Puachal\n",
       " Name: society, dtype: object,\n",
       " 'Kothannur': 0    Esale O\n",
       " Name: society, dtype: object,\n",
       " 'Kalena Agrahara': 0    Prillot\n",
       " Name: society, dtype: object,\n",
       " 'Cholanayakanahalli': 0    ShourSp\n",
       " 1    Viony H\n",
       " Name: society, dtype: object,\n",
       " 'Kaval Byrasandra': 0    Abncy R\n",
       " 1    ApallEn\n",
       " 2    DencyRe\n",
       " 3    KuncyRe\n",
       " 4    May 2ge\n",
       " 5    Soestrn\n",
       " 6    SyOnen \n",
       " 7    VaasaPr\n",
       " Name: society, dtype: object,\n",
       " 'ISRO Layout': 0    Foinade\n",
       " 1    Oaines \n",
       " 2    Shhin S\n",
       " Name: society, dtype: object,\n",
       " 'Kodanda Reddy Layout': 0    AdentEl\n",
       " Name: society, dtype: object,\n",
       " 'Garudachar Palya': 0    BrlisMe\n",
       " Name: society, dtype: object,\n",
       " 'EPIP Zone': 0    BrontLa\n",
       " Name: society, dtype: object,\n",
       " 'Dasanapura': 0    Tavenew\n",
       " Name: society, dtype: object,\n",
       " 'Kasavanhalli': 0    HMonymp\n",
       " Name: society, dtype: object,\n",
       " 'Sanjay nagar': 0    BSiumly\n",
       " 1    Camesa \n",
       " 2    Saenti \n",
       " 3    Viara M\n",
       " Name: society, dtype: object,\n",
       " ' Mysore Highway': Series([], Name: society, dtype: object),\n",
       " 'Domlur': 0    Saiewas\n",
       " Name: society, dtype: object,\n",
       " 'Sarjapura - Attibele Road': 0    Soe 2as\n",
       " Name: society, dtype: object,\n",
       " 'Devasthanagalu': 0    CMhidal\n",
       " Name: society, dtype: object,\n",
       " 'T Dasarahalli': Series([], Name: society, dtype: object),\n",
       " 'Yeshwanthpur': 0    IBityin\n",
       " Name: society, dtype: object,\n",
       " 'Chandapura': 0    SunceEs\n",
       " Name: society, dtype: object,\n",
       " 'Green View Layout': 0    Makeser\n",
       " Name: society, dtype: object,\n",
       " 'Shantiniketan Layout': 0    Maest N\n",
       " Name: society, dtype: object,\n",
       " 'Peenya': 0    Jahts H\n",
       " Name: society, dtype: object,\n",
       " 'Nagarbhavi': 0    DSesthr\n",
       " 1    MaentNa\n",
       " Name: society, dtype: object,\n",
       " 'Jalahalli West': 0    Prntsax\n",
       " Name: society, dtype: object,\n",
       " 'Lakshmiamma Garden': Series([], Name: society, dtype: object),\n",
       " 'Byatarayanapura': 0    Reeroce\n",
       " Name: society, dtype: object,\n",
       " 'Ramamurthy Nagar': 0    Vaharvi\n",
       " Name: society, dtype: object,\n",
       " 'Malleshwaram': 0    Sariaat\n",
       " Name: society, dtype: object,\n",
       " 'Akshaya Nagar': 0    DLhtsnd\n",
       " Name: society, dtype: object,\n",
       " 'Shampura': 0    Koillph\n",
       " Name: society, dtype: object,\n",
       " 'Kadugodi': 0    Alestrb\n",
       " Name: society, dtype: object,\n",
       " 'LB Shastri Nagar': 0    MCrds S\n",
       " Name: society, dtype: object,\n",
       " 'Vajarahalli': Series([], Name: society, dtype: object),\n",
       " 'Hormavu': 0    ARureig\n",
       " Name: society, dtype: object,\n",
       " 'Vishwapriya Layout': 0    Prodsth\n",
       " Name: society, dtype: object,\n",
       " 'Ramaswamy Palya - Kammanahalli Main Road': Series([], Name: society, dtype: object),\n",
       " 'Kudlu Gate': 0    Sanzaat\n",
       " Name: society, dtype: object,\n",
       " '8th Phase JP Nagar': 0    MBodsen\n",
       " Name: society, dtype: object,\n",
       " 'Bommasandra Industrial Area': 0    Stkarrd\n",
       " Name: society, dtype: object,\n",
       " 'Chandra Layout': 0    TiaksAa\n",
       " Name: society, dtype: object,\n",
       " 'Anandapura': 0    ViensRK\n",
       " Name: society, dtype: object,\n",
       " 'Vishveshwarya Layout': Series([], Name: society, dtype: object),\n",
       " 'Kengeri Satellite Town': 0    Malowr \n",
       " Name: society, dtype: object,\n",
       " 'Basavanapura': 0    Dwity T\n",
       " 1    Papusa \n",
       " Name: society, dtype: object,\n",
       " 'Dinnur': 0    Gaaran \n",
       " Name: society, dtype: object,\n",
       " 'Kannamangala': 0    Sonue A\n",
       " 1    VBownre\n",
       " Name: society, dtype: object,\n",
       " ' Devarachikkanahalli': 0    Wiaysld\n",
       " Name: society, dtype: object,\n",
       " 'Sanjeevini Nagar': 0    Betatsi\n",
       " Name: society, dtype: object,\n",
       " 'Hulimavu': 0    RatosAr\n",
       " Name: society, dtype: object,\n",
       " 'Mahalakshmi Layout': 0    Asmosz \n",
       " 1    RSntsja\n",
       " Name: society, dtype: object,\n",
       " 'Yarandahalli': Series([], Name: society, dtype: object),\n",
       " 'Hosa Road': 0    Sosisic\n",
       " Name: society, dtype: object,\n",
       " 'Keshava Nagar': 0    ETens G\n",
       " Name: society, dtype: object,\n",
       " 'RMV Extension': 0    DSureSi\n",
       " Name: society, dtype: object,\n",
       " 'Tejaswini Nagar': 0    Dhndsh \n",
       " Name: society, dtype: object,\n",
       " 'Jai Bheema Nagar': 0    Sancyra\n",
       " Name: society, dtype: object,\n",
       " 'Kothnur Narayanapura': Series([], Name: society, dtype: object),\n",
       " 'Attibele': 0    Jae 1hu\n",
       " Name: society, dtype: object,\n",
       " 'CV Raman Nagar': 0    Pu270a \n",
       " Name: society, dtype: object,\n",
       " 'CHIKKATIRUPATHI': Series([], Name: society, dtype: object),\n",
       " 'Kumaraswami Layout': 0    Mania G\n",
       " Name: society, dtype: object,\n",
       " 'Nagavara': 0    K dotna\n",
       " Name: society, dtype: object,\n",
       " 'Hebbal Kempapura': 0    Goateds\n",
       " Name: society, dtype: object,\n",
       " 'Vijayanagar': 0    Saityat\n",
       " Name: society, dtype: object,\n",
       " '8th block Koramangala': 0    Sid 2ss\n",
       " Name: society, dtype: object,\n",
       " 'Jakkuru Layout': 0    Vithm R\n",
       " Name: society, dtype: object,\n",
       " 'Pattandur Agrahara': 0    MaidoPl\n",
       " Name: society, dtype: object,\n",
       " 'Ejipura': 0    Prsichi\n",
       " Name: society, dtype: object,\n",
       " 'MS Pallya': Series([], Name: society, dtype: object),\n",
       " 'Nagasandra': Series([], Name: society, dtype: object),\n",
       " 'Langford Town': Series([], Name: society, dtype: object),\n",
       " 'Kogilu': 0    Sourtal\n",
       " Name: society, dtype: object,\n",
       " 'Panathur': 0    Prcesvy\n",
       " Name: society, dtype: object,\n",
       " 'Nagondanahalli': 0    DSldsen\n",
       " Name: society, dtype: object,\n",
       " 'Padmanabhanagar': 0    Naasyak\n",
       " 1    SollyCl\n",
       " Name: society, dtype: object,\n",
       " '1st Block Jayanagar': 0    Bhsic C\n",
       " Name: society, dtype: object,\n",
       " 'Kammasandra': 0    DSOakil\n",
       " Name: society, dtype: object,\n",
       " 'Off Sarjapur Road, ': Series([], Name: society, dtype: object),\n",
       " 'Tala Cauvery Layout': 0    Skarkev\n",
       " Name: society, dtype: object,\n",
       " 'Dasarahalli': 0    Syonyph\n",
       " Name: society, dtype: object,\n",
       " 'Magadi Road': 0    Vrenty \n",
       " Name: society, dtype: object,\n",
       " 'Ngef Layout': Series([], Name: society, dtype: object),\n",
       " 'Koramangala': 0    Proodt \n",
       " Name: society, dtype: object,\n",
       " 'Lakshminarayanapura, Electronic City Phase 2': Series([], Name: society, dtype: object),\n",
       " 'Muthurayya Swamy Layout': 0    MacleK \n",
       " Name: society, dtype: object,\n",
       " 'Dommasandra': 0    Asene S\n",
       " Name: society, dtype: object,\n",
       " 'Budigere': 0    PrityTr\n",
       " Name: society, dtype: object,\n",
       " 'Dodda Nekkundi Extension': 0    AlEcone\n",
       " Name: society, dtype: object,\n",
       " 'Mylasandra': 0    Laowsba\n",
       " Name: society, dtype: object,\n",
       " 'Kalyan nagar': 0    Satle C\n",
       " Name: society, dtype: object,\n",
       " 'Dr Shivarama Karantha Nagar': Series([], Name: society, dtype: object),\n",
       " 'Bank Of Baroda Colony': Series([], Name: society, dtype: object),\n",
       " 'Kullappa Colony': Series([], Name: society, dtype: object),\n",
       " 'Mukkutam Nagar': Series([], Name: society, dtype: object),\n",
       " 'Ashwath Nagar': 0    SJcerpe\n",
       " Name: society, dtype: object,\n",
       " 'Ncpr Industrial Layout': 0    Supams \n",
       " Name: society, dtype: object,\n",
       " 'Meenakunte': 0    Sreat R\n",
       " Name: society, dtype: object,\n",
       " 'OMBR Layout': 0    Inntsa \n",
       " Name: society, dtype: object,\n",
       " 'Anand Nagar': 0    Bebalrk\n",
       " Name: society, dtype: object,\n",
       " 'Shree Ananth Nagar Layout': 0    Aaityi \n",
       " 1    PrinePr\n",
       " Name: society, dtype: object,\n",
       " 'Kundalahalli Colony': 0    Goourta\n",
       " Name: society, dtype: object,\n",
       " 'Horamavu Agara': 0    Maows M\n",
       " Name: society, dtype: object,\n",
       " 'MCECHS  layout': Series([], Name: society, dtype: object),\n",
       " 'Coffee Board Layout': 0    Calyxy \n",
       " 1    Sanstya\n",
       " 2    Tepleee\n",
       " Name: society, dtype: object,\n",
       " 'Ambedkar Nagar': 0    SoechHa\n",
       " Name: society, dtype: object,\n",
       " 'KUDLU MAIN ROAD': Series([], Name: society, dtype: object),\n",
       " 'Geleyara Balaga Layout': 0    Jahtsa \n",
       " Name: society, dtype: object,\n",
       " 'Talaghattapura': 0    Sodgere\n",
       " Name: society, dtype: object,\n",
       " 'Sundara Nagar': Series([], Name: society, dtype: object),\n",
       " 'Balagere': 0    Soresea\n",
       " Name: society, dtype: object,\n",
       " 'Jigani': 0    DLhtsan\n",
       " Name: society, dtype: object,\n",
       " 'Gollarapalya Hosahalli': 0    Mauner \n",
       " Name: society, dtype: object,\n",
       " 'Srirampura': 0    HooudSi\n",
       " 1    MVmesle\n",
       " 2    NRnoral\n",
       " Name: society, dtype: object,\n",
       " 'Old Madras Road': 0    Brica E\n",
       " Name: society, dtype: object,\n",
       " 'Kaggadasapura': 0    SLireap\n",
       " Name: society, dtype: object,\n",
       " 'Silver Springs Layout': 0    Bhinglv\n",
       " 1    SSarlPe\n",
       " 2    SaMTBai\n",
       " 3    VaantPl\n",
       " Name: society, dtype: object,\n",
       " '9th Phase JP Nagar': 0    NaensGa\n",
       " Name: society, dtype: object,\n",
       " 'Jakkur': 0    BrdgeNo\n",
       " Name: society, dtype: object,\n",
       " 'TC Palaya': 0    BSersTo\n",
       " 1    GilomSh\n",
       " 2    Lancy R\n",
       " 3    RKncyha\n",
       " Name: society, dtype: object,\n",
       " 'Maruthi Sevanagar': 0    SMikaay\n",
       " Name: society, dtype: object,\n",
       " 'RMV 2nd Stage': 0    LiaveEn\n",
       " 1    Prave E\n",
       " Name: society, dtype: object,\n",
       " 'Giri Nagar': 0    Bancyri\n",
       " Name: society, dtype: object,\n",
       " 'Singasandra': 0    EAvarum\n",
       " 1    Priewhi\n",
       " Name: society, dtype: object,\n",
       " 'AECS Layout': 0    Concyvi\n",
       " 1    DSutyng\n",
       " Name: society, dtype: object,\n",
       " 'Mallasandra': 0    GMilse \n",
       " Name: society, dtype: object,\n",
       " 'Begur': 0    Arera V\n",
       " Name: society, dtype: object,\n",
       " 'JP Nagar': 0    Shestut\n",
       " Name: society, dtype: object,\n",
       " 'Sunder Ram Shetty Nagar': 0    Bustain\n",
       " 1    MaisePa\n",
       " Name: society, dtype: object,\n",
       " 'Malleshpalya': 0    A idse \n",
       " 1    KencyRe\n",
       " 2    SoncyRe\n",
       " Name: society, dtype: object,\n",
       " 'Kodathi': Series([], Name: society, dtype: object),\n",
       " 'Munnekollal': 0    Sadhii \n",
       " Name: society, dtype: object,\n",
       " 'Motappa Layout': 0    Puodse \n",
       " Name: society, dtype: object,\n",
       " 'Akshaya Vana': 0    Rainet \n",
       " Name: society, dtype: object,\n",
       " 'Kaggalipura': 0    Baowsig\n",
       " Name: society, dtype: object,\n",
       " 'Basavanna Nagar': 0    Itala A\n",
       " Name: society, dtype: object,\n",
       " '6th Phase JP Nagar': 0    HMinebo\n",
       " Name: society, dtype: object,\n",
       " 'Ulsoor': 0    K borja\n",
       " 1    Rilor C\n",
       " Name: society, dtype: object,\n",
       " 'Thigalarapalya': 0    Prtanha\n",
       " Name: society, dtype: object,\n",
       " 'Somasundara Palya': 0    ManceEl\n",
       " Name: society, dtype: object,\n",
       " 'T.C PALYA': Series([], Name: society, dtype: object),\n",
       " 'Muneshwara Nagar': 0    Laderav\n",
       " Name: society, dtype: object,\n",
       " 'Basaveshwara Nagar': 0    Suncy R\n",
       " Name: society, dtype: object,\n",
       " 'Bull Temple Road': Series([], Name: society, dtype: object),\n",
       " 'Bommasandra': 0    SSestth\n",
       " Name: society, dtype: object,\n",
       " 'Prashanth Nagar': 0    Vancy R\n",
       " Name: society, dtype: object,\n",
       " 'Suragajakkanahalli': 0    PrhyaK \n",
       " Name: society, dtype: object,\n",
       " 'Ardendale': 0    AWharde\n",
       " Name: society, dtype: object,\n",
       " 'Harlur': 0    Prncyrn\n",
       " Name: society, dtype: object,\n",
       " 'Sampigehalli': 0    Puens G\n",
       " Name: society, dtype: object,\n",
       " 'RMV': Series([], Name: society, dtype: object),\n",
       " 'Banashankari3rd stage bigbazar': Series([], Name: society, dtype: object),\n",
       " 'Bagalur Main Road': Series([], Name: society, dtype: object),\n",
       " 'Kodihalli': 0    Soianal\n",
       " Name: society, dtype: object,\n",
       " 'Narayanapura': 0    AriosHe\n",
       " Name: society, dtype: object,\n",
       " 'Binny Mills Employees Colony': Series([], Name: society, dtype: object),\n",
       " 'Bannerghatta Road': 0    SNity S\n",
       " Name: society, dtype: object,\n",
       " 'Hennur': 0    Shateor\n",
       " Name: society, dtype: object,\n",
       " '5th Phase JP Nagar': 0    Mangsr \n",
       " Name: society, dtype: object,\n",
       " 'Kodigehaali': 0    Shyas S\n",
       " Name: society, dtype: object,\n",
       " 'Gopalapura': 0    Sothadr\n",
       " Name: society, dtype: object,\n",
       " 'Billekahalli': 0    Raony C\n",
       " Name: society, dtype: object,\n",
       " 'Jalahalli': 0    Tahtsla\n",
       " Name: society, dtype: object,\n",
       " 'Mahadevpura': 0    Neisei \n",
       " Name: society, dtype: object,\n",
       " 'Anekal': 0    Vaensnd\n",
       " Name: society, dtype: object,\n",
       " 'Hoodi Circle, ': Series([], Name: society, dtype: object),\n",
       " 'Sompura': 0    Suiseit\n",
       " Name: society, dtype: object,\n",
       " 'Ashirvad Colony': 0    Swhtsna\n",
       " 1    VMowsea\n",
       " Name: society, dtype: object,\n",
       " 'Dodda Nekkundi': 0    Adstah \n",
       " 1    MavarSa\n",
       " Name: society, dtype: object,\n",
       " 'K N Extension': Series([], Name: society, dtype: object),\n",
       " 'Hosur Road': 0    PuendWe\n",
       " Name: society, dtype: object,\n",
       " 'Battarahalli': 0    PaontWa\n",
       " Name: society, dtype: object,\n",
       " 'Gokula Extension': Series([], Name: society, dtype: object),\n",
       " 'Kamakshipalya': 0    Viaxy G\n",
       " Name: society, dtype: object,\n",
       " 'Sultan Palaya': 0    Vaaldak\n",
       " Name: society, dtype: object,\n",
       " 'Sanne Amanikere': 0    Hoxiaa \n",
       " Name: society, dtype: object,\n",
       " 'Amco Colony': 0    Hoeatan\n",
       " Name: society, dtype: object,\n",
       " 'Ambalipura': 0    Dimes E\n",
       " 1    SJodsed\n",
       " Name: society, dtype: object,\n",
       " 'Hoodi': 0    GoAirej\n",
       " Name: society, dtype: object,\n",
       " 'Samethanahalli': 0    SPontna\n",
       " Name: society, dtype: object,\n",
       " 'Brookefield': 0    Goodsrb\n",
       " 1    Mapleer\n",
       " 2    Roeekbl\n",
       " 3    Stlomg \n",
       " Name: society, dtype: object,\n",
       " 'Yelenahalli': 0    Jaers S\n",
       " 1    MDoseim\n",
       " 2    Nisisn \n",
       " Name: society, dtype: object,\n",
       " 'Richmond Town': 0    APusenc\n",
       " 1    Bltonin\n",
       " 2    Kaestid\n",
       " Name: society, dtype: object,\n",
       " 'Suddaguntepalya': 0    MSanaer\n",
       " Name: society, dtype: object,\n",
       " 'Udayapur Village': 0    Plowsri\n",
       " Name: society, dtype: object,\n",
       " 'Vittasandra': 0    Prlla C\n",
       " Name: society, dtype: object,\n",
       " 'Thippasandra': Series([], Name: society, dtype: object),\n",
       " 'Chikkabidarakallu': 0    Gontyol\n",
       " Name: society, dtype: object,\n",
       " '1 Giri Nagar': 0    Bancyri\n",
       " Name: society, dtype: object,\n",
       " 'Hoysalanagar': 0    PNncysi\n",
       " Name: society, dtype: object,\n",
       " 'Defence Colony': 0    Inshath\n",
       " 1    Masta A\n",
       " 2    Vantspa\n",
       " Name: society, dtype: object,\n",
       " '2nd Stage Nagarbhavi': Series([], Name: society, dtype: object),\n",
       " 'Vidyaranyapura': 0    DSestil\n",
       " Name: society, dtype: object,\n",
       " 'Amruthahalli': 0    Prentra\n",
       " 1    Prowsi \n",
       " 2    Srncy R\n",
       " Name: society, dtype: object,\n",
       " 'ITI Employees Layout': Series([], Name: society, dtype: object),\n",
       " 'Kodigehalli': 0    Raellil\n",
       " Name: society, dtype: object,\n",
       " 'Patelappa Layout': 0    Sryamar\n",
       " Name: society, dtype: object,\n",
       " 'Ring Road Nagarbhavi': Series([], Name: society, dtype: object),\n",
       " 'NS Palya': Series([], Name: society, dtype: object),\n",
       " 'Subramanyapura': 0    Mayne A\n",
       " Name: society, dtype: object,\n",
       " 'Basavangudi': 0    Asncyes\n",
       " 1    Bousey \n",
       " 2    Brsic C\n",
       " 3    KuisePa\n",
       " 4    Shntsad\n",
       " 5    Soarkig\n",
       " 6    Swers T\n",
       " 7    Tinori \n",
       " 8    V2lasna\n",
       " Name: society, dtype: object,\n",
       " 'Kenchenahalli': 0    AriosPa\n",
       " Name: society, dtype: object,\n",
       " '3rd Block Hrbr Layout': 0    Icncy R\n",
       " Name: society, dtype: object,\n",
       " 'Bank Avenue': Series([], Name: society, dtype: object),\n",
       " 'Surabhi Layout': 0    VDdonel\n",
       " Name: society, dtype: object,\n",
       " 'Banjara Layout': Series([], Name: society, dtype: object),\n",
       " 'Omkar Nagar': 0    Shinei \n",
       " Name: society, dtype: object,\n",
       " 'Kereguddadahalli': 0    Jaood G\n",
       " Name: society, dtype: object,\n",
       " 'Maragondanahalli': 0    ArnzaFi\n",
       " Name: society, dtype: object,\n",
       " 'Silk Board': Series([], Name: society, dtype: object),\n",
       " 'Kada Agrahara': 0    CoaveAt\n",
       " Name: society, dtype: object,\n",
       " 'Kambipura': 0    Prrtht \n",
       " Name: society, dtype: object,\n",
       " 'BHEL Layout': Series([], Name: society, dtype: object),\n",
       " 'Medahalli': 0    Sancya \n",
       " Name: society, dtype: object,\n",
       " 'Banashankari Stage III': 0    Pridsi \n",
       " Name: society, dtype: object,\n",
       " 'Kashi Nagar': 0    Adarkya\n",
       " Name: society, dtype: object,\n",
       " 'Sector 7 HSR Layout': 0    Saitya \n",
       " Name: society, dtype: object,\n",
       " 'Yemlur, Old Airport Road, ': Series([], Name: society, dtype: object),\n",
       " 'VHBCS Layout': 0    OlarkLa\n",
       " Name: society, dtype: object,\n",
       " 'Ittamadu': 0    Naory G\n",
       " Name: society, dtype: object,\n",
       " 'Rajiv Nagar': 0    PuoodSk\n",
       " Name: society, dtype: object,\n",
       " 'Gattahalli': 0    Arano M\n",
       " 1    Hameson\n",
       " 2    Miiewa \n",
       " Name: society, dtype: object,\n",
       " 'Arekere': 0    Prdowth\n",
       " 1    RRnumn \n",
       " Name: society, dtype: object,\n",
       " 'Ramanjaneyanagar': 0    Siite E\n",
       " Name: society, dtype: object,\n",
       " 'Mico Layout': 0    Amsomun\n",
       " 1    Inasy E\n",
       " Name: society, dtype: object,\n",
       " '7th Block Jayanagar': 0    Jaitira\n",
       " 1    Shamzm \n",
       " Name: society, dtype: object,\n",
       " '2nd Phase JP Nagar': 0    Gintsar\n",
       " 1    Sharlth\n",
       " Name: society, dtype: object,\n",
       " 'Kammanahalli': 0    Bhide P\n",
       " 1    Suvasre\n",
       " Name: society, dtype: object,\n",
       " 'K G Colony': 0    Aincy R\n",
       " Name: society, dtype: object,\n",
       " 'Banashankari': 0    Bregae \n",
       " Name: society, dtype: object,\n",
       " 'Herohalli': Series([], Name: society, dtype: object),\n",
       " 'Chikkabanavar': 0    Javasya\n",
       " Name: society, dtype: object,\n",
       " 'HRBR Layout': 0    Srayatr\n",
       " 1    Vaaveeh\n",
       " Name: society, dtype: object,\n",
       " nan: Series([], Name: society, dtype: object),\n",
       " 'Ashwini layout': 0    Kaantth\n",
       " Name: society, dtype: object,\n",
       " 'Marathalli bridge': Series([], Name: society, dtype: object),\n",
       " 'Dooravani Nagar': 0    Puceswn\n",
       " Name: society, dtype: object,\n",
       " 'JCR Layout': 0    ARnamru\n",
       " Name: society, dtype: object,\n",
       " 'Nehru Nagar': 0    Veyalin\n",
       " Name: society, dtype: object,\n",
       " 'Kanakapura': 0    GoityEt\n",
       " Name: society, dtype: object,\n",
       " 'Papareddipalya': Series([], Name: society, dtype: object),\n",
       " 'Venkatapura': 0    ThBayah\n",
       " Name: society, dtype: object,\n",
       " 'Sneha Colony': 0    Daill S\n",
       " 1    MGntsar\n",
       " Name: society, dtype: object,\n",
       " 'Konanakunte': 0    Prasa W\n",
       " Name: society, dtype: object,\n",
       " 'Hosapalya': 0    Viise P\n",
       " Name: society, dtype: object,\n",
       " 'Doddagubbi': Series([], Name: society, dtype: object),\n",
       " 'Sector 6 HSR Layout': Series([], Name: society, dtype: object),\n",
       " 'Margondanahalli': Series([], Name: society, dtype: object),\n",
       " 'ITI Layout': 0    BMityre\n",
       " 1    Soarkge\n",
       " Name: society, dtype: object,\n",
       " 'R.T. Nagar': 0    GModsNR\n",
       " 1    SiineSu\n",
       " Name: society, dtype: object,\n",
       " 'Tumkur Road': 0    Sahtsva\n",
       " Name: society, dtype: object,\n",
       " 'Vasanthapura': Series([], Name: society, dtype: object),\n",
       " 'Hosahalli': 0    NSezeBr\n",
       " Name: society, dtype: object,\n",
       " 'GM Palaya': 0    Srg Bnc\n",
       " Name: society, dtype: object,\n",
       " 'near Ramanashree California resort': Series([], Name: society, dtype: object),\n",
       " '6th block banashankari 3rd stage, 100 feet ORR': Series([], Name: society, dtype: object),\n",
       " 'Jalahalli East': 0    ShshaSa\n",
       " Name: society, dtype: object,\n",
       " 'Poornapragna Housing Society Layout': Series([], Name: society, dtype: object),\n",
       " 'Hosakerehalli': 0    Taonte \n",
       " Name: society, dtype: object,\n",
       " 'Huskur': Series([], Name: society, dtype: object),\n",
       " 'Indira Nagar': 0    Gonorir\n",
       " 1    MCtleas\n",
       " 2    Suurtni\n",
       " Name: society, dtype: object,\n",
       " 'Shanthala Nagar': 0    Malex C\n",
       " Name: society, dtype: object,\n",
       " 'Teachers Colony': Series([], Name: society, dtype: object),\n",
       " 'Bettahalsoor': 0    Toainnt\n",
       " Name: society, dtype: object,\n",
       " 'Srinivasa Nagar': Series([], Name: society, dtype: object),\n",
       " 'Sulthangunta': Series([], Name: society, dtype: object),\n",
       " 'Byrathi Village': Series([], Name: society, dtype: object),\n",
       " 'Kodichikkanahalli': 0    Jae 1ke\n",
       " 1    PentyVB\n",
       " 2    Prs 2hi\n",
       " 3    Suntsan\n",
       " Name: society, dtype: object,\n",
       " 'Ambedkar Colony': 0    RMcesa \n",
       " Name: society, dtype: object,\n",
       " 'Varthur Road': 0    Aseenh \n",
       " Name: society, dtype: object,\n",
       " 'Anjappa Layout': Series([], Name: society, dtype: object),\n",
       " 'Avalahalli': 0    Sohea A\n",
       " Name: society, dtype: object,\n",
       " 'Prakruthi Nagar': 0    MSvelek\n",
       " Name: society, dtype: object,\n",
       " 'Sadaramangala': 0    Maade P\n",
       " 1    Maletr \n",
       " Name: society, dtype: object,\n",
       " 'Anjanapura': 0    ACopsva\n",
       " Name: society, dtype: object,\n",
       " 'Abbigere': 0    SLtias \n",
       " Name: society, dtype: object,\n",
       " 'Tindlu': 0    Hentye \n",
       " Name: society, dtype: object,\n",
       " 'B Narayanapura': 0    Inentva\n",
       " 1    Niidet \n",
       " 2    Prionve\n",
       " 3    ShentAp\n",
       " Name: society, dtype: object,\n",
       " 'Green Garden Layout': 0    Mas 2 H\n",
       " 1    PaisePa\n",
       " Name: society, dtype: object,\n",
       " 'Gubbalala': 0    MauilTr\n",
       " Name: society, dtype: object,\n",
       " 'Dairy Circle': 0    Soeurri\n",
       " Name: society, dtype: object,\n",
       " 'Parappana Agrahara': 0    Peide L\n",
       " Name: society, dtype: object,\n",
       " 'Jeevan bima nagar': 0    Lancysi\n",
       " Name: society, dtype: object,\n",
       " 'Narayana Nagar 1st Block': 0    Krite D\n",
       " Name: society, dtype: object,\n",
       " 'KSRTC Layout': 0    Srisei \n",
       " Name: society, dtype: object,\n",
       " 'P&T Colony': Series([], Name: society, dtype: object),\n",
       " 'Cunningham Road': 0    Lelia M\n",
       " Name: society, dtype: object,\n",
       " 'New Gurappana Palya': 0    Alncy R\n",
       " Name: society, dtype: object,\n",
       " 'Chelekare': 0    BhisePa\n",
       " 1    Goezell\n",
       " Name: society, dtype: object,\n",
       " 'Palanahalli': 0    RMaanSa\n",
       " Name: society, dtype: object,\n",
       " 'Vadarpalya': 0    VMianri\n",
       " Name: society, dtype: object,\n",
       " 'Kudlu': 0    Srrnasa\n",
       " Name: society, dtype: object,\n",
       " 'Shivanagar': Series([], Name: society, dtype: object),\n",
       " 'V.V Puram': Series([], Name: society, dtype: object),\n",
       " 'Sector 3 HSR Layout': Series([], Name: society, dtype: object),\n",
       " 'Banashankari Stage VI': 0    Brens7 \n",
       " Name: society, dtype: object,\n",
       " 'HMT Layout': 0    HMRWAyo\n",
       " 1    LoentKr\n",
       " Name: society, dtype: object,\n",
       " 'Basavanagara': Series([], Name: society, dtype: object),\n",
       " 'Cox Town': 0    EGdiaAr\n",
       " 1    Eledst \n",
       " 2    ElentAp\n",
       " 3    Santspa\n",
       " Name: society, dtype: object,\n",
       " 'Kalasipalya': Series([], Name: society, dtype: object),\n",
       " 'Kathriguppe': 0    Prone M\n",
       " Name: society, dtype: object,\n",
       " 'HBR Layout': 0    Giersin\n",
       " 1    Visom B\n",
       " Name: society, dtype: object,\n",
       " '4 Bedroom Farm House in Bagalur': Series([], Name: society, dtype: object),\n",
       " 'Yelahanka New Town': 0    KHatsFl\n",
       " Name: society, dtype: object,\n",
       " 'Sahakara Nagar': 0    HoAcela\n",
       " Name: society, dtype: object,\n",
       " 'manyata park': Series([], Name: society, dtype: object),\n",
       " 'Rachenahalli': 0    Sovar S\n",
       " Name: society, dtype: object,\n",
       " 'Belathur': 0    Viiniai\n",
       " Name: society, dtype: object,\n",
       " 'Sadashiva Nagar': Series([], Name: society, dtype: object),\n",
       " 'Yelachenahalli': 0    BaiseBa\n",
       " 1    PuontBe\n",
       " Name: society, dtype: object,\n",
       " 'Shirdi Sai Layout': Series([], Name: society, dtype: object),\n",
       " 'Kodbisanhalli': 0    Seityen\n",
       " Name: society, dtype: object,\n",
       " 'Sathya Sai Layout': 0    Prowshi\n",
       " Name: society, dtype: object,\n",
       " 'Indiranagar HAL 2nd Stage': Series([], Name: society, dtype: object),\n",
       " 'Vishwanatha Nagenahalli': 0    PrBayGa\n",
       " Name: society, dtype: object,\n",
       " 'Singapura Village': 0    Juoryma\n",
       " Name: society, dtype: object,\n",
       " 'Bendiganahalli': 0    Brersld\n",
       " Name: society, dtype: object,\n",
       " 'Hosakerehalli Layout': Series([], Name: society, dtype: object),\n",
       " 'Hennagara': Series([], Name: society, dtype: object),\n",
       " 'Ferrar Nagar': 0    Leton A\n",
       " Name: society, dtype: object,\n",
       " 'Green Glen Layout': 0    Soionar\n",
       " 1    Soweray\n",
       " Name: society, dtype: object,\n",
       " 'BAGUR': Series([], Name: society, dtype: object),\n",
       " 'Thubarahalli': 0    ShdhiSa\n",
       " Name: society, dtype: object,\n",
       " 'M.G Road': 0    SontsAp\n",
       " Name: society, dtype: object,\n",
       " 'Naganathapura': 0    Malmsri\n",
       " Name: society, dtype: object,\n",
       " 'Horamavu Banaswadi': 0    Asorai \n",
       " 1    Bhave E\n",
       " Name: society, dtype: object,\n",
       " '1st Phase JP Nagar': 0    Prhtsok\n",
       " Name: society, dtype: object,\n",
       " 'Kaverappa Layout': 0    Dural C\n",
       " 1    Kesomrn\n",
       " Name: society, dtype: object,\n",
       " 'NGR Layout': 0    BSian M\n",
       " Name: society, dtype: object,\n",
       " 'Divya Unnathi Layout': Series([], Name: society, dtype: object),\n",
       " 'Vasantha Vallabha Nagar': 0    MaitySe\n",
       " 1    Nentsan\n",
       " 2    Suensda\n",
       " Name: society, dtype: object,\n",
       " 'sapthagiri Layout': Series([], Name: society, dtype: object),\n",
       " 'Seegehalli': 0    Paoliy \n",
       " 1    Stndeil\n",
       " Name: society, dtype: object,\n",
       " 'BEML Layout': Series([], Name: society, dtype: object),\n",
       " 'Alur': Series([], Name: society, dtype: object),\n",
       " 'Devarabisanahalli': 0    Spdoren\n",
       " Name: society, dtype: object,\n",
       " 'NRI Layout': 0    Mancy R\n",
       " Name: society, dtype: object,\n",
       " 'Sidedahalli': 0    Dhave E\n",
       " Name: society, dtype: object,\n",
       " 'Dwarka Nagar': Series([], Name: society, dtype: object),\n",
       " 'ITPL': 0    Samukja\n",
       " 1    Toodyit\n",
       " Name: society, dtype: object,\n",
       " 'Thurahalli': 0    Jalot C\n",
       " Name: society, dtype: object,\n",
       " 'Hallehalli': Series([], Name: society, dtype: object),\n",
       " 'Kattigenahalli': 0    Vehida \n",
       " Name: society, dtype: object,\n",
       " 'Marathi Layout': Series([], Name: society, dtype: object),\n",
       " 'Weavers Colony': Series([], Name: society, dtype: object),\n",
       " 'Raghavendra Nagar': 0    Keony H\n",
       " Name: society, dtype: object,\n",
       " 'KR Layout': Series([], Name: society, dtype: object),\n",
       " 'Babusapalaya': 0    ARngsd \n",
       " Name: society, dtype: object,\n",
       " 'Nagappa Reddy Layout': 0    Ablmsol\n",
       " Name: society, dtype: object,\n",
       " 'Kempapura': 0    Vaenev \n",
       " Name: society, dtype: object,\n",
       " 'BTM 1st Stage': 0    Coise P\n",
       " 1    Srvasks\n",
       " Name: society, dtype: object,\n",
       " 'Kariyammana Agrahara': Series([], Name: society, dtype: object),\n",
       " 'Hessarghatta': 0    StwarSi\n",
       " Name: society, dtype: object,\n",
       " 'Binnamangala': Series([], Name: society, dtype: object),\n",
       " 'Suraksha Nagar': 0    AritaFe\n",
       " Name: society, dtype: object,\n",
       " 'Lakshmi Layout': 0    Cemesti\n",
       " Name: society, dtype: object,\n",
       " 'Iblur Village': 0    Emine P\n",
       " Name: society, dtype: object,\n",
       " 'Kadugondanahalli': Series([], Name: society, dtype: object),\n",
       " 'Basava Nagar': 0    Prvaska\n",
       " 1    SLionan\n",
       " 2    Saarea \n",
       " Name: society, dtype: object,\n",
       " '2nd Block Hrbr Layout': 0    Raaden \n",
       " Name: society, dtype: object,\n",
       " 'Ananth Nagar': 0    Patri M\n",
       " Name: society, dtype: object,\n",
       " 'Canara Bank Layout': 0    Fosic C\n",
       " Name: society, dtype: object,\n",
       " 'Narasapura': Series([], Name: society, dtype: object),\n",
       " 'Manjunath Nagar': Series([], Name: society, dtype: object),\n",
       " 'Basapura': 0    Krtiqa \n",
       " Name: society, dtype: object,\n",
       " 'Channasandra': 0    Unm 2El\n",
       " Name: society, dtype: object,\n",
       " 'Singena Agrahara': 0    CoiewSy\n",
       " Name: society, dtype: object,\n",
       " 'Sector 1 HSR Layout': 0    SodilDa\n",
       " Name: society, dtype: object,\n",
       " 'Mango Garden Layout': 0    Ceral C\n",
       " Name: society, dtype: object,\n",
       " 'Kacharakanahalli': 0    JPoldGo\n",
       " Name: society, dtype: object,\n",
       " 'Bidere Agarahara, Behind Safal market': Series([], Name: society, dtype: object),\n",
       " 'Grihalakshmi Layout': Series([], Name: society, dtype: object),\n",
       " 'Gopalkrishna Nagar': 0    MJarlPe\n",
       " Name: society, dtype: object,\n",
       " 'Choodasandra': 0    GRhtiru\n",
       " Name: society, dtype: object,\n",
       " 'Sai Gardens': 0    Alivae \n",
       " Name: society, dtype: object,\n",
       " 'Dodda Kempaiah Layout': Series([], Name: society, dtype: object),\n",
       " 'Hanumanth Nagar': 0    Saersel\n",
       " Name: society, dtype: object,\n",
       " 'Kaikondrahalli': 0    Srsica \n",
       " Name: society, dtype: object,\n",
       " 'Hunasamaranahalli': 0    EmardBo\n",
       " Name: society, dtype: object,\n",
       " 'RWF West Colony': 0    PancyRe\n",
       " Name: society, dtype: object,\n",
       " 'Bileshivale': 0    FeowsMe\n",
       " Name: society, dtype: object,\n",
       " 'Neeladri Nagar': 0    GeereEc\n",
       " Name: society, dtype: object,\n",
       " 'Frazer Town': 0    Asuilnc\n",
       " Name: society, dtype: object,\n",
       " 'Williams Town': Series([], Name: society, dtype: object),\n",
       " 'Jaya Nagar East': 0    Maens G\n",
       " Name: society, dtype: object,\n",
       " 'Iggalur': 0    VaoldMa\n",
       " Name: society, dtype: object,\n",
       " 'Cooke Town': 0    Sagalhi\n",
       " 1    Scenth \n",
       " 2    Sillaa \n",
       " Name: society, dtype: object,\n",
       " 'Doddakallasandra': Series([], Name: society, dtype: object),\n",
       " 'Chokkanahalli': 0    GrhtiSr\n",
       " Name: society, dtype: object,\n",
       " 'Chikkaballapur': Series([], Name: society, dtype: object),\n",
       " 'Chamrajpet': 0    SihtsHe\n",
       " Name: society, dtype: object,\n",
       " 'VGP Layout': 0    AbnceEs\n",
       " 1    Vaurtar\n",
       " Name: society, dtype: object,\n",
       " 'Classic Paradise Layout': Series([], Name: society, dtype: object),\n",
       " 'Byappanahalli': Series([], Name: society, dtype: object),\n",
       " 'Vasanth nagar': 0    Prian E\n",
       " Name: society, dtype: object,\n",
       " 'Rayasandra': 0    MJeusyl\n",
       " Name: society, dtype: object,\n",
       " 'Kalkere': 0    Sothin \n",
       " Name: society, dtype: object,\n",
       " 'T.C. Palya': Series([], Name: society, dtype: object),\n",
       " 'Siddapura': 0    PrstaLa\n",
       " 1    Vidgema\n",
       " Name: society, dtype: object,\n",
       " 'Makali': Series([], Name: society, dtype: object),\n",
       " 'Vibuthipura': 0    Tantsod\n",
       " Name: society, dtype: object,\n",
       " '5th Block Hbr Layout': Series([], Name: society, dtype: object),\n",
       " 'Pai Layout': 0    Cemesal\n",
       " 1    Kencyes\n",
       " 2    Saage V\n",
       " 3    Saent A\n",
       " 4    SantsAp\n",
       " 5    Saood S\n",
       " 6    Tencyes\n",
       " 7    Vatlede\n",
       " Name: society, dtype: object,\n",
       " 'Defence Layout': Series([], Name: society, dtype: object),\n",
       " 'Roopena Agrahara': 0    RortsCo\n",
       " Name: society, dtype: object,\n",
       " 'Banashankari Stage V': 0    Naiewre\n",
       " Name: society, dtype: object,\n",
       " 'Coconut Garden': Series([], Name: society, dtype: object),\n",
       " 'Gollahalli': 0    ArzzaRe\n",
       " 1    MJlese \n",
       " 2    SuanaNa\n",
       " Name: society, dtype: object,\n",
       " 'Sonnenahalli': 0    Skacak \n",
       " Name: society, dtype: object,\n",
       " 'D Souza Layout': 0    Niateki\n",
       " Name: society, dtype: object,\n",
       " 'ECC Road, Whitefield, ': Series([], Name: society, dtype: object),\n",
       " 'Seetharampalya': 0    Mazler \n",
       " Name: society, dtype: object,\n",
       " 'Rukmaiah Layout': Series([], Name: society, dtype: object),\n",
       " 'Devanahalli Int. Airport': Series([], Name: society, dtype: object),\n",
       " 'Puttanahalli': Series([], Name: society, dtype: object),\n",
       " 'Benson Town': 0    Fants A\n",
       " 1    GathiVa\n",
       " 2    Gohts H\n",
       " 3    Gopus O\n",
       " 4    ImncyTa\n",
       " 5    Saentva\n",
       " Name: society, dtype: object,\n",
       " 'Devasandra Extension': Series([], Name: society, dtype: object),\n",
       " '2nd Phase Judicial Layout': Series([], Name: society, dtype: object),\n",
       " '1st Block HRBR Layout': Series([], Name: society, dtype: object),\n",
       " 'Sarjapur Road, ': Series([], Name: society, dtype: object),\n",
       " 'Byadarahalli': 0    ETntsce\n",
       " Name: society, dtype: object,\n",
       " 'Poorna Pragna Layout': 0    Pathira\n",
       " Name: society, dtype: object,\n",
       " 'Judicial Layout': 0    HRnyaAn\n",
       " 1    PrarePa\n",
       " Name: society, dtype: object,\n",
       " 'Varthur Road, ': Series([], Name: society, dtype: object),\n",
       " 'Chikka Banaswadi': 0    MSadeed\n",
       " 1    SuntsAp\n",
       " Name: society, dtype: object,\n",
       " 'Outer Ring Road East': 0    PrstaTe\n",
       " Name: society, dtype: object,\n",
       " 'Kavika Layout': Series([], Name: society, dtype: object),\n",
       " 'Vinayaka Nagar': 0    SVon hn\n",
       " Name: society, dtype: object,\n",
       " 'Banashankari Stage II': Series([], Name: society, dtype: object),\n",
       " 'Hennur Busstop': Series([], Name: society, dtype: object),\n",
       " 'GB Palya': 0    Ravashw\n",
       " Name: society, dtype: object,\n",
       " 'AMS Layout': 0    Choomu \n",
       " Name: society, dtype: object,\n",
       " '9th Block Jayanagar': Series([], Name: society, dtype: object),\n",
       " 'Karuna Nagar': 0    CoinoCu\n",
       " Name: society, dtype: object,\n",
       " 'Ashwathnagar': 0    GMentAp\n",
       " 1    Vaour S\n",
       " Name: society, dtype: object,\n",
       " 'Gaurava Nagar': Series([], Name: society, dtype: object),\n",
       " 'Kengeri Satellite Town ( BDA SITE)': Series([], Name: society, dtype: object),\n",
       " 'AGS Layout': Series([], Name: society, dtype: object),\n",
       " 'Srinagar': Series([], Name: society, dtype: object),\n",
       " 'Brigade Road': Series([], Name: society, dtype: object),\n",
       " 'Bannerghatta': 0    Mamespa\n",
       " Name: society, dtype: object,\n",
       " 'Maruthi HBCS Layout': Series([], Name: society, dtype: object),\n",
       " 'Devanahalli Road': 0    Ozana U\n",
       " Name: society, dtype: object,\n",
       " 'Green Woods Layout': 0    Paarklu\n",
       " Name: society, dtype: object,\n",
       " 'Craig Park Layout': 0    Cearkry\n",
       " Name: society, dtype: object,\n",
       " 'Immadihalli': 0    Niimet \n",
       " Name: society, dtype: object,\n",
       " 'Banagiri Nagar': Series([], Name: society, dtype: object),\n",
       " 'Hiremath Layout': 0    MadorSp\n",
       " Name: society, dtype: object,\n",
       " 'Jnanabharathi Layout': Series([], Name: society, dtype: object),\n",
       " 'Chikkasandra': Series([], Name: society, dtype: object),\n",
       " 'Bharath Housing Society Layout': Series([], Name: society, dtype: object),\n",
       " '3rd Block Jayanagar': Series([], Name: society, dtype: object),\n",
       " 'Manjunatha Layout': Series([], Name: society, dtype: object),\n",
       " 'Konanakunte Cross': Series([], Name: society, dtype: object),\n",
       " 'Abbaiah Reddy Layout': 0    SSaveik\n",
       " Name: society, dtype: object,\n",
       " 'Tavarekere': Series([], Name: society, dtype: object),\n",
       " 'Thirumenahalli': 0    MNtha A\n",
       " Name: society, dtype: object,\n",
       " 'KPC Layout': 0    SVmesVi\n",
       " Name: society, dtype: object,\n",
       " 'HOSUR MAIN ROAD': Series([], Name: society, dtype: object),\n",
       " 'Nandi Durga Road': Series([], Name: society, dtype: object),\n",
       " 'Kumara Park': Series([], Name: society, dtype: object),\n",
       " 'Daadys Gaarden Layout': 0    InockHo\n",
       " Name: society, dtype: object,\n",
       " 'Maruthi Nagar': 0    PavanSa\n",
       " Name: society, dtype: object,\n",
       " 'Marsur': 0    Asara S\n",
       " Name: society, dtype: object,\n",
       " 'Kallumantapa': 0    BSarknd\n",
       " 1    SMncyy \n",
       " Name: society, dtype: object,\n",
       " 'Malimakanapura': 0    Copust \n",
       " Name: society, dtype: object,\n",
       " 'Rustam Bagh Layout': 0    TealdEm\n",
       " Name: society, dtype: object,\n",
       " 'New Thippasandra': 0    Saeraep\n",
       " 1    Srmitev\n",
       " Name: society, dtype: object,\n",
       " 'Garden Layout': 0    DSidePr\n",
       " Name: society, dtype: object,\n",
       " 'Viswapriyanagar.begur Road.bommanahalli.': Series([], Name: society, dtype: object),\n",
       " 'T K Reddy Layout': 0    DSineun\n",
       " Name: society, dtype: object,\n",
       " 'Kumbena Agrahara': 0    Shont F\n",
       " Name: society, dtype: object,\n",
       " 'Pai layout , Mahadevapura': Series([], Name: society, dtype: object),\n",
       " 'frazertown': Series([], Name: society, dtype: object),\n",
       " 'Akshayanagara East': 0    HoDewy \n",
       " 1    Prncyay\n",
       " Name: society, dtype: object,\n",
       " 'Doddanekundi': 0    AkletBa\n",
       " Name: society, dtype: object,\n",
       " 'Venkatadri Layout': 0    Raiyai \n",
       " Name: society, dtype: object,\n",
       " 'Bommenahalli': 0    Prana S\n",
       " Name: society, dtype: object,\n",
       " 'Mahaganapathy Nagar': 0    Vaodak \n",
       " Name: society, dtype: object,\n",
       " 'Andrahalli': Series([], Name: society, dtype: object),\n",
       " 'Vittal Nagar': 0    Riave E\n",
       " Name: society, dtype: object,\n",
       " '2Electronic City Phase II': Series([], Name: society, dtype: object),\n",
       " '3rd Block Banashankari': Series([], Name: society, dtype: object),\n",
       " 'Bhuvaneshwari Nagar': 0    NaaveEn\n",
       " Name: society, dtype: object,\n",
       " 'Kadarenahalli': Series([], Name: society, dtype: object),\n",
       " 'Laggere': Series([], Name: society, dtype: object),\n",
       " 'Victoria Layout': Series([], Name: society, dtype: object),\n",
       " 'Prithvi Layout': 0    Prigh L\n",
       " 1    Prlmsge\n",
       " Name: society, dtype: object,\n",
       " 'Subramanyanagar': Series([], Name: society, dtype: object),\n",
       " '1 Ramamurthy Nagar': Series([], Name: society, dtype: object),\n",
       " '5th Stage BEML Layout': Series([], Name: society, dtype: object),\n",
       " 'IVC Road': 0    Orana N\n",
       " Name: society, dtype: object,\n",
       " 'Jaya Mahal layout': 0    Fanorrt\n",
       " 1    Nehalri\n",
       " Name: society, dtype: object,\n",
       " 'BSM Extension': 0    Raave E\n",
       " Name: society, dtype: object,\n",
       " 'Vijinapura': 0    Vadidpl\n",
       " Name: society, dtype: object,\n",
       " 'Banaswadi': 0    Naavehi\n",
       " 1    RailsDa\n",
       " 2    Shidei \n",
       " 3    Srldsri\n",
       " Name: society, dtype: object,\n",
       " 'P&T Layout': 0    Sashaa \n",
       " Name: society, dtype: object,\n",
       " 'Byrasandra': 0    ViisePa\n",
       " Name: society, dtype: object,\n",
       " 'SBM Colony': Series([], Name: society, dtype: object),\n",
       " 'Veerannapalya': Series([], Name: society, dtype: object),\n",
       " 'Chowdeshwari Layout': 0    Keharya\n",
       " Name: society, dtype: object,\n",
       " 'Mathikere Extension': Series([], Name: society, dtype: object),\n",
       " 'Sector 2 HSR Layout': 0    DShtsow\n",
       " Name: society, dtype: object,\n",
       " 'Anantapura': 0    Edleyil\n",
       " 1    Grare S\n",
       " Name: society, dtype: object,\n",
       " 'Shivaji Nagar': 0    FBazaah\n",
       " 1    HMqueu \n",
       " Name: society, dtype: object,\n",
       " 'Badavala Nagar': 0    DNncasa\n",
       " Name: society, dtype: object,\n",
       " '4th Block Koramangala': 0    EvestPi\n",
       " Name: society, dtype: object,\n",
       " 'Belatur': 0    Indanrt\n",
       " 1    Kehts H\n",
       " 2    ViaarSa\n",
       " Name: society, dtype: object,\n",
       " 'Lalbagh Road': Series([], Name: society, dtype: object),\n",
       " 'Kamakya Layout': Series([], Name: society, dtype: object),\n",
       " 'Vignana Nagar': 0    Alows M\n",
       " 1    Mallad \n",
       " 2    Mancyhi\n",
       " 3    Phens G\n",
       " Name: society, dtype: object,\n",
       " 'Nallurhalli': 0    Mauil T\n",
       " Name: society, dtype: object,\n",
       " 'Chinnapanahalli': 0    Mae 2ow\n",
       " Name: society, dtype: object,\n",
       " 'Lingarajapuram': 0    Glnetch\n",
       " Name: society, dtype: object,\n",
       " '3rd Block HBR Layout': Series([], Name: society, dtype: object),\n",
       " 'Laxmi Sagar Layout': 0    DubowRa\n",
       " 1    Pudgear\n",
       " Name: society, dtype: object,\n",
       " 'Nelamangala': 0    V2gesre\n",
       " Name: society, dtype: object,\n",
       " 'Nagavarapalya': 0    PuonsSe\n",
       " Name: society, dtype: object,\n",
       " 'Hongasandra': 0    Srrtsu \n",
       " Name: society, dtype: object,\n",
       " 'Harappanahalli': 0    Clood E\n",
       " 1    Nioutar\n",
       " Name: society, dtype: object,\n",
       " 'BTM Layout': 0    Myace P\n",
       " Name: society, dtype: object,\n",
       " 'Chennammana Kere': Series([], Name: society, dtype: object),\n",
       " 'Kanaka Nagar': 0    SoersTo\n",
       " 1    SoniaPe\n",
       " Name: society, dtype: object,\n",
       " 'Tasker Town': Series([], Name: society, dtype: object),\n",
       " 'Govindpura': 0    Muncy R\n",
       " Name: society, dtype: object,\n",
       " 'NR Colony': 0    GKncysi\n",
       " Name: society, dtype: object,\n",
       " 'Agara Village': Series([], Name: society, dtype: object),\n",
       " 'Shettigere': 0    LendaVi\n",
       " Name: society, dtype: object,\n",
       " 'Kenchanehalli R R Nagar': Series([], Name: society, dtype: object),\n",
       " 'BEL Road': Series([], Name: society, dtype: object),\n",
       " 'Byagadadhenahalli': 0    VBavaai\n",
       " Name: society, dtype: object,\n",
       " 'Doddabommasandra': 0    Apion M\n",
       " 1    MaaveEn\n",
       " Name: society, dtype: object,\n",
       " 'Maruthi Layout': 0    Prareth\n",
       " Name: society, dtype: object,\n",
       " 'Sree Narayana Nagar': 0    Sholaya\n",
       " Name: society, dtype: object,\n",
       " 'Tunganagara': 0    DSdidSp\n",
       " Name: society, dtype: object,\n",
       " 'BTM 2nd Stage': 0    SNe 2ev\n",
       " Name: society, dtype: object,\n",
       " 'Remco Bhel Layout': 0    Suncy R\n",
       " Name: society, dtype: object,\n",
       " 'Chokkasandra': 0    Siise R\n",
       " Name: society, dtype: object,\n",
       " 'Panduranga Nagar': 0    Jeshan \n",
       " 1    SApusnu\n",
       " Name: society, dtype: object,\n",
       " 'Sri Venkateshpura Layout': Series([], Name: society, dtype: object),\n",
       " 'Jakkur Plantation': 0    Reicace\n",
       " Name: society, dtype: object,\n",
       " 'Sir M V Nagar': Series([], Name: society, dtype: object),\n",
       " 'Bikasipura': Series([], Name: society, dtype: object),\n",
       " 'Basaveshwara Nagar Yelahanka': Series([], Name: society, dtype: object),\n",
       " '1st Block Koramangala': 0    Dhnts A\n",
       " 1    LuncyRe\n",
       " Name: society, dtype: object,\n",
       " 'Hoskote': 0    Deiveer\n",
       " Name: society, dtype: object,\n",
       " 'Attiguppe': Series([], Name: society, dtype: object),\n",
       " 'Srirampuram': Series([], Name: society, dtype: object),\n",
       " 'Yemlur': 0    Epllan \n",
       " Name: society, dtype: object,\n",
       " 'Race Course Road': Series([], Name: society, dtype: object),\n",
       " 'Gkvk Layout': Series([], Name: society, dtype: object),\n",
       " \"St. John's Road\": 0    Soy 1Iv\n",
       " Name: society, dtype: object,\n",
       " 'Doopanahalli': 0    KroneMo\n",
       " 1    VancyRe\n",
       " Name: society, dtype: object,\n",
       " 'Doddaballapur': 0    Vahid O\n",
       " Name: society, dtype: object,\n",
       " 'Sathanur': Series([], Name: society, dtype: object),\n",
       " 'Ramamohanapuram': Series([], Name: society, dtype: object),\n",
       " 'kanakapura road': Series([], Name: society, dtype: object),\n",
       " 'Kaveri Nagar': 0    Roiti A\n",
       " Name: society, dtype: object,\n",
       " 'Sundar Ram Shetty Nagar': 0    NeendLe\n",
       " Name: society, dtype: object,\n",
       " 'Kirloskar layout, Basaveshwarnagar': Series([], Name: society, dtype: object),\n",
       " 'Alfa Garden Layout': 0    Saeina \n",
       " Name: society, dtype: object,\n",
       " 'Gowdanapalya': Series([], Name: society, dtype: object),\n",
       " 'Hoodi Layout': 0    SVstos \n",
       " Name: society, dtype: object,\n",
       " 'Gaundanapalya': 0    Sioma A\n",
       " Name: society, dtype: object,\n",
       " 'Arasanakunte': Series([], Name: society, dtype: object),\n",
       " '5th block Koramangala': Series([], Name: society, dtype: object),\n",
       " 'JakkurYelahanka': Series([], Name: society, dtype: object),\n",
       " 'Gunjur Palya': 0    BDectou\n",
       " 1    Evvan V\n",
       " Name: society, dtype: object,\n",
       " 'Upkar Layout': 0    DSstaen\n",
       " Name: society, dtype: object,\n",
       " 'Sunkadakatte': Series([], Name: society, dtype: object),\n",
       " 'Someshwara Layout': Series([], Name: society, dtype: object),\n",
       " 'Kathreguppe': Series([], Name: society, dtype: object),\n",
       " 'Channasandra Layout': 0    Aconyit\n",
       " Name: society, dtype: object,\n",
       " 'HAL 3rd Stage': Series([], Name: society, dtype: object),\n",
       " 'Doctors Layout': 0    Mavelr \n",
       " Name: society, dtype: object,\n",
       " 'Austin Town': Series([], Name: society, dtype: object),\n",
       " 'Rajagopala Nagar': Series([], Name: society, dtype: object),\n",
       " 'Vishwapriya Nagar': 0    Aaniaa \n",
       " Name: society, dtype: object,\n",
       " 'Sarakki Nagar': 0    Sowerew\n",
       " Name: society, dtype: object,\n",
       " 'Bahubali Nagar': Series([], Name: society, dtype: object),\n",
       " 'Lottegolla Halli': 0    AnialPa\n",
       " Name: society, dtype: object,\n",
       " 'Nandini Layout': Series([], Name: society, dtype: object),\n",
       " 'Vibhutipura Extension': Series([], Name: society, dtype: object),\n",
       " 'B Channasandra': 0    PrncyRe\n",
       " Name: society, dtype: object,\n",
       " 'Dollars Colony': 0    Koowsis\n",
       " 1    Saent G\n",
       " Name: society, dtype: object,\n",
       " 'Arehalli': Series([], Name: society, dtype: object),\n",
       " 'Cambridge  road': Series([], Name: society, dtype: object),\n",
       " 'Hennur Gardens': 0    PlhtsHe\n",
       " Name: society, dtype: object,\n",
       " 'Thyagaraja Nagar': Series([], Name: society, dtype: object),\n",
       " 'Howthinarayanappa Garden': 0    Vidil D\n",
       " Name: society, dtype: object,\n",
       " 'Bharathi Nagar': 0    FoapeWa\n",
       " Name: society, dtype: object,\n",
       " 'SRINIVASAPURA': Series([], Name: society, dtype: object),\n",
       " 'Cambridge Layout': 0    Bhacy L\n",
       " Name: society, dtype: object,\n",
       " ' ittamadu': Series([], Name: society, dtype: object),\n",
       " 'Doddakannelli': 0    BMtusLo\n",
       " 1    Jyavet \n",
       " 2    SastyDy\n",
       " 3    Sueesti\n",
       " Name: society, dtype: object,\n",
       " 'Pulkeshi Nagar': 0    ElaleSp\n",
       " Name: society, dtype: object,\n",
       " 'Thanisandra Main Road, ': Series([], Name: society, dtype: object),\n",
       " 'Jayanagar': 0    PrianM \n",
       " 1    Rakulai\n",
       " 2    Rathira\n",
       " Name: society, dtype: object,\n",
       " ' Bhoganhalli': 0    Rosha I\n",
       " Name: society, dtype: object,\n",
       " 'Kumbalgodu': Series([], Name: society, dtype: object),\n",
       " 'banashankari stage iii sa': Series([], Name: society, dtype: object),\n",
       " 'Amruthnagar': 0    Saeur G\n",
       " Name: society, dtype: object,\n",
       " 'Palace Guttahalli': Series([], Name: society, dtype: object),\n",
       " 'Akshya Nagar': Series([], Name: society, dtype: object),\n",
       " ' Anekal': Series([], Name: society, dtype: object),\n",
       " 'BCC Layout': 0    Mae 1Ar\n",
       " Name: society, dtype: object,\n",
       " 'Mathikere': 0    CSncele\n",
       " 1    Dovel M\n",
       " Name: society, dtype: object,\n",
       " 'Friends Colony': 0    SiidsGa\n",
       " Name: society, dtype: object,\n",
       " 'Doddabidrakallu': 0    Lants A\n",
       " Name: society, dtype: object,\n",
       " 'Sri Balaji Krupa Layout': 0    KrodsNo\n",
       " Name: society, dtype: object,\n",
       " 'Bidadi': 0    Etuney \n",
       " Name: society, dtype: object,\n",
       " 'Sampige Layout': Series([], Name: society, dtype: object),\n",
       " 'Virgonagar': Series([], Name: society, dtype: object),\n",
       " 'Dodsworth Layout': 0    Ciques \n",
       " Name: society, dtype: object,\n",
       " 'Kudlu Village, ': Series([], Name: society, dtype: object),\n",
       " 'Rajiv Gandhi Nagar': 0    Almid P\n",
       " Name: society, dtype: object,\n",
       " 'Kurubarahalli': Series([], Name: society, dtype: object),\n",
       " 'Sector 4 HSR Layout': Series([], Name: society, dtype: object),\n",
       " 'Bhagyalakshmi Avenue': 0    Prineth\n",
       " Name: society, dtype: object,\n",
       " 'Kengeri Hobli': Series([], Name: society, dtype: object),\n",
       " 'Vyalikaval': Series([], Name: society, dtype: object),\n",
       " 'Banaswadi, ': Series([], Name: society, dtype: object),\n",
       " 'Balaji Gardens Layout': 0    GSnts A\n",
       " Name: society, dtype: object,\n",
       " 'Thavarekere': Series([], Name: society, dtype: object),\n",
       " 'HAL 2nd Stage': 0    MamalPr\n",
       " Name: society, dtype: object,\n",
       " ' Devarabeesana Halli': 0    Sorisa \n",
       " Name: society, dtype: object,\n",
       " ' Rachenahalli': 0    AsNowre\n",
       " Name: society, dtype: object,\n",
       " 'Tippenahalli': Series([], Name: society, dtype: object),\n",
       " 'Prestige Sunrise': Series([], Name: society, dtype: object),\n",
       " '1st Stage Indira Nagar': Series([], Name: society, dtype: object),\n",
       " 'Srigandada Kaval': Series([], Name: society, dtype: object),\n",
       " 'Viswajit Layout': Series([], Name: society, dtype: object),\n",
       " 'Adityanagar': Series([], Name: society, dtype: object),\n",
       " 'BDS Layout': Series([], Name: society, dtype: object),\n",
       " 'Shanthi Layout': Series([], Name: society, dtype: object),\n",
       " 'Esther Enclave Layout': Series([], Name: society, dtype: object),\n",
       " 'Volagerekallahalli': 0    PSterAs\n",
       " Name: society, dtype: object,\n",
       " 'Keerthi Layout': 0    NianaKe\n",
       " Name: society, dtype: object,\n",
       " 'Ganga Nagar Extension': Series([], Name: society, dtype: object),\n",
       " 'Shikaripalya': 0    ALtonea\n",
       " Name: society, dtype: object,\n",
       " 'Huttanahalli': Series([], Name: society, dtype: object),\n",
       " 'Reliable Woods Layout': Series([], Name: society, dtype: object),\n",
       " '4th T block Jayanagar': Series([], Name: society, dtype: object),\n",
       " 'Nayandanahalli': 0    Rarelt \n",
       " Name: society, dtype: object,\n",
       " 'Hagadur': 0    SSoraba\n",
       " Name: society, dtype: object,\n",
       " 'Popular Colony': Series([], Name: society, dtype: object),\n",
       " 'Soundarya Layout': 0    Goe 3la\n",
       " Name: society, dtype: object,\n",
       " 'Banashankari 6th Stage ,Subramanyapura': Series([], Name: society, dtype: object),\n",
       " 'Amarjyothi Colony': Series([], Name: society, dtype: object),\n",
       " 'Pattanagere': Series([], Name: society, dtype: object),\n",
       " 'Dollars Layout': 0    Sancya \n",
       " 1    Toiasle\n",
       " Name: society, dtype: object,\n",
       " 'Chikkabettahalli': Series([], Name: society, dtype: object),\n",
       " 'Bhuvaneswari Nagar': 0    RRersow\n",
       " Name: society, dtype: object,\n",
       " 'Varanasi': 0    Ocuil T\n",
       " Name: society, dtype: object,\n",
       " 'Gopal Reddy Layout': 0    Krestee\n",
       " Name: society, dtype: object,\n",
       " 'sankeswari': Series([], Name: society, dtype: object),\n",
       " 'T c palya': Series([], Name: society, dtype: object),\n",
       " 'Govindraja Nagar': Series([], Name: society, dtype: object),\n",
       " 'Virat Nagar': Series([], Name: society, dtype: object),\n",
       " 'Chennammanakere Achukattu': Series([], Name: society, dtype: object),\n",
       " 'Maragondana Halli, kr puram, old madras road': Series([], Name: society, dtype: object),\n",
       " 'Dhanalakshmi Layout': Series([], Name: society, dtype: object),\n",
       " 'Jp nagar 8th Phase .': Series([], Name: society, dtype: object),\n",
       " 'Nobo Nagar': 0    Elacet \n",
       " 1    VRaceer\n",
       " Name: society, dtype: object,\n",
       " 'Kanakapura Road': Series([], Name: society, dtype: object),\n",
       " 'Kadubeesanahalli': 0    Krshi G\n",
       " 1    Srhan P\n",
       " Name: society, dtype: object,\n",
       " 'J P Nagar 7th Phase Ramayya City': Series([], Name: society, dtype: object),\n",
       " 'Green Domain Layout': Series([], Name: society, dtype: object),\n",
       " 'Cleveland Town': 0    Coner C\n",
       " 1    Lehidrc\n",
       " Name: society, dtype: object,\n",
       " 'Syndicate Bank Colony': Series([], Name: society, dtype: object),\n",
       " 'Off Sarjapur road, ': Series([], Name: society, dtype: object),\n",
       " 'M C Layout': Series([], Name: society, dtype: object),\n",
       " 'Nanjappa Layout': 0    AnazaPl\n",
       " Name: society, dtype: object,\n",
       " 'Dodda Banaswadi': Series([], Name: society, dtype: object),\n",
       " 'BEL Layout': Series([], Name: society, dtype: object),\n",
       " 'Sri Kanteshwara Nagar': Series([], Name: society, dtype: object),\n",
       " 'Bellari Road': 0    Pralmat\n",
       " 1    SaareNo\n",
       " 2    Sohid O\n",
       " Name: society, dtype: object,\n",
       " 'Jyothi Nagar': Series([], Name: society, dtype: object),\n",
       " 'Tata Nagar': 0    Karchru\n",
       " Name: society, dtype: object,\n",
       " 'RK Layout 2nd Stage': Series([], Name: society, dtype: object),\n",
       " 'Tirumanahalli': 0    AmiewLa\n",
       " Name: society, dtype: object,\n",
       " 'Raghuvanahalli': 0    Srncykh\n",
       " Name: society, dtype: object,\n",
       " 'Geddalahalli': Series([], Name: society, dtype: object),\n",
       " 'Brindavan Nagar': 0    Mancy R\n",
       " Name: society, dtype: object,\n",
       " 'Mariyannapalya': Series([], Name: society, dtype: object),\n",
       " 'Palace Road': 0    NantsGa\n",
       " Name: society, dtype: object,\n",
       " 'Pulikeshi Nagar': Series([], Name: society, dtype: object),\n",
       " 'Domlur Layout': Series([], Name: society, dtype: object),\n",
       " 'Vijaya Bank Layout': 0    Dhise P\n",
       " 1    FoGemna\n",
       " Name: society, dtype: object,\n",
       " 'Narayanappa Layout': Series([], Name: society, dtype: object),\n",
       " '1Hanuman Nagar': Series([], Name: society, dtype: object),\n",
       " 'Wilson Garden': 0    Gonoril\n",
       " Name: society, dtype: object,\n",
       " 'Kumbhena Agrahara': Series([], Name: society, dtype: object),\n",
       " 'Challaghatta': 0    ShanaSp\n",
       " Name: society, dtype: object,\n",
       " 'Nyanappana Halli': 0    MyigePr\n",
       " 1    Salms G\n",
       " Name: society, dtype: object,\n",
       " 'Indira Nagar 3rd Stage': Series([], Name: society, dtype: object),\n",
       " 'KR Garden': 0    Saavear\n",
       " Name: society, dtype: object,\n",
       " 'Kanakadasa Layout': Series([], Name: society, dtype: object),\n",
       " 'Mallathahalli': 0    DSvil S\n",
       " 1    Siacen \n",
       " 2    Viers S\n",
       " Name: society, dtype: object,\n",
       " 'Jayamahal Extension': Series([], Name: society, dtype: object),\n",
       " 'Laxminarayana Layout': Series([], Name: society, dtype: object),\n",
       " 'Sahyadri Layout': 0    Adthm R\n",
       " Name: society, dtype: object,\n",
       " 'Mathikere SBM colony': Series([], Name: society, dtype: object),\n",
       " 'white field,kadugodi': Series([], Name: society, dtype: object),\n",
       " 'Bagalur': 0    Haows M\n",
       " 1    Krton S\n",
       " Name: society, dtype: object,\n",
       " 'Vinayak Nagar': 0    Niarknt\n",
       " 1    SLayaer\n",
       " Name: society, dtype: object,\n",
       " 'P Krishnappa Layout': 0    Apitea \n",
       " Name: society, dtype: object,\n",
       " 'Crimson Layout': 0    ARntyne\n",
       " Name: society, dtype: object,\n",
       " 'Hanumantha Nagar': Series([], Name: society, dtype: object),\n",
       " 'Bagalakunte': Series([], Name: society, dtype: object),\n",
       " 'Lavelle Road': Series([], Name: society, dtype: object),\n",
       " 'Goraguntepalya': Series([], Name: society, dtype: object),\n",
       " 'Rajankunte': Series([], Name: society, dtype: object),\n",
       " '6th Block Rajaji Nagar': Series([], Name: society, dtype: object),\n",
       " 'MLA Layout': Series([], Name: society, dtype: object),\n",
       " 'Koramangala Industrial Layout': Series([], Name: society, dtype: object),\n",
       " 'Kyalasanahalli': 0    Ceonyy \n",
       " 1    UpowsMe\n",
       " Name: society, dtype: object,\n",
       " 'Nagadevanahalli': 0    Gaenty \n",
       " Name: society, dtype: object,\n",
       " 'Madiwala': Series([], Name: society, dtype: object),\n",
       " 'Rajarajeshwari Nagara': Series([], Name: society, dtype: object),\n",
       " 'Celebrity Paradise Layout': Series([], Name: society, dtype: object),\n",
       " 'St Thomas Town': Series([], Name: society, dtype: object),\n",
       " 'Ckikkakammana Halli': 0    Radhian\n",
       " Name: society, dtype: object,\n",
       " 'Banashankari 2nd Stage': Series([], Name: society, dtype: object),\n",
       " 'Munivenkatppa Layout': 0    SNiew L\n",
       " Name: society, dtype: object,\n",
       " 'Kamala Nagar': Series([], Name: society, dtype: object),\n",
       " 'Kumarapalli': 0    BMmesHo\n",
       " Name: society, dtype: object,\n",
       " 'Marenahalli': Series([], Name: society, dtype: object),\n",
       " 'Nagawara Junction': Series([], Name: society, dtype: object),\n",
       " 'Maithri Layout': 0    ItAnuna\n",
       " Name: society, dtype: object,\n",
       " 'Raja Rajeshwari Nagar 5th Stage': 0    Amnavdr\n",
       " 1    Pridel \n",
       " Name: society, dtype: object,\n",
       " 'Nanjappa Garden': 0    TNnumla\n",
       " Name: society, dtype: object,\n",
       " 'Vayunandana Layout': Series([], Name: society, dtype: object),\n",
       " 'Geetanjali Layout': Series([], Name: society, dtype: object),\n",
       " 'Kenchenhalli': 0    MasicCl\n",
       " Name: society, dtype: object,\n",
       " 'EPIP AREA, WHITEFIELD': Series([], Name: society, dtype: object),\n",
       " '1st Stage Domlur': Series([], Name: society, dtype: object),\n",
       " 'RMV extension stage 2, rmv extension': Series([], Name: society, dtype: object),\n",
       " 'Kalhalli': 0    Keersto\n",
       " Name: society, dtype: object,\n",
       " 'Hadosiddapura': 0    JRichee\n",
       " Name: society, dtype: object,\n",
       " 'Vijaya Bank Colony': Series([], Name: society, dtype: object),\n",
       " 'Lakkasandra': Series([], Name: society, dtype: object),\n",
       " 'JP Nagar 8th Phase, ': Series([], Name: society, dtype: object),\n",
       " 'Kachanayakanahalli': 0    ICoolon\n",
       " Name: society, dtype: object,\n",
       " 'Nagaraja Garden': Series([], Name: society, dtype: object),\n",
       " '1 Annasandrapalya': Series([], Name: society, dtype: object),\n",
       " '6th block Koramangala': 0    Krone S\n",
       " 1    Sinde G\n",
       " Name: society, dtype: object,\n",
       " 'JP nagar 9th Phase, ': Series([], Name: society, dtype: object),\n",
       " '4th Block Jayanagar': Series([], Name: society, dtype: object),\n",
       " 'Kuvempu Nagar': 0    Srersas\n",
       " Name: society, dtype: object,\n",
       " 'Karnataka Shabarimala': Series([], Name: society, dtype: object),\n",
       " 'Canara Bank Colony': 0    Apvas N\n",
       " 1    DencyRe\n",
       " 2    Kiagar \n",
       " Name: society, dtype: object,\n",
       " 'Hanumagiri': 0    Nastadr\n",
       " Name: society, dtype: object,\n",
       " 'Seshadripuram': Series([], Name: society, dtype: object),\n",
       " 'Akshayanagara West': 0    Ajomaa \n",
       " 1    ISeekon\n",
       " Name: society, dtype: object,\n",
       " 'Prasanth Extension': Series([], Name: society, dtype: object),\n",
       " 'Chikkathoguru': 0    Srvasi \n",
       " Name: society, dtype: object,\n",
       " 'Anand nagar': Series([], Name: society, dtype: object),\n",
       " 'West of Chord Road': Series([], Name: society, dtype: object),\n",
       " 'Junnasandra': Series([], Name: society, dtype: object),\n",
       " 'Handenahalli': Series([], Name: society, dtype: object),\n",
       " 'manyata tech park': Series([], Name: society, dtype: object),\n",
       " 'Sarvabhouma Nagar': 0    BhncyRe\n",
       " Name: society, dtype: object,\n",
       " 'SMV layout': Series([], Name: society, dtype: object),\n",
       " 'CQAL LAYOUT C BLOCK': Series([], Name: society, dtype: object),\n",
       " 'Near Electronic City, ': Series([], Name: society, dtype: object),\n",
       " 'Banashankari stage 2': Series([], Name: society, dtype: object),\n",
       " 'Doddanakundi Industrial Area 2': 0    BrlonAv\n",
       " Name: society, dtype: object,\n",
       " 'OLd Gurappanapalya': 0    SoliaMa\n",
       " Name: society, dtype: object,\n",
       " 'Chikkadunnasandra': 0    Kr 10Ca\n",
       " Name: society, dtype: object,\n",
       " 'Indranagar  100ft road defence colony': Series([], Name: society, dtype: object),\n",
       " 'Wajid layout thanisandra': Series([], Name: society, dtype: object),\n",
       " 'Achins Road': Series([], Name: society, dtype: object),\n",
       " 'Uvce Layout': Series([], Name: society, dtype: object),\n",
       " 'Gattigere': 0    Vaw 2il\n",
       " Name: society, dtype: object,\n",
       " 'Cottonpet': Series([], Name: society, dtype: object),\n",
       " 'singapura paradise': Series([], Name: society, dtype: object),\n",
       " 'Kannur': Series([], Name: society, dtype: object),\n",
       " 'Sampangi Rama Nagar': Series([], Name: society, dtype: object),\n",
       " 'BEML Layout 5th stage': Series([], Name: society, dtype: object),\n",
       " 'Pragathi Nagar': 0    DStra S\n",
       " Name: society, dtype: object,\n",
       " 'Ramesh Nagar': Series([], Name: society, dtype: object),\n",
       " 'A Narayanapura': Series([], Name: society, dtype: object),\n",
       " 'Amblipura': 0    IDldsin\n",
       " Name: society, dtype: object,\n",
       " 'Rajarajeshwari nagar': Series([], Name: society, dtype: object),\n",
       " 'Rajarajeshwarinagar': Series([], Name: society, dtype: object),\n",
       " 'Jinkethimmanahalli': Series([], Name: society, dtype: object),\n",
       " 'Vimanapura': 0    Inion P\n",
       " Name: society, dtype: object,\n",
       " '1st Stage Radha Krishna Layout': Series([], Name: society, dtype: object),\n",
       " 'Bapuji Layout': Series([], Name: society, dtype: object),\n",
       " 'Vasantapura main road': Series([], Name: society, dtype: object),\n",
       " 'CQAL Layout': Series([], Name: society, dtype: object),\n",
       " 'Venugopal Reddy Layout': 0    Patust \n",
       " Name: society, dtype: object,\n",
       " 'Lake City': 0    Prdenth\n",
       " Name: society, dtype: object,\n",
       " 'Lakshmipura': Series([], Name: society, dtype: object),\n",
       " 'Old Town': Series([], Name: society, dtype: object),\n",
       " 'Okalipura': Series([], Name: society, dtype: object),\n",
       " 'Maruthi Extension': Series([], Name: society, dtype: object),\n",
       " 'Vidyapeeta': Series([], Name: society, dtype: object),\n",
       " 'Meenakshi Layout': Series([], Name: society, dtype: object),\n",
       " 'S R Layout': 0    Seasare\n",
       " Name: society, dtype: object,\n",
       " 'GD Layout': Series([], Name: society, dtype: object),\n",
       " 'Kithaganur': Series([], Name: society, dtype: object),\n",
       " 'Shirdi Sai Nagar': Series([], Name: society, dtype: object),\n",
       " 'JP Nagar 7th Phase, ': Series([], Name: society, dtype: object),\n",
       " 'J C Nagar': Series([], Name: society, dtype: object),\n",
       " 'Sadduguntepalya': 0    Jaanaa \n",
       " Name: society, dtype: object,\n",
       " 'Doddakammanahalli': 0    SrarkSk\n",
       " 1    URodsmb\n",
       " Name: society, dtype: object,\n",
       " 'Bidrahalli': Series([], Name: society, dtype: object),\n",
       " 'Medi Agrahara': Series([], Name: society, dtype: object),\n",
       " 'whitefiled': Series([], Name: society, dtype: object),\n",
       " 'Subbannaiah Palya': Series([], Name: society, dtype: object),\n",
       " 'N R Layout': Series([], Name: society, dtype: object),\n",
       " 'Richards Town': 0    Alnorrm\n",
       " 1    Arata A\n",
       " 2    MaionMa\n",
       " 3    PriumMi\n",
       " Name: society, dtype: object,\n",
       " 'Manorayana Palya': 0    Bhncy V\n",
       " Name: society, dtype: object,\n",
       " 'Madanayakahalli': Series([], Name: society, dtype: object),\n",
       " 'Mahalakshmi Puram': 0    SKthaAa\n",
       " Name: society, dtype: object,\n",
       " 'Jaladarsini Layout': 0    DiaveEn\n",
       " Name: society, dtype: object,\n",
       " 'Attur Layout': Series([], Name: society, dtype: object),\n",
       " 'Brooke Bond First Cross': 0    Soosea \n",
       " 1    Viium E\n",
       " Name: society, dtype: object,\n",
       " 'Glass Factory Layout': 0    VMlet C\n",
       " Name: society, dtype: object,\n",
       " 'Milk Colony': Series([], Name: society, dtype: object),\n",
       " 'Basnashankari,6th stage,': Series([], Name: society, dtype: object),\n",
       " 'Near ullas theater': Series([], Name: society, dtype: object),\n",
       " 'Chikkakannalli': Series([], Name: society, dtype: object),\n",
       " 'Yeshwanthpur Industrial Suburb': 0    Essic C\n",
       " Name: society, dtype: object,\n",
       " 'Nandi Hills': Series([], Name: society, dtype: object),\n",
       " 'Thanisandra main road': Series([], Name: society, dtype: object),\n",
       " 'Saptagiri Layout': Series([], Name: society, dtype: object),\n",
       " 'Doddabanahalli': Series([], Name: society, dtype: object),\n",
       " ' Electronic City': 0    GMown E\n",
       " Name: society, dtype: object,\n",
       " 'Vijayabank bank layout': Series([], Name: society, dtype: object),\n",
       " 'D Group Employees Layout': Series([], Name: society, dtype: object),\n",
       " 'Hosahalli Extension': Series([], Name: society, dtype: object),\n",
       " '1Channasandra': Series([], Name: society, dtype: object),\n",
       " 'Whitefield, ': Series([], Name: society, dtype: object),\n",
       " 'Kempegowda Nagar': 0    Sonumy \n",
       " 1    Srowsrj\n",
       " Name: society, dtype: object,\n",
       " 'Vaderahalli': Series([], Name: society, dtype: object),\n",
       " '4th Phase JP Nagar': Series([], Name: society, dtype: object),\n",
       " 'K R C kothanur': Series([], Name: society, dtype: object),\n",
       " '2nd Block Jayanagar': 0    SaignSo\n",
       " Name: society, dtype: object,\n",
       " 'Singanayakanahalli': Series([], Name: society, dtype: object),\n",
       " 'Udaya Nagar': Series([], Name: society, dtype: object),\n",
       " ' Whitefield': 0    Prtates\n",
       " Name: society, dtype: object,\n",
       " 'Vaishnavi Layout': 0    Prsisge\n",
       " Name: society, dtype: object,\n",
       " 'Housing Board Layout Vijay Nagar': Series([], Name: society, dtype: object),\n",
       " 'Thomas Town': 0    TuiteIn\n",
       " Name: society, dtype: object,\n",
       " 'Manganahalli': Series([], Name: society, dtype: object),\n",
       " 'Indra Nagar': Series([], Name: society, dtype: object),\n",
       " 't.c palya': Series([], Name: society, dtype: object),\n",
       " 'Ilyas Nagar': Series([], Name: society, dtype: object),\n",
       " '3rd Phase JP Nagar': 0    Shestth\n",
       " Name: society, dtype: object,\n",
       " 'kanakapura main road': Series([], Name: society, dtype: object),\n",
       " 'Reliaable Tranquil Layout': 0    Sariana\n",
       " Name: society, dtype: object,\n",
       " 'Mailasandra': 0    Hanar I\n",
       " Name: society, dtype: object,\n",
       " 'Basvasamithi Layout Vidyaranyapura': Series([], Name: society, dtype: object),\n",
       " '8th Block Jayanagar': Series([], Name: society, dtype: object),\n",
       " 'Atmananda Colony': Series([], Name: society, dtype: object),\n",
       " 'Baba Nagar': Series([], Name: society, dtype: object),\n",
       " 'Badrappa Layout': Series([], Name: society, dtype: object),\n",
       " 'Lal Bahadur Shastri Nagar': Series([], Name: society, dtype: object),\n",
       " 'Puttappa Layout': Series([], Name: society, dtype: object),\n",
       " 'Ananthanagar Phase 1,Electronic City , phase 2': Series([], Name: society, dtype: object),\n",
       " 'Bethel Nagar': 0    Saaveir\n",
       " Name: society, dtype: object,\n",
       " 'Kirloskar Layout': Series([], Name: society, dtype: object),\n",
       " 'tc.palya': Series([], Name: society, dtype: object),\n",
       " 'Dollar Scheme Colony': 0    Vacesi \n",
       " Name: society, dtype: object,\n",
       " 'Omarbagh Layout': 0    SNtua S\n",
       " Name: society, dtype: object,\n",
       " 'anjananager magdi road': Series([], Name: society, dtype: object),\n",
       " 'Kodipalya': Series([], Name: society, dtype: object),\n",
       " 'Aishwarya Crystal Layout': 0    GRvasth\n",
       " Name: society, dtype: object,\n",
       " 'DUO Layout': 0    Viockit\n",
       " Name: society, dtype: object,\n",
       " 'Srinivas Colony': Series([], Name: society, dtype: object),\n",
       " 'Moodalapalya': Series([], Name: society, dtype: object),\n",
       " 'Gokaula Extension': Series([], Name: society, dtype: object),\n",
       " 'Subash Nagar': Series([], Name: society, dtype: object),\n",
       " 'RTO ullalu': Series([], Name: society, dtype: object),\n",
       " 'Carmelaram': 0    DSensn \n",
       " Name: society, dtype: object,\n",
       " 'Hennur Bande': 0    Matrai \n",
       " Name: society, dtype: object,\n",
       " 'ravindra nagar, T.dasarahalli peenya': Series([], Name: society, dtype: object),\n",
       " '1st Block BEL Layout': Series([], Name: society, dtype: object),\n",
       " 'Prakruthi Township': Series([], Name: society, dtype: object),\n",
       " 'Bennigana Halli': Series([], Name: society, dtype: object),\n",
       " 'Seethappa Layout': Series([], Name: society, dtype: object),\n",
       " 'Langford Gardens': 0    Soond R\n",
       " Name: society, dtype: object,\n",
       " 'Bellandur, ': Series([], Name: society, dtype: object),\n",
       " 'Marasandra': Series([], Name: society, dtype: object),\n",
       " 'Kalkere Channasandra': Series([], Name: society, dtype: object),\n",
       " 'Shakthi Nagar': Series([], Name: society, dtype: object),\n",
       " 'Ullal Uppanagar': Series([], Name: society, dtype: object),\n",
       " ' south': Series([], Name: society, dtype: object),\n",
       " 'Rainbow Drive': Series([], Name: society, dtype: object),\n",
       " '3rd Block Koramangala': 0    Aplanje\n",
       " Name: society, dtype: object,\n",
       " 'Jakkasandra Extension': Series([], Name: society, dtype: object),\n",
       " 'Ganesha Block': Series([], Name: society, dtype: object),\n",
       " 'Malur Hosur Road': Series([], Name: society, dtype: object),\n",
       " 'Lakshmipura Vidyaanyapura': Series([], Name: society, dtype: object),\n",
       " 'Hegganahalli': Series([], Name: society, dtype: object),\n",
       " 'Rajanna Layout': Series([], Name: society, dtype: object),\n",
       " 'Nagarbhavi  BDA Complex': Series([], Name: society, dtype: object),\n",
       " 'Gidada Konnenahalli': Series([], Name: society, dtype: object),\n",
       " 'Rahat Bagh': 0    Saaintv\n",
       " Name: society, dtype: object,\n",
       " 'Escorts Colony': Series([], Name: society, dtype: object),\n",
       " 'asha township, off hennur road': Series([], Name: society, dtype: object),\n",
       " '1A Block Koramangala': Series([], Name: society, dtype: object),\n",
       " 'Near International Airport': 0    PronsAs\n",
       " Name: society, dtype: object,\n",
       " 'NTI Layout': 0    Vaent V\n",
       " Name: society, dtype: object,\n",
       " 'Fraser town': Series([], Name: society, dtype: object),\n",
       " 'Dasappa Layout': Series([], Name: society, dtype: object),\n",
       " 'Sonam Layout': Series([], Name: society, dtype: object),\n",
       " 'CR Layout': Series([], Name: society, dtype: object),\n",
       " 'BTM 4th Stage': Series([], Name: society, dtype: object),\n",
       " 'Arekempanahalli': Series([], Name: society, dtype: object),\n",
       " 'Chamundi Nagar': Series([], Name: society, dtype: object),\n",
       " 'MRCR Layout': Series([], Name: society, dtype: object),\n",
       " 'Shettihalli': Series([], Name: society, dtype: object),\n",
       " 'Gangondanahalli': Series([], Name: society, dtype: object),\n",
       " 'Ullal Road': Series([], Name: society, dtype: object),\n",
       " 'Hullahalli': Series([], Name: society, dtype: object),\n",
       " 'Jagajyothi layout': Series([], Name: society, dtype: object),\n",
       " 'Lakkasandra Extension': Series([], Name: society, dtype: object),\n",
       " 'Krishna Reddy Layout': 0    RahtsHe\n",
       " Name: society, dtype: object,\n",
       " 'Kuvempu Layout': 0    LGeete \n",
       " Name: society, dtype: object,\n",
       " 'Chickpet': Series([], Name: society, dtype: object),\n",
       " 'T G extension': Series([], Name: society, dtype: object),\n",
       " '2nd Block Koramangala': Series([], Name: society, dtype: object),\n",
       " 'Devi Nagar': 0    Deiten \n",
       " 1    Krtonwe\n",
       " 2    RMerslu\n",
       " Name: society, dtype: object,\n",
       " 'GKW Layout': Series([], Name: society, dtype: object),\n",
       " 'Gandhi Nagar': Series([], Name: society, dtype: object),\n",
       " 'Jnana Ganga Nagar': 0    SLestde\n",
       " Name: society, dtype: object,\n",
       " 'rr nagar': Series([], Name: society, dtype: object),\n",
       " 'Harohalli': Series([], Name: society, dtype: object),\n",
       " 'Stage-4 Bommanahalli': 0    Pantsce\n",
       " Name: society, dtype: object,\n",
       " 'Venkateshpuram': Series([], Name: society, dtype: object),\n",
       " 'Judicial Layout, Kanakapura Road, ': Series([], Name: society, dtype: object),\n",
       " 'Mullur': 0    Arora A\n",
       " Name: society, dtype: object,\n",
       " 'J.P.nagar 6th Phase.Sarakki Nagar': Series([], Name: society, dtype: object),\n",
       " 'Doddabele': Series([], Name: society, dtype: object),\n",
       " 'Sadahalli': 0    K ensad\n",
       " Name: society, dtype: object,\n",
       " 'Sathya Layout': 0    NChtsun\n",
       " Name: society, dtype: object,\n",
       " '5 Bedroom Farm House in Lakshmipura': Series([], Name: society, dtype: object),\n",
       " 'Shanti Nagar': 0    SwionMa\n",
       " 1    UbreeAn\n",
       " Name: society, dtype: object,\n",
       " '2nd Stage Arekere Mico Layout': 0    BrriaLu\n",
       " Name: society, dtype: object,\n",
       " 'Jayamahal': 0    Peace P\n",
       " Name: society, dtype: object,\n",
       " 'Veer Sandra': 0    Thessie\n",
       " Name: society, dtype: object,\n",
       " 'Chennappa Layout': 0    Mawerer\n",
       " Name: society, dtype: object,\n",
       " 'RMV Extension Stage 2': Series([], Name: society, dtype: object),\n",
       " ...}"
      ]
     },
     "execution_count": 203,
     "metadata": {},
     "output_type": "execute_result"
    }
   ],
   "source": [
    "unique_location_society = {i : dfb[dfb[\"location\"] == i].society.mode() for i in unique_location}\n",
    "unique_location_society"
   ]
  },
  {
   "cell_type": "code",
   "execution_count": 204,
   "metadata": {},
   "outputs": [],
   "source": [
    "def fill(location):\n",
    "    try:\n",
    "        return unique_location_society[location].values[0]\n",
    "    except:\n",
    "        return np.nan \n",
    "    \n",
    "dfb[\"non_null_society\"] = dfb.location.apply(fill)"
   ]
  },
  {
   "cell_type": "code",
   "execution_count": 205,
   "metadata": {},
   "outputs": [
    {
     "name": "stdout",
     "output_type": "stream",
     "text": [
      "<class 'pandas.core.frame.DataFrame'>\n",
      "RangeIndex: 13320 entries, 0 to 13319\n",
      "Data columns (total 10 columns):\n",
      " #   Column            Non-Null Count  Dtype  \n",
      "---  ------            --------------  -----  \n",
      " 0   area_type         13320 non-null  object \n",
      " 1   availability      13320 non-null  object \n",
      " 2   location          13319 non-null  object \n",
      " 3   size              13304 non-null  object \n",
      " 4   society           7818 non-null   object \n",
      " 5   total_sqft        13320 non-null  object \n",
      " 6   bath              13247 non-null  float64\n",
      " 7   balcony           12711 non-null  float64\n",
      " 8   price             13320 non-null  float64\n",
      " 9   non_null_society  11905 non-null  object \n",
      "dtypes: float64(3), object(7)\n",
      "memory usage: 1.0+ MB\n"
     ]
    }
   ],
   "source": [
    "dfb.info()"
   ]
  },
  {
   "cell_type": "code",
   "execution_count": 206,
   "metadata": {},
   "outputs": [
    {
     "data": {
      "text/html": [
       "<div>\n",
       "<style scoped>\n",
       "    .dataframe tbody tr th:only-of-type {\n",
       "        vertical-align: middle;\n",
       "    }\n",
       "\n",
       "    .dataframe tbody tr th {\n",
       "        vertical-align: top;\n",
       "    }\n",
       "\n",
       "    .dataframe thead th {\n",
       "        text-align: right;\n",
       "    }\n",
       "</style>\n",
       "<table border=\"1\" class=\"dataframe\">\n",
       "  <thead>\n",
       "    <tr style=\"text-align: right;\">\n",
       "      <th></th>\n",
       "      <th>area_type</th>\n",
       "      <th>availability</th>\n",
       "      <th>location</th>\n",
       "      <th>size</th>\n",
       "      <th>society</th>\n",
       "      <th>total_sqft</th>\n",
       "      <th>bath</th>\n",
       "      <th>balcony</th>\n",
       "      <th>price</th>\n",
       "      <th>non_null_society</th>\n",
       "    </tr>\n",
       "  </thead>\n",
       "  <tbody>\n",
       "    <tr>\n",
       "      <th>0</th>\n",
       "      <td>Super built-up  Area</td>\n",
       "      <td>19-Dec</td>\n",
       "      <td>Electronic City Phase II</td>\n",
       "      <td>2 BHK</td>\n",
       "      <td>Coomee</td>\n",
       "      <td>1056</td>\n",
       "      <td>2.0</td>\n",
       "      <td>1.0</td>\n",
       "      <td>39.07</td>\n",
       "      <td>Sryalan</td>\n",
       "    </tr>\n",
       "    <tr>\n",
       "      <th>1</th>\n",
       "      <td>Plot  Area</td>\n",
       "      <td>Ready To Move</td>\n",
       "      <td>Chikka Tirupathi</td>\n",
       "      <td>4 Bedroom</td>\n",
       "      <td>Theanmp</td>\n",
       "      <td>2600</td>\n",
       "      <td>5.0</td>\n",
       "      <td>3.0</td>\n",
       "      <td>120.00</td>\n",
       "      <td>Theanmp</td>\n",
       "    </tr>\n",
       "    <tr>\n",
       "      <th>2</th>\n",
       "      <td>Built-up  Area</td>\n",
       "      <td>Ready To Move</td>\n",
       "      <td>Uttarahalli</td>\n",
       "      <td>3 BHK</td>\n",
       "      <td>NaN</td>\n",
       "      <td>1440</td>\n",
       "      <td>2.0</td>\n",
       "      <td>3.0</td>\n",
       "      <td>62.00</td>\n",
       "      <td>Aklia R</td>\n",
       "    </tr>\n",
       "    <tr>\n",
       "      <th>3</th>\n",
       "      <td>Super built-up  Area</td>\n",
       "      <td>Ready To Move</td>\n",
       "      <td>Lingadheeranahalli</td>\n",
       "      <td>3 BHK</td>\n",
       "      <td>Soiewre</td>\n",
       "      <td>1521</td>\n",
       "      <td>3.0</td>\n",
       "      <td>1.0</td>\n",
       "      <td>95.00</td>\n",
       "      <td>Soiewre</td>\n",
       "    </tr>\n",
       "    <tr>\n",
       "      <th>4</th>\n",
       "      <td>Super built-up  Area</td>\n",
       "      <td>Ready To Move</td>\n",
       "      <td>Kothanur</td>\n",
       "      <td>2 BHK</td>\n",
       "      <td>NaN</td>\n",
       "      <td>1200</td>\n",
       "      <td>2.0</td>\n",
       "      <td>1.0</td>\n",
       "      <td>51.00</td>\n",
       "      <td>Somumys</td>\n",
       "    </tr>\n",
       "  </tbody>\n",
       "</table>\n",
       "</div>"
      ],
      "text/plain": [
       "              area_type   availability                  location       size  \\\n",
       "0  Super built-up  Area         19-Dec  Electronic City Phase II      2 BHK   \n",
       "1            Plot  Area  Ready To Move          Chikka Tirupathi  4 Bedroom   \n",
       "2        Built-up  Area  Ready To Move               Uttarahalli      3 BHK   \n",
       "3  Super built-up  Area  Ready To Move        Lingadheeranahalli      3 BHK   \n",
       "4  Super built-up  Area  Ready To Move                  Kothanur      2 BHK   \n",
       "\n",
       "   society total_sqft  bath  balcony   price non_null_society  \n",
       "0  Coomee        1056   2.0      1.0   39.07          Sryalan  \n",
       "1  Theanmp       2600   5.0      3.0  120.00          Theanmp  \n",
       "2      NaN       1440   2.0      3.0   62.00          Aklia R  \n",
       "3  Soiewre       1521   3.0      1.0   95.00          Soiewre  \n",
       "4      NaN       1200   2.0      1.0   51.00          Somumys  "
      ]
     },
     "execution_count": 206,
     "metadata": {},
     "output_type": "execute_result"
    }
   ],
   "source": [
    "dfb.head()"
   ]
  },
  {
   "cell_type": "code",
   "execution_count": 209,
   "metadata": {},
   "outputs": [
    {
     "data": {
      "text/plain": [
       "society\n",
       "GrrvaGr    80\n",
       "PrarePa    76\n",
       "Sryalan    59\n",
       "Prtates    59\n",
       "GMown E    56\n",
       "Prtanha    51\n",
       "Bhmesy     51\n",
       "Prityel    50\n",
       "PrityTr    49\n",
       "Prarkun    49\n",
       "Dhalsh     47\n",
       "IBityin    45\n",
       "SNity S    40\n",
       "Soresea    39\n",
       "Adeatlm    37\n",
       "Soitya     36\n",
       "Rosha I    35\n",
       "Bhe 2ko    35\n",
       "SunceEs    34\n",
       "SNnia E    33\n",
       "Name: count, dtype: int64"
      ]
     },
     "execution_count": 209,
     "metadata": {},
     "output_type": "execute_result"
    }
   ],
   "source": [
    "dfb[\"society\"].value_counts()[:20]"
   ]
  },
  {
   "cell_type": "code",
   "execution_count": 215,
   "metadata": {},
   "outputs": [
    {
     "data": {
      "text/plain": [
       "array([541, 399, 304, 273, 234, 213, 186, 177, 175, 171, 152, 152, 149,\n",
       "       142, 132, 107, 100,  96,  91,  88,  88,  85,  84,  82,  80,  79,\n",
       "        75,  74,  73,  73,  72,  72,  72,  71,  71,  70,  66,  64,  63,\n",
       "        62,  62,  60,  58,  57,  56,  55,  54,  54,  53,  52,  52,  51,\n",
       "        51,  50,  50,  50,  49,  48,  47,  47,  47,  45,  45,  44,  43,\n",
       "        43,  43,  43,  43,  42,  42,  42,  42,  42,  41,  40,  40,  39,\n",
       "        39,  39,  39,  38,  37,  36,  36,  36,  36,  36,  35,  34,  33,\n",
       "        33,  33,  31,  31,  31,  30,  30,  30,  30], dtype=int64)"
      ]
     },
     "execution_count": 215,
     "metadata": {},
     "output_type": "execute_result"
    }
   ],
   "source": [
    "dfb[\"non_null_society\"].value_counts()[:100].values"
   ]
  },
  {
   "cell_type": "code",
   "execution_count": 210,
   "metadata": {},
   "outputs": [
    {
     "data": {
      "text/html": [
       "<div>\n",
       "<style scoped>\n",
       "    .dataframe tbody tr th:only-of-type {\n",
       "        vertical-align: middle;\n",
       "    }\n",
       "\n",
       "    .dataframe tbody tr th {\n",
       "        vertical-align: top;\n",
       "    }\n",
       "\n",
       "    .dataframe thead th {\n",
       "        text-align: right;\n",
       "    }\n",
       "</style>\n",
       "<table border=\"1\" class=\"dataframe\">\n",
       "  <thead>\n",
       "    <tr style=\"text-align: right;\">\n",
       "      <th></th>\n",
       "      <th>area_type</th>\n",
       "      <th>availability</th>\n",
       "      <th>location</th>\n",
       "      <th>size</th>\n",
       "      <th>society</th>\n",
       "      <th>total_sqft</th>\n",
       "      <th>bath</th>\n",
       "      <th>balcony</th>\n",
       "      <th>price</th>\n",
       "      <th>non_null_society</th>\n",
       "    </tr>\n",
       "  </thead>\n",
       "  <tbody>\n",
       "    <tr>\n",
       "      <th>0</th>\n",
       "      <td>Super built-up  Area</td>\n",
       "      <td>19-Dec</td>\n",
       "      <td>Electronic City Phase II</td>\n",
       "      <td>2 BHK</td>\n",
       "      <td>Coomee</td>\n",
       "      <td>1056</td>\n",
       "      <td>2.0</td>\n",
       "      <td>1.0</td>\n",
       "      <td>39.07</td>\n",
       "      <td>Sryalan</td>\n",
       "    </tr>\n",
       "    <tr>\n",
       "      <th>1</th>\n",
       "      <td>Plot  Area</td>\n",
       "      <td>Ready To Move</td>\n",
       "      <td>Chikka Tirupathi</td>\n",
       "      <td>4 Bedroom</td>\n",
       "      <td>Theanmp</td>\n",
       "      <td>2600</td>\n",
       "      <td>5.0</td>\n",
       "      <td>3.0</td>\n",
       "      <td>120.00</td>\n",
       "      <td>Theanmp</td>\n",
       "    </tr>\n",
       "    <tr>\n",
       "      <th>2</th>\n",
       "      <td>Built-up  Area</td>\n",
       "      <td>Ready To Move</td>\n",
       "      <td>Uttarahalli</td>\n",
       "      <td>3 BHK</td>\n",
       "      <td>NaN</td>\n",
       "      <td>1440</td>\n",
       "      <td>2.0</td>\n",
       "      <td>3.0</td>\n",
       "      <td>62.00</td>\n",
       "      <td>Aklia R</td>\n",
       "    </tr>\n",
       "    <tr>\n",
       "      <th>3</th>\n",
       "      <td>Super built-up  Area</td>\n",
       "      <td>Ready To Move</td>\n",
       "      <td>Lingadheeranahalli</td>\n",
       "      <td>3 BHK</td>\n",
       "      <td>Soiewre</td>\n",
       "      <td>1521</td>\n",
       "      <td>3.0</td>\n",
       "      <td>1.0</td>\n",
       "      <td>95.00</td>\n",
       "      <td>Soiewre</td>\n",
       "    </tr>\n",
       "    <tr>\n",
       "      <th>4</th>\n",
       "      <td>Super built-up  Area</td>\n",
       "      <td>Ready To Move</td>\n",
       "      <td>Kothanur</td>\n",
       "      <td>2 BHK</td>\n",
       "      <td>NaN</td>\n",
       "      <td>1200</td>\n",
       "      <td>2.0</td>\n",
       "      <td>1.0</td>\n",
       "      <td>51.00</td>\n",
       "      <td>Somumys</td>\n",
       "    </tr>\n",
       "  </tbody>\n",
       "</table>\n",
       "</div>"
      ],
      "text/plain": [
       "              area_type   availability                  location       size  \\\n",
       "0  Super built-up  Area         19-Dec  Electronic City Phase II      2 BHK   \n",
       "1            Plot  Area  Ready To Move          Chikka Tirupathi  4 Bedroom   \n",
       "2        Built-up  Area  Ready To Move               Uttarahalli      3 BHK   \n",
       "3  Super built-up  Area  Ready To Move        Lingadheeranahalli      3 BHK   \n",
       "4  Super built-up  Area  Ready To Move                  Kothanur      2 BHK   \n",
       "\n",
       "   society total_sqft  bath  balcony   price non_null_society  \n",
       "0  Coomee        1056   2.0      1.0   39.07          Sryalan  \n",
       "1  Theanmp       2600   5.0      3.0  120.00          Theanmp  \n",
       "2      NaN       1440   2.0      3.0   62.00          Aklia R  \n",
       "3  Soiewre       1521   3.0      1.0   95.00          Soiewre  \n",
       "4      NaN       1200   2.0      1.0   51.00          Somumys  "
      ]
     },
     "execution_count": 210,
     "metadata": {},
     "output_type": "execute_result"
    }
   ],
   "source": [
    "dfb.head()"
   ]
  },
  {
   "cell_type": "code",
   "execution_count": 216,
   "metadata": {},
   "outputs": [
    {
     "data": {
      "text/plain": [
       "area_type              0\n",
       "availability           0\n",
       "location               1\n",
       "size                  16\n",
       "society             5502\n",
       "total_sqft             0\n",
       "bath                  73\n",
       "balcony              609\n",
       "price                  0\n",
       "non_null_society    1415\n",
       "dtype: int64"
      ]
     },
     "execution_count": 216,
     "metadata": {},
     "output_type": "execute_result"
    }
   ],
   "source": [
    "dfb.isna().sum()"
   ]
  },
  {
   "cell_type": "code",
   "execution_count": 217,
   "metadata": {},
   "outputs": [
    {
     "data": {
      "text/plain": [
       "array([ 1.,  3., nan,  2.,  0.])"
      ]
     },
     "execution_count": 217,
     "metadata": {},
     "output_type": "execute_result"
    }
   ],
   "source": [
    "dfb[\"balcony\"].unique()"
   ]
  },
  {
   "cell_type": "code",
   "execution_count": 225,
   "metadata": {},
   "outputs": [
    {
     "data": {
      "text/plain": [
       "1672"
      ]
     },
     "execution_count": 225,
     "metadata": {},
     "output_type": "execute_result"
    }
   ],
   "source": [
    "list(dfb[\"balcony\"].value_counts().values)[2]"
   ]
  },
  {
   "cell_type": "code",
   "execution_count": 220,
   "metadata": {},
   "outputs": [],
   "source": [
    "import matplotlib.pyplot as plt \n",
    "import seaborn as sns"
   ]
  },
  {
   "cell_type": "code",
   "execution_count": 231,
   "metadata": {},
   "outputs": [
    {
     "data": {
      "image/png": "[encoded data removed]",
      "text/plain": [
       "<Figure size 640x480 with 1 Axes>"
      ]
     },
     "metadata": {},
     "output_type": "display_data"
    }
   ],
   "source": [
    "fig ,ax = plt.subplots()\n",
    "ax = dfb[\"balcony\"].value_counts().plot(kind=\"bar\")\n",
    "patches = ax.patches\n",
    "for i in range(len(patches)):\n",
    "    x = patches[i].get_x() + patches[i].get_width() / 2 \n",
    "    y = patches[i].get_height() + 50\n",
    "    ax.annotate(list(dfb[\"balcony\"].value_counts().values)[i],(x,y),ha=\"center\")"
   ]
  },
  {
   "cell_type": "code",
   "execution_count": 236,
   "metadata": {},
   "outputs": [
    {
     "name": "stdout",
     "output_type": "stream",
     "text": [
      "<class 'pandas.core.frame.DataFrame'>\n",
      "RangeIndex: 13320 entries, 0 to 13319\n",
      "Data columns (total 10 columns):\n",
      " #   Column            Non-Null Count  Dtype  \n",
      "---  ------            --------------  -----  \n",
      " 0   area_type         13320 non-null  object \n",
      " 1   availability      13320 non-null  object \n",
      " 2   location          13319 non-null  object \n",
      " 3   size              13304 non-null  object \n",
      " 4   society           7818 non-null   object \n",
      " 5   total_sqft        13320 non-null  object \n",
      " 6   bath              13247 non-null  float64\n",
      " 7   balcony           13320 non-null  float64\n",
      " 8   price             13320 non-null  float64\n",
      " 9   non_null_society  11905 non-null  object \n",
      "dtypes: float64(3), object(7)\n",
      "memory usage: 1.0+ MB\n"
     ]
    }
   ],
   "source": [
    "dfb[\"balcony\"].fillna(dfb[\"balcony\"].mode()[0],inplace=True)\n",
    "dfb.info()"
   ]
  },
  {
   "cell_type": "code",
   "execution_count": 238,
   "metadata": {},
   "outputs": [
    {
     "data": {
      "text/plain": [
       "area_type              0\n",
       "availability           0\n",
       "location               1\n",
       "size                  16\n",
       "society             5502\n",
       "total_sqft             0\n",
       "bath                  73\n",
       "balcony                0\n",
       "price                  0\n",
       "non_null_society    1415\n",
       "dtype: int64"
      ]
     },
     "execution_count": 238,
     "metadata": {},
     "output_type": "execute_result"
    }
   ],
   "source": [
    "dfb.isna().sum()"
   ]
  },
  {
   "cell_type": "markdown",
   "metadata": {},
   "source": [
    "#### Lets drop the society column as we will proceed with dropping the nan values for all features"
   ]
  },
  {
   "cell_type": "code",
   "execution_count": 239,
   "metadata": {},
   "outputs": [],
   "source": [
    "dfb.drop(\"society\",axis=1,inplace=True)"
   ]
  },
  {
   "cell_type": "code",
   "execution_count": 242,
   "metadata": {},
   "outputs": [
    {
     "data": {
      "text/plain": [
       "(11833, 9)"
      ]
     },
     "execution_count": 242,
     "metadata": {},
     "output_type": "execute_result"
    }
   ],
   "source": [
    "dfb.dropna(how=\"any\",axis=0,inplace=True)\n",
    "dfb.shape"
   ]
  },
  {
   "cell_type": "code",
   "execution_count": 243,
   "metadata": {},
   "outputs": [
    {
     "data": {
      "text/plain": [
       "area_type           0\n",
       "availability        0\n",
       "location            0\n",
       "size                0\n",
       "total_sqft          0\n",
       "bath                0\n",
       "balcony             0\n",
       "price               0\n",
       "non_null_society    0\n",
       "dtype: int64"
      ]
     },
     "execution_count": 243,
     "metadata": {},
     "output_type": "execute_result"
    }
   ],
   "source": [
    "dfb.isna().sum()"
   ]
  },
  {
   "cell_type": "code",
   "execution_count": 244,
   "metadata": {},
   "outputs": [
    {
     "data": {
      "text/html": [
       "<div>\n",
       "<style scoped>\n",
       "    .dataframe tbody tr th:only-of-type {\n",
       "        vertical-align: middle;\n",
       "    }\n",
       "\n",
       "    .dataframe tbody tr th {\n",
       "        vertical-align: top;\n",
       "    }\n",
       "\n",
       "    .dataframe thead th {\n",
       "        text-align: right;\n",
       "    }\n",
       "</style>\n",
       "<table border=\"1\" class=\"dataframe\">\n",
       "  <thead>\n",
       "    <tr style=\"text-align: right;\">\n",
       "      <th></th>\n",
       "      <th>area_type</th>\n",
       "      <th>availability</th>\n",
       "      <th>location</th>\n",
       "      <th>size</th>\n",
       "      <th>total_sqft</th>\n",
       "      <th>bath</th>\n",
       "      <th>balcony</th>\n",
       "      <th>price</th>\n",
       "      <th>non_null_society</th>\n",
       "    </tr>\n",
       "  </thead>\n",
       "  <tbody>\n",
       "    <tr>\n",
       "      <th>0</th>\n",
       "      <td>Super built-up  Area</td>\n",
       "      <td>19-Dec</td>\n",
       "      <td>Electronic City Phase II</td>\n",
       "      <td>2 BHK</td>\n",
       "      <td>1056</td>\n",
       "      <td>2.0</td>\n",
       "      <td>1.0</td>\n",
       "      <td>39.07</td>\n",
       "      <td>Sryalan</td>\n",
       "    </tr>\n",
       "    <tr>\n",
       "      <th>1</th>\n",
       "      <td>Plot  Area</td>\n",
       "      <td>Ready To Move</td>\n",
       "      <td>Chikka Tirupathi</td>\n",
       "      <td>4 Bedroom</td>\n",
       "      <td>2600</td>\n",
       "      <td>5.0</td>\n",
       "      <td>3.0</td>\n",
       "      <td>120.00</td>\n",
       "      <td>Theanmp</td>\n",
       "    </tr>\n",
       "    <tr>\n",
       "      <th>2</th>\n",
       "      <td>Built-up  Area</td>\n",
       "      <td>Ready To Move</td>\n",
       "      <td>Uttarahalli</td>\n",
       "      <td>3 BHK</td>\n",
       "      <td>1440</td>\n",
       "      <td>2.0</td>\n",
       "      <td>3.0</td>\n",
       "      <td>62.00</td>\n",
       "      <td>Aklia R</td>\n",
       "    </tr>\n",
       "    <tr>\n",
       "      <th>3</th>\n",
       "      <td>Super built-up  Area</td>\n",
       "      <td>Ready To Move</td>\n",
       "      <td>Lingadheeranahalli</td>\n",
       "      <td>3 BHK</td>\n",
       "      <td>1521</td>\n",
       "      <td>3.0</td>\n",
       "      <td>1.0</td>\n",
       "      <td>95.00</td>\n",
       "      <td>Soiewre</td>\n",
       "    </tr>\n",
       "    <tr>\n",
       "      <th>4</th>\n",
       "      <td>Super built-up  Area</td>\n",
       "      <td>Ready To Move</td>\n",
       "      <td>Kothanur</td>\n",
       "      <td>2 BHK</td>\n",
       "      <td>1200</td>\n",
       "      <td>2.0</td>\n",
       "      <td>1.0</td>\n",
       "      <td>51.00</td>\n",
       "      <td>Somumys</td>\n",
       "    </tr>\n",
       "  </tbody>\n",
       "</table>\n",
       "</div>"
      ],
      "text/plain": [
       "              area_type   availability                  location       size  \\\n",
       "0  Super built-up  Area         19-Dec  Electronic City Phase II      2 BHK   \n",
       "1            Plot  Area  Ready To Move          Chikka Tirupathi  4 Bedroom   \n",
       "2        Built-up  Area  Ready To Move               Uttarahalli      3 BHK   \n",
       "3  Super built-up  Area  Ready To Move        Lingadheeranahalli      3 BHK   \n",
       "4  Super built-up  Area  Ready To Move                  Kothanur      2 BHK   \n",
       "\n",
       "  total_sqft  bath  balcony   price non_null_society  \n",
       "0       1056   2.0      1.0   39.07          Sryalan  \n",
       "1       2600   5.0      3.0  120.00          Theanmp  \n",
       "2       1440   2.0      3.0   62.00          Aklia R  \n",
       "3       1521   3.0      1.0   95.00          Soiewre  \n",
       "4       1200   2.0      1.0   51.00          Somumys  "
      ]
     },
     "execution_count": 244,
     "metadata": {},
     "output_type": "execute_result"
    }
   ],
   "source": [
    "dfb.head()"
   ]
  },
  {
   "cell_type": "code",
   "execution_count": 248,
   "metadata": {},
   "outputs": [
    {
     "data": {
      "text/plain": [
       "array(['2 BHK', '4 Bedroom', '3 BHK', '4 BHK', '3 Bedroom', '1 BHK',\n",
       "       '1 RK', '1 Bedroom', '8 Bedroom', '2 Bedroom', '6 Bedroom',\n",
       "       '7 Bedroom', '5 BHK', '5 Bedroom', '7 BHK', '11 BHK', '9 BHK',\n",
       "       '9 Bedroom', '6 BHK', '10 Bedroom', '43 Bedroom', '12 Bedroom',\n",
       "       '8 BHK', '10 BHK', '18 Bedroom'], dtype=object)"
      ]
     },
     "execution_count": 248,
     "metadata": {},
     "output_type": "execute_result"
    }
   ],
   "source": [
    "dfb[\"size\"].unique()"
   ]
  },
  {
   "cell_type": "code",
   "execution_count": 249,
   "metadata": {},
   "outputs": [],
   "source": [
    "dfb.drop(\"availability\",axis=1,inplace=True)"
   ]
  },
  {
   "cell_type": "markdown",
   "metadata": {},
   "source": [
    "#### Checking correlation of numeric features with target variable "
   ]
  },
  {
   "cell_type": "code",
   "execution_count": 251,
   "metadata": {},
   "outputs": [
    {
     "data": {
      "text/plain": [
       "bath       0.483699\n",
       "balcony    0.128367\n",
       "price      1.000000\n",
       "Name: price, dtype: float64"
      ]
     },
     "execution_count": 251,
     "metadata": {},
     "output_type": "execute_result"
    }
   ],
   "source": [
    "cor = dfb.corr(numeric_only=True)\n",
    "cor[\"price\"]"
   ]
  },
  {
   "cell_type": "markdown",
   "metadata": {},
   "source": [
    "## Encoding \n",
    "***Putting it all together***"
   ]
  },
  {
   "cell_type": "code",
   "execution_count": 252,
   "metadata": {},
   "outputs": [
    {
     "data": {
      "text/html": [
       "<div>\n",
       "<style scoped>\n",
       "    .dataframe tbody tr th:only-of-type {\n",
       "        vertical-align: middle;\n",
       "    }\n",
       "\n",
       "    .dataframe tbody tr th {\n",
       "        vertical-align: top;\n",
       "    }\n",
       "\n",
       "    .dataframe thead th {\n",
       "        text-align: right;\n",
       "    }\n",
       "</style>\n",
       "<table border=\"1\" class=\"dataframe\">\n",
       "  <thead>\n",
       "    <tr style=\"text-align: right;\">\n",
       "      <th></th>\n",
       "      <th>area_type</th>\n",
       "      <th>location</th>\n",
       "      <th>size</th>\n",
       "      <th>total_sqft</th>\n",
       "      <th>bath</th>\n",
       "      <th>balcony</th>\n",
       "      <th>price</th>\n",
       "      <th>non_null_society</th>\n",
       "    </tr>\n",
       "  </thead>\n",
       "  <tbody>\n",
       "    <tr>\n",
       "      <th>0</th>\n",
       "      <td>Super built-up  Area</td>\n",
       "      <td>Electronic City Phase II</td>\n",
       "      <td>2 BHK</td>\n",
       "      <td>1056</td>\n",
       "      <td>2.0</td>\n",
       "      <td>1.0</td>\n",
       "      <td>39.07</td>\n",
       "      <td>Sryalan</td>\n",
       "    </tr>\n",
       "    <tr>\n",
       "      <th>1</th>\n",
       "      <td>Plot  Area</td>\n",
       "      <td>Chikka Tirupathi</td>\n",
       "      <td>4 Bedroom</td>\n",
       "      <td>2600</td>\n",
       "      <td>5.0</td>\n",
       "      <td>3.0</td>\n",
       "      <td>120.00</td>\n",
       "      <td>Theanmp</td>\n",
       "    </tr>\n",
       "    <tr>\n",
       "      <th>2</th>\n",
       "      <td>Built-up  Area</td>\n",
       "      <td>Uttarahalli</td>\n",
       "      <td>3 BHK</td>\n",
       "      <td>1440</td>\n",
       "      <td>2.0</td>\n",
       "      <td>3.0</td>\n",
       "      <td>62.00</td>\n",
       "      <td>Aklia R</td>\n",
       "    </tr>\n",
       "    <tr>\n",
       "      <th>3</th>\n",
       "      <td>Super built-up  Area</td>\n",
       "      <td>Lingadheeranahalli</td>\n",
       "      <td>3 BHK</td>\n",
       "      <td>1521</td>\n",
       "      <td>3.0</td>\n",
       "      <td>1.0</td>\n",
       "      <td>95.00</td>\n",
       "      <td>Soiewre</td>\n",
       "    </tr>\n",
       "    <tr>\n",
       "      <th>4</th>\n",
       "      <td>Super built-up  Area</td>\n",
       "      <td>Kothanur</td>\n",
       "      <td>2 BHK</td>\n",
       "      <td>1200</td>\n",
       "      <td>2.0</td>\n",
       "      <td>1.0</td>\n",
       "      <td>51.00</td>\n",
       "      <td>Somumys</td>\n",
       "    </tr>\n",
       "  </tbody>\n",
       "</table>\n",
       "</div>"
      ],
      "text/plain": [
       "              area_type                  location       size total_sqft  bath  \\\n",
       "0  Super built-up  Area  Electronic City Phase II      2 BHK       1056   2.0   \n",
       "1            Plot  Area          Chikka Tirupathi  4 Bedroom       2600   5.0   \n",
       "2        Built-up  Area               Uttarahalli      3 BHK       1440   2.0   \n",
       "3  Super built-up  Area        Lingadheeranahalli      3 BHK       1521   3.0   \n",
       "4  Super built-up  Area                  Kothanur      2 BHK       1200   2.0   \n",
       "\n",
       "   balcony   price non_null_society  \n",
       "0      1.0   39.07          Sryalan  \n",
       "1      3.0  120.00          Theanmp  \n",
       "2      3.0   62.00          Aklia R  \n",
       "3      1.0   95.00          Soiewre  \n",
       "4      1.0   51.00          Somumys  "
      ]
     },
     "execution_count": 252,
     "metadata": {},
     "output_type": "execute_result"
    }
   ],
   "source": [
    "dfb.head()"
   ]
  },
  {
   "cell_type": "code",
   "execution_count": 254,
   "metadata": {},
   "outputs": [
    {
     "data": {
      "text/plain": [
       "array(['Super built-up  Area', 'Plot  Area', 'Built-up  Area',\n",
       "       'Carpet  Area'], dtype=object)"
      ]
     },
     "execution_count": 254,
     "metadata": {},
     "output_type": "execute_result"
    }
   ],
   "source": [
    "dfb[\"area_type\"].unique()"
   ]
  },
  {
   "cell_type": "code",
   "execution_count": 256,
   "metadata": {},
   "outputs": [
    {
     "data": {
      "text/plain": [
       "array([ 2.,  5.,  3.,  4.,  1.,  9.,  8.,  7.,  6., 11., 10., 14., 12.,\n",
       "       40., 13., 18.])"
      ]
     },
     "execution_count": 256,
     "metadata": {},
     "output_type": "execute_result"
    }
   ],
   "source": [
    "dfb[\"bath\"].unique()\n"
   ]
  },
  {
   "cell_type": "code",
   "execution_count": 257,
   "metadata": {},
   "outputs": [
    {
     "data": {
      "text/plain": [
       "array([1., 3., 2., 0.])"
      ]
     },
     "execution_count": 257,
     "metadata": {},
     "output_type": "execute_result"
    }
   ],
   "source": [
    "dfb[\"balcony\"].unique()\n"
   ]
  },
  {
   "cell_type": "code",
   "execution_count": 267,
   "metadata": {},
   "outputs": [
    {
     "data": {
      "text/plain": [
       "dtype('O')"
      ]
     },
     "execution_count": 267,
     "metadata": {},
     "output_type": "execute_result"
    }
   ],
   "source": [
    "dfb[\"total_sqft\"].dtype"
   ]
  },
  {
   "cell_type": "code",
   "execution_count": 268,
   "metadata": {},
   "outputs": [
    {
     "data": {
      "text/plain": [
       "1982"
      ]
     },
     "execution_count": 268,
     "metadata": {},
     "output_type": "execute_result"
    }
   ],
   "source": [
    "dfb[\"total_sqft\"].nunique()"
   ]
  },
  {
   "cell_type": "code",
   "execution_count": 293,
   "metadata": {},
   "outputs": [
    {
     "data": {
      "text/plain": [
       "0"
      ]
     },
     "execution_count": 293,
     "metadata": {},
     "output_type": "execute_result"
    }
   ],
   "source": [
    "ll = []\n",
    "for i in dfb[\"total_sqft\"]:\n",
    "    if i.isalnum() == False:\n",
    "        ll.append(i)\n",
    "len(ll) \n",
    "    "
   ]
  },
  {
   "cell_type": "code",
   "execution_count": 286,
   "metadata": {},
   "outputs": [],
   "source": [
    "dfb[\"total-sqft_num\"] = dfb[\"total_sqft\"].apply(lambda x : x if x.isalnum() == True else np.nan)"
   ]
  },
  {
   "cell_type": "code",
   "execution_count": 295,
   "metadata": {},
   "outputs": [
    {
     "data": {
      "text/plain": [
       "0"
      ]
     },
     "execution_count": 295,
     "metadata": {},
     "output_type": "execute_result"
    }
   ],
   "source": [
    "dfb[\"total-sqft_num\"].isna().sum()"
   ]
  },
  {
   "cell_type": "code",
   "execution_count": 291,
   "metadata": {},
   "outputs": [],
   "source": [
    "dfb.dropna(axis=0,how=\"any\",inplace=True)"
   ]
  },
  {
   "cell_type": "code",
   "execution_count": 301,
   "metadata": {},
   "outputs": [],
   "source": [
    "dfb['total-sqft_num'] = pd.to_numeric(dfb['total-sqft_num'], errors='coerce')\n",
    "dfb = dfb.dropna(subset=['total-sqft_num'])"
   ]
  },
  {
   "cell_type": "code",
   "execution_count": 302,
   "metadata": {},
   "outputs": [
    {
     "data": {
      "text/plain": [
       "0        1056\n",
       "1        2600\n",
       "2        1440\n",
       "3        1521\n",
       "4        1200\n",
       "         ... \n",
       "13315    3453\n",
       "13316    3600\n",
       "13317    1141\n",
       "13318    4689\n",
       "13319     550\n",
       "Name: total-sqft_num, Length: 11576, dtype: int64"
      ]
     },
     "execution_count": 302,
     "metadata": {},
     "output_type": "execute_result"
    }
   ],
   "source": [
    "dfb[\"total-sqft_num\"].astype(\"int64\")"
   ]
  },
  {
   "cell_type": "code",
   "execution_count": 303,
   "metadata": {},
   "outputs": [
    {
     "data": {
      "text/html": [
       "<div>\n",
       "<style scoped>\n",
       "    .dataframe tbody tr th:only-of-type {\n",
       "        vertical-align: middle;\n",
       "    }\n",
       "\n",
       "    .dataframe tbody tr th {\n",
       "        vertical-align: top;\n",
       "    }\n",
       "\n",
       "    .dataframe thead th {\n",
       "        text-align: right;\n",
       "    }\n",
       "</style>\n",
       "<table border=\"1\" class=\"dataframe\">\n",
       "  <thead>\n",
       "    <tr style=\"text-align: right;\">\n",
       "      <th></th>\n",
       "      <th>area_type</th>\n",
       "      <th>location</th>\n",
       "      <th>size</th>\n",
       "      <th>total_sqft</th>\n",
       "      <th>bath</th>\n",
       "      <th>balcony</th>\n",
       "      <th>price</th>\n",
       "      <th>non_null_society</th>\n",
       "      <th>total-sqft_num</th>\n",
       "    </tr>\n",
       "  </thead>\n",
       "  <tbody>\n",
       "  </tbody>\n",
       "</table>\n",
       "</div>"
      ],
      "text/plain": [
       "Empty DataFrame\n",
       "Columns: [area_type, location, size, total_sqft, bath, balcony, price, non_null_society, total-sqft_num]\n",
       "Index: []"
      ]
     },
     "execution_count": 303,
     "metadata": {},
     "output_type": "execute_result"
    }
   ],
   "source": [
    "dfb[dfb[\"total-sqft_num\"] == \"4125Perch\"]"
   ]
  },
  {
   "cell_type": "code",
   "execution_count": 304,
   "metadata": {},
   "outputs": [],
   "source": [
    "Xb = dfb.drop([\"price\",\"total_sqft\"],axis=1)\n",
    "yb = dfb[\"price\"]"
   ]
  },
  {
   "cell_type": "code",
   "execution_count": 305,
   "metadata": {},
   "outputs": [
    {
     "data": {
      "text/plain": [
       "((5788, 7), (5788, 7), (5788,), (5788,))"
      ]
     },
     "execution_count": 305,
     "metadata": {},
     "output_type": "execute_result"
    }
   ],
   "source": [
    "X_trainb, X_testb, y_trainb, y_testb = train_test_split(Xb,yb,test_size=0.5,random_state=42)\n",
    "X_trainb.shape, X_testb.shape, y_trainb.shape, y_testb.shape"
   ]
  },
  {
   "cell_type": "markdown",
   "metadata": {},
   "source": [
    "### the train and test set has been split in half to get the computational speed while training the model\n",
    " "
   ]
  },
  {
   "cell_type": "code",
   "execution_count": 306,
   "metadata": {},
   "outputs": [],
   "source": [
    "from sklearn.preprocessing import OrdinalEncoder, OneHotEncoder"
   ]
  },
  {
   "cell_type": "code",
   "execution_count": 308,
   "metadata": {},
   "outputs": [],
   "source": [
    "cat_bang_fea = [\"location\", \"non_null_society\"]\n",
    "cat_bang_imp = Pipeline(steps=[\n",
    "    (\"target\", TargetEncoder(smooth=300,cv=5,target_type=\"continuous\")),\n",
    "    (\"scalling\", StandardScaler())\n",
    "])\n",
    "\n",
    "area_feat = [\"area_type\"]\n",
    "area_imp = Pipeline(steps=[\n",
    "    (\"ordinal\", OrdinalEncoder(categories=[[\"Carpet  Area\",'Built-up  Area','Plot  Area','Super built-up  Area']]))\n",
    "    \n",
    "])\n",
    "\n",
    "size_feat = [\"size\"]\n",
    "size_imp = Pipeline(steps=[\n",
    "    (\"onehot\", OneHotEncoder(handle_unknown=\"ignore\"))\n",
    "])\n",
    "\n",
    "scale_feat = [\"total-sqft_num\"]\n",
    "scale_imp = Pipeline(steps=[\n",
    "    (\"scaling\", StandardScaler())\n",
    "])\n",
    "\n",
    "CT = ColumnTransformer(transformers=[\n",
    "    (\"target\", cat_bang_imp,cat_bang_fea),\n",
    "    (\"ordinal\", area_imp,area_feat),\n",
    "    (\"ohe\",size_imp,size_feat),\n",
    "    (\"scaled\", scale_imp,scale_feat)\n",
    "],remainder=\"passthrough\")\n",
    "\n",
    "preprocessorb = Pipeline(steps=[(\"CT\", CT)])\n",
    "trans_train_datab = preprocessorb.fit_transform(X_trainb,y_trainb)\n",
    "trans_test_datab = preprocessorb.transform(X_testb)\n"
   ]
  },
  {
   "cell_type": "code",
   "execution_count": 309,
   "metadata": {},
   "outputs": [
    {
     "data": {
      "text/html": [
       "<style>#sk-container-id-5 {color: black;}#sk-container-id-5 pre{padding: 0;}#sk-container-id-5 div.sk-toggleable {background-color: white;}#sk-container-id-5 label.sk-toggleable__label {cursor: pointer;display: block;width: 100%;margin-bottom: 0;padding: 0.3em;box-sizing: border-box;text-align: center;}#sk-container-id-5 label.sk-toggleable__label-arrow:before {content: \"▸\";float: left;margin-right: 0.25em;color: #696969;}#sk-container-id-5 label.sk-toggleable__label-arrow:hover:before {color: black;}#sk-container-id-5 div.sk-estimator:hover label.sk-toggleable__label-arrow:before {color: black;}#sk-container-id-5 div.sk-toggleable__content {max-height: 0;max-width: 0;overflow: hidden;text-align: left;background-color: #f0f8ff;}#sk-container-id-5 div.sk-toggleable__content pre {margin: 0.2em;color: black;border-radius: 0.25em;background-color: #f0f8ff;}#sk-container-id-5 input.sk-toggleable__control:checked~div.sk-toggleable__content {max-height: 200px;max-width: 100%;overflow: auto;}#sk-container-id-5 input.sk-toggleable__control:checked~label.sk-toggleable__label-arrow:before {content: \"▾\";}#sk-container-id-5 div.sk-estimator input.sk-toggleable__control:checked~label.sk-toggleable__label {background-color: #d4ebff;}#sk-container-id-5 div.sk-label input.sk-toggleable__control:checked~label.sk-toggleable__label {background-color: #d4ebff;}#sk-container-id-5 input.sk-hidden--visually {border: 0;clip: rect(1px 1px 1px 1px);clip: rect(1px, 1px, 1px, 1px);height: 1px;margin: -1px;overflow: hidden;padding: 0;position: absolute;width: 1px;}#sk-container-id-5 div.sk-estimator {font-family: monospace;background-color: #f0f8ff;border: 1px dotted black;border-radius: 0.25em;box-sizing: border-box;margin-bottom: 0.5em;}#sk-container-id-5 div.sk-estimator:hover {background-color: #d4ebff;}#sk-container-id-5 div.sk-parallel-item::after {content: \"\";width: 100%;border-bottom: 1px solid gray;flex-grow: 1;}#sk-container-id-5 div.sk-label:hover label.sk-toggleable__label {background-color: #d4ebff;}#sk-container-id-5 div.sk-serial::before {content: \"\";position: absolute;border-left: 1px solid gray;box-sizing: border-box;top: 0;bottom: 0;left: 50%;z-index: 0;}#sk-container-id-5 div.sk-serial {display: flex;flex-direction: column;align-items: center;background-color: white;padding-right: 0.2em;padding-left: 0.2em;position: relative;}#sk-container-id-5 div.sk-item {position: relative;z-index: 1;}#sk-container-id-5 div.sk-parallel {display: flex;align-items: stretch;justify-content: center;background-color: white;position: relative;}#sk-container-id-5 div.sk-item::before, #sk-container-id-5 div.sk-parallel-item::before {content: \"\";position: absolute;border-left: 1px solid gray;box-sizing: border-box;top: 0;bottom: 0;left: 50%;z-index: -1;}#sk-container-id-5 div.sk-parallel-item {display: flex;flex-direction: column;z-index: 1;position: relative;background-color: white;}#sk-container-id-5 div.sk-parallel-item:first-child::after {align-self: flex-end;width: 50%;}#sk-container-id-5 div.sk-parallel-item:last-child::after {align-self: flex-start;width: 50%;}#sk-container-id-5 div.sk-parallel-item:only-child::after {width: 0;}#sk-container-id-5 div.sk-dashed-wrapped {border: 1px dashed gray;margin: 0 0.4em 0.5em 0.4em;box-sizing: border-box;padding-bottom: 0.4em;background-color: white;}#sk-container-id-5 div.sk-label label {font-family: monospace;font-weight: bold;display: inline-block;line-height: 1.2em;}#sk-container-id-5 div.sk-label-container {text-align: center;}#sk-container-id-5 div.sk-container {/* jupyter's `normalize.less` sets `[hidden] { display: none; }` but bootstrap.min.css set `[hidden] { display: none !important; }` so we also need the `!important` here to be able to override the default hidden behavior on the sphinx rendered scikit-learn.org. See: https://github.com/scikit-learn/scikit-learn/issues/21755 */display: inline-block !important;position: relative;}#sk-container-id-5 div.sk-text-repr-fallback {display: none;}</style><div id=\"sk-container-id-5\" class=\"sk-top-container\"><div class=\"sk-text-repr-fallback\"><pre>RandomForestRegressor()</pre><b>In a Jupyter environment, please rerun this cell to show the HTML representation or trust the notebook. <br />On GitHub, the HTML representation is unable to render, please try loading this page with nbviewer.org.</b></div><div class=\"sk-container\" hidden><div class=\"sk-item\"><div class=\"sk-estimator sk-toggleable\"><input class=\"sk-toggleable__control sk-hidden--visually\" id=\"sk-estimator-id-5\" type=\"checkbox\" checked><label for=\"sk-estimator-id-5\" class=\"sk-toggleable__label sk-toggleable__label-arrow\">RandomForestRegressor</label><div class=\"sk-toggleable__content\"><pre>RandomForestRegressor()</pre></div></div></div></div></div>"
      ],
      "text/plain": [
       "RandomForestRegressor()"
      ]
     },
     "execution_count": 309,
     "metadata": {},
     "output_type": "execute_result"
    }
   ],
   "source": [
    "rf = RandomForestRegressor()\n",
    "rf.fit(trans_train_datab,y_trainb)"
   ]
  },
  {
   "cell_type": "code",
   "execution_count": 310,
   "metadata": {},
   "outputs": [
    {
     "data": {
      "text/plain": [
       "0.9484891674180445"
      ]
     },
     "execution_count": 310,
     "metadata": {},
     "output_type": "execute_result"
    }
   ],
   "source": [
    "rf.score(trans_train_datab,y_trainb)"
   ]
  },
  {
   "cell_type": "code",
   "execution_count": 311,
   "metadata": {},
   "outputs": [
    {
     "data": {
      "text/plain": [
       "0.4797351927362927"
      ]
     },
     "execution_count": 311,
     "metadata": {},
     "output_type": "execute_result"
    }
   ],
   "source": [
    "rf.score(trans_test_datab,y_testb)"
   ]
  },
  {
   "cell_type": "code",
   "execution_count": 313,
   "metadata": {},
   "outputs": [],
   "source": [
    "from sklearn.svm import SVR"
   ]
  },
  {
   "cell_type": "code",
   "execution_count": 314,
   "metadata": {},
   "outputs": [],
   "source": [
    "svr = SVR()"
   ]
  },
  {
   "cell_type": "code",
   "execution_count": 315,
   "metadata": {},
   "outputs": [
    {
     "data": {
      "text/html": [
       "<style>#sk-container-id-6 {color: black;}#sk-container-id-6 pre{padding: 0;}#sk-container-id-6 div.sk-toggleable {background-color: white;}#sk-container-id-6 label.sk-toggleable__label {cursor: pointer;display: block;width: 100%;margin-bottom: 0;padding: 0.3em;box-sizing: border-box;text-align: center;}#sk-container-id-6 label.sk-toggleable__label-arrow:before {content: \"▸\";float: left;margin-right: 0.25em;color: #696969;}#sk-container-id-6 label.sk-toggleable__label-arrow:hover:before {color: black;}#sk-container-id-6 div.sk-estimator:hover label.sk-toggleable__label-arrow:before {color: black;}#sk-container-id-6 div.sk-toggleable__content {max-height: 0;max-width: 0;overflow: hidden;text-align: left;background-color: #f0f8ff;}#sk-container-id-6 div.sk-toggleable__content pre {margin: 0.2em;color: black;border-radius: 0.25em;background-color: #f0f8ff;}#sk-container-id-6 input.sk-toggleable__control:checked~div.sk-toggleable__content {max-height: 200px;max-width: 100%;overflow: auto;}#sk-container-id-6 input.sk-toggleable__control:checked~label.sk-toggleable__label-arrow:before {content: \"▾\";}#sk-container-id-6 div.sk-estimator input.sk-toggleable__control:checked~label.sk-toggleable__label {background-color: #d4ebff;}#sk-container-id-6 div.sk-label input.sk-toggleable__control:checked~label.sk-toggleable__label {background-color: #d4ebff;}#sk-container-id-6 input.sk-hidden--visually {border: 0;clip: rect(1px 1px 1px 1px);clip: rect(1px, 1px, 1px, 1px);height: 1px;margin: -1px;overflow: hidden;padding: 0;position: absolute;width: 1px;}#sk-container-id-6 div.sk-estimator {font-family: monospace;background-color: #f0f8ff;border: 1px dotted black;border-radius: 0.25em;box-sizing: border-box;margin-bottom: 0.5em;}#sk-container-id-6 div.sk-estimator:hover {background-color: #d4ebff;}#sk-container-id-6 div.sk-parallel-item::after {content: \"\";width: 100%;border-bottom: 1px solid gray;flex-grow: 1;}#sk-container-id-6 div.sk-label:hover label.sk-toggleable__label {background-color: #d4ebff;}#sk-container-id-6 div.sk-serial::before {content: \"\";position: absolute;border-left: 1px solid gray;box-sizing: border-box;top: 0;bottom: 0;left: 50%;z-index: 0;}#sk-container-id-6 div.sk-serial {display: flex;flex-direction: column;align-items: center;background-color: white;padding-right: 0.2em;padding-left: 0.2em;position: relative;}#sk-container-id-6 div.sk-item {position: relative;z-index: 1;}#sk-container-id-6 div.sk-parallel {display: flex;align-items: stretch;justify-content: center;background-color: white;position: relative;}#sk-container-id-6 div.sk-item::before, #sk-container-id-6 div.sk-parallel-item::before {content: \"\";position: absolute;border-left: 1px solid gray;box-sizing: border-box;top: 0;bottom: 0;left: 50%;z-index: -1;}#sk-container-id-6 div.sk-parallel-item {display: flex;flex-direction: column;z-index: 1;position: relative;background-color: white;}#sk-container-id-6 div.sk-parallel-item:first-child::after {align-self: flex-end;width: 50%;}#sk-container-id-6 div.sk-parallel-item:last-child::after {align-self: flex-start;width: 50%;}#sk-container-id-6 div.sk-parallel-item:only-child::after {width: 0;}#sk-container-id-6 div.sk-dashed-wrapped {border: 1px dashed gray;margin: 0 0.4em 0.5em 0.4em;box-sizing: border-box;padding-bottom: 0.4em;background-color: white;}#sk-container-id-6 div.sk-label label {font-family: monospace;font-weight: bold;display: inline-block;line-height: 1.2em;}#sk-container-id-6 div.sk-label-container {text-align: center;}#sk-container-id-6 div.sk-container {/* jupyter's `normalize.less` sets `[hidden] { display: none; }` but bootstrap.min.css set `[hidden] { display: none !important; }` so we also need the `!important` here to be able to override the default hidden behavior on the sphinx rendered scikit-learn.org. See: https://github.com/scikit-learn/scikit-learn/issues/21755 */display: inline-block !important;position: relative;}#sk-container-id-6 div.sk-text-repr-fallback {display: none;}</style><div id=\"sk-container-id-6\" class=\"sk-top-container\"><div class=\"sk-text-repr-fallback\"><pre>SVR()</pre><b>In a Jupyter environment, please rerun this cell to show the HTML representation or trust the notebook. <br />On GitHub, the HTML representation is unable to render, please try loading this page with nbviewer.org.</b></div><div class=\"sk-container\" hidden><div class=\"sk-item\"><div class=\"sk-estimator sk-toggleable\"><input class=\"sk-toggleable__control sk-hidden--visually\" id=\"sk-estimator-id-6\" type=\"checkbox\" checked><label for=\"sk-estimator-id-6\" class=\"sk-toggleable__label sk-toggleable__label-arrow\">SVR</label><div class=\"sk-toggleable__content\"><pre>SVR()</pre></div></div></div></div></div>"
      ],
      "text/plain": [
       "SVR()"
      ]
     },
     "execution_count": 315,
     "metadata": {},
     "output_type": "execute_result"
    }
   ],
   "source": [
    "svr.fit(trans_train_datab,y_trainb)"
   ]
  },
  {
   "cell_type": "code",
   "execution_count": 316,
   "metadata": {},
   "outputs": [
    {
     "data": {
      "text/plain": [
       "0.26011054396892763"
      ]
     },
     "execution_count": 316,
     "metadata": {},
     "output_type": "execute_result"
    }
   ],
   "source": [
    "svr.score(trans_train_datab,y_trainb)"
   ]
  },
  {
   "cell_type": "code",
   "execution_count": 317,
   "metadata": {},
   "outputs": [
    {
     "data": {
      "text/plain": [
       "0.31884992138480983"
      ]
     },
     "execution_count": 317,
     "metadata": {},
     "output_type": "execute_result"
    }
   ],
   "source": [
    "svr.score(trans_test_datab,y_testb)"
   ]
  },
  {
   "cell_type": "code",
   "execution_count": 318,
   "metadata": {},
   "outputs": [],
   "source": [
    "param_gridsvm = { 'C':[0.1,1,100],\n",
    "              'kernel':['rbf','poly','sigmoid','linear'],\n",
    "              'degree':[1,2,3]}\n",
    "\n",
    "sv_gr = GridSearchCV(svr,\n",
    "                     param_grid=param_gridsvm,\n",
    "                     cv=3,verbose=1)\n",
    "\n"
   ]
  },
  {
   "cell_type": "code",
   "execution_count": 319,
   "metadata": {},
   "outputs": [
    {
     "name": "stdout",
     "output_type": "stream",
     "text": [
      "Fitting 3 folds for each of 36 candidates, totalling 108 fits\n"
     ]
    },
    {
     "data": {
      "text/html": [
       "<style>#sk-container-id-7 {color: black;}#sk-container-id-7 pre{padding: 0;}#sk-container-id-7 div.sk-toggleable {background-color: white;}#sk-container-id-7 label.sk-toggleable__label {cursor: pointer;display: block;width: 100%;margin-bottom: 0;padding: 0.3em;box-sizing: border-box;text-align: center;}#sk-container-id-7 label.sk-toggleable__label-arrow:before {content: \"▸\";float: left;margin-right: 0.25em;color: #696969;}#sk-container-id-7 label.sk-toggleable__label-arrow:hover:before {color: black;}#sk-container-id-7 div.sk-estimator:hover label.sk-toggleable__label-arrow:before {color: black;}#sk-container-id-7 div.sk-toggleable__content {max-height: 0;max-width: 0;overflow: hidden;text-align: left;background-color: #f0f8ff;}#sk-container-id-7 div.sk-toggleable__content pre {margin: 0.2em;color: black;border-radius: 0.25em;background-color: #f0f8ff;}#sk-container-id-7 input.sk-toggleable__control:checked~div.sk-toggleable__content {max-height: 200px;max-width: 100%;overflow: auto;}#sk-container-id-7 input.sk-toggleable__control:checked~label.sk-toggleable__label-arrow:before {content: \"▾\";}#sk-container-id-7 div.sk-estimator input.sk-toggleable__control:checked~label.sk-toggleable__label {background-color: #d4ebff;}#sk-container-id-7 div.sk-label input.sk-toggleable__control:checked~label.sk-toggleable__label {background-color: #d4ebff;}#sk-container-id-7 input.sk-hidden--visually {border: 0;clip: rect(1px 1px 1px 1px);clip: rect(1px, 1px, 1px, 1px);height: 1px;margin: -1px;overflow: hidden;padding: 0;position: absolute;width: 1px;}#sk-container-id-7 div.sk-estimator {font-family: monospace;background-color: #f0f8ff;border: 1px dotted black;border-radius: 0.25em;box-sizing: border-box;margin-bottom: 0.5em;}#sk-container-id-7 div.sk-estimator:hover {background-color: #d4ebff;}#sk-container-id-7 div.sk-parallel-item::after {content: \"\";width: 100%;border-bottom: 1px solid gray;flex-grow: 1;}#sk-container-id-7 div.sk-label:hover label.sk-toggleable__label {background-color: #d4ebff;}#sk-container-id-7 div.sk-serial::before {content: \"\";position: absolute;border-left: 1px solid gray;box-sizing: border-box;top: 0;bottom: 0;left: 50%;z-index: 0;}#sk-container-id-7 div.sk-serial {display: flex;flex-direction: column;align-items: center;background-color: white;padding-right: 0.2em;padding-left: 0.2em;position: relative;}#sk-container-id-7 div.sk-item {position: relative;z-index: 1;}#sk-container-id-7 div.sk-parallel {display: flex;align-items: stretch;justify-content: center;background-color: white;position: relative;}#sk-container-id-7 div.sk-item::before, #sk-container-id-7 div.sk-parallel-item::before {content: \"\";position: absolute;border-left: 1px solid gray;box-sizing: border-box;top: 0;bottom: 0;left: 50%;z-index: -1;}#sk-container-id-7 div.sk-parallel-item {display: flex;flex-direction: column;z-index: 1;position: relative;background-color: white;}#sk-container-id-7 div.sk-parallel-item:first-child::after {align-self: flex-end;width: 50%;}#sk-container-id-7 div.sk-parallel-item:last-child::after {align-self: flex-start;width: 50%;}#sk-container-id-7 div.sk-parallel-item:only-child::after {width: 0;}#sk-container-id-7 div.sk-dashed-wrapped {border: 1px dashed gray;margin: 0 0.4em 0.5em 0.4em;box-sizing: border-box;padding-bottom: 0.4em;background-color: white;}#sk-container-id-7 div.sk-label label {font-family: monospace;font-weight: bold;display: inline-block;line-height: 1.2em;}#sk-container-id-7 div.sk-label-container {text-align: center;}#sk-container-id-7 div.sk-container {/* jupyter's `normalize.less` sets `[hidden] { display: none; }` but bootstrap.min.css set `[hidden] { display: none !important; }` so we also need the `!important` here to be able to override the default hidden behavior on the sphinx rendered scikit-learn.org. See: https://github.com/scikit-learn/scikit-learn/issues/21755 */display: inline-block !important;position: relative;}#sk-container-id-7 div.sk-text-repr-fallback {display: none;}</style><div id=\"sk-container-id-7\" class=\"sk-top-container\"><div class=\"sk-text-repr-fallback\"><pre>GridSearchCV(cv=3, estimator=SVR(),\n",
       "             param_grid={&#x27;C&#x27;: [0.1, 1, 100], &#x27;degree&#x27;: [1, 2, 3],\n",
       "                         &#x27;kernel&#x27;: [&#x27;rbf&#x27;, &#x27;poly&#x27;, &#x27;sigmoid&#x27;, &#x27;linear&#x27;]},\n",
       "             verbose=1)</pre><b>In a Jupyter environment, please rerun this cell to show the HTML representation or trust the notebook. <br />On GitHub, the HTML representation is unable to render, please try loading this page with nbviewer.org.</b></div><div class=\"sk-container\" hidden><div class=\"sk-item sk-dashed-wrapped\"><div class=\"sk-label-container\"><div class=\"sk-label sk-toggleable\"><input class=\"sk-toggleable__control sk-hidden--visually\" id=\"sk-estimator-id-7\" type=\"checkbox\" ><label for=\"sk-estimator-id-7\" class=\"sk-toggleable__label sk-toggleable__label-arrow\">GridSearchCV</label><div class=\"sk-toggleable__content\"><pre>GridSearchCV(cv=3, estimator=SVR(),\n",
       "             param_grid={&#x27;C&#x27;: [0.1, 1, 100], &#x27;degree&#x27;: [1, 2, 3],\n",
       "                         &#x27;kernel&#x27;: [&#x27;rbf&#x27;, &#x27;poly&#x27;, &#x27;sigmoid&#x27;, &#x27;linear&#x27;]},\n",
       "             verbose=1)</pre></div></div></div><div class=\"sk-parallel\"><div class=\"sk-parallel-item\"><div class=\"sk-item\"><div class=\"sk-label-container\"><div class=\"sk-label sk-toggleable\"><input class=\"sk-toggleable__control sk-hidden--visually\" id=\"sk-estimator-id-8\" type=\"checkbox\" ><label for=\"sk-estimator-id-8\" class=\"sk-toggleable__label sk-toggleable__label-arrow\">estimator: SVR</label><div class=\"sk-toggleable__content\"><pre>SVR()</pre></div></div></div><div class=\"sk-serial\"><div class=\"sk-item\"><div class=\"sk-estimator sk-toggleable\"><input class=\"sk-toggleable__control sk-hidden--visually\" id=\"sk-estimator-id-9\" type=\"checkbox\" ><label for=\"sk-estimator-id-9\" class=\"sk-toggleable__label sk-toggleable__label-arrow\">SVR</label><div class=\"sk-toggleable__content\"><pre>SVR()</pre></div></div></div></div></div></div></div></div></div></div>"
      ],
      "text/plain": [
       "GridSearchCV(cv=3, estimator=SVR(),\n",
       "             param_grid={'C': [0.1, 1, 100], 'degree': [1, 2, 3],\n",
       "                         'kernel': ['rbf', 'poly', 'sigmoid', 'linear']},\n",
       "             verbose=1)"
      ]
     },
     "execution_count": 319,
     "metadata": {},
     "output_type": "execute_result"
    }
   ],
   "source": [
    "sv_gr.fit(trans_train_datab,y_trainb)"
   ]
  },
  {
   "cell_type": "code",
   "execution_count": 321,
   "metadata": {},
   "outputs": [
    {
     "data": {
      "text/plain": [
       "{'C': 100, 'degree': 1, 'kernel': 'rbf'}"
      ]
     },
     "execution_count": 321,
     "metadata": {},
     "output_type": "execute_result"
    }
   ],
   "source": [
    "sv_gr.best_params_"
   ]
  },
  {
   "cell_type": "code",
   "execution_count": 322,
   "metadata": {},
   "outputs": [
    {
     "data": {
      "text/plain": [
       "0.5556990698504998"
      ]
     },
     "execution_count": 322,
     "metadata": {},
     "output_type": "execute_result"
    }
   ],
   "source": [
    "sv_gr.score(trans_train_datab,y_trainb)"
   ]
  },
  {
   "cell_type": "code",
   "execution_count": 323,
   "metadata": {},
   "outputs": [
    {
     "data": {
      "text/plain": [
       "0.6037841499074672"
      ]
     },
     "execution_count": 323,
     "metadata": {},
     "output_type": "execute_result"
    }
   ],
   "source": [
    "sv_gr.score(trans_test_datab,y_testb)"
   ]
  },
  {
   "cell_type": "markdown",
   "metadata": {},
   "source": [
    "### looks like our model is underfitting as we haave passed less data to train to get the computational speed and still for given data to train it is performing well"
   ]
  },
  {
   "cell_type": "markdown",
   "metadata": {},
   "source": [
    "# Wine Dataset "
   ]
  },
  {
   "cell_type": "code",
   "execution_count": 336,
   "metadata": {},
   "outputs": [],
   "source": [
    "from sklearn.datasets import load_wine\n",
    "data = load_wine()\n"
   ]
  },
  {
   "cell_type": "code",
   "execution_count": 341,
   "metadata": {},
   "outputs": [],
   "source": [
    "df = pd.DataFrame(data.data, columns=data.feature_names)"
   ]
  },
  {
   "cell_type": "code",
   "execution_count": 352,
   "metadata": {},
   "outputs": [
    {
     "data": {
      "text/plain": [
       "0      0\n",
       "1      0\n",
       "2      0\n",
       "3      0\n",
       "4      0\n",
       "      ..\n",
       "173    2\n",
       "174    2\n",
       "175    2\n",
       "176    2\n",
       "177    2\n",
       "Name: target, Length: 178, dtype: int32"
      ]
     },
     "execution_count": 352,
     "metadata": {},
     "output_type": "execute_result"
    }
   ],
   "source": [
    "data.target"
   ]
  },
  {
   "cell_type": "code",
   "execution_count": 346,
   "metadata": {},
   "outputs": [],
   "source": [
    "pd.set_option('display.max_column',None)"
   ]
  },
  {
   "cell_type": "code",
   "execution_count": 351,
   "metadata": {},
   "outputs": [
    {
     "data": {
      "text/html": [
       "<div>\n",
       "<style scoped>\n",
       "    .dataframe tbody tr th:only-of-type {\n",
       "        vertical-align: middle;\n",
       "    }\n",
       "\n",
       "    .dataframe tbody tr th {\n",
       "        vertical-align: top;\n",
       "    }\n",
       "\n",
       "    .dataframe thead th {\n",
       "        text-align: right;\n",
       "    }\n",
       "</style>\n",
       "<table border=\"1\" class=\"dataframe\">\n",
       "  <thead>\n",
       "    <tr style=\"text-align: right;\">\n",
       "      <th></th>\n",
       "      <th>alcohol</th>\n",
       "      <th>malic_acid</th>\n",
       "      <th>ash</th>\n",
       "      <th>alcalinity_of_ash</th>\n",
       "      <th>magnesium</th>\n",
       "      <th>total_phenols</th>\n",
       "      <th>flavanoids</th>\n",
       "      <th>nonflavanoid_phenols</th>\n",
       "      <th>proanthocyanins</th>\n",
       "      <th>color_intensity</th>\n",
       "      <th>hue</th>\n",
       "      <th>od280/od315_of_diluted_wines</th>\n",
       "      <th>proline</th>\n",
       "    </tr>\n",
       "  </thead>\n",
       "  <tbody>\n",
       "    <tr>\n",
       "      <th>0</th>\n",
       "      <td>14.23</td>\n",
       "      <td>1.71</td>\n",
       "      <td>2.43</td>\n",
       "      <td>15.6</td>\n",
       "      <td>127.0</td>\n",
       "      <td>2.80</td>\n",
       "      <td>3.06</td>\n",
       "      <td>0.28</td>\n",
       "      <td>2.29</td>\n",
       "      <td>5.64</td>\n",
       "      <td>1.04</td>\n",
       "      <td>3.92</td>\n",
       "      <td>1065.0</td>\n",
       "    </tr>\n",
       "    <tr>\n",
       "      <th>1</th>\n",
       "      <td>13.20</td>\n",
       "      <td>1.78</td>\n",
       "      <td>2.14</td>\n",
       "      <td>11.2</td>\n",
       "      <td>100.0</td>\n",
       "      <td>2.65</td>\n",
       "      <td>2.76</td>\n",
       "      <td>0.26</td>\n",
       "      <td>1.28</td>\n",
       "      <td>4.38</td>\n",
       "      <td>1.05</td>\n",
       "      <td>3.40</td>\n",
       "      <td>1050.0</td>\n",
       "    </tr>\n",
       "    <tr>\n",
       "      <th>2</th>\n",
       "      <td>13.16</td>\n",
       "      <td>2.36</td>\n",
       "      <td>2.67</td>\n",
       "      <td>18.6</td>\n",
       "      <td>101.0</td>\n",
       "      <td>2.80</td>\n",
       "      <td>3.24</td>\n",
       "      <td>0.30</td>\n",
       "      <td>2.81</td>\n",
       "      <td>5.68</td>\n",
       "      <td>1.03</td>\n",
       "      <td>3.17</td>\n",
       "      <td>1185.0</td>\n",
       "    </tr>\n",
       "    <tr>\n",
       "      <th>3</th>\n",
       "      <td>14.37</td>\n",
       "      <td>1.95</td>\n",
       "      <td>2.50</td>\n",
       "      <td>16.8</td>\n",
       "      <td>113.0</td>\n",
       "      <td>3.85</td>\n",
       "      <td>3.49</td>\n",
       "      <td>0.24</td>\n",
       "      <td>2.18</td>\n",
       "      <td>7.80</td>\n",
       "      <td>0.86</td>\n",
       "      <td>3.45</td>\n",
       "      <td>1480.0</td>\n",
       "    </tr>\n",
       "    <tr>\n",
       "      <th>4</th>\n",
       "      <td>13.24</td>\n",
       "      <td>2.59</td>\n",
       "      <td>2.87</td>\n",
       "      <td>21.0</td>\n",
       "      <td>118.0</td>\n",
       "      <td>2.80</td>\n",
       "      <td>2.69</td>\n",
       "      <td>0.39</td>\n",
       "      <td>1.82</td>\n",
       "      <td>4.32</td>\n",
       "      <td>1.04</td>\n",
       "      <td>2.93</td>\n",
       "      <td>735.0</td>\n",
       "    </tr>\n",
       "    <tr>\n",
       "      <th>...</th>\n",
       "      <td>...</td>\n",
       "      <td>...</td>\n",
       "      <td>...</td>\n",
       "      <td>...</td>\n",
       "      <td>...</td>\n",
       "      <td>...</td>\n",
       "      <td>...</td>\n",
       "      <td>...</td>\n",
       "      <td>...</td>\n",
       "      <td>...</td>\n",
       "      <td>...</td>\n",
       "      <td>...</td>\n",
       "      <td>...</td>\n",
       "    </tr>\n",
       "    <tr>\n",
       "      <th>173</th>\n",
       "      <td>13.71</td>\n",
       "      <td>5.65</td>\n",
       "      <td>2.45</td>\n",
       "      <td>20.5</td>\n",
       "      <td>95.0</td>\n",
       "      <td>1.68</td>\n",
       "      <td>0.61</td>\n",
       "      <td>0.52</td>\n",
       "      <td>1.06</td>\n",
       "      <td>7.70</td>\n",
       "      <td>0.64</td>\n",
       "      <td>1.74</td>\n",
       "      <td>740.0</td>\n",
       "    </tr>\n",
       "    <tr>\n",
       "      <th>174</th>\n",
       "      <td>13.40</td>\n",
       "      <td>3.91</td>\n",
       "      <td>2.48</td>\n",
       "      <td>23.0</td>\n",
       "      <td>102.0</td>\n",
       "      <td>1.80</td>\n",
       "      <td>0.75</td>\n",
       "      <td>0.43</td>\n",
       "      <td>1.41</td>\n",
       "      <td>7.30</td>\n",
       "      <td>0.70</td>\n",
       "      <td>1.56</td>\n",
       "      <td>750.0</td>\n",
       "    </tr>\n",
       "    <tr>\n",
       "      <th>175</th>\n",
       "      <td>13.27</td>\n",
       "      <td>4.28</td>\n",
       "      <td>2.26</td>\n",
       "      <td>20.0</td>\n",
       "      <td>120.0</td>\n",
       "      <td>1.59</td>\n",
       "      <td>0.69</td>\n",
       "      <td>0.43</td>\n",
       "      <td>1.35</td>\n",
       "      <td>10.20</td>\n",
       "      <td>0.59</td>\n",
       "      <td>1.56</td>\n",
       "      <td>835.0</td>\n",
       "    </tr>\n",
       "    <tr>\n",
       "      <th>176</th>\n",
       "      <td>13.17</td>\n",
       "      <td>2.59</td>\n",
       "      <td>2.37</td>\n",
       "      <td>20.0</td>\n",
       "      <td>120.0</td>\n",
       "      <td>1.65</td>\n",
       "      <td>0.68</td>\n",
       "      <td>0.53</td>\n",
       "      <td>1.46</td>\n",
       "      <td>9.30</td>\n",
       "      <td>0.60</td>\n",
       "      <td>1.62</td>\n",
       "      <td>840.0</td>\n",
       "    </tr>\n",
       "    <tr>\n",
       "      <th>177</th>\n",
       "      <td>14.13</td>\n",
       "      <td>4.10</td>\n",
       "      <td>2.74</td>\n",
       "      <td>24.5</td>\n",
       "      <td>96.0</td>\n",
       "      <td>2.05</td>\n",
       "      <td>0.76</td>\n",
       "      <td>0.56</td>\n",
       "      <td>1.35</td>\n",
       "      <td>9.20</td>\n",
       "      <td>0.61</td>\n",
       "      <td>1.60</td>\n",
       "      <td>560.0</td>\n",
       "    </tr>\n",
       "  </tbody>\n",
       "</table>\n",
       "<p>178 rows × 13 columns</p>\n",
       "</div>"
      ],
      "text/plain": [
       "     alcohol  malic_acid   ash  alcalinity_of_ash  magnesium  total_phenols  \\\n",
       "0      14.23        1.71  2.43               15.6      127.0           2.80   \n",
       "1      13.20        1.78  2.14               11.2      100.0           2.65   \n",
       "2      13.16        2.36  2.67               18.6      101.0           2.80   \n",
       "3      14.37        1.95  2.50               16.8      113.0           3.85   \n",
       "4      13.24        2.59  2.87               21.0      118.0           2.80   \n",
       "..       ...         ...   ...                ...        ...            ...   \n",
       "173    13.71        5.65  2.45               20.5       95.0           1.68   \n",
       "174    13.40        3.91  2.48               23.0      102.0           1.80   \n",
       "175    13.27        4.28  2.26               20.0      120.0           1.59   \n",
       "176    13.17        2.59  2.37               20.0      120.0           1.65   \n",
       "177    14.13        4.10  2.74               24.5       96.0           2.05   \n",
       "\n",
       "     flavanoids  nonflavanoid_phenols  proanthocyanins  color_intensity   hue  \\\n",
       "0          3.06                  0.28             2.29             5.64  1.04   \n",
       "1          2.76                  0.26             1.28             4.38  1.05   \n",
       "2          3.24                  0.30             2.81             5.68  1.03   \n",
       "3          3.49                  0.24             2.18             7.80  0.86   \n",
       "4          2.69                  0.39             1.82             4.32  1.04   \n",
       "..          ...                   ...              ...              ...   ...   \n",
       "173        0.61                  0.52             1.06             7.70  0.64   \n",
       "174        0.75                  0.43             1.41             7.30  0.70   \n",
       "175        0.69                  0.43             1.35            10.20  0.59   \n",
       "176        0.68                  0.53             1.46             9.30  0.60   \n",
       "177        0.76                  0.56             1.35             9.20  0.61   \n",
       "\n",
       "     od280/od315_of_diluted_wines  proline  \n",
       "0                            3.92   1065.0  \n",
       "1                            3.40   1050.0  \n",
       "2                            3.17   1185.0  \n",
       "3                            3.45   1480.0  \n",
       "4                            2.93    735.0  \n",
       "..                            ...      ...  \n",
       "173                          1.74    740.0  \n",
       "174                          1.56    750.0  \n",
       "175                          1.56    835.0  \n",
       "176                          1.62    840.0  \n",
       "177                          1.60    560.0  \n",
       "\n",
       "[178 rows x 13 columns]"
      ]
     },
     "execution_count": 351,
     "metadata": {},
     "output_type": "execute_result"
    }
   ],
   "source": [
    "df"
   ]
  },
  {
   "cell_type": "code",
   "execution_count": 348,
   "metadata": {},
   "outputs": [
    {
     "name": "stdout",
     "output_type": "stream",
     "text": [
      "<class 'pandas.core.frame.DataFrame'>\n",
      "RangeIndex: 178 entries, 0 to 177\n",
      "Data columns (total 13 columns):\n",
      " #   Column                        Non-Null Count  Dtype  \n",
      "---  ------                        --------------  -----  \n",
      " 0   alcohol                       178 non-null    float64\n",
      " 1   malic_acid                    178 non-null    float64\n",
      " 2   ash                           178 non-null    float64\n",
      " 3   alcalinity_of_ash             178 non-null    float64\n",
      " 4   magnesium                     178 non-null    float64\n",
      " 5   total_phenols                 178 non-null    float64\n",
      " 6   flavanoids                    178 non-null    float64\n",
      " 7   nonflavanoid_phenols          178 non-null    float64\n",
      " 8   proanthocyanins               178 non-null    float64\n",
      " 9   color_intensity               178 non-null    float64\n",
      " 10  hue                           178 non-null    float64\n",
      " 11  od280/od315_of_diluted_wines  178 non-null    float64\n",
      " 12  proline                       178 non-null    float64\n",
      "dtypes: float64(13)\n",
      "memory usage: 18.2 KB\n"
     ]
    }
   ],
   "source": [
    "df.info()"
   ]
  },
  {
   "cell_type": "code",
   "execution_count": 349,
   "metadata": {},
   "outputs": [
    {
     "data": {
      "text/plain": [
       "alcohol                         0\n",
       "malic_acid                      0\n",
       "ash                             0\n",
       "alcalinity_of_ash               0\n",
       "magnesium                       0\n",
       "total_phenols                   0\n",
       "flavanoids                      0\n",
       "nonflavanoid_phenols            0\n",
       "proanthocyanins                 0\n",
       "color_intensity                 0\n",
       "hue                             0\n",
       "od280/od315_of_diluted_wines    0\n",
       "proline                         0\n",
       "dtype: int64"
      ]
     },
     "execution_count": 349,
     "metadata": {},
     "output_type": "execute_result"
    }
   ],
   "source": [
    "df.isna().sum()"
   ]
  },
  {
   "cell_type": "code",
   "execution_count": 356,
   "metadata": {},
   "outputs": [],
   "source": [
    "from sklearn.tree import DecisionTreeClassifier"
   ]
  },
  {
   "cell_type": "code",
   "execution_count": 353,
   "metadata": {},
   "outputs": [],
   "source": [
    "df[\"target\"] = data.target"
   ]
  },
  {
   "cell_type": "code",
   "execution_count": 354,
   "metadata": {},
   "outputs": [],
   "source": [
    "Xw = df.drop(\"target\",axis=1)\n",
    "yw = df[\"target\"]"
   ]
  },
  {
   "cell_type": "code",
   "execution_count": 358,
   "metadata": {},
   "outputs": [],
   "source": [
    "X_trainw,X_testw,y_trainw,y_testw = train_test_split(Xw,yw,test_size=0.3,random_state=42)"
   ]
  },
  {
   "cell_type": "code",
   "execution_count": 357,
   "metadata": {},
   "outputs": [],
   "source": [
    "dt = DecisionTreeClassifier()"
   ]
  },
  {
   "cell_type": "code",
   "execution_count": 359,
   "metadata": {},
   "outputs": [
    {
     "data": {
      "text/html": [
       "<style>#sk-container-id-8 {color: black;}#sk-container-id-8 pre{padding: 0;}#sk-container-id-8 div.sk-toggleable {background-color: white;}#sk-container-id-8 label.sk-toggleable__label {cursor: pointer;display: block;width: 100%;margin-bottom: 0;padding: 0.3em;box-sizing: border-box;text-align: center;}#sk-container-id-8 label.sk-toggleable__label-arrow:before {content: \"▸\";float: left;margin-right: 0.25em;color: #696969;}#sk-container-id-8 label.sk-toggleable__label-arrow:hover:before {color: black;}#sk-container-id-8 div.sk-estimator:hover label.sk-toggleable__label-arrow:before {color: black;}#sk-container-id-8 div.sk-toggleable__content {max-height: 0;max-width: 0;overflow: hidden;text-align: left;background-color: #f0f8ff;}#sk-container-id-8 div.sk-toggleable__content pre {margin: 0.2em;color: black;border-radius: 0.25em;background-color: #f0f8ff;}#sk-container-id-8 input.sk-toggleable__control:checked~div.sk-toggleable__content {max-height: 200px;max-width: 100%;overflow: auto;}#sk-container-id-8 input.sk-toggleable__control:checked~label.sk-toggleable__label-arrow:before {content: \"▾\";}#sk-container-id-8 div.sk-estimator input.sk-toggleable__control:checked~label.sk-toggleable__label {background-color: #d4ebff;}#sk-container-id-8 div.sk-label input.sk-toggleable__control:checked~label.sk-toggleable__label {background-color: #d4ebff;}#sk-container-id-8 input.sk-hidden--visually {border: 0;clip: rect(1px 1px 1px 1px);clip: rect(1px, 1px, 1px, 1px);height: 1px;margin: -1px;overflow: hidden;padding: 0;position: absolute;width: 1px;}#sk-container-id-8 div.sk-estimator {font-family: monospace;background-color: #f0f8ff;border: 1px dotted black;border-radius: 0.25em;box-sizing: border-box;margin-bottom: 0.5em;}#sk-container-id-8 div.sk-estimator:hover {background-color: #d4ebff;}#sk-container-id-8 div.sk-parallel-item::after {content: \"\";width: 100%;border-bottom: 1px solid gray;flex-grow: 1;}#sk-container-id-8 div.sk-label:hover label.sk-toggleable__label {background-color: #d4ebff;}#sk-container-id-8 div.sk-serial::before {content: \"\";position: absolute;border-left: 1px solid gray;box-sizing: border-box;top: 0;bottom: 0;left: 50%;z-index: 0;}#sk-container-id-8 div.sk-serial {display: flex;flex-direction: column;align-items: center;background-color: white;padding-right: 0.2em;padding-left: 0.2em;position: relative;}#sk-container-id-8 div.sk-item {position: relative;z-index: 1;}#sk-container-id-8 div.sk-parallel {display: flex;align-items: stretch;justify-content: center;background-color: white;position: relative;}#sk-container-id-8 div.sk-item::before, #sk-container-id-8 div.sk-parallel-item::before {content: \"\";position: absolute;border-left: 1px solid gray;box-sizing: border-box;top: 0;bottom: 0;left: 50%;z-index: -1;}#sk-container-id-8 div.sk-parallel-item {display: flex;flex-direction: column;z-index: 1;position: relative;background-color: white;}#sk-container-id-8 div.sk-parallel-item:first-child::after {align-self: flex-end;width: 50%;}#sk-container-id-8 div.sk-parallel-item:last-child::after {align-self: flex-start;width: 50%;}#sk-container-id-8 div.sk-parallel-item:only-child::after {width: 0;}#sk-container-id-8 div.sk-dashed-wrapped {border: 1px dashed gray;margin: 0 0.4em 0.5em 0.4em;box-sizing: border-box;padding-bottom: 0.4em;background-color: white;}#sk-container-id-8 div.sk-label label {font-family: monospace;font-weight: bold;display: inline-block;line-height: 1.2em;}#sk-container-id-8 div.sk-label-container {text-align: center;}#sk-container-id-8 div.sk-container {/* jupyter's `normalize.less` sets `[hidden] { display: none; }` but bootstrap.min.css set `[hidden] { display: none !important; }` so we also need the `!important` here to be able to override the default hidden behavior on the sphinx rendered scikit-learn.org. See: https://github.com/scikit-learn/scikit-learn/issues/21755 */display: inline-block !important;position: relative;}#sk-container-id-8 div.sk-text-repr-fallback {display: none;}</style><div id=\"sk-container-id-8\" class=\"sk-top-container\"><div class=\"sk-text-repr-fallback\"><pre>DecisionTreeClassifier()</pre><b>In a Jupyter environment, please rerun this cell to show the HTML representation or trust the notebook. <br />On GitHub, the HTML representation is unable to render, please try loading this page with nbviewer.org.</b></div><div class=\"sk-container\" hidden><div class=\"sk-item\"><div class=\"sk-estimator sk-toggleable\"><input class=\"sk-toggleable__control sk-hidden--visually\" id=\"sk-estimator-id-10\" type=\"checkbox\" checked><label for=\"sk-estimator-id-10\" class=\"sk-toggleable__label sk-toggleable__label-arrow\">DecisionTreeClassifier</label><div class=\"sk-toggleable__content\"><pre>DecisionTreeClassifier()</pre></div></div></div></div></div>"
      ],
      "text/plain": [
       "DecisionTreeClassifier()"
      ]
     },
     "execution_count": 359,
     "metadata": {},
     "output_type": "execute_result"
    }
   ],
   "source": [
    "dt.fit(X_trainw,y_trainw)"
   ]
  },
  {
   "cell_type": "code",
   "execution_count": 360,
   "metadata": {},
   "outputs": [
    {
     "data": {
      "text/plain": [
       "1.0"
      ]
     },
     "execution_count": 360,
     "metadata": {},
     "output_type": "execute_result"
    }
   ],
   "source": [
    "dt.score(X_trainw,y_trainw)"
   ]
  },
  {
   "cell_type": "code",
   "execution_count": 361,
   "metadata": {},
   "outputs": [
    {
     "data": {
      "text/plain": [
       "0.9629629629629629"
      ]
     },
     "execution_count": 361,
     "metadata": {},
     "output_type": "execute_result"
    }
   ],
   "source": [
    "dt.score(X_testw,y_testw)"
   ]
  },
  {
   "cell_type": "code",
   "execution_count": 320,
   "metadata": {},
   "outputs": [],
   "source": [
    "def fourSum(nums, target):\n",
    "    nums.sort()\n",
    "    result = []\n",
    "\n",
    "    for a in range(len(nums)-3):\n",
    "        if a > 0 and nums[a] == nums[a-1]:\n",
    "            continue\n",
    "\n",
    "        for b in range(a+1, len(nums)-2):\n",
    "            if b > a+1 and nums[b] == nums[b-1]:\n",
    "                continue\n",
    "\n",
    "            left, right = b+1, len(nums)-1\n",
    "\n",
    "            while left < right:\n",
    "                current_sum = nums[a] + nums[b] + nums[left] + nums[right]\n",
    "\n",
    "                if current_sum == target:\n",
    "                    result.append([nums[a], nums[b], nums[left], nums[right]])\n",
    "\n",
    "                    while left < right and nums[left] == nums[left+1]:\n",
    "                        left += 1\n",
    "                    while left < right and nums[right] == nums[right-1]:\n",
    "                        right -= 1\n",
    "\n",
    "                    left += 1\n",
    "                    right -= 1\n",
    "                elif current_sum < target:\n",
    "                    left += 1\n",
    "                else:\n",
    "                    right -= 1\n",
    "\n",
    "    return result"
   ]
  },
  {
   "cell_type": "markdown",
   "metadata": {},
   "source": [
    "# Deep Learning "
   ]
  },
  {
   "cell_type": "markdown",
   "metadata": {},
   "source": [
    "Q.1 (a) Explain how you can implement DL in a real-world application.\n",
    "\n",
    "Deep Learning (DL) has a wide array of real-world applications across various industries. Here’s how you can implement DL in a real-world scenario:\n",
    "\n",
    "Identify the Problem:\n",
    "Determine the specific problem you want to solve with DL. For example, image recognition, natural language processing, or predictive analytics.\n",
    "\n",
    "Data Collection:\n",
    "Gather a large dataset relevant to the problem. The quality and quantity of data are crucial for the success of a DL model.\n",
    "\n",
    "Data Preprocessing:\n",
    "Clean and preprocess the data to make it suitable for training. This may include normalization, augmentation, or encoding.\n",
    "\n",
    "Model Selection:\n",
    "Choose an appropriate DL architecture for the task. Common architectures include Convolutional Neural Networks (CNNs) for image-related tasks or Recurrent Neural Networks (RNNs) for sequential data like text.\n",
    "\n",
    "Training:\n",
    "Use the processed data to train the DL model. This involves feeding the data through the network and adjusting the weights using algorithms like backpropagation.\n",
    "\n",
    "Evaluation:\n",
    "Validate the model’s performance using a separate dataset. Fine-tune the model parameters to improve accuracy and reduce overfitting.\n",
    "\n",
    "Deployment:\n",
    "Integrate the trained model into a production environment where it can process real-world data and provide insights or predictions.\n",
    "\n",
    "Monitoring and Maintenance:\n",
    "Continuously monitor the model’s performance and retrain it with new data to ensure it remains accurate and relevant."
   ]
  },
  {
   "cell_type": "markdown",
   "metadata": {},
   "source": [
    "Q. What is the use of Activation function in Artificial Neural Networks? What would be the problem if we don't use it in ANN networks.\n",
    "\n",
    "Activation functions in Artificial Neural Networks (ANNs) are crucial for a couple of reasons:\n",
    "\n",
    "Introduce Non-Linearity: The primary role of an activation function is to introduce non-linearity into the network1. This allows ANNs to capture and model complex patterns in the data, which linear models cannot do.\n",
    "Control Neuron Firing: Activation functions determine whether or not a neuron should be activated. They do this by calculating the weighted sum of the inputs and adding bias, deciding if the neuron’s output should contribute to the next layer2.\n",
    "Without activation functions, ANNs would be unable to perform tasks beyond what a simple linear regression model can do. Here’s why:\n",
    "\n",
    "Linear Limitation: Without activation functions, no matter how many layers you have in an ANN, the entire network would still behave like a single-layer perceptron because it would only be capable of understanding linear relationships3.\n",
    "Inability to Solve Complex Problems: ANNs would not be able to solve non-linear problems like the XOR problem, which requires the model to learn non-linear boundaries3.\n",
    "No Backpropagation: Activation functions allow the network to backpropagate errors and learn. Without them, the derivative would be constant, and the network wouldn’t learn effectively"
   ]
  }
 ],
 "metadata": {
  "kernelspec": {
   "display_name": "Python 3",
   "language": "python",
   "name": "python3"
  },
  "language_info": {
   "codemirror_mode": {
    "name": "ipython",
    "version": 3
   },
   "file_extension": ".py",
   "mimetype": "text/x-python",
   "name": "python",
   "nbconvert_exporter": "python",
   "pygments_lexer": "ipython3",
   "version": "3.11.4"
  }
 },
 "nbformat": 4,
 "nbformat_minor": 2
}
