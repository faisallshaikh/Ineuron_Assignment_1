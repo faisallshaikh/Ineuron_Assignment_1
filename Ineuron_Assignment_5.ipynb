{
 "cells": [
  {
   "cell_type": "code",
   "execution_count": null,
   "id": "e0a8696e",
   "metadata": {},
   "outputs": [],
   "source": [
    "1. What does an empty dictionary's code look like? \n",
    "\n",
    "--> Just like parentheses () represents tuple and square bracket [] represents list, same way dictionary is \n",
    "represented by curly braces {}.\n",
    "And empty dictionary looks like {} which has no key,values in it, a dictionary contains elements \n",
    "in key:value pair"
   ]
  },
  {
   "cell_type": "code",
   "execution_count": null,
   "id": "b20eee68",
   "metadata": {},
   "outputs": [],
   "source": [
    "2. What is the value of a dictionary value with the key 'foo' and the value 42? \n",
    "\n",
    "--> temp = {\"foo\" : 42}"
   ]
  },
  {
   "cell_type": "code",
   "execution_count": null,
   "id": "7f4ac4cd",
   "metadata": {},
   "outputs": [],
   "source": [
    "3. What is the most significant distinction between a dictionary and a list? \n",
    "\n",
    "--> The elements in a list are ordered, and the elements in a dictionary aren't.\n",
    "Also, elements in a list must be accessed using numerical indices. Elements in a dictionary \n",
    "are indexed using keys, which can have different data types"
   ]
  },
  {
   "cell_type": "code",
   "execution_count": 1,
   "id": "e4a36b0f",
   "metadata": {},
   "outputs": [
    {
     "ename": "KeyError",
     "evalue": "'foo'",
     "output_type": "error",
     "traceback": [
      "\u001b[1;31m---------------------------------------------------------------------------\u001b[0m",
      "\u001b[1;31mKeyError\u001b[0m                                  Traceback (most recent call last)",
      "Cell \u001b[1;32mIn[1], line 5\u001b[0m\n\u001b[0;32m      1\u001b[0m \u001b[38;5;124;03m\"\"\"4. What happens if you try to access spam['foo'] if spam is {'bar': 100}? \u001b[39;00m\n\u001b[0;32m      2\u001b[0m \n\u001b[0;32m      3\u001b[0m \u001b[38;5;124;03m--> This will give us key error\"\"\"\u001b[39;00m\n\u001b[0;32m      4\u001b[0m spam \u001b[38;5;241m=\u001b[39m {\u001b[38;5;124m'\u001b[39m\u001b[38;5;124mbar\u001b[39m\u001b[38;5;124m'\u001b[39m: \u001b[38;5;241m100\u001b[39m}\n\u001b[1;32m----> 5\u001b[0m spam[\u001b[38;5;124m'\u001b[39m\u001b[38;5;124mfoo\u001b[39m\u001b[38;5;124m'\u001b[39m]\n",
      "\u001b[1;31mKeyError\u001b[0m: 'foo'"
     ]
    }
   ],
   "source": [
    "\"\"\"4. What happens if you try to access spam['foo'] if spam is {'bar': 100}? \n",
    "\n",
    "--> This will give us key error\"\"\"\n",
    "spam = {'bar': 100}\n",
    "spam['foo']\n"
   ]
  },
  {
   "cell_type": "code",
   "execution_count": null,
   "id": "cc07b189",
   "metadata": {},
   "outputs": [],
   "source": [
    "5. If a dictionary is stored in spam, what is the difference between the expressions \n",
    "'cat' in spam and 'cat' in spam.keys()? \n",
    "\n",
    "    spam = {'cat':1}\n",
    "    spam = {key:value}\n",
    "\n",
    "--> There is no difference, ('cat' in spam) checks if 'cat' is present in spam and if it is\n",
    "then it will return True else return False.\n",
    "'cat' in spam.keys() will also result in True as spam.keys() will give us only (keys)-elements and 'cat' is the \n",
    "key in spam\n"
   ]
  },
  {
   "cell_type": "code",
   "execution_count": null,
   "id": "af8a8917",
   "metadata": {},
   "outputs": [],
   "source": [
    "6. If a dictionary is stored in spam, what is the difference between the expressions \n",
    "'cat' in spam and 'cat' in spam.values()? \n",
    "\n",
    "--> 'cat' in spam checks whether'cat' exists as a key in spam. 'cat' in spam.values() \n",
    "checks whether 'cat' is a value in spam."
   ]
  },
  {
   "cell_type": "code",
   "execution_count": 3,
   "id": "4ecf8a52",
   "metadata": {},
   "outputs": [
    {
     "name": "stdout",
     "output_type": "stream",
     "text": [
      "{'cat': 100, 'color': 'black'}\n"
     ]
    },
    {
     "data": {
      "text/plain": [
       "'Get the value of the \"color\" item, if the \"color\" item does not exist, insert \"color\" \\nwith the value \"black\":'"
      ]
     },
     "execution_count": 3,
     "metadata": {},
     "output_type": "execute_result"
    }
   ],
   "source": [
    "\"\"\"7. What is a shortcut for the following code? \n",
    "-->\"\"\"\n",
    "spam = {'cat':100}\n",
    "if 'color' not in spam: \n",
    "    spam['color'] = 'black' \n",
    "spam.setdefault('color', 'black')\n",
    "print(spam)\n",
    "\n",
    "\"\"\"Get the value of the \"color\" item, if the \"color\" item does not exist, insert \"color\" \n",
    "with the value \"black\":\"\"\"\n"
   ]
  },
  {
   "cell_type": "code",
   "execution_count": null,
   "id": "8e41fdef",
   "metadata": {},
   "outputs": [],
   "source": [
    "8. How do you \"pretty print\" dictionary values using which module and function? \n",
    "\n",
    "--> The module is pprint.\n",
    "The functions are pprint.pprint() and pprint.pformat()."
   ]
  },
  {
   "cell_type": "code",
   "execution_count": null,
   "id": "5c45de4e",
   "metadata": {},
   "outputs": [],
   "source": []
  }
 ],
 "metadata": {
  "kernelspec": {
   "display_name": "Python 3 (ipykernel)",
   "language": "python",
   "name": "python3"
  },
  "language_info": {
   "codemirror_mode": {
    "name": "ipython",
    "version": 3
   },
   "file_extension": ".py",
   "mimetype": "text/x-python",
   "name": "python",
   "nbconvert_exporter": "python",
   "pygments_lexer": "ipython3",
   "version": "3.11.3"
  }
 },
 "nbformat": 4,
 "nbformat_minor": 5
}
