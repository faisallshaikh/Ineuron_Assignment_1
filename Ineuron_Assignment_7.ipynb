{
 "cells": [
  {
   "cell_type": "code",
   "execution_count": 7,
   "id": "37c31c94",
   "metadata": {},
   "outputs": [
    {
     "name": "stdout",
     "output_type": "stream",
     "text": [
      "First variable is 10 & second variable is 5.\n",
      "Addition: 10 + 5 = 15\n",
      "Subtraction: 10 - 5 = 5\n",
      "Multiplication: 10 * 5 = 50\n",
      "Division: 10 / 5 = 2.0\n"
     ]
    }
   ],
   "source": [
    "\"\"\"Q.1. Create two int type variables, apply addition, subtraction, division and multiplications\n",
    "and store the results in variables. Then print the data in the following format by calling the\n",
    "variables:\n",
    "First variable is __ & second variable is __.\n",
    "Addition: __ + __ = __\n",
    "Subtraction: __ - __ = __\n",
    "Multiplication: __ * __ = __\n",
    "Division: __ / __ = __\"\"\"\n",
    "\n",
    "a = 10\n",
    "b = 5\n",
    "\n",
    "print(f\"First variable is {a} & second variable is {b}.\")\n",
    "print(f\"Addition: {a} + {b} = {a+b}\\nSubtraction: {a} - {b} = {a-b}\\nMultiplication: {a} * {b} = {a*b}\\nDivision: {a} / {b} = {a/b}\")\n"
   ]
  },
  {
   "cell_type": "code",
   "execution_count": 39,
   "id": "d3e4442f",
   "metadata": {},
   "outputs": [
    {
     "name": "stdout",
     "output_type": "stream",
     "text": [
      "'/' Division (float): divides the first operand by the second\n",
      "2.0\n",
      "7/3 = 2.3333333333333335\n",
      "\n",
      "'//' Division (floor): divides the first operand by the second\n",
      "6//3 = 2\n",
      "7//3 = 2\n",
      "\n",
      "** --> Power: Returns first raised to power second\n",
      "2**2 = 4\n",
      "3**3 = 27\n",
      "^ --> The ^ operator compares each bit and set it to 1 if only one is 1, otherwise (if both are 1 or both are 0) it is set to 0:\n",
      "a^b = 7\n"
     ]
    }
   ],
   "source": [
    "\"\"\"Q.2. What is the difference between the following operators:\n",
    "(i) ‘/’ & ‘//’\n",
    "(ii) ‘**’ & ‘^’\"\"\"\n",
    "\n",
    "\n",
    "print(\"'/' Division (float): divides the first operand by the second\")\n",
    "\n",
    "print(6/3) # division returns float number\n",
    "print(f\"7/3 = {7/3}\") \n",
    "print(\"\\n'//' Division (floor): divides the first operand by the second\")\n",
    "print(f\"6//3 = {6//3}\")\n",
    "print(f\"7//3 = {7//3}\") # floor division returns whole number\n",
    "\n",
    "print(\"\\n** --> Power: Returns first raised to power second\")\n",
    "print(f\"2**2 = {2**2}\")\n",
    "print(f\"3**3 = {3**3}\")\n",
    "\n",
    "print(\"^ --> The ^ operator compares each bit and set it to 1 if only one is 1, otherwise (if both are 1 or both are 0) it is set to 0:\")\n",
    "print(f\"a^b = {a^b}\") # a,b = 5,2 \n"
   ]
  },
  {
   "cell_type": "code",
   "execution_count": null,
   "id": "39fc7830",
   "metadata": {},
   "outputs": [],
   "source": [
    "Q.3. List the logical operators.\n",
    "\n",
    "--> In Python, logical operators carry out logical operations and return Boolean values based on the result.\n",
    "\n",
    "There are three types of logical operators in Python:\n",
    "\n",
    "♦ And Operator\n",
    "♦ Or Operator\n",
    "♦ Not Operator\n",
    "\n",
    "And Operator\n",
    "The And operator is used to verify where both conditions associated with it are True Simultaneously. \n",
    "It is represented as \"X and Y\".\n",
    "\n",
    "Or Operator\n",
    "The Or Operator is used to verify that either of the associated conditions is true. It is represented as \"X or Y\".\n",
    "\n",
    "Not Operator\n",
    "The Not Operator is associated with a single condition. It inverts the results, i.e., true is changed to false, and \n",
    "false is changed to true. It is represented as \"not X\""
   ]
  },
  {
   "cell_type": "code",
   "execution_count": 29,
   "id": "39619d45",
   "metadata": {},
   "outputs": [
    {
     "name": "stdout",
     "output_type": "stream",
     "text": [
      "0b101\n",
      "20 0b10100\n",
      "1 0b1\n"
     ]
    }
   ],
   "source": [
    "\"\"\"Q.4. Explain right shift operator and left shift operator with examples.\"\"\"\n",
    "\n",
    "print(bin(5)) # getting binary number of 5\n",
    "a = 5\n",
    "b = 2\n",
    "\n",
    "left = (a<<b) # left shift operator\n",
    "\"\"\"if “a is left-shifted by 2” i.e a=a<<2 then a will become a=a*(2^2). Thus, a=5*(2^2)=20 which can be written as 10100.\"\"\"\n",
    "print(left, bin(left))\n",
    "\n",
    "right = (a>>b) # right shift operator\n",
    "\"\"\"if “a is right-shifted by 2” i.e a=a>>2 then a will become a=a/(2^2). Thus, a=a/(2^2)=1 which can be written as 01.\"\"\"\n",
    "print(right, bin(right))\n"
   ]
  },
  {
   "cell_type": "code",
   "execution_count": 35,
   "id": "abb03ecb",
   "metadata": {},
   "outputs": [
    {
     "name": "stdout",
     "output_type": "stream",
     "text": [
      "10 is present in list\n"
     ]
    }
   ],
   "source": [
    "\"\"\"Q.5. Create a list containing int type data of length 15. Then write a code to check if 10 is\n",
    "present in the list or not.\"\"\"\n",
    "\n",
    "l = []\n",
    "for i in range(1,16):\n",
    "    l.append(i)\n",
    "    \n",
    "if 10 in l:\n",
    "    print(\"10 is present in list\")\n",
    "else:\n",
    "    print(\"10 is not present in list\")    "
   ]
  },
  {
   "cell_type": "code",
   "execution_count": null,
   "id": "b3de35f0",
   "metadata": {},
   "outputs": [],
   "source": []
  }
 ],
 "metadata": {
  "kernelspec": {
   "display_name": "Python 3 (ipykernel)",
   "language": "python",
   "name": "python3"
  },
  "language_info": {
   "codemirror_mode": {
    "name": "ipython",
    "version": 3
   },
   "file_extension": ".py",
   "mimetype": "text/x-python",
   "name": "python",
   "nbconvert_exporter": "python",
   "pygments_lexer": "ipython3",
   "version": "3.11.3"
  }
 },
 "nbformat": 4,
 "nbformat_minor": 5
}
