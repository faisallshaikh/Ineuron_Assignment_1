{
 "cells": [
  {
   "cell_type": "markdown",
   "id": "e3cd2f40",
   "metadata": {},
   "source": [
    "# Ineuron Assignment 1"
   ]
  },
  {
   "cell_type": "code",
   "execution_count": null,
   "id": "00062e55",
   "metadata": {},
   "outputs": [],
   "source": [
    "\"\"\"1. In the below elements which of them are values or an expression? \n",
    "eg:- values can be integer or string and expressions will be mathematical operators.\"\"\"\n",
    "    \n",
    "* : expression\n",
    "\n",
    "'hello' : value\n",
    "\n",
    "-87.8 : value\n",
    "    \n",
    "- : expression\n",
    "\n",
    "/ : expression\n",
    "    \n",
    "+ : expression\n",
    "\n",
    "6 : value\n",
    "\n"
   ]
  },
  {
   "cell_type": "code",
   "execution_count": null,
   "id": "45de9c83",
   "metadata": {},
   "outputs": [],
   "source": [
    "\"\"\"2. What is the difference between string and variable? \"\"\"\n",
    "\n",
    "--> A string is one of many types of values,a string is a sequence of characters and can contain letters,\n",
    "symbols,numbers and even spaces. String is enclosed in quotation marks.\n",
    "\n",
    "A Variable is something that can hold a value.\n",
    "A variable is a \"place\" where you can store any of these types of values, but is not in itself a value.\n",
    "\n"
   ]
  },
  {
   "cell_type": "code",
   "execution_count": null,
   "id": "35080eaf",
   "metadata": {},
   "outputs": [],
   "source": [
    "\"\"\"3. Describe three different data types?\"\"\"\n",
    "\n",
    "--> string (str) , int , float are three different data types,\n",
    "\n",
    "string (str) is sequence of characters,digits or symbols enclosed in quotation marks (\"Welcome\"),\n",
    "\n",
    "int = Whole numbers\n",
    "\n",
    "float = numbers with decimal point\n"
   ]
  },
  {
   "cell_type": "code",
   "execution_count": null,
   "id": "ca80f0f8",
   "metadata": {},
   "outputs": [],
   "source": [
    "\"\"\"4. What is an expression made up of? What do all expressions do? \"\"\"\n",
    "\n",
    "A combination of operands and operators makes the expression. The expression produces \n",
    "some value or results after being executed.\n",
    "\n",
    "Ex : a = 1+1 , the values that operator acts on are called operands\n",
    "\n"
   ]
  },
  {
   "cell_type": "code",
   "execution_count": null,
   "id": "98356e10",
   "metadata": {},
   "outputs": [],
   "source": [
    "\"\"\"5. This assignment statements, like spam = 10. \n",
    "What is the difference between an expression and a statement? \"\"\"\n",
    "\n",
    "--> spam = 10 is an example of assignment statement. A statement in python is used for creating \n",
    "variables or for displaying the values. \n",
    "\n",
    "Ex : a = 10, is an statement\n",
    "    \n",
    "--> An expression is a combination of values,variables,operators and functions. Expresssion need to be \n",
    "evaluated\n"
   ]
  },
  {
   "cell_type": "code",
   "execution_count": null,
   "id": "9e6d06bf",
   "metadata": {},
   "outputs": [],
   "source": [
    "\"\"\"6. After running the following code, what does the variable bacon contain? \n",
    "\n",
    "bacon = 22 \n",
    "\n",
    "bacon + 1\"\"\" \n",
    "\n",
    "--> After running the code the variable bacon will contain value 22, \n",
    "since bacon+1 is not stored in any variable.\n",
    "\n"
   ]
  },
  {
   "cell_type": "code",
   "execution_count": null,
   "id": "92e9ca09",
   "metadata": {},
   "outputs": [],
   "source": [
    "\"\"\"7. What should the values of the following two terms be? \n",
    "'spam' + 'spamspam' \n",
    "\n",
    "'spam' * 3\"\"\" \n",
    "\n",
    "--> 'spam' + 'spamspam' - here both the values are string thus concatenate is possible resulting\n",
    "in 'spamspamspam'\n",
    "\n",
    "--> 'spam' * 3 - here spam is multiplied three times resulting in 'spamspamspam'"
   ]
  },
  {
   "cell_type": "code",
   "execution_count": null,
   "id": "140a14e8",
   "metadata": {},
   "outputs": [],
   "source": [
    "\"\"\"8. Why is eggs a valid variable name while 100 is invalid? \"\"\"\n",
    "\n",
    "--> variable name cannot begin with number"
   ]
  },
  {
   "cell_type": "code",
   "execution_count": null,
   "id": "93cf1286",
   "metadata": {},
   "outputs": [],
   "source": [
    "\"\"\"9. What three functions can be used to get the integer,\n",
    "floating-point number, or string version of a value?\"\"\" \n",
    "\n",
    "--> int(),float(),str() functions will evaluate to the integer,floating point number,string versions respectively\n",
    "of the values passed to them.\n",
    "Ex : int(\"45\") will be converted to int 45"
   ]
  },
  {
   "cell_type": "code",
   "execution_count": null,
   "id": "04b81d1d",
   "metadata": {},
   "outputs": [],
   "source": [
    "\"\"\"10. Why does this expression cause an error? How can you fix it? \n",
    "\n",
    "'I have eaten ' + 99 + ' burritos.' \"\"\"\n",
    "\n",
    "--> it will cause an error because concatenation of str to int is not possible as \n",
    "'i have eaten' is string and 99 is int thus error will be raised. To fix this\n",
    "we can either use formatted string or convert the int 99 to string using str() function i.e str(99)."
   ]
  },
  {
   "cell_type": "code",
   "execution_count": null,
   "id": "07c167e0",
   "metadata": {},
   "outputs": [],
   "source": []
  }
 ],
 "metadata": {
  "kernelspec": {
   "display_name": "Python 3 (ipykernel)",
   "language": "python",
   "name": "python3"
  },
  "language_info": {
   "codemirror_mode": {
    "name": "ipython",
    "version": 3
   },
   "file_extension": ".py",
   "mimetype": "text/x-python",
   "name": "python",
   "nbconvert_exporter": "python",
   "pygments_lexer": "ipython3",
   "version": "3.11.3"
  }
 },
 "nbformat": 4,
 "nbformat_minor": 5
}
