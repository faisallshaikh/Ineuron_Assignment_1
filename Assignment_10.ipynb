{
 "cells": [
  {
   "cell_type": "markdown",
   "metadata": {},
   "source": [
    "Q.1 . What is the role of try and exception block?\n",
    "\n",
    "* try-except block is used to catch and respond to exceptions.\n",
    "* The try block contains the code segment that may be cause an error. \n",
    "* The except block is where the program should jump in case an exception occurs\n",
    "#### *Blocks*\n",
    "* `try` - something that might cause an exception \n",
    "* `except` - Do this if there was an exception \n",
    "* `else` - Do this if there were no exceptions \n",
    "* `finally` - Do this no matter what happens "
   ]
  },
  {
   "cell_type": "code",
   "execution_count": 1,
   "metadata": {},
   "outputs": [
    {
     "name": "stdout",
     "output_type": "stream",
     "text": [
      "Cannot divide by zero\n"
     ]
    }
   ],
   "source": [
    "\"\"\"Q2 . What is the syntax for a basic try-except block?\"\"\"\n",
    "\n",
    "try:\n",
    "    1/0 \n",
    "except:\n",
    "    print(\"Cannot divide by zero\")"
   ]
  },
  {
   "cell_type": "markdown",
   "metadata": {},
   "source": [
    "Q.3 What happens if an exception occurs inside a try block and there is no matching\n",
    "except block?\n",
    "\n",
    "**If an exception occurs which does not match the exception named in the \n",
    "except clause, it is passed on to outer try statements; if no handler is found, \n",
    "it is an unhandled exception and execution stops with an error message.**"
   ]
  },
  {
   "cell_type": "code",
   "execution_count": 5,
   "metadata": {},
   "outputs": [
    {
     "name": "stdout",
     "output_type": "stream",
     "text": [
      "An error occured\n"
     ]
    }
   ],
   "source": [
    "\"\"\"Q4 . What is the difference between using a bare except block and specifying a specific\n",
    "exception type\"\"\"\n",
    "\n",
    "a = 1 \n",
    "b = 0 \n",
    "try:\n",
    "    z = a/0\n",
    "except:\n",
    "    print(\"An error occured\")\n",
    "# Now the above code will give an error and the except block will print a message saying an \n",
    "    # error occured, it wont specify what kind of error occured except that an error occured\n"
   ]
  },
  {
   "cell_type": "code",
   "execution_count": 7,
   "metadata": {},
   "outputs": [
    {
     "name": "stdout",
     "output_type": "stream",
     "text": [
      "An error occured :division by zero\n"
     ]
    }
   ],
   "source": [
    "try :\n",
    "    z = a / b \n",
    "except Exception as e:\n",
    "    print(f\"An error occured :{e}\")\n",
    "# Here specifying the specific exception will give us what the error is and which will \n",
    "    # be easier for debugging "
   ]
  },
  {
   "cell_type": "code",
   "execution_count": 15,
   "metadata": {},
   "outputs": [
    {
     "name": "stdout",
     "output_type": "stream",
     "text": [
      "unsupported operand type(s) for +: 'int' and 'str'\n"
     ]
    }
   ],
   "source": [
    "\"\"\"Q.5 Can you have nested try-except blocks in Python? If yes, then give an example.\"\"\"\n",
    "# --> Yes we can have ested try-except blocks in python\n",
    "a = 1 \n",
    "b = \"string\"\n",
    "c = 0\n",
    "try:\n",
    "    # Code that might raise an exception\n",
    "    a + c\n",
    "    try:\n",
    "        # Code that might raise a more specific exception\n",
    "        a + b \n",
    "    except Exception as e:\n",
    "        print(e)\n",
    "        # Handle the specific exception\n",
    "except Exception as e:\n",
    "    print(e)\n",
    "    # Handle the general exception"
   ]
  },
  {
   "cell_type": "code",
   "execution_count": 20,
   "metadata": {},
   "outputs": [
    {
     "name": "stdout",
     "output_type": "stream",
     "text": [
      "[Errno 2] No such file or directory: 'a_file1.txt'\n"
     ]
    }
   ],
   "source": [
    "\"\"\"6. Can we use multiple exception blocks, if yes then give an example.\"\"\"\n",
    "# Yes we use multiple exception blocks\n",
    "d = {\"a\":123}\n",
    "try :\n",
    "    file = open(\"a_file1.txt\")\n",
    "    x = d[\"aaa\"]\n",
    "except FileNotFoundError as e:\n",
    "    print(e)\n",
    "except KeyError as e:\n",
    "    print(e)\n"
   ]
  },
  {
   "cell_type": "code",
   "execution_count": 22,
   "metadata": {},
   "outputs": [
    {
     "name": "stdout",
     "output_type": "stream",
     "text": [
      "Key not found error 'aaa'\n"
     ]
    }
   ],
   "source": [
    "try :\n",
    "    file = open(\"a_file1.txt\",'w')\n",
    "    x = d[\"aaa\"]\n",
    "except FileNotFoundError as e:\n",
    "    print(e)\n",
    "except KeyError as e:\n",
    "    print(f\"Key not found error {e}\")"
   ]
  },
  {
   "cell_type": "markdown",
   "metadata": {},
   "source": [
    "7. Write the reason due to which following errors are raised:\n",
    "* a. EOFError\n",
    "* b. FloatingPointError\n",
    "* c. IndexError\n",
    "* d. MemoryError\n",
    "* e. OverflowError\n",
    "* f. TabError\n",
    "* g. ValueError\n",
    "\n",
    "* EOFError is raised when one of the built-in functions input()\n",
    "hits an end-of-file condition (EOF) without reading any data.This occurs when we have asked the user \n",
    "for input but have not provided any input in the input box. We can overcome this issue by using try \n",
    "and except keywords in Python\n",
    "\n",
    "* Floating-point errors occur in computing when a decimal number cannot be represented exactly with finite binary digits. This leads to small inaccuracies in calculations involving floating-point numbers.\n",
    "\n",
    "* IndexError in programming occurs when trying to access an index that is outside the bounds of a list, tuple, or any other indexed data structure. This error typically indicates that the index provided is either too large or negative, causing the program to fail.\n",
    "\n",
    "* Memory errors in programming occur when a program tries to access memory that has not been allocated or is outside the bounds of the allocated memory. This can lead to crashes, unexpected behavior, or vulnerabilities in the program.\n",
    "\n",
    "* Overflow error in programming occurs when a calculation result exceeds the range that can be represented by the data type used. This typically happens with integer calculations where the result is larger than the maximum or smaller than the minimum value that the data type can hold. ex - 2**1000\n",
    "\n",
    "* TabError in programming occurs when there is inconsistent use of tabs and spaces for indentation in Python code.Python requires consistent indentation using either tabs or spaces, but not a mixture of both.\n",
    "\n",
    "* ValueError in programming occurs when a function receives an argument of the correct data type but with an inappropriate value. This error typically indicates that the input provided is not acceptable or valid for the operation being performed."
   ]
  },
  {
   "cell_type": "code",
   "execution_count": 35,
   "metadata": {},
   "outputs": [
    {
     "name": "stdout",
     "output_type": "stream",
     "text": [
      "division by zero\n"
     ]
    }
   ],
   "source": [
    "\"\"\"8. Write code for the following given scenario and add try-exception block to it.\n",
    "a. Program to divide two numbers\n",
    "b. Program to convert a string to an integer\n",
    "c. Program to access an element in a list\n",
    "d. Program to handle a specific exception\n",
    "e. Program to handle any exception\"\"\"\n",
    "\n",
    "# Program to divide two numbers\n",
    "a = 5 \n",
    "b = 10\n",
    "try:\n",
    "    x = a / b\n",
    "except Exception as e :\n",
    "    print(e)\n"
   ]
  },
  {
   "cell_type": "code",
   "execution_count": 44,
   "metadata": {},
   "outputs": [
    {
     "name": "stdout",
     "output_type": "stream",
     "text": [
      "invalid literal for int() with base 10: 'k'\n"
     ]
    }
   ],
   "source": [
    "# program to convert string to an integer\n",
    "\n",
    "s = input(\"Enter\")\n",
    "try:\n",
    "    n = int(s)\n",
    "    x = n + 1\n",
    "    print(x)\n",
    "except ValueError as e: \n",
    "    print(e)"
   ]
  },
  {
   "cell_type": "code",
   "execution_count": 59,
   "metadata": {},
   "outputs": [
    {
     "name": "stdout",
     "output_type": "stream",
     "text": [
      "invalid literal for int() with base 10: '2+'\n"
     ]
    }
   ],
   "source": [
    "# Program to access an element in a list \n",
    "\n",
    "def p(n,l):\n",
    "\n",
    "    try:\n",
    "        n = int(n)\n",
    "        x = l[n]\n",
    "        print(x)\n",
    "    except Exception as e:\n",
    "        print(e)\n",
    "n = input(\"Index\")\n",
    "l = [1,2,3,4,5]\n",
    "p(n,l)\n"
   ]
  },
  {
   "cell_type": "code",
   "execution_count": 54,
   "metadata": {},
   "outputs": [
    {
     "name": "stdout",
     "output_type": "stream",
     "text": [
      "list index out of range\n"
     ]
    }
   ],
   "source": [
    "# Program to handle a specific exception\n",
    "\n",
    "def p(n,l):\n",
    "\n",
    "    try:\n",
    "        n = int(n)\n",
    "        x = l[n]\n",
    "        print(x)\n",
    "    except ValueError as e:\n",
    "        print(e)\n",
    "    except IndexError as e:\n",
    "        print(e)\n",
    "n = input(\"Index\")\n",
    "l = [1,2,3,4,5]\n",
    "p(n,l)"
   ]
  },
  {
   "cell_type": "code",
   "execution_count": 65,
   "metadata": {},
   "outputs": [
    {
     "name": "stdout",
     "output_type": "stream",
     "text": [
      "Error caught\n"
     ]
    }
   ],
   "source": [
    "# program to handle any exception\n",
    "def some_finction():\n",
    "    2.+2+\"m\"\n",
    "\n",
    "try :\n",
    "    some_finction()\n",
    "except: # by using bare except we will be printing message for any error that may arise in try block\n",
    "    print(\"Error caught\")"
   ]
  }
 ],
 "metadata": {
  "kernelspec": {
   "display_name": "Python 3",
   "language": "python",
   "name": "python3"
  },
  "language_info": {
   "codemirror_mode": {
    "name": "ipython",
    "version": 3
   },
   "file_extension": ".py",
   "mimetype": "text/x-python",
   "name": "python",
   "nbconvert_exporter": "python",
   "pygments_lexer": "ipython3",
   "version": "3.11.4"
  }
 },
 "nbformat": 4,
 "nbformat_minor": 2
}
