{
 "cells": [
  {
   "cell_type": "code",
   "execution_count": null,
   "id": "d49ed7c8",
   "metadata": {},
   "outputs": [],
   "source": [
    "1. What is a lambda function in Python, and how does it differ from a regular function?\n",
    "\n",
    "--> Lambda Function\n",
    "\n",
    "♦ here are some key points about lambda functions in Python, each point is a one-liner\n",
    "\n",
    "♦ Lambda functions are small, anonymous functions defined with the lambda keyword.\n",
    "♦ They can take any number of arguments but can only have one expression.\n",
    "♦ The expression is evaluated and returned when the function is called.\n",
    "♦ Lambda functions do not require a return statement, the expression is implicitly returned.\n",
    "♦ Lambda functions are useful for small tasks that are not reused throughout your code.\n",
    "♦ They can be assigned to variables and used like regular functions."
   ]
  },
  {
   "cell_type": "code",
   "execution_count": 2,
   "id": "588c235b",
   "metadata": {},
   "outputs": [
    {
     "data": {
      "text/plain": [
       "9"
      ]
     },
     "execution_count": 2,
     "metadata": {},
     "output_type": "execute_result"
    }
   ],
   "source": [
    "\"\"\"2. Can a lambda function in Python have multiple arguments? If yes, how can you define and use\n",
    "them?\n",
    "\n",
    "♦ They can take any number of arguments but can only have one expression.\"\"\"\n",
    "\n",
    "add = lambda x, y, z : x + y + z\n",
    "add(1,3,5)"
   ]
  },
  {
   "cell_type": "code",
   "execution_count": 12,
   "id": "fc0de199",
   "metadata": {},
   "outputs": [
    {
     "data": {
      "text/plain": [
       "[21, 25, 13, 45]"
      ]
     },
     "execution_count": 12,
     "metadata": {},
     "output_type": "execute_result"
    }
   ],
   "source": [
    "\"\"\"3. How are lambda functions typically used in Python? Provide an example use case.\"\"\"\n",
    "\n",
    "l = [21,25,13,10,3,5,9,45]\n",
    "\n",
    "f = filter(lambda x : x > 10, l)\n",
    "\n",
    "list(f)"
   ]
  },
  {
   "cell_type": "code",
   "execution_count": 15,
   "id": "57b4df3e",
   "metadata": {},
   "outputs": [
    {
     "data": {
      "text/html": [
       "<div>\n",
       "<style scoped>\n",
       "    .dataframe tbody tr th:only-of-type {\n",
       "        vertical-align: middle;\n",
       "    }\n",
       "\n",
       "    .dataframe tbody tr th {\n",
       "        vertical-align: top;\n",
       "    }\n",
       "\n",
       "    .dataframe thead th {\n",
       "        text-align: right;\n",
       "    }\n",
       "</style>\n",
       "<table border=\"1\" class=\"dataframe\">\n",
       "  <thead>\n",
       "    <tr style=\"text-align: right;\">\n",
       "      <th></th>\n",
       "      <th>name</th>\n",
       "      <th>Power</th>\n",
       "    </tr>\n",
       "  </thead>\n",
       "  <tbody>\n",
       "    <tr>\n",
       "      <th>0</th>\n",
       "      <td>Goku</td>\n",
       "      <td>10</td>\n",
       "    </tr>\n",
       "    <tr>\n",
       "      <th>1</th>\n",
       "      <td>Minato</td>\n",
       "      <td>8</td>\n",
       "    </tr>\n",
       "    <tr>\n",
       "      <th>2</th>\n",
       "      <td>Itachi</td>\n",
       "      <td>7</td>\n",
       "    </tr>\n",
       "  </tbody>\n",
       "</table>\n",
       "</div>"
      ],
      "text/plain": [
       "     name  Power\n",
       "0    Goku     10\n",
       "1  Minato      8\n",
       "2  Itachi      7"
      ]
     },
     "execution_count": 15,
     "metadata": {},
     "output_type": "execute_result"
    }
   ],
   "source": [
    "import pandas as pd\n",
    "d = {\n",
    "    \"name\" : [\"Goku\", \"Minato\", \"Itachi\"],\n",
    "    \"Power\" : [10,8,7]\n",
    "}\n",
    "\n",
    "df = pd.DataFrame(d)\n",
    "df"
   ]
  },
  {
   "cell_type": "code",
   "execution_count": 16,
   "id": "5d0eca6d",
   "metadata": {},
   "outputs": [
    {
     "data": {
      "text/html": [
       "<div>\n",
       "<style scoped>\n",
       "    .dataframe tbody tr th:only-of-type {\n",
       "        vertical-align: middle;\n",
       "    }\n",
       "\n",
       "    .dataframe tbody tr th {\n",
       "        vertical-align: top;\n",
       "    }\n",
       "\n",
       "    .dataframe thead th {\n",
       "        text-align: right;\n",
       "    }\n",
       "</style>\n",
       "<table border=\"1\" class=\"dataframe\">\n",
       "  <thead>\n",
       "    <tr style=\"text-align: right;\">\n",
       "      <th></th>\n",
       "      <th>name</th>\n",
       "      <th>Power</th>\n",
       "      <th>Double</th>\n",
       "    </tr>\n",
       "  </thead>\n",
       "  <tbody>\n",
       "    <tr>\n",
       "      <th>0</th>\n",
       "      <td>Goku</td>\n",
       "      <td>10</td>\n",
       "      <td>100</td>\n",
       "    </tr>\n",
       "    <tr>\n",
       "      <th>1</th>\n",
       "      <td>Minato</td>\n",
       "      <td>8</td>\n",
       "      <td>64</td>\n",
       "    </tr>\n",
       "    <tr>\n",
       "      <th>2</th>\n",
       "      <td>Itachi</td>\n",
       "      <td>7</td>\n",
       "      <td>49</td>\n",
       "    </tr>\n",
       "  </tbody>\n",
       "</table>\n",
       "</div>"
      ],
      "text/plain": [
       "     name  Power  Double\n",
       "0    Goku     10     100\n",
       "1  Minato      8      64\n",
       "2  Itachi      7      49"
      ]
     },
     "execution_count": 16,
     "metadata": {},
     "output_type": "execute_result"
    }
   ],
   "source": [
    "df[\"Double\"] = df[\"Power\"].apply(lambda x : x**2)\n",
    "df"
   ]
  },
  {
   "cell_type": "code",
   "execution_count": null,
   "id": "e9245276",
   "metadata": {},
   "outputs": [],
   "source": [
    "4. What are the advantages and limitations of lambda functions compared to regular functions in\n",
    "Python?\n",
    "\n",
    "Advantages :\n",
    "\n",
    "♦ The code is simple and clear.\n",
    "♦ No additional variables are added.\n",
    "♦ Can be passed immediately (without variables).\n",
    "♦ Only one line of code can be included internally.\n",
    "♦ Automatic return of results.\n",
    "♦ There is neither a document string nor a name.\n",
    "\n",
    "Disadvantages :\n",
    "\n",
    "♦ lambda functions do not have a name, which can make debugging more difficult \n",
    "and make it harder to understand the code.\n",
    "♦ Cannot be reused\n",
    "♦ not suitable long running codes\n",
    "♦ cannot use multiple expressions"
   ]
  },
  {
   "cell_type": "code",
   "execution_count": 18,
   "id": "df6f7e50",
   "metadata": {},
   "outputs": [
    {
     "data": {
      "text/plain": [
       "30"
      ]
     },
     "execution_count": 18,
     "metadata": {},
     "output_type": "execute_result"
    }
   ],
   "source": [
    "\"\"\"5. Are lambda functions in Python able to access variables defined outside of their own scope?\n",
    "Explain with an example.\"\"\"\n",
    "\n",
    "\"\"\"--> Lambda functions have their own local namespace and cannot access variables other than \n",
    "those in their parameter list and those in the global namespace\"\"\"\n",
    "\n",
    "a = 20 \n",
    "\n",
    "l = lambda x : x + a\n",
    "l(10)"
   ]
  },
  {
   "cell_type": "code",
   "execution_count": 20,
   "id": "3a1ba069",
   "metadata": {},
   "outputs": [
    {
     "data": {
      "text/plain": [
       "25"
      ]
     },
     "execution_count": 20,
     "metadata": {},
     "output_type": "execute_result"
    }
   ],
   "source": [
    "# 6. Write a lambda function to calculate the square of a given number.\n",
    "\n",
    "(lambda x : x**2)(5) #--> 5 is given number"
   ]
  },
  {
   "cell_type": "code",
   "execution_count": 31,
   "id": "a1cdc504",
   "metadata": {},
   "outputs": [
    {
     "data": {
      "text/plain": [
       "45"
      ]
     },
     "execution_count": 31,
     "metadata": {},
     "output_type": "execute_result"
    }
   ],
   "source": [
    "# 7. Create a lambda function to find the maximum value in a list of integers.\n",
    "\n",
    "m = [21,25,13,12,10,3,5,9,45]\n",
    "\n",
    "maxx = filter(lambda x : x , m)\n",
    "max(maxx)"
   ]
  },
  {
   "cell_type": "code",
   "execution_count": 35,
   "id": "2fd318e2",
   "metadata": {},
   "outputs": [
    {
     "data": {
      "text/plain": [
       "[2, 4, 6, 16, 18, 20, 12, 10]"
      ]
     },
     "execution_count": 35,
     "metadata": {},
     "output_type": "execute_result"
    }
   ],
   "source": [
    "# 8. Implement a lambda function to filter out all the even numbers from a list of integers\n",
    "\n",
    "lm = [2,4,6,21,25,16,18,20,13,12,10,3,5,9,45]\n",
    "\n",
    "list(filter(lambda x : x%2==0, lm))\n"
   ]
  },
  {
   "cell_type": "code",
   "execution_count": 49,
   "id": "5e5f7f46",
   "metadata": {},
   "outputs": [
    {
     "name": "stdout",
     "output_type": "stream",
     "text": [
      "Original list : \n",
      "['fffffff', 'a', 'bbb', 'cc', 'dddd', 'eeeee']\n",
      "\n",
      "Sorted list using lambda\n"
     ]
    },
    {
     "data": {
      "text/plain": [
       "['a', 'cc', 'bbb', 'dddd', 'eeeee', 'fffffff']"
      ]
     },
     "execution_count": 49,
     "metadata": {},
     "output_type": "execute_result"
    }
   ],
   "source": [
    "\"\"\"9. Write a lambda function to sort a list of strings in ascending order based on the length of each\n",
    "string.\"\"\"\n",
    "\n",
    "l = \"fffffff a bbb cc dddd eeeee \".split()\n",
    "print(f\"Original list : \\n{l}\")\n",
    "\n",
    "print(\"\\nSorted list using lambda\")\n",
    "sorted(l,key=lambda x : len(x))\n"
   ]
  },
  {
   "cell_type": "code",
   "execution_count": 64,
   "id": "14b4c29a",
   "metadata": {},
   "outputs": [
    {
     "data": {
      "text/plain": [
       "[21, 25, 13, 12, 10, 3, 5, 9, 45]"
      ]
     },
     "execution_count": 64,
     "metadata": {},
     "output_type": "execute_result"
    }
   ],
   "source": [
    "\"\"\"10. Create a lambda function that takes two lists as input and returns a new list containing the\n",
    "common elements between the two list\"\"\"\n",
    "\n",
    "lm1 = [2,4,6,21,25,16,18,20,13,12,10,3,5,9,45]\n",
    "m1 = [21,25,13,12,10,3,5,9,45,65,85,75]\n",
    "\n",
    "list(filter(lambda x : x in m1,lm1))"
   ]
  },
  {
   "cell_type": "code",
   "execution_count": 3,
   "id": "3b6253e4",
   "metadata": {},
   "outputs": [
    {
     "name": "stdout",
     "output_type": "stream",
     "text": [
      "120\n"
     ]
    }
   ],
   "source": [
    "\"\"\"11. Write a recursive function to calculate the factorial of a given positive integer.\"\"\"\n",
    "\"\"\"Recursive Functions in Python.\n",
    "This means that the function will continue to \n",
    "call itself and repeat its behavior until some condition is met to return a result.\n",
    "This has the benefit of meaning that you can loop through data to reach a result.\"\"\"\n",
    "def recur(user):\n",
    "    \n",
    "    if user < 0:\n",
    "        print(\"Invalid...! enter positive number\")\n",
    "    a = user\n",
    "\n",
    "    for i in range(user,1,-1):\n",
    "        a = a * (i-1)\n",
    "    return a\n",
    "print(recur(int(input(\"Enter positive number\\n\"))))\n",
    "    "
   ]
  },
  {
   "cell_type": "code",
   "execution_count": 8,
   "id": "3e6aaaea",
   "metadata": {},
   "outputs": [
    {
     "name": "stdout",
     "output_type": "stream",
     "text": [
      "120\n"
     ]
    }
   ],
   "source": [
    "\"\"\"11. Write a recursive function to calculate the factorial of a given positive integer.\"\"\"\n",
    "\n",
    "def Recur_facto(n): \n",
    "   \n",
    "    if (n == 0): \n",
    "        return 1\n",
    "   \n",
    "    return n * Recur_facto(n-1) \n",
    "   \n",
    "# print the result\n",
    "print(Recur_facto(5))"
   ]
  },
  {
   "cell_type": "code",
   "execution_count": 4,
   "id": "ba6f3076",
   "metadata": {},
   "outputs": [
    {
     "name": "stdout",
     "output_type": "stream",
     "text": [
      "Fibonacci series:\n",
      "0\n",
      "1\n",
      "1\n",
      "2\n",
      "3\n",
      "5\n",
      "8\n",
      "13\n",
      "21\n",
      "34\n"
     ]
    }
   ],
   "source": [
    "def recursive_fibonacci(n):\n",
    "  if n <= 1:\n",
    "      return n\n",
    "  else:\n",
    "      return(recursive_fibonacci(n-1) + recursive_fibonacci(n-2))\n",
    " \n",
    "n_terms = 10\n",
    " \n",
    "# check if the number of terms is valid\n",
    "if n_terms <= 0:\n",
    "  print(\"Invalid input ! Please input a positive value\")\n",
    "else:\n",
    "  print(\"Fibonacci series:\")\n",
    "for i in range(n_terms):\n",
    "    print(recursive_fibonacci(i))"
   ]
  },
  {
   "cell_type": "code",
   "execution_count": 22,
   "id": "e785683a",
   "metadata": {},
   "outputs": [
    {
     "name": "stdout",
     "output_type": "stream",
     "text": [
      "6\n"
     ]
    }
   ],
   "source": [
    "\"\"\"Q. Create a recurssive function to find the sum of all from a given list\"\"\"\n",
    "\n",
    "def sum_of_all_recur(arr , size):\n",
    "\n",
    "    if size == 0:\n",
    "        return 0 \n",
    "    else:\n",
    "        return arr[size-1] + sum_of_all_recur(arr,size-1)\n",
    "    \n",
    "n = int(input(\"Enter number of list elements\"))\n",
    "a = []\n",
    "for i in range(n):\n",
    "    element = int(input(\"Enter element\"))\n",
    "    a.append(element)\n",
    "\n",
    "b = sum_of_all_recur(a,n)\n",
    "print(b)\n",
    "\n"
   ]
  },
  {
   "cell_type": "code",
   "execution_count": 23,
   "id": "3e8f494b",
   "metadata": {},
   "outputs": [
    {
     "data": {
      "text/plain": [
       "'olleh'"
      ]
     },
     "execution_count": 23,
     "metadata": {},
     "output_type": "execute_result"
    }
   ],
   "source": [
    "# s = \"hello\"\n",
    "# def string_palindrome(s):\n",
    "#     if n == 0:\n",
    "#         return \"\"\n",
    "    \n",
    "#     if s[i] == s[-1]:\n",
    "#         return string_palindrome(s[1:-1])\n",
    "    \n",
    "# string_palindrome()\n",
    "\n",
    "    "
   ]
  },
  {
   "cell_type": "code",
   "execution_count": 24,
   "id": "8f48299d",
   "metadata": {},
   "outputs": [
    {
     "name": "stdout",
     "output_type": "stream",
     "text": [
      "String isn't a palindrome!\n"
     ]
    }
   ],
   "source": [
    "\"\"\"Q. 14. Write a recursive function to determine whether a given string is a palindrome.\n",
    "\"\"\"\n",
    "def is_palindrome(s):\n",
    "    if len(s) < 1:\n",
    "        return True\n",
    "    else:\n",
    "        if s[0] == s[-1]:\n",
    "            return is_palindrome(s[1:-1])\n",
    "        else:\n",
    "            return False\n",
    "a=str(input(\"Enter string:\"))\n",
    "if(is_palindrome(a)==True):\n",
    "    print(\"String is a palindrome!\")\n",
    "else:\n",
    "    print(\"String isn't a palindrome!\")"
   ]
  },
  {
   "cell_type": "code",
   "execution_count": 10,
   "id": "941af7b5",
   "metadata": {},
   "outputs": [
    {
     "name": "stdout",
     "output_type": "stream",
     "text": [
      "The computed GCD of 15 and 70 is 5.\n"
     ]
    }
   ],
   "source": [
    "\"\"\"Q 15. Implement a recursive function to find the greatest common \n",
    "divisor (GCD) of two positive integers.\"\"\"\n",
    "# The math module contains the gcd function\n",
    "import math\n",
    "\n",
    "#Calculating the gcd of 2 numbers.\n",
    "def gcd(x,y):\n",
    "    if y == 0:\n",
    "        return x\n",
    "    else:\n",
    "        return gcd(y,x%y)\n",
    "        \n",
    "x=15\n",
    "y=70\n",
    "print(f\"The computed GCD of {x} and {y} is {gcd(a,b)}.\")"
   ]
  }
 ],
 "metadata": {
  "kernelspec": {
   "display_name": "Python 3 (ipykernel)",
   "language": "python",
   "name": "python3"
  },
  "language_info": {
   "codemirror_mode": {
    "name": "ipython",
    "version": 3
   },
   "file_extension": ".py",
   "mimetype": "text/x-python",
   "name": "python",
   "nbconvert_exporter": "python",
   "pygments_lexer": "ipython3",
   "version": "3.11.4"
  }
 },
 "nbformat": 4,
 "nbformat_minor": 5
}
